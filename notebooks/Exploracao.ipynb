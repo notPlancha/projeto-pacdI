{
 "cells": [
  {
   "cell_type": "code",
   "execution_count": null,
   "id": "2f24ce06-b618-4c5c-a8f9-3baa46c0ea1e",
   "metadata": {},
   "outputs": [],
   "source": []
  }
 ],
 "metadata": {
  "kernelspec": {
   "display_name": "pacd_ir",
   "language": "R",
   "name": "pacd_ir"
  }
 },
 "nbformat": 4,
 "nbformat_minor": 5
}
