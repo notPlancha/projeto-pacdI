{
 "cells": [
  {
   "cell_type": "code",
   "execution_count": null,
   "id": "dbf277ae-a5d0-487f-a51d-cf9cd6dad9ef",
   "metadata": {},
   "outputs": [
    {
     "name": "stdout",
     "output_type": "stream",
     "text": [
      "Rows: 682,069\n",
      "Columns: 27\n",
      "$ winner.name            \u001b[3m\u001b[90m<chr>\u001b[39m\u001b[23m \"Patrick Rafter\", \"Dennis Van Scheppingen\", \"Ja…\n",
      "$ winner.id              \u001b[3m\u001b[90m<chr>\u001b[39m\u001b[23m \"r255\", \"s559\", \"s381\", \"d214\", \"r255\", \"s559\",…\n",
      "$ winner.rank            \u001b[3m\u001b[90m<int>\u001b[39m\u001b[23m 6, 126, 26, 85, 6, 126, 26, 11, 85, 6, 12, 55, …\n",
      "$ winner.bornAt          \u001b[3m\u001b[90m<chr>\u001b[39m\u001b[23m \"Australia\", \"Netherlands\", \"Netherlands\", \"Cze…\n",
      "$ winner.domHand         \u001b[3m\u001b[90m<chr>\u001b[39m\u001b[23m \"Right-Handed\", \"Right-Handed\", \"Left-Handed\", …\n",
      "$ winner.backHand        \u001b[3m\u001b[90m<chr>\u001b[39m\u001b[23m \"One-Handed Backhand\", \"Unknown Backhand\", \"Unk…\n",
      "$ winner.height          \u001b[3m\u001b[90m<int>\u001b[39m\u001b[23m 185, 185, 183, 188, 185, 185, 183, 185, 188, 18…\n",
      "$ looser.name            \u001b[3m\u001b[90m<chr>\u001b[39m\u001b[23m \"Martin Damm\", \"Richard Krajicek\", \"Steve Campb…\n",
      "$ looser.id              \u001b[3m\u001b[90m<chr>\u001b[39m\u001b[23m \"d214\", \"k214\", \"c355\", \"k237\", \"s572\", \"w254\",…\n",
      "$ looser.rank            \u001b[3m\u001b[90m<int>\u001b[39m\u001b[23m 85, 12, 95, 11, 55, 189, 58, 60, 100, 94, 42, 3…\n",
      "$ looser.bornAt          \u001b[3m\u001b[90m<chr>\u001b[39m\u001b[23m \"Czech Republic\", \"Netherlands\", \"USA\", \"Czech …\n",
      "$ looser.domHand         \u001b[3m\u001b[90m<chr>\u001b[39m\u001b[23m \"Right-Handed\", \"Right-Handed\", \"Right-Handed\",…\n",
      "$ looser.backHand        \u001b[3m\u001b[90m<chr>\u001b[39m\u001b[23m \"Unknown Backhand\", \"One-Handed Backhand\", \"Unk…\n",
      "$ looser.height          \u001b[3m\u001b[90m<int>\u001b[39m\u001b[23m 188, 196, 183, 185, 193, 196, 191, 191, 185, 19…\n",
      "$ match.tournamentRound  \u001b[3m\u001b[90m<chr>\u001b[39m\u001b[23m \"Finals\", \"Quarter-Finals\", \"Quarter-Finals\", \"…\n",
      "$ match.setsCount        \u001b[3m\u001b[90m<int>\u001b[39m\u001b[23m 2, 1, 3, 3, 2, 2, 2, 2, 2, 3, 3, 2, 3, 2, 3, 2,…\n",
      "$ match.wasRet           \u001b[3m\u001b[90m<lgl>\u001b[39m\u001b[23m FALSE, FALSE, FALSE, FALSE, FALSE, FALSE, FALSE…\n",
      "$ match.hadTieBreaker    \u001b[3m\u001b[90m<lgl>\u001b[39m\u001b[23m TRUE, FALSE, FALSE, TRUE, FALSE, TRUE, FALSE, F…\n",
      "$ match.wasWalkover      \u001b[3m\u001b[90m<lgl>\u001b[39m\u001b[23m FALSE, TRUE, FALSE, FALSE, FALSE, FALSE, FALSE,…\n",
      "$ match.wasDef           \u001b[3m\u001b[90m<lgl>\u001b[39m\u001b[23m FALSE, FALSE, FALSE, FALSE, FALSE, FALSE, FALSE…\n",
      "$ tournament.name        \u001b[3m\u001b[90m<chr>\u001b[39m\u001b[23m \"'s-Hertogenbosch\", \"'s-Hertogenbosch\", \"'s-Her…\n",
      "$ tournament.prize       \u001b[3m\u001b[90m<chr>\u001b[39m\u001b[23m \"$475,000\", \"$475,000\", \"$475,000\", \"$475,000\",…\n",
      "$ tournament.ground      \u001b[3m\u001b[90m<chr>\u001b[39m\u001b[23m \"Grass\", \"Grass\", \"Grass\", \"Grass\", \"Grass\", \"G…\n",
      "$ tournament.location    \u001b[3m\u001b[90m<chr>\u001b[39m\u001b[23m \"Netherlands\", \"Netherlands\", \"Netherlands\", \"N…\n",
      "$ tournament.date_start  \u001b[3m\u001b[90m<date>\u001b[39m\u001b[23m 1998-06-15, 1998-06-15, 1998-06-15, 1998-06-15…\n",
      "$ tournament.date_finish \u001b[3m\u001b[90m<date>\u001b[39m\u001b[23m 1998-06-21, 1998-06-21, 1998-06-21, 1998-06-21…\n",
      "$ tournament.duration    \u001b[3m\u001b[90m<int>\u001b[39m\u001b[23m 6, 6, 6, 6, 6, 6, 6, 6, 6, 6, 6, 6, 6, 6, 6, 6,…\n"
     ]
    }
   ],
   "source": [
    "arrow::read_parquet(here(\"data\", \"atpTrans.parquet\")) -> atp\n",
    "atp %>% glimpse()"
   ]
  },
  {
   "cell_type": "markdown",
   "id": "3a784dfc-6b96-42cf-8438-47d58f5e1d40",
   "metadata": {},
   "source": [
    "FullTrans vai ser as transformações apó o filtro de Australia"
   ]
  },
  {
   "cell_type": "code",
   "execution_count": null,
   "id": "05a15ab2-e9fd-4603-bb76-a546f7ddfe4f",
   "metadata": {},
   "outputs": [
    {
     "name": "stderr",
     "output_type": "stream",
     "text": [
      "filter: removed 660,681 rows (97%), 21,388 rows remaining\n",
      "\n"
     ]
    }
   ],
   "source": [
    "atp %>% filter(tournament.location == \"Australia\") -> atpA"
   ]
  },
  {
   "cell_type": "code",
   "execution_count": null,
   "id": "d3a3e179-1d56-416e-a8f9-52ca416f4c24",
   "metadata": {},
   "outputs": [
    {
     "name": "stderr",
     "output_type": "stream",
     "text": [
      "filter: removed 19,871 rows (93%), 1,517 rows remaining\n",
      "\n"
     ]
    },
    {
     "data": {
      "text/html": [
       "<table class=\"dataframe\">\n",
       "<caption>A tibble: 1517 × 27</caption>\n",
       "<thead>\n",
       "\t<tr><th scope=col>winner.name</th><th scope=col>winner.id</th><th scope=col>winner.rank</th><th scope=col>winner.bornAt</th><th scope=col>winner.domHand</th><th scope=col>winner.backHand</th><th scope=col>winner.height</th><th scope=col>looser.name</th><th scope=col>looser.id</th><th scope=col>looser.rank</th><th scope=col>⋯</th><th scope=col>match.hadTieBreaker</th><th scope=col>match.wasWalkover</th><th scope=col>match.wasDef</th><th scope=col>tournament.name</th><th scope=col>tournament.prize</th><th scope=col>tournament.ground</th><th scope=col>tournament.location</th><th scope=col>tournament.date_start</th><th scope=col>tournament.date_finish</th><th scope=col>tournament.duration</th></tr>\n",
       "\t<tr><th scope=col>&lt;chr&gt;</th><th scope=col>&lt;chr&gt;</th><th scope=col>&lt;int&gt;</th><th scope=col>&lt;chr&gt;</th><th scope=col>&lt;chr&gt;</th><th scope=col>&lt;chr&gt;</th><th scope=col>&lt;int&gt;</th><th scope=col>&lt;chr&gt;</th><th scope=col>&lt;chr&gt;</th><th scope=col>&lt;int&gt;</th><th scope=col>⋯</th><th scope=col>&lt;lgl&gt;</th><th scope=col>&lt;lgl&gt;</th><th scope=col>&lt;lgl&gt;</th><th scope=col>&lt;chr&gt;</th><th scope=col>&lt;chr&gt;</th><th scope=col>&lt;chr&gt;</th><th scope=col>&lt;chr&gt;</th><th scope=col>&lt;date&gt;</th><th scope=col>&lt;date&gt;</th><th scope=col>&lt;int&gt;</th></tr>\n",
       "</thead>\n",
       "<tbody>\n",
       "\t<tr><td>Joseph Sirianni  </td><td>s673</td><td> 318</td><td>Australia</td><td>Right-Handed</td><td>Unknown Backhand</td><td>178</td><td>Toby Mitchell     </td><td>m632</td><td> 293</td><td>⋯</td><td>FALSE</td><td>FALSE</td><td>FALSE</td><td>Australia F1</td><td>$15,000</td><td>Clay</td><td>Australia</td><td>1998-10-26</td><td>1998-11-01</td><td>6</td></tr>\n",
       "\t<tr><td>Ben Ellwood      </td><td>e143</td><td> 316</td><td>Australia</td><td>Right-Handed</td><td>Unknown Backhand</td><td>178</td><td>Kris Goossens     </td><td>g285</td><td> 346</td><td>⋯</td><td>FALSE</td><td>FALSE</td><td>FALSE</td><td>Australia F1</td><td>$15,000</td><td>Clay</td><td>Australia</td><td>1998-10-26</td><td>1998-11-01</td><td>6</td></tr>\n",
       "\t<tr><td>Joseph Sirianni  </td><td>s673</td><td> 318</td><td>Australia</td><td>Right-Handed</td><td>Unknown Backhand</td><td>178</td><td>Jaymon Crabb      </td><td>g386</td><td> 488</td><td>⋯</td><td>FALSE</td><td>FALSE</td><td>FALSE</td><td>Australia F1</td><td>$15,000</td><td>Clay</td><td>Australia</td><td>1998-10-26</td><td>1998-11-01</td><td>6</td></tr>\n",
       "\t<tr><td>Lee Pearson      </td><td>p388</td><td> 946</td><td>NA       </td><td>Right-Handed</td><td>Unknown Backhand</td><td> NA</td><td>Paul Hanley       </td><td>h421</td><td> 493</td><td>⋯</td><td>FALSE</td><td>FALSE</td><td>FALSE</td><td>Australia F1</td><td>$15,000</td><td>Clay</td><td>Australia</td><td>1998-10-26</td><td>1998-11-01</td><td>6</td></tr>\n",
       "\t<tr><td>Toby Mitchell    </td><td>m632</td><td> 293</td><td>Australia</td><td>Right-Handed</td><td>Unknown Backhand</td><td> NA</td><td>David McNamara    </td><td>m796</td><td> 691</td><td>⋯</td><td>FALSE</td><td>FALSE</td><td>FALSE</td><td>Australia F1</td><td>$15,000</td><td>Clay</td><td>Australia</td><td>1998-10-26</td><td>1998-11-01</td><td>6</td></tr>\n",
       "\t<tr><td>Ben Ellwood      </td><td>e143</td><td> 316</td><td>Australia</td><td>Right-Handed</td><td>Unknown Backhand</td><td>178</td><td>Peter Clarke      </td><td>c526</td><td> 453</td><td>⋯</td><td>FALSE</td><td>FALSE</td><td>FALSE</td><td>Australia F1</td><td>$15,000</td><td>Clay</td><td>Australia</td><td>1998-10-26</td><td>1998-11-01</td><td>6</td></tr>\n",
       "\t<tr><td>David McNamara   </td><td>m796</td><td> 691</td><td>NA       </td><td>Right-Handed</td><td>Unknown Backhand</td><td> NA</td><td>Jurek Stasiak     </td><td>s637</td><td> 513</td><td>⋯</td><td>FALSE</td><td>FALSE</td><td>FALSE</td><td>Australia F1</td><td>$15,000</td><td>Clay</td><td>Australia</td><td>1998-10-26</td><td>1998-11-01</td><td>6</td></tr>\n",
       "\t<tr><td>Jaymon Crabb     </td><td>g386</td><td> 488</td><td>Australia</td><td>Right-Handed</td><td>Unknown Backhand</td><td>183</td><td>Glenn Knox        </td><td>k422</td><td>1050</td><td>⋯</td><td>FALSE</td><td>FALSE</td><td>FALSE</td><td>Australia F1</td><td>$15,000</td><td>Clay</td><td>Australia</td><td>1998-10-26</td><td>1998-11-01</td><td>6</td></tr>\n",
       "\t<tr><td>Joseph Sirianni  </td><td>s673</td><td> 318</td><td>Australia</td><td>Right-Handed</td><td>Unknown Backhand</td><td>178</td><td>Jay Gooding       </td><td>g404</td><td> 999</td><td>⋯</td><td>FALSE</td><td>FALSE</td><td>FALSE</td><td>Australia F1</td><td>$15,000</td><td>Clay</td><td>Australia</td><td>1998-10-26</td><td>1998-11-01</td><td>6</td></tr>\n",
       "\t<tr><td>Kris Goossens    </td><td>g285</td><td> 346</td><td>Belgium  </td><td>Right-Handed</td><td>Unknown Backhand</td><td>180</td><td>Leigh Holland     </td><td>h316</td><td> 567</td><td>⋯</td><td>FALSE</td><td>FALSE</td><td>FALSE</td><td>Australia F1</td><td>$15,000</td><td>Clay</td><td>Australia</td><td>1998-10-26</td><td>1998-11-01</td><td>6</td></tr>\n",
       "\t<tr><td>Lee Pearson      </td><td>p388</td><td> 946</td><td>NA       </td><td>Right-Handed</td><td>Unknown Backhand</td><td> NA</td><td>Allen Belobrajdic </td><td>b510</td><td> 265</td><td>⋯</td><td>FALSE</td><td>FALSE</td><td>FALSE</td><td>Australia F1</td><td>$15,000</td><td>Clay</td><td>Australia</td><td>1998-10-26</td><td>1998-11-01</td><td>6</td></tr>\n",
       "\t<tr><td>Paul Hanley      </td><td>h421</td><td> 493</td><td>Australia</td><td>Right-Handed</td><td>Unknown Backhand</td><td>183</td><td>Jed Gould         </td><td>g387</td><td>1142</td><td>⋯</td><td>FALSE</td><td>FALSE</td><td>FALSE</td><td>Australia F1</td><td>$15,000</td><td>Clay</td><td>Australia</td><td>1998-10-26</td><td>1998-11-01</td><td>6</td></tr>\n",
       "\t<tr><td>Toby Mitchell    </td><td>m632</td><td> 293</td><td>Australia</td><td>Right-Handed</td><td>Unknown Backhand</td><td> NA</td><td>Andrew Painter    </td><td>p357</td><td> 659</td><td>⋯</td><td>FALSE</td><td>FALSE</td><td>FALSE</td><td>Australia F1</td><td>$15,000</td><td>Clay</td><td>Australia</td><td>1998-10-26</td><td>1998-11-01</td><td>6</td></tr>\n",
       "\t<tr><td>Allen Belobrajdic</td><td>b510</td><td> 265</td><td>Australia</td><td>Right-Handed</td><td>Unknown Backhand</td><td>175</td><td>Sebastian Swierk  </td><td>s719</td><td> 495</td><td>⋯</td><td>FALSE</td><td>FALSE</td><td>FALSE</td><td>Australia F1</td><td>$15,000</td><td>Clay</td><td>Australia</td><td>1998-10-26</td><td>1998-11-01</td><td>6</td></tr>\n",
       "\t<tr><td>Andrew Painter   </td><td>p357</td><td> 659</td><td>Australia</td><td>Right-Handed</td><td>Unknown Backhand</td><td>188</td><td>Nathan Healey     </td><td>h431</td><td>1096</td><td>⋯</td><td>FALSE</td><td>FALSE</td><td>FALSE</td><td>Australia F1</td><td>$15,000</td><td>Clay</td><td>Australia</td><td>1998-10-26</td><td>1998-11-01</td><td>6</td></tr>\n",
       "\t<tr><td>Ben Ellwood      </td><td>e143</td><td> 316</td><td>Australia</td><td>Right-Handed</td><td>Unknown Backhand</td><td>178</td><td>Luke O'Donnell    </td><td>o136</td><td> 559</td><td>⋯</td><td>FALSE</td><td>FALSE</td><td>FALSE</td><td>Australia F1</td><td>$15,000</td><td>Clay</td><td>Australia</td><td>1998-10-26</td><td>1998-11-01</td><td>6</td></tr>\n",
       "\t<tr><td>David McNamara   </td><td>m796</td><td> 691</td><td>NA       </td><td>Right-Handed</td><td>Unknown Backhand</td><td> NA</td><td>Andrew Bronneberg </td><td>b651</td><td>1036</td><td>⋯</td><td>FALSE</td><td>FALSE</td><td>FALSE</td><td>Australia F1</td><td>$15,000</td><td>Clay</td><td>Australia</td><td>1998-10-26</td><td>1998-11-01</td><td>6</td></tr>\n",
       "\t<tr><td>Glenn Knox       </td><td>k422</td><td>1050</td><td>NA       </td><td>Right-Handed</td><td>Unknown Backhand</td><td> NA</td><td>Hayden Gibson     </td><td>g425</td><td> 791</td><td>⋯</td><td>FALSE</td><td>FALSE</td><td>FALSE</td><td>Australia F1</td><td>$15,000</td><td>Clay</td><td>Australia</td><td>1998-10-26</td><td>1998-11-01</td><td>6</td></tr>\n",
       "\t<tr><td>Jay Gooding      </td><td>g404</td><td> 999</td><td>Australia</td><td>Right-Handed</td><td>Unknown Backhand</td><td>188</td><td>Josh Tuckfield    </td><td>t289</td><td> 821</td><td>⋯</td><td>FALSE</td><td>FALSE</td><td>FALSE</td><td>Australia F1</td><td>$15,000</td><td>Clay</td><td>Australia</td><td>1998-10-26</td><td>1998-11-01</td><td>6</td></tr>\n",
       "\t<tr><td>Jaymon Crabb     </td><td>g386</td><td> 488</td><td>Australia</td><td>Right-Handed</td><td>Unknown Backhand</td><td>183</td><td>Aeron Martinovic  </td><td>m702</td><td>  NA</td><td>⋯</td><td>FALSE</td><td>FALSE</td><td>FALSE</td><td>Australia F1</td><td>$15,000</td><td>Clay</td><td>Australia</td><td>1998-10-26</td><td>1998-11-01</td><td>6</td></tr>\n",
       "\t<tr><td>Jed Gould        </td><td>g387</td><td>  NA</td><td>NA       </td><td>Right-Handed</td><td>Unknown Backhand</td><td> NA</td><td>Matthew Fitzgerald</td><td>NA  </td><td>  NA</td><td>⋯</td><td>FALSE</td><td>FALSE</td><td>FALSE</td><td>Australia F1</td><td>$15,000</td><td>Clay</td><td>Australia</td><td>1998-10-26</td><td>1998-11-01</td><td>6</td></tr>\n",
       "\t<tr><td>Joseph Sirianni  </td><td>s673</td><td> 318</td><td>Australia</td><td>Right-Handed</td><td>Unknown Backhand</td><td>178</td><td>Sam Swan          </td><td>s909</td><td>  NA</td><td>⋯</td><td>FALSE</td><td>FALSE</td><td>FALSE</td><td>Australia F1</td><td>$15,000</td><td>Clay</td><td>Australia</td><td>1998-10-26</td><td>1998-11-01</td><td>6</td></tr>\n",
       "\t<tr><td>Jurek Stasiak    </td><td>s637</td><td> 513</td><td>NA       </td><td>Right-Handed</td><td>Unknown Backhand</td><td> NA</td><td>Chris Rae         </td><td>r401</td><td> 784</td><td>⋯</td><td>FALSE</td><td>FALSE</td><td>FALSE</td><td>Australia F1</td><td>$15,000</td><td>Clay</td><td>Australia</td><td>1998-10-26</td><td>1998-11-01</td><td>6</td></tr>\n",
       "\t<tr><td>Kris Goossens    </td><td>g285</td><td> 346</td><td>Belgium  </td><td>Right-Handed</td><td>Unknown Backhand</td><td>180</td><td>Damien Spizzo     </td><td>s827</td><td> 999</td><td>⋯</td><td>FALSE</td><td>FALSE</td><td>FALSE</td><td>Australia F1</td><td>$15,000</td><td>Clay</td><td>Australia</td><td>1998-10-26</td><td>1998-11-01</td><td>6</td></tr>\n",
       "\t<tr><td>Lee Pearson      </td><td>p388</td><td> 946</td><td>NA       </td><td>Right-Handed</td><td>Unknown Backhand</td><td> NA</td><td>Syed-Akram Zaman  </td><td>z091</td><td>1322</td><td>⋯</td><td>FALSE</td><td>FALSE</td><td>FALSE</td><td>Australia F1</td><td>$15,000</td><td>Clay</td><td>Australia</td><td>1998-10-26</td><td>1998-11-01</td><td>6</td></tr>\n",
       "\t<tr><td>Leigh Holland    </td><td>h316</td><td> 567</td><td>NA       </td><td>Right-Handed</td><td>Unknown Backhand</td><td> NA</td><td>Tate Roberts      </td><td>r425</td><td>1050</td><td>⋯</td><td>FALSE</td><td>FALSE</td><td>FALSE</td><td>Australia F1</td><td>$15,000</td><td>Clay</td><td>Australia</td><td>1998-10-26</td><td>1998-11-01</td><td>6</td></tr>\n",
       "\t<tr><td>Paul Hanley      </td><td>h421</td><td> 493</td><td>Australia</td><td>Right-Handed</td><td>Unknown Backhand</td><td>183</td><td>Sergio Gaoni      </td><td>g389</td><td> 826</td><td>⋯</td><td>FALSE</td><td>FALSE</td><td>FALSE</td><td>Australia F1</td><td>$15,000</td><td>Clay</td><td>Australia</td><td>1998-10-26</td><td>1998-11-01</td><td>6</td></tr>\n",
       "\t<tr><td>Peter Clarke     </td><td>c526</td><td> 453</td><td>Ireland  </td><td>Right-Handed</td><td>Unknown Backhand</td><td>188</td><td>Jamie Holmes      </td><td>h291</td><td> 543</td><td>⋯</td><td>FALSE</td><td>FALSE</td><td>FALSE</td><td>Australia F1</td><td>$15,000</td><td>Clay</td><td>Australia</td><td>1998-10-26</td><td>1998-11-01</td><td>6</td></tr>\n",
       "\t<tr><td>Toby Mitchell    </td><td>m632</td><td> 293</td><td>Australia</td><td>Right-Handed</td><td>Unknown Backhand</td><td> NA</td><td>Ryuso Tsujino     </td><td>t112</td><td> 622</td><td>⋯</td><td>FALSE</td><td>FALSE</td><td>FALSE</td><td>Australia F1</td><td>$15,000</td><td>Clay</td><td>Australia</td><td>1998-10-26</td><td>1998-11-01</td><td>6</td></tr>\n",
       "\t<tr><td>Joseph Sirianni  </td><td>s673</td><td> 318</td><td>Australia</td><td>Right-Handed</td><td>Unknown Backhand</td><td>178</td><td>Ben Ellwood       </td><td>e143</td><td> 316</td><td>⋯</td><td>FALSE</td><td>FALSE</td><td>FALSE</td><td>Australia F1</td><td>$15,000</td><td>Clay</td><td>Australia</td><td>1998-10-26</td><td>1998-11-01</td><td>6</td></tr>\n",
       "\t<tr><td>⋮</td><td>⋮</td><td>⋮</td><td>⋮</td><td>⋮</td><td>⋮</td><td>⋮</td><td>⋮</td><td>⋮</td><td>⋮</td><td>⋱</td><td>⋮</td><td>⋮</td><td>⋮</td><td>⋮</td><td>⋮</td><td>⋮</td><td>⋮</td><td>⋮</td><td>⋮</td><td>⋮</td></tr>\n",
       "\t<tr><td>Benjamin Mitchell </td><td>mk40</td><td> 250</td><td>Australia     </td><td>Right-Handed</td><td>Unknown Backhand   </td><td>183</td><td>Rubin Statham       </td><td>sf89</td><td> 529</td><td>⋯</td><td>FALSE</td><td>FALSE</td><td>FALSE</td><td>Australia F13</td><td>$15,000</td><td>Hard</td><td>Australia</td><td>2011-11-21</td><td>2011-11-27</td><td>6</td></tr>\n",
       "\t<tr><td>Matt Reid         </td><td>r977</td><td> 315</td><td>Australia     </td><td>Right-Handed</td><td>Two-Handed Backhand</td><td>183</td><td>Luke Saville        </td><td>sm09</td><td>  NA</td><td>⋯</td><td>FALSE</td><td>FALSE</td><td>FALSE</td><td>Australia F13</td><td>$15,000</td><td>Hard</td><td>Australia</td><td>2011-11-21</td><td>2011-11-27</td><td>6</td></tr>\n",
       "\t<tr><td>Michael Look      </td><td>l837</td><td> 356</td><td>Australia     </td><td>Right-Handed</td><td>Two-Handed Backhand</td><td>188</td><td>Michael Venus       </td><td>v576</td><td> 422</td><td>⋯</td><td>FALSE</td><td>FALSE</td><td>FALSE</td><td>Australia F13</td><td>$15,000</td><td>Hard</td><td>Australia</td><td>2011-11-21</td><td>2011-11-27</td><td>6</td></tr>\n",
       "\t<tr><td>Sam Groth         </td><td>g940</td><td> 518</td><td>Australia     </td><td>Right-Handed</td><td>One-Handed Backhand</td><td>193</td><td>James Lemke         </td><td>l900</td><td> 296</td><td>⋯</td><td>FALSE</td><td>FALSE</td><td>FALSE</td><td>Australia F13</td><td>$15,000</td><td>Hard</td><td>Australia</td><td>2011-11-21</td><td>2011-11-27</td><td>6</td></tr>\n",
       "\t<tr><td>Benjamin Mitchell </td><td>mk40</td><td> 250</td><td>Australia     </td><td>Right-Handed</td><td>Unknown Backhand   </td><td>183</td><td>Adam Feeney         </td><td>f491</td><td>1233</td><td>⋯</td><td>FALSE</td><td>FALSE</td><td>FALSE</td><td>Australia F13</td><td>$15,000</td><td>Hard</td><td>Australia</td><td>2011-11-21</td><td>2011-11-27</td><td>6</td></tr>\n",
       "\t<tr><td>James Lemke       </td><td>l900</td><td> 296</td><td>Australia     </td><td>Right-Handed</td><td>Unknown Backhand   </td><td> NA</td><td>Leon Frost          </td><td>f552</td><td> 926</td><td>⋯</td><td>FALSE</td><td>FALSE</td><td>FALSE</td><td>Australia F13</td><td>$15,000</td><td>Hard</td><td>Australia</td><td>2011-11-21</td><td>2011-11-27</td><td>6</td></tr>\n",
       "\t<tr><td>Luke Saville      </td><td>sm09</td><td>  NA</td><td>Australia     </td><td>Right-Handed</td><td>Two-Handed Backhand</td><td>188</td><td>Richard Gabb        </td><td>gc36</td><td> 928</td><td>⋯</td><td>FALSE</td><td>FALSE</td><td>FALSE</td><td>Australia F13</td><td>$15,000</td><td>Hard</td><td>Australia</td><td>2011-11-21</td><td>2011-11-27</td><td>6</td></tr>\n",
       "\t<tr><td>Matt Reid         </td><td>r977</td><td> 315</td><td>Australia     </td><td>Right-Handed</td><td>Two-Handed Backhand</td><td>183</td><td>Dane Propoggia      </td><td>pc29</td><td> 678</td><td>⋯</td><td>FALSE</td><td>FALSE</td><td>FALSE</td><td>Australia F13</td><td>$15,000</td><td>Hard</td><td>Australia</td><td>2011-11-21</td><td>2011-11-27</td><td>6</td></tr>\n",
       "\t<tr><td>Michael Look      </td><td>l837</td><td> 356</td><td>Australia     </td><td>Right-Handed</td><td>Two-Handed Backhand</td><td>188</td><td>Matthew Barton      </td><td>bh98</td><td> 660</td><td>⋯</td><td> TRUE</td><td>FALSE</td><td>FALSE</td><td>Australia F13</td><td>$15,000</td><td>Hard</td><td>Australia</td><td>2011-11-21</td><td>2011-11-27</td><td>6</td></tr>\n",
       "\t<tr><td>Michael Venus     </td><td>v576</td><td> 422</td><td>New Zealand   </td><td>Right-Handed</td><td>Two-Handed Backhand</td><td>191</td><td>Andrew Whittington  </td><td>w630</td><td> 993</td><td>⋯</td><td>FALSE</td><td>FALSE</td><td>FALSE</td><td>Australia F13</td><td>$15,000</td><td>Hard</td><td>Australia</td><td>2011-11-21</td><td>2011-11-27</td><td>6</td></tr>\n",
       "\t<tr><td>Rubin Statham     </td><td>sf89</td><td> 529</td><td>United Kingdom</td><td>Right-Handed</td><td>Two-Handed Backhand</td><td>180</td><td>John Peers          </td><td>pc96</td><td> 576</td><td>⋯</td><td> TRUE</td><td>FALSE</td><td>FALSE</td><td>Australia F13</td><td>$15,000</td><td>Hard</td><td>Australia</td><td>2011-11-21</td><td>2011-11-27</td><td>6</td></tr>\n",
       "\t<tr><td>Sam Groth         </td><td>g940</td><td> 518</td><td>Australia     </td><td>Right-Handed</td><td>One-Handed Backhand</td><td>193</td><td>Yuri Bezeruk        </td><td>bc00</td><td>1101</td><td>⋯</td><td>FALSE</td><td>FALSE</td><td>FALSE</td><td>Australia F13</td><td>$15,000</td><td>Hard</td><td>Australia</td><td>2011-11-21</td><td>2011-11-27</td><td>6</td></tr>\n",
       "\t<tr><td>Adam Feeney       </td><td>f491</td><td>1233</td><td>Australia     </td><td>Right-Handed</td><td>Unknown Backhand   </td><td>178</td><td>Joey Swaysland      </td><td>sn11</td><td>1630</td><td>⋯</td><td>FALSE</td><td>FALSE</td><td>FALSE</td><td>Australia F13</td><td>$15,000</td><td>Hard</td><td>Australia</td><td>2011-11-21</td><td>2011-11-27</td><td>6</td></tr>\n",
       "\t<tr><td>Andrew Whittington</td><td>w630</td><td> 993</td><td>Australia     </td><td>Right-Handed</td><td>Two-Handed Backhand</td><td>188</td><td>Jake Wynan          </td><td>w662</td><td>  NA</td><td>⋯</td><td>FALSE</td><td>FALSE</td><td>FALSE</td><td>Australia F13</td><td>$15,000</td><td>Hard</td><td>Australia</td><td>2011-11-21</td><td>2011-11-27</td><td>6</td></tr>\n",
       "\t<tr><td>Benjamin Mitchell </td><td>mk40</td><td> 250</td><td>Australia     </td><td>Right-Handed</td><td>Unknown Backhand   </td><td>183</td><td>Ya-Nan Ma           </td><td>mh61</td><td>1129</td><td>⋯</td><td>FALSE</td><td>FALSE</td><td>FALSE</td><td>Australia F13</td><td>$15,000</td><td>Hard</td><td>Australia</td><td>2011-11-21</td><td>2011-11-27</td><td>6</td></tr>\n",
       "\t<tr><td>Dane Propoggia    </td><td>pc29</td><td> 678</td><td>NA            </td><td>NA          </td><td>NA                 </td><td> NA</td><td>Jack Schipanski     </td><td>sm11</td><td>1919</td><td>⋯</td><td>FALSE</td><td>FALSE</td><td>FALSE</td><td>Australia F13</td><td>$15,000</td><td>Hard</td><td>Australia</td><td>2011-11-21</td><td>2011-11-27</td><td>6</td></tr>\n",
       "\t<tr><td>James Lemke       </td><td>l900</td><td>  NA</td><td>Australia     </td><td>Right-Handed</td><td>Unknown Backhand   </td><td> NA</td><td>Anton Bettink       </td><td>NA  </td><td>1176</td><td>⋯</td><td> TRUE</td><td>FALSE</td><td>FALSE</td><td>Australia F13</td><td>$15,000</td><td>Hard</td><td>Australia</td><td>2011-11-21</td><td>2011-11-27</td><td>6</td></tr>\n",
       "\t<tr><td>John Peers        </td><td>pc96</td><td> 576</td><td>Australia     </td><td>Right-Handed</td><td>Two-Handed Backhand</td><td>188</td><td>Andrew Mcleod       </td><td>mk45</td><td>1250</td><td>⋯</td><td>FALSE</td><td>FALSE</td><td>FALSE</td><td>Australia F13</td><td>$15,000</td><td>Hard</td><td>Australia</td><td>2011-11-21</td><td>2011-11-27</td><td>6</td></tr>\n",
       "\t<tr><td>Leon Frost        </td><td>f552</td><td>  NA</td><td>NA            </td><td>NA          </td><td>NA                 </td><td> NA</td><td>Robert McKenzie     </td><td>NA  </td><td>1105</td><td>⋯</td><td>FALSE</td><td>FALSE</td><td>FALSE</td><td>Australia F13</td><td>$15,000</td><td>Hard</td><td>Australia</td><td>2011-11-21</td><td>2011-11-27</td><td>6</td></tr>\n",
       "\t<tr><td>Luke Saville      </td><td>sm09</td><td>  NA</td><td>Australia     </td><td>Right-Handed</td><td>Two-Handed Backhand</td><td>188</td><td>Toby Martin         </td><td>ml51</td><td> 938</td><td>⋯</td><td>FALSE</td><td>FALSE</td><td>FALSE</td><td>Australia F13</td><td>$15,000</td><td>Hard</td><td>Australia</td><td>2011-11-21</td><td>2011-11-27</td><td>6</td></tr>\n",
       "\t<tr><td>Matt Reid         </td><td>r977</td><td> 315</td><td>Australia     </td><td>Right-Handed</td><td>Two-Handed Backhand</td><td>183</td><td>Alex Bolt           </td><td>bi81</td><td> 892</td><td>⋯</td><td>FALSE</td><td>FALSE</td><td>FALSE</td><td>Australia F13</td><td>$15,000</td><td>Hard</td><td>Australia</td><td>2011-11-21</td><td>2011-11-27</td><td>6</td></tr>\n",
       "\t<tr><td>Matthew Barton    </td><td>bh98</td><td> 660</td><td>Australia     </td><td>Right-Handed</td><td>Two-Handed Backhand</td><td>191</td><td>Andrew Harris       </td><td>hb29</td><td>1221</td><td>⋯</td><td>FALSE</td><td>FALSE</td><td>FALSE</td><td>Australia F13</td><td>$15,000</td><td>Hard</td><td>Australia</td><td>2011-11-21</td><td>2011-11-27</td><td>6</td></tr>\n",
       "\t<tr><td>Michael Look      </td><td>l837</td><td> 356</td><td>Australia     </td><td>Right-Handed</td><td>Two-Handed Backhand</td><td>188</td><td>Rhys Michael Johnson</td><td>j527</td><td>1354</td><td>⋯</td><td>FALSE</td><td>FALSE</td><td>FALSE</td><td>Australia F13</td><td>$15,000</td><td>Hard</td><td>Australia</td><td>2011-11-21</td><td>2011-11-27</td><td>6</td></tr>\n",
       "\t<tr><td>Michael Venus     </td><td>v576</td><td> 422</td><td>New Zealand   </td><td>Right-Handed</td><td>Two-Handed Backhand</td><td>191</td><td>Li Tu               </td><td>tc01</td><td>  NA</td><td>⋯</td><td>FALSE</td><td>FALSE</td><td>FALSE</td><td>Australia F13</td><td>$15,000</td><td>Hard</td><td>Australia</td><td>2011-11-21</td><td>2011-11-27</td><td>6</td></tr>\n",
       "\t<tr><td>Richard Gabb      </td><td>gc36</td><td> 928</td><td>USA           </td><td>Right-Handed</td><td>Unknown Backhand   </td><td>175</td><td>Isaac Frost         </td><td>f634</td><td> 473</td><td>⋯</td><td>FALSE</td><td>FALSE</td><td>FALSE</td><td>Australia F13</td><td>$15,000</td><td>Hard</td><td>Australia</td><td>2011-11-21</td><td>2011-11-27</td><td>6</td></tr>\n",
       "\t<tr><td>Rubin Statham     </td><td>sf89</td><td> 529</td><td>United Kingdom</td><td>Right-Handed</td><td>Two-Handed Backhand</td><td>180</td><td>Ryan Agar           </td><td>a834</td><td>1310</td><td>⋯</td><td>FALSE</td><td>FALSE</td><td>FALSE</td><td>Australia F13</td><td>$15,000</td><td>Hard</td><td>Australia</td><td>2011-11-21</td><td>2011-11-27</td><td>6</td></tr>\n",
       "\t<tr><td>Sam Groth         </td><td>g940</td><td> 518</td><td>Australia     </td><td>Right-Handed</td><td>One-Handed Backhand</td><td>193</td><td>Gavin Van Peperzeel </td><td>v784</td><td>1053</td><td>⋯</td><td>FALSE</td><td>FALSE</td><td>FALSE</td><td>Australia F13</td><td>$15,000</td><td>Hard</td><td>Australia</td><td>2011-11-21</td><td>2011-11-27</td><td>6</td></tr>\n",
       "\t<tr><td>Yuri Bezeruk      </td><td>bc00</td><td>1101</td><td>NA            </td><td>NA          </td><td>NA                 </td><td> NA</td><td>Marcus Daniell      </td><td>d763</td><td> 722</td><td>⋯</td><td>FALSE</td><td>FALSE</td><td>FALSE</td><td>Australia F13</td><td>$15,000</td><td>Hard</td><td>Australia</td><td>2011-11-21</td><td>2011-11-27</td><td>6</td></tr>\n",
       "\t<tr><td>Benjamin Mitchell </td><td>mk40</td><td> 250</td><td>Australia     </td><td>Right-Handed</td><td>Unknown Backhand   </td><td>183</td><td>Michael Look        </td><td>l837</td><td> 356</td><td>⋯</td><td> TRUE</td><td>FALSE</td><td>FALSE</td><td>Australia F13</td><td>$15,000</td><td>Hard</td><td>Australia</td><td>2011-11-21</td><td>2011-11-27</td><td>6</td></tr>\n",
       "\t<tr><td>Matt Reid         </td><td>r977</td><td> 315</td><td>Australia     </td><td>Right-Handed</td><td>Two-Handed Backhand</td><td>183</td><td>Sam Groth           </td><td>g940</td><td> 518</td><td>⋯</td><td> TRUE</td><td>FALSE</td><td>FALSE</td><td>Australia F13</td><td>$15,000</td><td>Hard</td><td>Australia</td><td>2011-11-21</td><td>2011-11-27</td><td>6</td></tr>\n",
       "</tbody>\n",
       "</table>\n"
      ],
      "text/latex": [
       "A tibble: 1517 × 27\n",
       "\\begin{tabular}{lllllllllllllllllllll}\n",
       " winner.name & winner.id & winner.rank & winner.bornAt & winner.domHand & winner.backHand & winner.height & looser.name & looser.id & looser.rank & ⋯ & match.hadTieBreaker & match.wasWalkover & match.wasDef & tournament.name & tournament.prize & tournament.ground & tournament.location & tournament.date\\_start & tournament.date\\_finish & tournament.duration\\\\\n",
       " <chr> & <chr> & <int> & <chr> & <chr> & <chr> & <int> & <chr> & <chr> & <int> & ⋯ & <lgl> & <lgl> & <lgl> & <chr> & <chr> & <chr> & <chr> & <date> & <date> & <int>\\\\\n",
       "\\hline\n",
       "\t Joseph Sirianni   & s673 &  318 & Australia & Right-Handed & Unknown Backhand & 178 & Toby Mitchell      & m632 &  293 & ⋯ & FALSE & FALSE & FALSE & Australia F1 & \\$15,000 & Clay & Australia & 1998-10-26 & 1998-11-01 & 6\\\\\n",
       "\t Ben Ellwood       & e143 &  316 & Australia & Right-Handed & Unknown Backhand & 178 & Kris Goossens      & g285 &  346 & ⋯ & FALSE & FALSE & FALSE & Australia F1 & \\$15,000 & Clay & Australia & 1998-10-26 & 1998-11-01 & 6\\\\\n",
       "\t Joseph Sirianni   & s673 &  318 & Australia & Right-Handed & Unknown Backhand & 178 & Jaymon Crabb       & g386 &  488 & ⋯ & FALSE & FALSE & FALSE & Australia F1 & \\$15,000 & Clay & Australia & 1998-10-26 & 1998-11-01 & 6\\\\\n",
       "\t Lee Pearson       & p388 &  946 & NA        & Right-Handed & Unknown Backhand &  NA & Paul Hanley        & h421 &  493 & ⋯ & FALSE & FALSE & FALSE & Australia F1 & \\$15,000 & Clay & Australia & 1998-10-26 & 1998-11-01 & 6\\\\\n",
       "\t Toby Mitchell     & m632 &  293 & Australia & Right-Handed & Unknown Backhand &  NA & David McNamara     & m796 &  691 & ⋯ & FALSE & FALSE & FALSE & Australia F1 & \\$15,000 & Clay & Australia & 1998-10-26 & 1998-11-01 & 6\\\\\n",
       "\t Ben Ellwood       & e143 &  316 & Australia & Right-Handed & Unknown Backhand & 178 & Peter Clarke       & c526 &  453 & ⋯ & FALSE & FALSE & FALSE & Australia F1 & \\$15,000 & Clay & Australia & 1998-10-26 & 1998-11-01 & 6\\\\\n",
       "\t David McNamara    & m796 &  691 & NA        & Right-Handed & Unknown Backhand &  NA & Jurek Stasiak      & s637 &  513 & ⋯ & FALSE & FALSE & FALSE & Australia F1 & \\$15,000 & Clay & Australia & 1998-10-26 & 1998-11-01 & 6\\\\\n",
       "\t Jaymon Crabb      & g386 &  488 & Australia & Right-Handed & Unknown Backhand & 183 & Glenn Knox         & k422 & 1050 & ⋯ & FALSE & FALSE & FALSE & Australia F1 & \\$15,000 & Clay & Australia & 1998-10-26 & 1998-11-01 & 6\\\\\n",
       "\t Joseph Sirianni   & s673 &  318 & Australia & Right-Handed & Unknown Backhand & 178 & Jay Gooding        & g404 &  999 & ⋯ & FALSE & FALSE & FALSE & Australia F1 & \\$15,000 & Clay & Australia & 1998-10-26 & 1998-11-01 & 6\\\\\n",
       "\t Kris Goossens     & g285 &  346 & Belgium   & Right-Handed & Unknown Backhand & 180 & Leigh Holland      & h316 &  567 & ⋯ & FALSE & FALSE & FALSE & Australia F1 & \\$15,000 & Clay & Australia & 1998-10-26 & 1998-11-01 & 6\\\\\n",
       "\t Lee Pearson       & p388 &  946 & NA        & Right-Handed & Unknown Backhand &  NA & Allen Belobrajdic  & b510 &  265 & ⋯ & FALSE & FALSE & FALSE & Australia F1 & \\$15,000 & Clay & Australia & 1998-10-26 & 1998-11-01 & 6\\\\\n",
       "\t Paul Hanley       & h421 &  493 & Australia & Right-Handed & Unknown Backhand & 183 & Jed Gould          & g387 & 1142 & ⋯ & FALSE & FALSE & FALSE & Australia F1 & \\$15,000 & Clay & Australia & 1998-10-26 & 1998-11-01 & 6\\\\\n",
       "\t Toby Mitchell     & m632 &  293 & Australia & Right-Handed & Unknown Backhand &  NA & Andrew Painter     & p357 &  659 & ⋯ & FALSE & FALSE & FALSE & Australia F1 & \\$15,000 & Clay & Australia & 1998-10-26 & 1998-11-01 & 6\\\\\n",
       "\t Allen Belobrajdic & b510 &  265 & Australia & Right-Handed & Unknown Backhand & 175 & Sebastian Swierk   & s719 &  495 & ⋯ & FALSE & FALSE & FALSE & Australia F1 & \\$15,000 & Clay & Australia & 1998-10-26 & 1998-11-01 & 6\\\\\n",
       "\t Andrew Painter    & p357 &  659 & Australia & Right-Handed & Unknown Backhand & 188 & Nathan Healey      & h431 & 1096 & ⋯ & FALSE & FALSE & FALSE & Australia F1 & \\$15,000 & Clay & Australia & 1998-10-26 & 1998-11-01 & 6\\\\\n",
       "\t Ben Ellwood       & e143 &  316 & Australia & Right-Handed & Unknown Backhand & 178 & Luke O'Donnell     & o136 &  559 & ⋯ & FALSE & FALSE & FALSE & Australia F1 & \\$15,000 & Clay & Australia & 1998-10-26 & 1998-11-01 & 6\\\\\n",
       "\t David McNamara    & m796 &  691 & NA        & Right-Handed & Unknown Backhand &  NA & Andrew Bronneberg  & b651 & 1036 & ⋯ & FALSE & FALSE & FALSE & Australia F1 & \\$15,000 & Clay & Australia & 1998-10-26 & 1998-11-01 & 6\\\\\n",
       "\t Glenn Knox        & k422 & 1050 & NA        & Right-Handed & Unknown Backhand &  NA & Hayden Gibson      & g425 &  791 & ⋯ & FALSE & FALSE & FALSE & Australia F1 & \\$15,000 & Clay & Australia & 1998-10-26 & 1998-11-01 & 6\\\\\n",
       "\t Jay Gooding       & g404 &  999 & Australia & Right-Handed & Unknown Backhand & 188 & Josh Tuckfield     & t289 &  821 & ⋯ & FALSE & FALSE & FALSE & Australia F1 & \\$15,000 & Clay & Australia & 1998-10-26 & 1998-11-01 & 6\\\\\n",
       "\t Jaymon Crabb      & g386 &  488 & Australia & Right-Handed & Unknown Backhand & 183 & Aeron Martinovic   & m702 &   NA & ⋯ & FALSE & FALSE & FALSE & Australia F1 & \\$15,000 & Clay & Australia & 1998-10-26 & 1998-11-01 & 6\\\\\n",
       "\t Jed Gould         & g387 &   NA & NA        & Right-Handed & Unknown Backhand &  NA & Matthew Fitzgerald & NA   &   NA & ⋯ & FALSE & FALSE & FALSE & Australia F1 & \\$15,000 & Clay & Australia & 1998-10-26 & 1998-11-01 & 6\\\\\n",
       "\t Joseph Sirianni   & s673 &  318 & Australia & Right-Handed & Unknown Backhand & 178 & Sam Swan           & s909 &   NA & ⋯ & FALSE & FALSE & FALSE & Australia F1 & \\$15,000 & Clay & Australia & 1998-10-26 & 1998-11-01 & 6\\\\\n",
       "\t Jurek Stasiak     & s637 &  513 & NA        & Right-Handed & Unknown Backhand &  NA & Chris Rae          & r401 &  784 & ⋯ & FALSE & FALSE & FALSE & Australia F1 & \\$15,000 & Clay & Australia & 1998-10-26 & 1998-11-01 & 6\\\\\n",
       "\t Kris Goossens     & g285 &  346 & Belgium   & Right-Handed & Unknown Backhand & 180 & Damien Spizzo      & s827 &  999 & ⋯ & FALSE & FALSE & FALSE & Australia F1 & \\$15,000 & Clay & Australia & 1998-10-26 & 1998-11-01 & 6\\\\\n",
       "\t Lee Pearson       & p388 &  946 & NA        & Right-Handed & Unknown Backhand &  NA & Syed-Akram Zaman   & z091 & 1322 & ⋯ & FALSE & FALSE & FALSE & Australia F1 & \\$15,000 & Clay & Australia & 1998-10-26 & 1998-11-01 & 6\\\\\n",
       "\t Leigh Holland     & h316 &  567 & NA        & Right-Handed & Unknown Backhand &  NA & Tate Roberts       & r425 & 1050 & ⋯ & FALSE & FALSE & FALSE & Australia F1 & \\$15,000 & Clay & Australia & 1998-10-26 & 1998-11-01 & 6\\\\\n",
       "\t Paul Hanley       & h421 &  493 & Australia & Right-Handed & Unknown Backhand & 183 & Sergio Gaoni       & g389 &  826 & ⋯ & FALSE & FALSE & FALSE & Australia F1 & \\$15,000 & Clay & Australia & 1998-10-26 & 1998-11-01 & 6\\\\\n",
       "\t Peter Clarke      & c526 &  453 & Ireland   & Right-Handed & Unknown Backhand & 188 & Jamie Holmes       & h291 &  543 & ⋯ & FALSE & FALSE & FALSE & Australia F1 & \\$15,000 & Clay & Australia & 1998-10-26 & 1998-11-01 & 6\\\\\n",
       "\t Toby Mitchell     & m632 &  293 & Australia & Right-Handed & Unknown Backhand &  NA & Ryuso Tsujino      & t112 &  622 & ⋯ & FALSE & FALSE & FALSE & Australia F1 & \\$15,000 & Clay & Australia & 1998-10-26 & 1998-11-01 & 6\\\\\n",
       "\t Joseph Sirianni   & s673 &  318 & Australia & Right-Handed & Unknown Backhand & 178 & Ben Ellwood        & e143 &  316 & ⋯ & FALSE & FALSE & FALSE & Australia F1 & \\$15,000 & Clay & Australia & 1998-10-26 & 1998-11-01 & 6\\\\\n",
       "\t ⋮ & ⋮ & ⋮ & ⋮ & ⋮ & ⋮ & ⋮ & ⋮ & ⋮ & ⋮ & ⋱ & ⋮ & ⋮ & ⋮ & ⋮ & ⋮ & ⋮ & ⋮ & ⋮ & ⋮ & ⋮\\\\\n",
       "\t Benjamin Mitchell  & mk40 &  250 & Australia      & Right-Handed & Unknown Backhand    & 183 & Rubin Statham        & sf89 &  529 & ⋯ & FALSE & FALSE & FALSE & Australia F13 & \\$15,000 & Hard & Australia & 2011-11-21 & 2011-11-27 & 6\\\\\n",
       "\t Matt Reid          & r977 &  315 & Australia      & Right-Handed & Two-Handed Backhand & 183 & Luke Saville         & sm09 &   NA & ⋯ & FALSE & FALSE & FALSE & Australia F13 & \\$15,000 & Hard & Australia & 2011-11-21 & 2011-11-27 & 6\\\\\n",
       "\t Michael Look       & l837 &  356 & Australia      & Right-Handed & Two-Handed Backhand & 188 & Michael Venus        & v576 &  422 & ⋯ & FALSE & FALSE & FALSE & Australia F13 & \\$15,000 & Hard & Australia & 2011-11-21 & 2011-11-27 & 6\\\\\n",
       "\t Sam Groth          & g940 &  518 & Australia      & Right-Handed & One-Handed Backhand & 193 & James Lemke          & l900 &  296 & ⋯ & FALSE & FALSE & FALSE & Australia F13 & \\$15,000 & Hard & Australia & 2011-11-21 & 2011-11-27 & 6\\\\\n",
       "\t Benjamin Mitchell  & mk40 &  250 & Australia      & Right-Handed & Unknown Backhand    & 183 & Adam Feeney          & f491 & 1233 & ⋯ & FALSE & FALSE & FALSE & Australia F13 & \\$15,000 & Hard & Australia & 2011-11-21 & 2011-11-27 & 6\\\\\n",
       "\t James Lemke        & l900 &  296 & Australia      & Right-Handed & Unknown Backhand    &  NA & Leon Frost           & f552 &  926 & ⋯ & FALSE & FALSE & FALSE & Australia F13 & \\$15,000 & Hard & Australia & 2011-11-21 & 2011-11-27 & 6\\\\\n",
       "\t Luke Saville       & sm09 &   NA & Australia      & Right-Handed & Two-Handed Backhand & 188 & Richard Gabb         & gc36 &  928 & ⋯ & FALSE & FALSE & FALSE & Australia F13 & \\$15,000 & Hard & Australia & 2011-11-21 & 2011-11-27 & 6\\\\\n",
       "\t Matt Reid          & r977 &  315 & Australia      & Right-Handed & Two-Handed Backhand & 183 & Dane Propoggia       & pc29 &  678 & ⋯ & FALSE & FALSE & FALSE & Australia F13 & \\$15,000 & Hard & Australia & 2011-11-21 & 2011-11-27 & 6\\\\\n",
       "\t Michael Look       & l837 &  356 & Australia      & Right-Handed & Two-Handed Backhand & 188 & Matthew Barton       & bh98 &  660 & ⋯ &  TRUE & FALSE & FALSE & Australia F13 & \\$15,000 & Hard & Australia & 2011-11-21 & 2011-11-27 & 6\\\\\n",
       "\t Michael Venus      & v576 &  422 & New Zealand    & Right-Handed & Two-Handed Backhand & 191 & Andrew Whittington   & w630 &  993 & ⋯ & FALSE & FALSE & FALSE & Australia F13 & \\$15,000 & Hard & Australia & 2011-11-21 & 2011-11-27 & 6\\\\\n",
       "\t Rubin Statham      & sf89 &  529 & United Kingdom & Right-Handed & Two-Handed Backhand & 180 & John Peers           & pc96 &  576 & ⋯ &  TRUE & FALSE & FALSE & Australia F13 & \\$15,000 & Hard & Australia & 2011-11-21 & 2011-11-27 & 6\\\\\n",
       "\t Sam Groth          & g940 &  518 & Australia      & Right-Handed & One-Handed Backhand & 193 & Yuri Bezeruk         & bc00 & 1101 & ⋯ & FALSE & FALSE & FALSE & Australia F13 & \\$15,000 & Hard & Australia & 2011-11-21 & 2011-11-27 & 6\\\\\n",
       "\t Adam Feeney        & f491 & 1233 & Australia      & Right-Handed & Unknown Backhand    & 178 & Joey Swaysland       & sn11 & 1630 & ⋯ & FALSE & FALSE & FALSE & Australia F13 & \\$15,000 & Hard & Australia & 2011-11-21 & 2011-11-27 & 6\\\\\n",
       "\t Andrew Whittington & w630 &  993 & Australia      & Right-Handed & Two-Handed Backhand & 188 & Jake Wynan           & w662 &   NA & ⋯ & FALSE & FALSE & FALSE & Australia F13 & \\$15,000 & Hard & Australia & 2011-11-21 & 2011-11-27 & 6\\\\\n",
       "\t Benjamin Mitchell  & mk40 &  250 & Australia      & Right-Handed & Unknown Backhand    & 183 & Ya-Nan Ma            & mh61 & 1129 & ⋯ & FALSE & FALSE & FALSE & Australia F13 & \\$15,000 & Hard & Australia & 2011-11-21 & 2011-11-27 & 6\\\\\n",
       "\t Dane Propoggia     & pc29 &  678 & NA             & NA           & NA                  &  NA & Jack Schipanski      & sm11 & 1919 & ⋯ & FALSE & FALSE & FALSE & Australia F13 & \\$15,000 & Hard & Australia & 2011-11-21 & 2011-11-27 & 6\\\\\n",
       "\t James Lemke        & l900 &   NA & Australia      & Right-Handed & Unknown Backhand    &  NA & Anton Bettink        & NA   & 1176 & ⋯ &  TRUE & FALSE & FALSE & Australia F13 & \\$15,000 & Hard & Australia & 2011-11-21 & 2011-11-27 & 6\\\\\n",
       "\t John Peers         & pc96 &  576 & Australia      & Right-Handed & Two-Handed Backhand & 188 & Andrew Mcleod        & mk45 & 1250 & ⋯ & FALSE & FALSE & FALSE & Australia F13 & \\$15,000 & Hard & Australia & 2011-11-21 & 2011-11-27 & 6\\\\\n",
       "\t Leon Frost         & f552 &   NA & NA             & NA           & NA                  &  NA & Robert McKenzie      & NA   & 1105 & ⋯ & FALSE & FALSE & FALSE & Australia F13 & \\$15,000 & Hard & Australia & 2011-11-21 & 2011-11-27 & 6\\\\\n",
       "\t Luke Saville       & sm09 &   NA & Australia      & Right-Handed & Two-Handed Backhand & 188 & Toby Martin          & ml51 &  938 & ⋯ & FALSE & FALSE & FALSE & Australia F13 & \\$15,000 & Hard & Australia & 2011-11-21 & 2011-11-27 & 6\\\\\n",
       "\t Matt Reid          & r977 &  315 & Australia      & Right-Handed & Two-Handed Backhand & 183 & Alex Bolt            & bi81 &  892 & ⋯ & FALSE & FALSE & FALSE & Australia F13 & \\$15,000 & Hard & Australia & 2011-11-21 & 2011-11-27 & 6\\\\\n",
       "\t Matthew Barton     & bh98 &  660 & Australia      & Right-Handed & Two-Handed Backhand & 191 & Andrew Harris        & hb29 & 1221 & ⋯ & FALSE & FALSE & FALSE & Australia F13 & \\$15,000 & Hard & Australia & 2011-11-21 & 2011-11-27 & 6\\\\\n",
       "\t Michael Look       & l837 &  356 & Australia      & Right-Handed & Two-Handed Backhand & 188 & Rhys Michael Johnson & j527 & 1354 & ⋯ & FALSE & FALSE & FALSE & Australia F13 & \\$15,000 & Hard & Australia & 2011-11-21 & 2011-11-27 & 6\\\\\n",
       "\t Michael Venus      & v576 &  422 & New Zealand    & Right-Handed & Two-Handed Backhand & 191 & Li Tu                & tc01 &   NA & ⋯ & FALSE & FALSE & FALSE & Australia F13 & \\$15,000 & Hard & Australia & 2011-11-21 & 2011-11-27 & 6\\\\\n",
       "\t Richard Gabb       & gc36 &  928 & USA            & Right-Handed & Unknown Backhand    & 175 & Isaac Frost          & f634 &  473 & ⋯ & FALSE & FALSE & FALSE & Australia F13 & \\$15,000 & Hard & Australia & 2011-11-21 & 2011-11-27 & 6\\\\\n",
       "\t Rubin Statham      & sf89 &  529 & United Kingdom & Right-Handed & Two-Handed Backhand & 180 & Ryan Agar            & a834 & 1310 & ⋯ & FALSE & FALSE & FALSE & Australia F13 & \\$15,000 & Hard & Australia & 2011-11-21 & 2011-11-27 & 6\\\\\n",
       "\t Sam Groth          & g940 &  518 & Australia      & Right-Handed & One-Handed Backhand & 193 & Gavin Van Peperzeel  & v784 & 1053 & ⋯ & FALSE & FALSE & FALSE & Australia F13 & \\$15,000 & Hard & Australia & 2011-11-21 & 2011-11-27 & 6\\\\\n",
       "\t Yuri Bezeruk       & bc00 & 1101 & NA             & NA           & NA                  &  NA & Marcus Daniell       & d763 &  722 & ⋯ & FALSE & FALSE & FALSE & Australia F13 & \\$15,000 & Hard & Australia & 2011-11-21 & 2011-11-27 & 6\\\\\n",
       "\t Benjamin Mitchell  & mk40 &  250 & Australia      & Right-Handed & Unknown Backhand    & 183 & Michael Look         & l837 &  356 & ⋯ &  TRUE & FALSE & FALSE & Australia F13 & \\$15,000 & Hard & Australia & 2011-11-21 & 2011-11-27 & 6\\\\\n",
       "\t Matt Reid          & r977 &  315 & Australia      & Right-Handed & Two-Handed Backhand & 183 & Sam Groth            & g940 &  518 & ⋯ &  TRUE & FALSE & FALSE & Australia F13 & \\$15,000 & Hard & Australia & 2011-11-21 & 2011-11-27 & 6\\\\\n",
       "\\end{tabular}\n"
      ],
      "text/markdown": [
       "\n",
       "A tibble: 1517 × 27\n",
       "\n",
       "| winner.name &lt;chr&gt; | winner.id &lt;chr&gt; | winner.rank &lt;int&gt; | winner.bornAt &lt;chr&gt; | winner.domHand &lt;chr&gt; | winner.backHand &lt;chr&gt; | winner.height &lt;int&gt; | looser.name &lt;chr&gt; | looser.id &lt;chr&gt; | looser.rank &lt;int&gt; | ⋯ ⋯ | match.hadTieBreaker &lt;lgl&gt; | match.wasWalkover &lt;lgl&gt; | match.wasDef &lt;lgl&gt; | tournament.name &lt;chr&gt; | tournament.prize &lt;chr&gt; | tournament.ground &lt;chr&gt; | tournament.location &lt;chr&gt; | tournament.date_start &lt;date&gt; | tournament.date_finish &lt;date&gt; | tournament.duration &lt;int&gt; |\n",
       "|---|---|---|---|---|---|---|---|---|---|---|---|---|---|---|---|---|---|---|---|---|\n",
       "| Joseph Sirianni   | s673 |  318 | Australia | Right-Handed | Unknown Backhand | 178 | Toby Mitchell      | m632 |  293 | ⋯ | FALSE | FALSE | FALSE | Australia F1 | $15,000 | Clay | Australia | 1998-10-26 | 1998-11-01 | 6 |\n",
       "| Ben Ellwood       | e143 |  316 | Australia | Right-Handed | Unknown Backhand | 178 | Kris Goossens      | g285 |  346 | ⋯ | FALSE | FALSE | FALSE | Australia F1 | $15,000 | Clay | Australia | 1998-10-26 | 1998-11-01 | 6 |\n",
       "| Joseph Sirianni   | s673 |  318 | Australia | Right-Handed | Unknown Backhand | 178 | Jaymon Crabb       | g386 |  488 | ⋯ | FALSE | FALSE | FALSE | Australia F1 | $15,000 | Clay | Australia | 1998-10-26 | 1998-11-01 | 6 |\n",
       "| Lee Pearson       | p388 |  946 | NA        | Right-Handed | Unknown Backhand |  NA | Paul Hanley        | h421 |  493 | ⋯ | FALSE | FALSE | FALSE | Australia F1 | $15,000 | Clay | Australia | 1998-10-26 | 1998-11-01 | 6 |\n",
       "| Toby Mitchell     | m632 |  293 | Australia | Right-Handed | Unknown Backhand |  NA | David McNamara     | m796 |  691 | ⋯ | FALSE | FALSE | FALSE | Australia F1 | $15,000 | Clay | Australia | 1998-10-26 | 1998-11-01 | 6 |\n",
       "| Ben Ellwood       | e143 |  316 | Australia | Right-Handed | Unknown Backhand | 178 | Peter Clarke       | c526 |  453 | ⋯ | FALSE | FALSE | FALSE | Australia F1 | $15,000 | Clay | Australia | 1998-10-26 | 1998-11-01 | 6 |\n",
       "| David McNamara    | m796 |  691 | NA        | Right-Handed | Unknown Backhand |  NA | Jurek Stasiak      | s637 |  513 | ⋯ | FALSE | FALSE | FALSE | Australia F1 | $15,000 | Clay | Australia | 1998-10-26 | 1998-11-01 | 6 |\n",
       "| Jaymon Crabb      | g386 |  488 | Australia | Right-Handed | Unknown Backhand | 183 | Glenn Knox         | k422 | 1050 | ⋯ | FALSE | FALSE | FALSE | Australia F1 | $15,000 | Clay | Australia | 1998-10-26 | 1998-11-01 | 6 |\n",
       "| Joseph Sirianni   | s673 |  318 | Australia | Right-Handed | Unknown Backhand | 178 | Jay Gooding        | g404 |  999 | ⋯ | FALSE | FALSE | FALSE | Australia F1 | $15,000 | Clay | Australia | 1998-10-26 | 1998-11-01 | 6 |\n",
       "| Kris Goossens     | g285 |  346 | Belgium   | Right-Handed | Unknown Backhand | 180 | Leigh Holland      | h316 |  567 | ⋯ | FALSE | FALSE | FALSE | Australia F1 | $15,000 | Clay | Australia | 1998-10-26 | 1998-11-01 | 6 |\n",
       "| Lee Pearson       | p388 |  946 | NA        | Right-Handed | Unknown Backhand |  NA | Allen Belobrajdic  | b510 |  265 | ⋯ | FALSE | FALSE | FALSE | Australia F1 | $15,000 | Clay | Australia | 1998-10-26 | 1998-11-01 | 6 |\n",
       "| Paul Hanley       | h421 |  493 | Australia | Right-Handed | Unknown Backhand | 183 | Jed Gould          | g387 | 1142 | ⋯ | FALSE | FALSE | FALSE | Australia F1 | $15,000 | Clay | Australia | 1998-10-26 | 1998-11-01 | 6 |\n",
       "| Toby Mitchell     | m632 |  293 | Australia | Right-Handed | Unknown Backhand |  NA | Andrew Painter     | p357 |  659 | ⋯ | FALSE | FALSE | FALSE | Australia F1 | $15,000 | Clay | Australia | 1998-10-26 | 1998-11-01 | 6 |\n",
       "| Allen Belobrajdic | b510 |  265 | Australia | Right-Handed | Unknown Backhand | 175 | Sebastian Swierk   | s719 |  495 | ⋯ | FALSE | FALSE | FALSE | Australia F1 | $15,000 | Clay | Australia | 1998-10-26 | 1998-11-01 | 6 |\n",
       "| Andrew Painter    | p357 |  659 | Australia | Right-Handed | Unknown Backhand | 188 | Nathan Healey      | h431 | 1096 | ⋯ | FALSE | FALSE | FALSE | Australia F1 | $15,000 | Clay | Australia | 1998-10-26 | 1998-11-01 | 6 |\n",
       "| Ben Ellwood       | e143 |  316 | Australia | Right-Handed | Unknown Backhand | 178 | Luke O'Donnell     | o136 |  559 | ⋯ | FALSE | FALSE | FALSE | Australia F1 | $15,000 | Clay | Australia | 1998-10-26 | 1998-11-01 | 6 |\n",
       "| David McNamara    | m796 |  691 | NA        | Right-Handed | Unknown Backhand |  NA | Andrew Bronneberg  | b651 | 1036 | ⋯ | FALSE | FALSE | FALSE | Australia F1 | $15,000 | Clay | Australia | 1998-10-26 | 1998-11-01 | 6 |\n",
       "| Glenn Knox        | k422 | 1050 | NA        | Right-Handed | Unknown Backhand |  NA | Hayden Gibson      | g425 |  791 | ⋯ | FALSE | FALSE | FALSE | Australia F1 | $15,000 | Clay | Australia | 1998-10-26 | 1998-11-01 | 6 |\n",
       "| Jay Gooding       | g404 |  999 | Australia | Right-Handed | Unknown Backhand | 188 | Josh Tuckfield     | t289 |  821 | ⋯ | FALSE | FALSE | FALSE | Australia F1 | $15,000 | Clay | Australia | 1998-10-26 | 1998-11-01 | 6 |\n",
       "| Jaymon Crabb      | g386 |  488 | Australia | Right-Handed | Unknown Backhand | 183 | Aeron Martinovic   | m702 |   NA | ⋯ | FALSE | FALSE | FALSE | Australia F1 | $15,000 | Clay | Australia | 1998-10-26 | 1998-11-01 | 6 |\n",
       "| Jed Gould         | g387 |   NA | NA        | Right-Handed | Unknown Backhand |  NA | Matthew Fitzgerald | NA   |   NA | ⋯ | FALSE | FALSE | FALSE | Australia F1 | $15,000 | Clay | Australia | 1998-10-26 | 1998-11-01 | 6 |\n",
       "| Joseph Sirianni   | s673 |  318 | Australia | Right-Handed | Unknown Backhand | 178 | Sam Swan           | s909 |   NA | ⋯ | FALSE | FALSE | FALSE | Australia F1 | $15,000 | Clay | Australia | 1998-10-26 | 1998-11-01 | 6 |\n",
       "| Jurek Stasiak     | s637 |  513 | NA        | Right-Handed | Unknown Backhand |  NA | Chris Rae          | r401 |  784 | ⋯ | FALSE | FALSE | FALSE | Australia F1 | $15,000 | Clay | Australia | 1998-10-26 | 1998-11-01 | 6 |\n",
       "| Kris Goossens     | g285 |  346 | Belgium   | Right-Handed | Unknown Backhand | 180 | Damien Spizzo      | s827 |  999 | ⋯ | FALSE | FALSE | FALSE | Australia F1 | $15,000 | Clay | Australia | 1998-10-26 | 1998-11-01 | 6 |\n",
       "| Lee Pearson       | p388 |  946 | NA        | Right-Handed | Unknown Backhand |  NA | Syed-Akram Zaman   | z091 | 1322 | ⋯ | FALSE | FALSE | FALSE | Australia F1 | $15,000 | Clay | Australia | 1998-10-26 | 1998-11-01 | 6 |\n",
       "| Leigh Holland     | h316 |  567 | NA        | Right-Handed | Unknown Backhand |  NA | Tate Roberts       | r425 | 1050 | ⋯ | FALSE | FALSE | FALSE | Australia F1 | $15,000 | Clay | Australia | 1998-10-26 | 1998-11-01 | 6 |\n",
       "| Paul Hanley       | h421 |  493 | Australia | Right-Handed | Unknown Backhand | 183 | Sergio Gaoni       | g389 |  826 | ⋯ | FALSE | FALSE | FALSE | Australia F1 | $15,000 | Clay | Australia | 1998-10-26 | 1998-11-01 | 6 |\n",
       "| Peter Clarke      | c526 |  453 | Ireland   | Right-Handed | Unknown Backhand | 188 | Jamie Holmes       | h291 |  543 | ⋯ | FALSE | FALSE | FALSE | Australia F1 | $15,000 | Clay | Australia | 1998-10-26 | 1998-11-01 | 6 |\n",
       "| Toby Mitchell     | m632 |  293 | Australia | Right-Handed | Unknown Backhand |  NA | Ryuso Tsujino      | t112 |  622 | ⋯ | FALSE | FALSE | FALSE | Australia F1 | $15,000 | Clay | Australia | 1998-10-26 | 1998-11-01 | 6 |\n",
       "| Joseph Sirianni   | s673 |  318 | Australia | Right-Handed | Unknown Backhand | 178 | Ben Ellwood        | e143 |  316 | ⋯ | FALSE | FALSE | FALSE | Australia F1 | $15,000 | Clay | Australia | 1998-10-26 | 1998-11-01 | 6 |\n",
       "| ⋮ | ⋮ | ⋮ | ⋮ | ⋮ | ⋮ | ⋮ | ⋮ | ⋮ | ⋮ | ⋱ | ⋮ | ⋮ | ⋮ | ⋮ | ⋮ | ⋮ | ⋮ | ⋮ | ⋮ | ⋮ |\n",
       "| Benjamin Mitchell  | mk40 |  250 | Australia      | Right-Handed | Unknown Backhand    | 183 | Rubin Statham        | sf89 |  529 | ⋯ | FALSE | FALSE | FALSE | Australia F13 | $15,000 | Hard | Australia | 2011-11-21 | 2011-11-27 | 6 |\n",
       "| Matt Reid          | r977 |  315 | Australia      | Right-Handed | Two-Handed Backhand | 183 | Luke Saville         | sm09 |   NA | ⋯ | FALSE | FALSE | FALSE | Australia F13 | $15,000 | Hard | Australia | 2011-11-21 | 2011-11-27 | 6 |\n",
       "| Michael Look       | l837 |  356 | Australia      | Right-Handed | Two-Handed Backhand | 188 | Michael Venus        | v576 |  422 | ⋯ | FALSE | FALSE | FALSE | Australia F13 | $15,000 | Hard | Australia | 2011-11-21 | 2011-11-27 | 6 |\n",
       "| Sam Groth          | g940 |  518 | Australia      | Right-Handed | One-Handed Backhand | 193 | James Lemke          | l900 |  296 | ⋯ | FALSE | FALSE | FALSE | Australia F13 | $15,000 | Hard | Australia | 2011-11-21 | 2011-11-27 | 6 |\n",
       "| Benjamin Mitchell  | mk40 |  250 | Australia      | Right-Handed | Unknown Backhand    | 183 | Adam Feeney          | f491 | 1233 | ⋯ | FALSE | FALSE | FALSE | Australia F13 | $15,000 | Hard | Australia | 2011-11-21 | 2011-11-27 | 6 |\n",
       "| James Lemke        | l900 |  296 | Australia      | Right-Handed | Unknown Backhand    |  NA | Leon Frost           | f552 |  926 | ⋯ | FALSE | FALSE | FALSE | Australia F13 | $15,000 | Hard | Australia | 2011-11-21 | 2011-11-27 | 6 |\n",
       "| Luke Saville       | sm09 |   NA | Australia      | Right-Handed | Two-Handed Backhand | 188 | Richard Gabb         | gc36 |  928 | ⋯ | FALSE | FALSE | FALSE | Australia F13 | $15,000 | Hard | Australia | 2011-11-21 | 2011-11-27 | 6 |\n",
       "| Matt Reid          | r977 |  315 | Australia      | Right-Handed | Two-Handed Backhand | 183 | Dane Propoggia       | pc29 |  678 | ⋯ | FALSE | FALSE | FALSE | Australia F13 | $15,000 | Hard | Australia | 2011-11-21 | 2011-11-27 | 6 |\n",
       "| Michael Look       | l837 |  356 | Australia      | Right-Handed | Two-Handed Backhand | 188 | Matthew Barton       | bh98 |  660 | ⋯ |  TRUE | FALSE | FALSE | Australia F13 | $15,000 | Hard | Australia | 2011-11-21 | 2011-11-27 | 6 |\n",
       "| Michael Venus      | v576 |  422 | New Zealand    | Right-Handed | Two-Handed Backhand | 191 | Andrew Whittington   | w630 |  993 | ⋯ | FALSE | FALSE | FALSE | Australia F13 | $15,000 | Hard | Australia | 2011-11-21 | 2011-11-27 | 6 |\n",
       "| Rubin Statham      | sf89 |  529 | United Kingdom | Right-Handed | Two-Handed Backhand | 180 | John Peers           | pc96 |  576 | ⋯ |  TRUE | FALSE | FALSE | Australia F13 | $15,000 | Hard | Australia | 2011-11-21 | 2011-11-27 | 6 |\n",
       "| Sam Groth          | g940 |  518 | Australia      | Right-Handed | One-Handed Backhand | 193 | Yuri Bezeruk         | bc00 | 1101 | ⋯ | FALSE | FALSE | FALSE | Australia F13 | $15,000 | Hard | Australia | 2011-11-21 | 2011-11-27 | 6 |\n",
       "| Adam Feeney        | f491 | 1233 | Australia      | Right-Handed | Unknown Backhand    | 178 | Joey Swaysland       | sn11 | 1630 | ⋯ | FALSE | FALSE | FALSE | Australia F13 | $15,000 | Hard | Australia | 2011-11-21 | 2011-11-27 | 6 |\n",
       "| Andrew Whittington | w630 |  993 | Australia      | Right-Handed | Two-Handed Backhand | 188 | Jake Wynan           | w662 |   NA | ⋯ | FALSE | FALSE | FALSE | Australia F13 | $15,000 | Hard | Australia | 2011-11-21 | 2011-11-27 | 6 |\n",
       "| Benjamin Mitchell  | mk40 |  250 | Australia      | Right-Handed | Unknown Backhand    | 183 | Ya-Nan Ma            | mh61 | 1129 | ⋯ | FALSE | FALSE | FALSE | Australia F13 | $15,000 | Hard | Australia | 2011-11-21 | 2011-11-27 | 6 |\n",
       "| Dane Propoggia     | pc29 |  678 | NA             | NA           | NA                  |  NA | Jack Schipanski      | sm11 | 1919 | ⋯ | FALSE | FALSE | FALSE | Australia F13 | $15,000 | Hard | Australia | 2011-11-21 | 2011-11-27 | 6 |\n",
       "| James Lemke        | l900 |   NA | Australia      | Right-Handed | Unknown Backhand    |  NA | Anton Bettink        | NA   | 1176 | ⋯ |  TRUE | FALSE | FALSE | Australia F13 | $15,000 | Hard | Australia | 2011-11-21 | 2011-11-27 | 6 |\n",
       "| John Peers         | pc96 |  576 | Australia      | Right-Handed | Two-Handed Backhand | 188 | Andrew Mcleod        | mk45 | 1250 | ⋯ | FALSE | FALSE | FALSE | Australia F13 | $15,000 | Hard | Australia | 2011-11-21 | 2011-11-27 | 6 |\n",
       "| Leon Frost         | f552 |   NA | NA             | NA           | NA                  |  NA | Robert McKenzie      | NA   | 1105 | ⋯ | FALSE | FALSE | FALSE | Australia F13 | $15,000 | Hard | Australia | 2011-11-21 | 2011-11-27 | 6 |\n",
       "| Luke Saville       | sm09 |   NA | Australia      | Right-Handed | Two-Handed Backhand | 188 | Toby Martin          | ml51 |  938 | ⋯ | FALSE | FALSE | FALSE | Australia F13 | $15,000 | Hard | Australia | 2011-11-21 | 2011-11-27 | 6 |\n",
       "| Matt Reid          | r977 |  315 | Australia      | Right-Handed | Two-Handed Backhand | 183 | Alex Bolt            | bi81 |  892 | ⋯ | FALSE | FALSE | FALSE | Australia F13 | $15,000 | Hard | Australia | 2011-11-21 | 2011-11-27 | 6 |\n",
       "| Matthew Barton     | bh98 |  660 | Australia      | Right-Handed | Two-Handed Backhand | 191 | Andrew Harris        | hb29 | 1221 | ⋯ | FALSE | FALSE | FALSE | Australia F13 | $15,000 | Hard | Australia | 2011-11-21 | 2011-11-27 | 6 |\n",
       "| Michael Look       | l837 |  356 | Australia      | Right-Handed | Two-Handed Backhand | 188 | Rhys Michael Johnson | j527 | 1354 | ⋯ | FALSE | FALSE | FALSE | Australia F13 | $15,000 | Hard | Australia | 2011-11-21 | 2011-11-27 | 6 |\n",
       "| Michael Venus      | v576 |  422 | New Zealand    | Right-Handed | Two-Handed Backhand | 191 | Li Tu                | tc01 |   NA | ⋯ | FALSE | FALSE | FALSE | Australia F13 | $15,000 | Hard | Australia | 2011-11-21 | 2011-11-27 | 6 |\n",
       "| Richard Gabb       | gc36 |  928 | USA            | Right-Handed | Unknown Backhand    | 175 | Isaac Frost          | f634 |  473 | ⋯ | FALSE | FALSE | FALSE | Australia F13 | $15,000 | Hard | Australia | 2011-11-21 | 2011-11-27 | 6 |\n",
       "| Rubin Statham      | sf89 |  529 | United Kingdom | Right-Handed | Two-Handed Backhand | 180 | Ryan Agar            | a834 | 1310 | ⋯ | FALSE | FALSE | FALSE | Australia F13 | $15,000 | Hard | Australia | 2011-11-21 | 2011-11-27 | 6 |\n",
       "| Sam Groth          | g940 |  518 | Australia      | Right-Handed | One-Handed Backhand | 193 | Gavin Van Peperzeel  | v784 | 1053 | ⋯ | FALSE | FALSE | FALSE | Australia F13 | $15,000 | Hard | Australia | 2011-11-21 | 2011-11-27 | 6 |\n",
       "| Yuri Bezeruk       | bc00 | 1101 | NA             | NA           | NA                  |  NA | Marcus Daniell       | d763 |  722 | ⋯ | FALSE | FALSE | FALSE | Australia F13 | $15,000 | Hard | Australia | 2011-11-21 | 2011-11-27 | 6 |\n",
       "| Benjamin Mitchell  | mk40 |  250 | Australia      | Right-Handed | Unknown Backhand    | 183 | Michael Look         | l837 |  356 | ⋯ |  TRUE | FALSE | FALSE | Australia F13 | $15,000 | Hard | Australia | 2011-11-21 | 2011-11-27 | 6 |\n",
       "| Matt Reid          | r977 |  315 | Australia      | Right-Handed | Two-Handed Backhand | 183 | Sam Groth            | g940 |  518 | ⋯ |  TRUE | FALSE | FALSE | Australia F13 | $15,000 | Hard | Australia | 2011-11-21 | 2011-11-27 | 6 |\n",
       "\n"
      ],
      "text/plain": [
       "     winner.name        winner.id winner.rank winner.bornAt  winner.domHand\n",
       "1    Joseph Sirianni    s673       318        Australia      Right-Handed  \n",
       "2    Ben Ellwood        e143       316        Australia      Right-Handed  \n",
       "3    Joseph Sirianni    s673       318        Australia      Right-Handed  \n",
       "4    Lee Pearson        p388       946        NA             Right-Handed  \n",
       "5    Toby Mitchell      m632       293        Australia      Right-Handed  \n",
       "6    Ben Ellwood        e143       316        Australia      Right-Handed  \n",
       "7    David McNamara     m796       691        NA             Right-Handed  \n",
       "8    Jaymon Crabb       g386       488        Australia      Right-Handed  \n",
       "9    Joseph Sirianni    s673       318        Australia      Right-Handed  \n",
       "10   Kris Goossens      g285       346        Belgium        Right-Handed  \n",
       "11   Lee Pearson        p388       946        NA             Right-Handed  \n",
       "12   Paul Hanley        h421       493        Australia      Right-Handed  \n",
       "13   Toby Mitchell      m632       293        Australia      Right-Handed  \n",
       "14   Allen Belobrajdic  b510       265        Australia      Right-Handed  \n",
       "15   Andrew Painter     p357       659        Australia      Right-Handed  \n",
       "16   Ben Ellwood        e143       316        Australia      Right-Handed  \n",
       "17   David McNamara     m796       691        NA             Right-Handed  \n",
       "18   Glenn Knox         k422      1050        NA             Right-Handed  \n",
       "19   Jay Gooding        g404       999        Australia      Right-Handed  \n",
       "20   Jaymon Crabb       g386       488        Australia      Right-Handed  \n",
       "21   Jed Gould          g387        NA        NA             Right-Handed  \n",
       "22   Joseph Sirianni    s673       318        Australia      Right-Handed  \n",
       "23   Jurek Stasiak      s637       513        NA             Right-Handed  \n",
       "24   Kris Goossens      g285       346        Belgium        Right-Handed  \n",
       "25   Lee Pearson        p388       946        NA             Right-Handed  \n",
       "26   Leigh Holland      h316       567        NA             Right-Handed  \n",
       "27   Paul Hanley        h421       493        Australia      Right-Handed  \n",
       "28   Peter Clarke       c526       453        Ireland        Right-Handed  \n",
       "29   Toby Mitchell      m632       293        Australia      Right-Handed  \n",
       "30   Joseph Sirianni    s673       318        Australia      Right-Handed  \n",
       "⋮    ⋮                  ⋮         ⋮           ⋮              ⋮             \n",
       "1488 Benjamin Mitchell  mk40       250        Australia      Right-Handed  \n",
       "1489 Matt Reid          r977       315        Australia      Right-Handed  \n",
       "1490 Michael Look       l837       356        Australia      Right-Handed  \n",
       "1491 Sam Groth          g940       518        Australia      Right-Handed  \n",
       "1492 Benjamin Mitchell  mk40       250        Australia      Right-Handed  \n",
       "1493 James Lemke        l900       296        Australia      Right-Handed  \n",
       "1494 Luke Saville       sm09        NA        Australia      Right-Handed  \n",
       "1495 Matt Reid          r977       315        Australia      Right-Handed  \n",
       "1496 Michael Look       l837       356        Australia      Right-Handed  \n",
       "1497 Michael Venus      v576       422        New Zealand    Right-Handed  \n",
       "1498 Rubin Statham      sf89       529        United Kingdom Right-Handed  \n",
       "1499 Sam Groth          g940       518        Australia      Right-Handed  \n",
       "1500 Adam Feeney        f491      1233        Australia      Right-Handed  \n",
       "1501 Andrew Whittington w630       993        Australia      Right-Handed  \n",
       "1502 Benjamin Mitchell  mk40       250        Australia      Right-Handed  \n",
       "1503 Dane Propoggia     pc29       678        NA             NA            \n",
       "1504 James Lemke        l900        NA        Australia      Right-Handed  \n",
       "1505 John Peers         pc96       576        Australia      Right-Handed  \n",
       "1506 Leon Frost         f552        NA        NA             NA            \n",
       "1507 Luke Saville       sm09        NA        Australia      Right-Handed  \n",
       "1508 Matt Reid          r977       315        Australia      Right-Handed  \n",
       "1509 Matthew Barton     bh98       660        Australia      Right-Handed  \n",
       "1510 Michael Look       l837       356        Australia      Right-Handed  \n",
       "1511 Michael Venus      v576       422        New Zealand    Right-Handed  \n",
       "1512 Richard Gabb       gc36       928        USA            Right-Handed  \n",
       "1513 Rubin Statham      sf89       529        United Kingdom Right-Handed  \n",
       "1514 Sam Groth          g940       518        Australia      Right-Handed  \n",
       "1515 Yuri Bezeruk       bc00      1101        NA             NA            \n",
       "1516 Benjamin Mitchell  mk40       250        Australia      Right-Handed  \n",
       "1517 Matt Reid          r977       315        Australia      Right-Handed  \n",
       "     winner.backHand     winner.height looser.name          looser.id\n",
       "1    Unknown Backhand    178           Toby Mitchell        m632     \n",
       "2    Unknown Backhand    178           Kris Goossens        g285     \n",
       "3    Unknown Backhand    178           Jaymon Crabb         g386     \n",
       "4    Unknown Backhand     NA           Paul Hanley          h421     \n",
       "5    Unknown Backhand     NA           David McNamara       m796     \n",
       "6    Unknown Backhand    178           Peter Clarke         c526     \n",
       "7    Unknown Backhand     NA           Jurek Stasiak        s637     \n",
       "8    Unknown Backhand    183           Glenn Knox           k422     \n",
       "9    Unknown Backhand    178           Jay Gooding          g404     \n",
       "10   Unknown Backhand    180           Leigh Holland        h316     \n",
       "11   Unknown Backhand     NA           Allen Belobrajdic    b510     \n",
       "12   Unknown Backhand    183           Jed Gould            g387     \n",
       "13   Unknown Backhand     NA           Andrew Painter       p357     \n",
       "14   Unknown Backhand    175           Sebastian Swierk     s719     \n",
       "15   Unknown Backhand    188           Nathan Healey        h431     \n",
       "16   Unknown Backhand    178           Luke O'Donnell       o136     \n",
       "17   Unknown Backhand     NA           Andrew Bronneberg    b651     \n",
       "18   Unknown Backhand     NA           Hayden Gibson        g425     \n",
       "19   Unknown Backhand    188           Josh Tuckfield       t289     \n",
       "20   Unknown Backhand    183           Aeron Martinovic     m702     \n",
       "21   Unknown Backhand     NA           Matthew Fitzgerald   NA       \n",
       "22   Unknown Backhand    178           Sam Swan             s909     \n",
       "23   Unknown Backhand     NA           Chris Rae            r401     \n",
       "24   Unknown Backhand    180           Damien Spizzo        s827     \n",
       "25   Unknown Backhand     NA           Syed-Akram Zaman     z091     \n",
       "26   Unknown Backhand     NA           Tate Roberts         r425     \n",
       "27   Unknown Backhand    183           Sergio Gaoni         g389     \n",
       "28   Unknown Backhand    188           Jamie Holmes         h291     \n",
       "29   Unknown Backhand     NA           Ryuso Tsujino        t112     \n",
       "30   Unknown Backhand    178           Ben Ellwood          e143     \n",
       "⋮    ⋮                   ⋮             ⋮                    ⋮        \n",
       "1488 Unknown Backhand    183           Rubin Statham        sf89     \n",
       "1489 Two-Handed Backhand 183           Luke Saville         sm09     \n",
       "1490 Two-Handed Backhand 188           Michael Venus        v576     \n",
       "1491 One-Handed Backhand 193           James Lemke          l900     \n",
       "1492 Unknown Backhand    183           Adam Feeney          f491     \n",
       "1493 Unknown Backhand     NA           Leon Frost           f552     \n",
       "1494 Two-Handed Backhand 188           Richard Gabb         gc36     \n",
       "1495 Two-Handed Backhand 183           Dane Propoggia       pc29     \n",
       "1496 Two-Handed Backhand 188           Matthew Barton       bh98     \n",
       "1497 Two-Handed Backhand 191           Andrew Whittington   w630     \n",
       "1498 Two-Handed Backhand 180           John Peers           pc96     \n",
       "1499 One-Handed Backhand 193           Yuri Bezeruk         bc00     \n",
       "1500 Unknown Backhand    178           Joey Swaysland       sn11     \n",
       "1501 Two-Handed Backhand 188           Jake Wynan           w662     \n",
       "1502 Unknown Backhand    183           Ya-Nan Ma            mh61     \n",
       "1503 NA                   NA           Jack Schipanski      sm11     \n",
       "1504 Unknown Backhand     NA           Anton Bettink        NA       \n",
       "1505 Two-Handed Backhand 188           Andrew Mcleod        mk45     \n",
       "1506 NA                   NA           Robert McKenzie      NA       \n",
       "1507 Two-Handed Backhand 188           Toby Martin          ml51     \n",
       "1508 Two-Handed Backhand 183           Alex Bolt            bi81     \n",
       "1509 Two-Handed Backhand 191           Andrew Harris        hb29     \n",
       "1510 Two-Handed Backhand 188           Rhys Michael Johnson j527     \n",
       "1511 Two-Handed Backhand 191           Li Tu                tc01     \n",
       "1512 Unknown Backhand    175           Isaac Frost          f634     \n",
       "1513 Two-Handed Backhand 180           Ryan Agar            a834     \n",
       "1514 One-Handed Backhand 193           Gavin Van Peperzeel  v784     \n",
       "1515 NA                   NA           Marcus Daniell       d763     \n",
       "1516 Unknown Backhand    183           Michael Look         l837     \n",
       "1517 Two-Handed Backhand 183           Sam Groth            g940     \n",
       "     looser.rank ⋯ match.hadTieBreaker match.wasWalkover match.wasDef\n",
       "1     293        ⋯ FALSE               FALSE             FALSE       \n",
       "2     346        ⋯ FALSE               FALSE             FALSE       \n",
       "3     488        ⋯ FALSE               FALSE             FALSE       \n",
       "4     493        ⋯ FALSE               FALSE             FALSE       \n",
       "5     691        ⋯ FALSE               FALSE             FALSE       \n",
       "6     453        ⋯ FALSE               FALSE             FALSE       \n",
       "7     513        ⋯ FALSE               FALSE             FALSE       \n",
       "8    1050        ⋯ FALSE               FALSE             FALSE       \n",
       "9     999        ⋯ FALSE               FALSE             FALSE       \n",
       "10    567        ⋯ FALSE               FALSE             FALSE       \n",
       "11    265        ⋯ FALSE               FALSE             FALSE       \n",
       "12   1142        ⋯ FALSE               FALSE             FALSE       \n",
       "13    659        ⋯ FALSE               FALSE             FALSE       \n",
       "14    495        ⋯ FALSE               FALSE             FALSE       \n",
       "15   1096        ⋯ FALSE               FALSE             FALSE       \n",
       "16    559        ⋯ FALSE               FALSE             FALSE       \n",
       "17   1036        ⋯ FALSE               FALSE             FALSE       \n",
       "18    791        ⋯ FALSE               FALSE             FALSE       \n",
       "19    821        ⋯ FALSE               FALSE             FALSE       \n",
       "20     NA        ⋯ FALSE               FALSE             FALSE       \n",
       "21     NA        ⋯ FALSE               FALSE             FALSE       \n",
       "22     NA        ⋯ FALSE               FALSE             FALSE       \n",
       "23    784        ⋯ FALSE               FALSE             FALSE       \n",
       "24    999        ⋯ FALSE               FALSE             FALSE       \n",
       "25   1322        ⋯ FALSE               FALSE             FALSE       \n",
       "26   1050        ⋯ FALSE               FALSE             FALSE       \n",
       "27    826        ⋯ FALSE               FALSE             FALSE       \n",
       "28    543        ⋯ FALSE               FALSE             FALSE       \n",
       "29    622        ⋯ FALSE               FALSE             FALSE       \n",
       "30    316        ⋯ FALSE               FALSE             FALSE       \n",
       "⋮    ⋮           ⋱ ⋮                   ⋮                 ⋮           \n",
       "1488  529        ⋯ FALSE               FALSE             FALSE       \n",
       "1489   NA        ⋯ FALSE               FALSE             FALSE       \n",
       "1490  422        ⋯ FALSE               FALSE             FALSE       \n",
       "1491  296        ⋯ FALSE               FALSE             FALSE       \n",
       "1492 1233        ⋯ FALSE               FALSE             FALSE       \n",
       "1493  926        ⋯ FALSE               FALSE             FALSE       \n",
       "1494  928        ⋯ FALSE               FALSE             FALSE       \n",
       "1495  678        ⋯ FALSE               FALSE             FALSE       \n",
       "1496  660        ⋯  TRUE               FALSE             FALSE       \n",
       "1497  993        ⋯ FALSE               FALSE             FALSE       \n",
       "1498  576        ⋯  TRUE               FALSE             FALSE       \n",
       "1499 1101        ⋯ FALSE               FALSE             FALSE       \n",
       "1500 1630        ⋯ FALSE               FALSE             FALSE       \n",
       "1501   NA        ⋯ FALSE               FALSE             FALSE       \n",
       "1502 1129        ⋯ FALSE               FALSE             FALSE       \n",
       "1503 1919        ⋯ FALSE               FALSE             FALSE       \n",
       "1504 1176        ⋯  TRUE               FALSE             FALSE       \n",
       "1505 1250        ⋯ FALSE               FALSE             FALSE       \n",
       "1506 1105        ⋯ FALSE               FALSE             FALSE       \n",
       "1507  938        ⋯ FALSE               FALSE             FALSE       \n",
       "1508  892        ⋯ FALSE               FALSE             FALSE       \n",
       "1509 1221        ⋯ FALSE               FALSE             FALSE       \n",
       "1510 1354        ⋯ FALSE               FALSE             FALSE       \n",
       "1511   NA        ⋯ FALSE               FALSE             FALSE       \n",
       "1512  473        ⋯ FALSE               FALSE             FALSE       \n",
       "1513 1310        ⋯ FALSE               FALSE             FALSE       \n",
       "1514 1053        ⋯ FALSE               FALSE             FALSE       \n",
       "1515  722        ⋯ FALSE               FALSE             FALSE       \n",
       "1516  356        ⋯  TRUE               FALSE             FALSE       \n",
       "1517  518        ⋯  TRUE               FALSE             FALSE       \n",
       "     tournament.name tournament.prize tournament.ground tournament.location\n",
       "1    Australia F1    $15,000          Clay              Australia          \n",
       "2    Australia F1    $15,000          Clay              Australia          \n",
       "3    Australia F1    $15,000          Clay              Australia          \n",
       "4    Australia F1    $15,000          Clay              Australia          \n",
       "5    Australia F1    $15,000          Clay              Australia          \n",
       "6    Australia F1    $15,000          Clay              Australia          \n",
       "7    Australia F1    $15,000          Clay              Australia          \n",
       "8    Australia F1    $15,000          Clay              Australia          \n",
       "9    Australia F1    $15,000          Clay              Australia          \n",
       "10   Australia F1    $15,000          Clay              Australia          \n",
       "11   Australia F1    $15,000          Clay              Australia          \n",
       "12   Australia F1    $15,000          Clay              Australia          \n",
       "13   Australia F1    $15,000          Clay              Australia          \n",
       "14   Australia F1    $15,000          Clay              Australia          \n",
       "15   Australia F1    $15,000          Clay              Australia          \n",
       "16   Australia F1    $15,000          Clay              Australia          \n",
       "17   Australia F1    $15,000          Clay              Australia          \n",
       "18   Australia F1    $15,000          Clay              Australia          \n",
       "19   Australia F1    $15,000          Clay              Australia          \n",
       "20   Australia F1    $15,000          Clay              Australia          \n",
       "21   Australia F1    $15,000          Clay              Australia          \n",
       "22   Australia F1    $15,000          Clay              Australia          \n",
       "23   Australia F1    $15,000          Clay              Australia          \n",
       "24   Australia F1    $15,000          Clay              Australia          \n",
       "25   Australia F1    $15,000          Clay              Australia          \n",
       "26   Australia F1    $15,000          Clay              Australia          \n",
       "27   Australia F1    $15,000          Clay              Australia          \n",
       "28   Australia F1    $15,000          Clay              Australia          \n",
       "29   Australia F1    $15,000          Clay              Australia          \n",
       "30   Australia F1    $15,000          Clay              Australia          \n",
       "⋮    ⋮               ⋮                ⋮                 ⋮                  \n",
       "1488 Australia F13   $15,000          Hard              Australia          \n",
       "1489 Australia F13   $15,000          Hard              Australia          \n",
       "1490 Australia F13   $15,000          Hard              Australia          \n",
       "1491 Australia F13   $15,000          Hard              Australia          \n",
       "1492 Australia F13   $15,000          Hard              Australia          \n",
       "1493 Australia F13   $15,000          Hard              Australia          \n",
       "1494 Australia F13   $15,000          Hard              Australia          \n",
       "1495 Australia F13   $15,000          Hard              Australia          \n",
       "1496 Australia F13   $15,000          Hard              Australia          \n",
       "1497 Australia F13   $15,000          Hard              Australia          \n",
       "1498 Australia F13   $15,000          Hard              Australia          \n",
       "1499 Australia F13   $15,000          Hard              Australia          \n",
       "1500 Australia F13   $15,000          Hard              Australia          \n",
       "1501 Australia F13   $15,000          Hard              Australia          \n",
       "1502 Australia F13   $15,000          Hard              Australia          \n",
       "1503 Australia F13   $15,000          Hard              Australia          \n",
       "1504 Australia F13   $15,000          Hard              Australia          \n",
       "1505 Australia F13   $15,000          Hard              Australia          \n",
       "1506 Australia F13   $15,000          Hard              Australia          \n",
       "1507 Australia F13   $15,000          Hard              Australia          \n",
       "1508 Australia F13   $15,000          Hard              Australia          \n",
       "1509 Australia F13   $15,000          Hard              Australia          \n",
       "1510 Australia F13   $15,000          Hard              Australia          \n",
       "1511 Australia F13   $15,000          Hard              Australia          \n",
       "1512 Australia F13   $15,000          Hard              Australia          \n",
       "1513 Australia F13   $15,000          Hard              Australia          \n",
       "1514 Australia F13   $15,000          Hard              Australia          \n",
       "1515 Australia F13   $15,000          Hard              Australia          \n",
       "1516 Australia F13   $15,000          Hard              Australia          \n",
       "1517 Australia F13   $15,000          Hard              Australia          \n",
       "     tournament.date_start tournament.date_finish tournament.duration\n",
       "1    1998-10-26            1998-11-01             6                  \n",
       "2    1998-10-26            1998-11-01             6                  \n",
       "3    1998-10-26            1998-11-01             6                  \n",
       "4    1998-10-26            1998-11-01             6                  \n",
       "5    1998-10-26            1998-11-01             6                  \n",
       "6    1998-10-26            1998-11-01             6                  \n",
       "7    1998-10-26            1998-11-01             6                  \n",
       "8    1998-10-26            1998-11-01             6                  \n",
       "9    1998-10-26            1998-11-01             6                  \n",
       "10   1998-10-26            1998-11-01             6                  \n",
       "11   1998-10-26            1998-11-01             6                  \n",
       "12   1998-10-26            1998-11-01             6                  \n",
       "13   1998-10-26            1998-11-01             6                  \n",
       "14   1998-10-26            1998-11-01             6                  \n",
       "15   1998-10-26            1998-11-01             6                  \n",
       "16   1998-10-26            1998-11-01             6                  \n",
       "17   1998-10-26            1998-11-01             6                  \n",
       "18   1998-10-26            1998-11-01             6                  \n",
       "19   1998-10-26            1998-11-01             6                  \n",
       "20   1998-10-26            1998-11-01             6                  \n",
       "21   1998-10-26            1998-11-01             6                  \n",
       "22   1998-10-26            1998-11-01             6                  \n",
       "23   1998-10-26            1998-11-01             6                  \n",
       "24   1998-10-26            1998-11-01             6                  \n",
       "25   1998-10-26            1998-11-01             6                  \n",
       "26   1998-10-26            1998-11-01             6                  \n",
       "27   1998-10-26            1998-11-01             6                  \n",
       "28   1998-10-26            1998-11-01             6                  \n",
       "29   1998-10-26            1998-11-01             6                  \n",
       "30   1998-10-26            1998-11-01             6                  \n",
       "⋮    ⋮                     ⋮                      ⋮                  \n",
       "1488 2011-11-21            2011-11-27             6                  \n",
       "1489 2011-11-21            2011-11-27             6                  \n",
       "1490 2011-11-21            2011-11-27             6                  \n",
       "1491 2011-11-21            2011-11-27             6                  \n",
       "1492 2011-11-21            2011-11-27             6                  \n",
       "1493 2011-11-21            2011-11-27             6                  \n",
       "1494 2011-11-21            2011-11-27             6                  \n",
       "1495 2011-11-21            2011-11-27             6                  \n",
       "1496 2011-11-21            2011-11-27             6                  \n",
       "1497 2011-11-21            2011-11-27             6                  \n",
       "1498 2011-11-21            2011-11-27             6                  \n",
       "1499 2011-11-21            2011-11-27             6                  \n",
       "1500 2011-11-21            2011-11-27             6                  \n",
       "1501 2011-11-21            2011-11-27             6                  \n",
       "1502 2011-11-21            2011-11-27             6                  \n",
       "1503 2011-11-21            2011-11-27             6                  \n",
       "1504 2011-11-21            2011-11-27             6                  \n",
       "1505 2011-11-21            2011-11-27             6                  \n",
       "1506 2011-11-21            2011-11-27             6                  \n",
       "1507 2011-11-21            2011-11-27             6                  \n",
       "1508 2011-11-21            2011-11-27             6                  \n",
       "1509 2011-11-21            2011-11-27             6                  \n",
       "1510 2011-11-21            2011-11-27             6                  \n",
       "1511 2011-11-21            2011-11-27             6                  \n",
       "1512 2011-11-21            2011-11-27             6                  \n",
       "1513 2011-11-21            2011-11-27             6                  \n",
       "1514 2011-11-21            2011-11-27             6                  \n",
       "1515 2011-11-21            2011-11-27             6                  \n",
       "1516 2011-11-21            2011-11-27             6                  \n",
       "1517 2011-11-21            2011-11-27             6                  "
      ]
     },
     "metadata": {},
     "output_type": "display_data"
    }
   ],
   "source": [
    "atpA %>% filter(tournament.name %>% str_detect(\"F1\"))"
   ]
  },
  {
   "cell_type": "code",
   "execution_count": null,
   "id": "eaa7929b-42ce-436d-875a-05bd6e29d55c",
   "metadata": {},
   "outputs": [
    {
     "name": "stderr",
     "output_type": "stream",
     "text": [
      "mutate: converted 'winner.bornAt' from character to factor (0 new NA)\n",
      "\n",
      "        converted 'winner.domHand' from character to factor (0 new NA)\n",
      "\n",
      "        converted 'winner.backHand' from character to factor (0 new NA)\n",
      "\n",
      "        converted 'looser.bornAt' from character to factor (0 new NA)\n",
      "\n",
      "        converted 'looser.domHand' from character to factor (0 new NA)\n",
      "\n",
      "        converted 'looser.backHand' from character to factor (0 new NA)\n",
      "\n",
      "        converted 'match.tournamentRound' from character to factor (0 new NA)\n",
      "\n",
      "        converted 'match.setsCount' from integer to factor (0 new NA)\n",
      "\n",
      "        converted 'tournament.ground' from character to factor (0 new NA)\n",
      "\n",
      "        converted 'tournament.location' from character to factor (0 new NA)\n",
      "\n"
     ]
    }
   ],
   "source": [
    "# parquet doesn't seem to save factor\n",
    "atpA %>% mutate(\n",
    "    winner.backHand = winner.backHand             %>% as.factor,\n",
    "    winner.domHand  = winner.domHand              %>% as.factor,\n",
    "    looser.backHand = looser.backHand             %>% as.factor,\n",
    "    looser.domHand  = looser.domHand              %>% as.factor,\n",
    "    match.tournamentRound = match.tournamentRound %>% as.factor,\n",
    "    tournament.ground = tournament.ground         %>% as.factor,\n",
    "    tournament.location = tournament.location     %>% as.factor,\n",
    "    winner.bornAt = winner.bornAt                 %>% as.factor,\n",
    "    looser.bornAt = looser.bornAt                 %>% as.factor,\n",
    "    match.setsCount = match.setsCount             %>% as.factor,\n",
    ") -> atpAF"
   ]
  },
  {
   "cell_type": "code",
   "execution_count": null,
   "id": "8be8cd53-b9c7-477e-89e2-22b218a3ca7e",
   "metadata": {},
   "outputs": [],
   "source": [
    "if (FALSE) {\n",
    "    atpAF %>% SmartEDA::ExpReport(op_file = \"temp.html\")\n",
    "}"
   ]
  },
  {
   "cell_type": "code",
   "execution_count": null,
   "id": "7353cd4c-a983-4c2f-adc6-8415c28eade6",
   "metadata": {},
   "outputs": [
    {
     "data": {
      "text/html": [
       "21388"
      ],
      "text/latex": [
       "21388"
      ],
      "text/markdown": [
       "21388"
      ],
      "text/plain": [
       "[1] 21388"
      ]
     },
     "metadata": {},
     "output_type": "display_data"
    }
   ],
   "source": [
    "(atpAF %>% nrow() -> nmatches.inicial)"
   ]
  },
  {
   "cell_type": "code",
   "execution_count": null,
   "id": "8fbe447a-a85a-4bf2-bc34-4055917a7856",
   "metadata": {},
   "outputs": [],
   "source": [
    "# things to fix:\n",
    "# turn nas into a factor too in backhand and domHand (backhand already has an unkown)\n",
    "# fazer eda do rank para perceber como tratalos"
   ]
  },
  {
   "cell_type": "markdown",
   "id": "8c6607da-53f6-4f97-b037-238f7a63502f",
   "metadata": {},
   "source": [
    "# Prize"
   ]
  },
  {
   "cell_type": "code",
   "execution_count": null,
   "id": "c0c8a450-5598-4889-9961-b8e655e63d3c",
   "metadata": {},
   "outputs": [
    {
     "name": "stderr",
     "output_type": "stream",
     "text": [
      "select: dropped 26 variables (winner.name, winner.id, winner.rank, winner.bornAt, winner.domHand, …)\n",
      "\n",
      "filter: removed all rows (100%)\n",
      "\n"
     ]
    },
    {
     "data": {
      "text/html": [
       "<table class=\"dataframe\">\n",
       "<caption>A tibble: 0 × 1</caption>\n",
       "<thead>\n",
       "\t<tr><th scope=col>tournament.prize</th></tr>\n",
       "\t<tr><th scope=col>&lt;chr&gt;</th></tr>\n",
       "</thead>\n",
       "<tbody>\n",
       "</tbody>\n",
       "</table>\n"
      ],
      "text/latex": [
       "A tibble: 0 × 1\n",
       "\\begin{tabular}{l}\n",
       " tournament.prize\\\\\n",
       " <chr>\\\\\n",
       "\\hline\n",
       "\\end{tabular}\n"
      ],
      "text/markdown": [
       "\n",
       "A tibble: 0 × 1\n",
       "\n",
       "| tournament.prize &lt;chr&gt; |\n",
       "|---|\n",
       "\n"
      ],
      "text/plain": [
       "     tournament.prize"
      ]
     },
     "metadata": {},
     "output_type": "display_data"
    }
   ],
   "source": [
    "atpAF %>% \n",
    "    select(tournament.prize) %>%\n",
    "    filter(str_detect(tournament.prize, fixed(\"$\"), negate=T))"
   ]
  },
  {
   "cell_type": "markdown",
   "id": "991e29a6-35e5-4d80-a529-0a0709e53ed0",
   "metadata": {},
   "source": [
    "Isto significa que não há prémios sem $"
   ]
  },
  {
   "cell_type": "code",
   "execution_count": null,
   "id": "2ddeff7c-2b4e-44e5-9904-17f23a818293",
   "metadata": {},
   "outputs": [
    {
     "name": "stderr",
     "output_type": "stream",
     "text": [
      "mutate: new variable 'tp' (character) with 119 unique values and 1% NA\n",
      "\n",
      "filter: removed 17,806 rows (83%), 3,582 rows remaining\n",
      "\n",
      "select: dropped 27 variables (winner.name, winner.id, winner.rank, winner.bornAt, winner.domHand, …)\n",
      "\n"
     ]
    },
    {
     "data": {
      "text/html": [
       "<table class=\"dataframe\">\n",
       "<caption>A tibble: 5 × 1</caption>\n",
       "<thead>\n",
       "\t<tr><th scope=col>tp</th></tr>\n",
       "\t<tr><th scope=col>&lt;chr&gt;</th></tr>\n",
       "</thead>\n",
       "<tbody>\n",
       "\t<tr><td>A9609870</td></tr>\n",
       "\t<tr><td>A9609870</td></tr>\n",
       "\t<tr><td>A9609870</td></tr>\n",
       "\t<tr><td>A9609870</td></tr>\n",
       "\t<tr><td>A9609870</td></tr>\n",
       "</tbody>\n",
       "</table>\n"
      ],
      "text/latex": [
       "A tibble: 5 × 1\n",
       "\\begin{tabular}{l}\n",
       " tp\\\\\n",
       " <chr>\\\\\n",
       "\\hline\n",
       "\t A9609870\\\\\n",
       "\t A9609870\\\\\n",
       "\t A9609870\\\\\n",
       "\t A9609870\\\\\n",
       "\t A9609870\\\\\n",
       "\\end{tabular}\n"
      ],
      "text/markdown": [
       "\n",
       "A tibble: 5 × 1\n",
       "\n",
       "| tp &lt;chr&gt; |\n",
       "|---|\n",
       "| A9609870 |\n",
       "| A9609870 |\n",
       "| A9609870 |\n",
       "| A9609870 |\n",
       "| A9609870 |\n",
       "\n"
      ],
      "text/plain": [
       "  tp      \n",
       "1 A9609870\n",
       "2 A9609870\n",
       "3 A9609870\n",
       "4 A9609870\n",
       "5 A9609870"
      ]
     },
     "metadata": {},
     "output_type": "display_data"
    }
   ],
   "source": [
    "atpAF %>%\n",
    "    mutate(tp = str_remove_all(tournament.prize, r\"{[,\\$]}\")) %>%\n",
    "    filter(str_detect(tp, r\"{[^0-9]}\")) %>% \n",
    "    select(tp) %>% head(5)"
   ]
  },
  {
   "cell_type": "markdown",
   "id": "c6ce151a-a601-4a66-bec7-3273021b2c26",
   "metadata": {},
   "source": [
    "Isto significa que há prémios em dollars Australianos"
   ]
  },
  {
   "cell_type": "code",
   "execution_count": null,
   "id": "595ee382-5606-455e-9383-1e30d54d7f5d",
   "metadata": {},
   "outputs": [
    {
     "name": "stderr",
     "output_type": "stream",
     "text": [
      "mutate: new variable 'tp' (character) with 119 unique values and 1% NA\n",
      "\n",
      "filter: removed all rows (100%)\n",
      "\n",
      "select: dropped 27 variables (winner.name, winner.id, winner.rank, winner.bornAt, winner.domHand, …)\n",
      "\n"
     ]
    },
    {
     "data": {
      "text/html": [
       "<table class=\"dataframe\">\n",
       "<caption>A tibble: 0 × 1</caption>\n",
       "<thead>\n",
       "\t<tr><th scope=col>tp</th></tr>\n",
       "\t<tr><th scope=col>&lt;chr&gt;</th></tr>\n",
       "</thead>\n",
       "<tbody>\n",
       "</tbody>\n",
       "</table>\n"
      ],
      "text/latex": [
       "A tibble: 0 × 1\n",
       "\\begin{tabular}{l}\n",
       " tp\\\\\n",
       " <chr>\\\\\n",
       "\\hline\n",
       "\\end{tabular}\n"
      ],
      "text/markdown": [
       "\n",
       "A tibble: 0 × 1\n",
       "\n",
       "| tp &lt;chr&gt; |\n",
       "|---|\n",
       "\n"
      ],
      "text/plain": [
       "     tp"
      ]
     },
     "metadata": {},
     "output_type": "display_data"
    }
   ],
   "source": [
    "atpAF %>%\n",
    "    mutate(tp = str_remove_all(tournament.prize, r\"{[,\\$A]}\")) %>%\n",
    "    filter(str_detect(tp, r\"{[^0-9]}\")) %>% \n",
    "    select(tp)"
   ]
  },
  {
   "cell_type": "markdown",
   "id": "fb074563-2d5e-403d-86e4-429dd7e05f7d",
   "metadata": {},
   "source": [
    "Isto significa que não há outras moedas, apenas USD e AUD"
   ]
  },
  {
   "cell_type": "code",
   "execution_count": null,
   "id": "53f70389-3a0d-48c3-bd01-792726a67ba2",
   "metadata": {},
   "outputs": [
    {
     "name": "stderr",
     "output_type": "stream",
     "text": [
      "rename: renamed one variable (tp)\n",
      "\n",
      "Warning message:\n",
      "\"\u001b[1m\u001b[22mThere was 1 warning in `.fun()`.\n",
      "\u001b[1m\u001b[22m\u001b[36mℹ\u001b[39m In argument: `tournament.prize = case_when(...)`.\n",
      "Caused by warning in `doll_to_aus()`:\n",
      "\u001b[33m!\u001b[39m NAs introduced by coercion\"\n",
      "mutate: new variable 'tournament.prize' (double) with 119 unique values and 1% NA\n",
      "\n",
      "select: dropped one variable (tp)\n",
      "\n",
      "filter: removed all rows (100%)\n",
      "\n"
     ]
    },
    {
     "data": {
      "text/html": [
       "0"
      ],
      "text/latex": [
       "0"
      ],
      "text/markdown": [
       "0"
      ],
      "text/plain": [
       "[1] 0"
      ]
     },
     "metadata": {},
     "output_type": "display_data"
    }
   ],
   "source": [
    "doll_to_aus <- \\(x) x*1.48\n",
    "atpAF %>%\n",
    "    rename(tp = tournament.prize) %>% \n",
    "    mutate(tournament.prize = case_when(\n",
    "        tp %>% is.na()                 ~ NA,\n",
    "        tp %>% str_detect(fixed(\"A$\")) ~ tp %>% str_remove_all(r\"{[\\A$,]}\") %>% as.double(),\n",
    "        tp %>% str_detect(fixed(\"$\"))  ~ tp %>% str_remove_all(r\"{[\\$,]}\")  %>% as.double() %>% doll_to_aus(),\n",
    "        TRUE ~ 9e+9\n",
    "     )) %>% select(-tp) -> atpAFP\n",
    "atpAFP %>% filter(tournament.prize == 9e+9) %>% nrow()"
   ]
  },
  {
   "cell_type": "markdown",
   "id": "3b26a6f3-a7e6-4a62-8cd0-e86700f69492",
   "metadata": {},
   "source": [
    "# Alturas"
   ]
  },
  {
   "cell_type": "code",
   "execution_count": null,
   "id": "0f665759-66a2-4507-bb80-2fb6fcf7c9a9",
   "metadata": {},
   "outputs": [],
   "source": [
    "library(skimr)\n",
    "# atpAFP %>% skim(winner.height, looser.height) # yields error because of jup"
   ]
  },
  {
   "cell_type": "markdown",
   "id": "4e7ae4aa-9bff-49fb-b016-3bb7f90ce0ba",
   "metadata": {},
   "source": [
    "Há muitos NAs e há números imposivelmente baixos"
   ]
  },
  {
   "cell_type": "code",
   "execution_count": null,
   "id": "09feb02b-f531-460a-ae27-3b71494dd86f",
   "metadata": {},
   "outputs": [
    {
     "name": "stderr",
     "output_type": "stream",
     "text": [
      "filter: removed 18,204 rows (85%), 3,184 rows remaining\n",
      "\n",
      "select: renamed 2 variables (player, id) and dropped 25 variables\n",
      "\n",
      "filter: removed 16,386 rows (77%), 5,002 rows remaining\n",
      "\n",
      "select: renamed 2 variables (player, id) and dropped 25 variables\n",
      "\n",
      "distinct: removed 7,103 rows (87%), 1,083 rows remaining\n",
      "\n"
     ]
    },
    {
     "name": "stdout",
     "output_type": "stream",
     "text": [
      "[1] 1083\n"
     ]
    },
    {
     "name": "stderr",
     "output_type": "stream",
     "text": [
      "filter: removed 449 rows (41%), 634 rows remaining\n",
      "\n"
     ]
    },
    {
     "name": "stdout",
     "output_type": "stream",
     "text": [
      "[1] 634\n"
     ]
    }
   ],
   "source": [
    "atpAFP %>% filter(winner.height %>% is.na) %>% select(player = winner.name, id = winner.id) -> a\n",
    "atpAFP %>% filter(looser.height %>% is.na) %>% select(player = looser.name, id = looser.id) -> b\n",
    "bind_rows(a, b) %>% distinct(player, id) -> c\n",
    "print(nrow(c))\n",
    "print(c %>% filter(id %>% is.na) %>% nrow())"
   ]
  },
  {
   "cell_type": "markdown",
   "id": "2385fd4e-6839-4ebf-904f-2c281aee4583",
   "metadata": {},
   "source": [
    "1083 jogadores não têm a sua altura marcada, 634 desses porque os seus jogos não são analisados do seu ponto de vista na base de dados. Desta forma estes não vão ser considerados. Da mesma forma os jogadores com 0 de altura também não vão ser considerados. Estes podiam ser interpolados, mas neste contexto não faria sentido."
   ]
  },
  {
   "cell_type": "code",
   "execution_count": null,
   "id": "d62d6dd6-0db2-46c2-9d29-97fc593c491a",
   "metadata": {},
   "outputs": [
    {
     "name": "stderr",
     "output_type": "stream",
     "text": [
      "mutate: changed 128 values (1%) of 'winner.height' (128 new NA)\n",
      "\n",
      "        changed 100 values (<1%) of 'looser.height' (100 new NA)\n",
      "\n",
      "filter: removed 7,031 rows (33%), 14,357 rows remaining\n",
      "\n"
     ]
    }
   ],
   "source": [
    "atpAFP %>% mutate(\n",
    "    winner.height = ifelse(winner.height == 0, NA, winner.height), \n",
    "    looser.height = ifelse(looser.height == 0, NA, looser.height),\n",
    ") %>% filter(!is.na(winner.height) & !is.na(looser.height)) -> atpAFPH"
   ]
  },
  {
   "cell_type": "code",
   "execution_count": null,
   "id": "dacdc48a-c630-4e18-94e0-d3ca4856e5de",
   "metadata": {},
   "outputs": [
    {
     "name": "stderr",
     "output_type": "stream",
     "text": [
      "filter: removed 14,315 rows (>99%), 42 rows remaining\n",
      "\n",
      "select: renamed 3 variables (player, id, height) and dropped 24 variables\n",
      "\n",
      "filter: removed 14,321 rows (>99%), 36 rows remaining\n",
      "\n",
      "select: renamed 3 variables (player, id, height) and dropped 24 variables\n",
      "\n",
      "distinct: removed 76 rows (97%), 2 rows remaining\n",
      "\n"
     ]
    },
    {
     "data": {
      "text/html": [
       "<table class=\"dataframe\">\n",
       "<caption>A tibble: 2 × 3</caption>\n",
       "<thead>\n",
       "\t<tr><th scope=col>player</th><th scope=col>id</th><th scope=col>height</th></tr>\n",
       "\t<tr><th scope=col>&lt;chr&gt;</th><th scope=col>&lt;chr&gt;</th><th scope=col>&lt;int&gt;</th></tr>\n",
       "</thead>\n",
       "<tbody>\n",
       "\t<tr><td>Grant Stafford</td><td>s406</td><td>15</td></tr>\n",
       "\t<tr><td>Nathan Healey </td><td>h431</td><td>15</td></tr>\n",
       "</tbody>\n",
       "</table>\n"
      ],
      "text/latex": [
       "A tibble: 2 × 3\n",
       "\\begin{tabular}{lll}\n",
       " player & id & height\\\\\n",
       " <chr> & <chr> & <int>\\\\\n",
       "\\hline\n",
       "\t Grant Stafford & s406 & 15\\\\\n",
       "\t Nathan Healey  & h431 & 15\\\\\n",
       "\\end{tabular}\n"
      ],
      "text/markdown": [
       "\n",
       "A tibble: 2 × 3\n",
       "\n",
       "| player &lt;chr&gt; | id &lt;chr&gt; | height &lt;int&gt; |\n",
       "|---|---|---|\n",
       "| Grant Stafford | s406 | 15 |\n",
       "| Nathan Healey  | h431 | 15 |\n",
       "\n"
      ],
      "text/plain": [
       "  player         id   height\n",
       "1 Grant Stafford s406 15    \n",
       "2 Nathan Healey  h431 15    "
      ]
     },
     "metadata": {},
     "output_type": "display_data"
    }
   ],
   "source": [
    "atpAFPH %>% filter(winner.height < 160) %>% select(player = winner.name, id = winner.id, height = winner.height) -> a\n",
    "atpAFPH %>% filter(looser.height < 160) %>% select(player = looser.name, id = looser.id, height = looser.height) -> b\n",
    "bind_rows(a, b) %>% distinct(player, id, height)"
   ]
  },
  {
   "cell_type": "markdown",
   "id": "52a3f591-530e-49ff-9e50-0a286c5ecb21",
   "metadata": {},
   "source": [
    "Os únicos jogadores com alturas não realistas são os anteriores. Ao fazer uma pesquisa, não é claro porque estes estão mal anotados, mas:\n",
    "\n",
    "* Nathan Healey  -> 180 cm\n",
    "* Grant Stafford -> 188 cm"
   ]
  },
  {
   "cell_type": "code",
   "execution_count": null,
   "id": "07def4b2-0347-4761-9caf-978b60c82381",
   "metadata": {},
   "outputs": [
    {
     "name": "stderr",
     "output_type": "stream",
     "text": [
      "mutate: converted 'winner.height' from integer to double (0 new NA)\n",
      "\n",
      "        converted 'looser.height' from integer to double (0 new NA)\n",
      "\n"
     ]
    }
   ],
   "source": [
    "atpAFPHF <- atpAFPH %>% mutate(winner.height = case_when(\n",
    "    winner.id == \"h431\" ~ 180,\n",
    "    winner.id == \"s406\" ~ 188,\n",
    "    TRUE ~ winner.height\n",
    "), looser.height = case_when(\n",
    "    looser.id == \"h431\" ~ 180,\n",
    "    looser.id == \"s406\" ~ 188,\n",
    "    TRUE ~ looser.height\n",
    "))\n",
    "# atpAFPHF %>% skim(winner.height, looser.height)"
   ]
  },
  {
   "cell_type": "markdown",
   "id": "a2426c22-8c8e-42ec-b9f7-74c690d9ce82",
   "metadata": {},
   "source": [
    "# Jogos inválidos\n",
    "De forma a facilitar a previsão, mas tirar jogos que acabaram prematuramente, or que não foram jogados. "
   ]
  },
  {
   "cell_type": "code",
   "execution_count": null,
   "id": "7aa3c8a8-46ad-469f-aeb6-1d83144d7037",
   "metadata": {},
   "outputs": [
    {
     "name": "stderr",
     "output_type": "stream",
     "text": [
      "filter: removed 437 rows (3%), 13,920 rows remaining\n",
      "\n",
      "select: dropped 3 variables (match.wasRet, match.wasWalkover, match.wasDef)\n",
      "\n"
     ]
    }
   ],
   "source": [
    "atpAFPHFR <- atpAFPHF %>% \n",
    "    filter(!match.wasRet, !match.wasWalkover, !match.wasDef) %>%\n",
    "    select(-match.wasRet, -match.wasWalkover, -match.wasDef)\n",
    "# atpAFPHFR %>% select(starts_with(\"match\")) %>% skim()"
   ]
  },
  {
   "cell_type": "markdown",
   "id": "a0d38a60-f08b-458e-bde7-6e6f2ca91310",
   "metadata": {},
   "source": [
    "Instruções superiores indicaram também que não vão ser analisados torneiros que incluém jogos à melhor de 5."
   ]
  },
  {
   "cell_type": "code",
   "execution_count": null,
   "id": "57b6561f-b7ef-404e-ba1f-9433730fb840",
   "metadata": {},
   "outputs": [
    {
     "name": "stderr",
     "output_type": "stream",
     "text": [
      "group_by: one grouping variable (tournament.name)\n",
      "\n",
      "filter (grouped): removed 7,073 rows (51%), 6,847 rows remaining\n",
      "\n",
      "ungroup: no grouping variables\n",
      "\n"
     ]
    }
   ],
   "source": [
    "atpAFPHFR -> atp.wbo5\n",
    "atp.wbo5 %>% \n",
    "    group_by(tournament.name) %>% \n",
    "    filter(!any(match.setsCount %>% as.integer > 3)) %>%\n",
    "    ungroup() -> atp.wo45"
   ]
  },
  {
   "cell_type": "markdown",
   "id": "63bcc6e0-8013-4beb-bbe0-881aacf32a65",
   "metadata": {},
   "source": [
    "Jogos à melhor de 3 podem ter entre 3, 4 ou 5 sets, e jogos à melhor de 2 podem ter entre 2 e 3 sets. Logo, torneios que apenas tiveram jogos com 3 sets não são claros se são há melhor de 5."
   ]
  },
  {
   "cell_type": "code",
   "execution_count": null,
   "id": "00a6b5ff-d018-4b74-9794-cf6738a282e0",
   "metadata": {},
   "outputs": [
    {
     "name": "stderr",
     "output_type": "stream",
     "text": [
      "group_by: one grouping variable (tournament.name)\n",
      "\n",
      "filter (grouped): removed 6,835 rows (>99%), 12 rows remaining\n",
      "\n",
      "summarise: now 5 rows and one column, ungrouped\n",
      "\n"
     ]
    },
    {
     "data": {
      "text/html": [
       "<table class=\"dataframe\">\n",
       "<caption>A tibble: 5 × 1</caption>\n",
       "<thead>\n",
       "\t<tr><th scope=col>tournament.name</th></tr>\n",
       "\t<tr><th scope=col>&lt;chr&gt;</th></tr>\n",
       "</thead>\n",
       "<tbody>\n",
       "\t<tr><td>AUS v. MAR WG PO       </td></tr>\n",
       "\t<tr><td>AUS v. SWE WG 1st RD   </td></tr>\n",
       "\t<tr><td>AUS vs. SVK WG Play-Off</td></tr>\n",
       "\t<tr><td>Adelaide-2             </td></tr>\n",
       "\t<tr><td>ROM V AUS QF           </td></tr>\n",
       "</tbody>\n",
       "</table>\n"
      ],
      "text/latex": [
       "A tibble: 5 × 1\n",
       "\\begin{tabular}{l}\n",
       " tournament.name\\\\\n",
       " <chr>\\\\\n",
       "\\hline\n",
       "\t AUS v. MAR WG PO       \\\\\n",
       "\t AUS v. SWE WG 1st RD   \\\\\n",
       "\t AUS vs. SVK WG Play-Off\\\\\n",
       "\t Adelaide-2             \\\\\n",
       "\t ROM V AUS QF           \\\\\n",
       "\\end{tabular}\n"
      ],
      "text/markdown": [
       "\n",
       "A tibble: 5 × 1\n",
       "\n",
       "| tournament.name &lt;chr&gt; |\n",
       "|---|\n",
       "| AUS v. MAR WG PO        |\n",
       "| AUS v. SWE WG 1st RD    |\n",
       "| AUS vs. SVK WG Play-Off |\n",
       "| Adelaide-2              |\n",
       "| ROM V AUS QF            |\n",
       "\n"
      ],
      "text/plain": [
       "  tournament.name        \n",
       "1 AUS v. MAR WG PO       \n",
       "2 AUS v. SWE WG 1st RD   \n",
       "3 AUS vs. SVK WG Play-Off\n",
       "4 Adelaide-2             \n",
       "5 ROM V AUS QF           "
      ]
     },
     "metadata": {},
     "output_type": "display_data"
    }
   ],
   "source": [
    "atp.wo45 %>% \n",
    "    group_by(tournament.name) %>% \n",
    "    filter(all(match.setsCount == 3)) %>% \n",
    "    summarise()"
   ]
  },
  {
   "cell_type": "markdown",
   "id": "b223e70e-d010-43d4-8079-9d591d5c1527",
   "metadata": {},
   "source": [
    "Felizmente apenas sobraram 5 desses torneios, portanto podemos pesquisar sobre estes manualmente"
   ]
  },
  {
   "cell_type": "code",
   "execution_count": null,
   "id": "2bdc7cf7-3432-4071-ab60-5608f14a988b",
   "metadata": {},
   "outputs": [
    {
     "name": "stderr",
     "output_type": "stream",
     "text": [
      "filter: removed 8 rows (<1%), 6,839 rows remaining\n",
      "\n"
     ]
    }
   ],
   "source": [
    "toRem = c(\"AUS v. MAR WG PO\",\"AUS v. SWE WG 1st RD\",\"AUS vs. SVK WG Play-Off\",\"ROM V AUS QF\")\n",
    "atp.wo45 %>% filter(!(tournament.name %in% toRem)) -> atp.wobo5"
   ]
  },
  {
   "cell_type": "code",
   "execution_count": null,
   "id": "d97d59fe-4774-4fd0-9654-49ef6a5ca951",
   "metadata": {},
   "outputs": [
    {
     "data": {
      "text/html": [
       "6839"
      ],
      "text/latex": [
       "6839"
      ],
      "text/markdown": [
       "6839"
      ],
      "text/plain": [
       "[1] 6839"
      ]
     },
     "metadata": {},
     "output_type": "display_data"
    }
   ],
   "source": [
    "atp.wobo5 %>% nrow()"
   ]
  },
  {
   "cell_type": "markdown",
   "id": "c8fe0868-9695-4522-822c-30fd257aff69",
   "metadata": {},
   "source": [
    "# domHand, backHand e rank"
   ]
  },
  {
   "cell_type": "code",
   "execution_count": null,
   "id": "eb120d41-77a9-4986-8496-43d05ed2e434",
   "metadata": {},
   "outputs": [],
   "source": [
    "# atp.wobo5 %>% skim(winner.domHand, looser.domHand, winner.backHand,looser.backHand, winner.rank, looser.rank)"
   ]
  },
  {
   "cell_type": "markdown",
   "id": "8f50dab9-bfa7-4d60-87f9-dcfa987aaf55",
   "metadata": {},
   "source": [
    "A base de dados inclui apenas 5 `missings` e 1 ambidestro. Como são poucos, podemos tirar estes. O mesmo se aplica ao rank de alguns jogos."
   ]
  },
  {
   "cell_type": "code",
   "execution_count": null,
   "id": "a00905a2-3268-4768-a8cc-2d65f107d717",
   "metadata": {},
   "outputs": [
    {
     "name": "stderr",
     "output_type": "stream",
     "text": [
      "filter: removed 6 rows (<1%), 6,833 rows remaining\n",
      "\n",
      "filter: removed 468 rows (7%), 6,365 rows remaining\n",
      "\n"
     ]
    }
   ],
   "source": [
    "df <- atp.wobo5 %>% \n",
    "    filter(!(looser.domHand %>% is.na) & looser.domHand != \"Ambidextrous\") %>%\n",
    "    filter(!(looser.rank %>% is.na) & !(winner.rank %>% is.na))\n",
    "# df %>% skim(winner.domHand, looser.domHand, winner.backHand,looser.backHand)"
   ]
  },
  {
   "cell_type": "markdown",
   "id": "aee5c403-9c90-456f-b193-9417a6aeecdd",
   "metadata": {},
   "source": [
    "# Algumas características diretas"
   ]
  },
  {
   "cell_type": "code",
   "execution_count": null,
   "id": "396eb713-9fb0-4fe1-8958-3f3df7dad0bd",
   "metadata": {},
   "outputs": [
    {
     "data": {
      "text/html": [
       "<time datetime=\"1974-12-09\">1974-12-09</time>"
      ],
      "text/latex": [
       "1974-12-09"
      ],
      "text/markdown": [
       "1974-12-09"
      ],
      "text/plain": [
       "[1] \"1974-12-09\""
      ]
     },
     "metadata": {},
     "output_type": "display_data"
    }
   ],
   "source": [
    "firstT <- df %>% arrange(tournament.date_start) %>% head(1) |> _$tournament.date_start\n",
    "firstT "
   ]
  },
  {
   "cell_type": "code",
   "execution_count": null,
   "id": "a42d9939-4f81-41a7-8cd3-6265a57e3425",
   "metadata": {},
   "outputs": [
    {
     "name": "stderr",
     "output_type": "stream",
     "text": [
      "mutate: converted 'match.domHands' from character to factor (0 new NA)\n",
      "\n",
      "        converted 'match.backHands' from character to factor (0 new NA)\n",
      "\n",
      "        new variable 'match.diffHeights' (double) with 48 unique values and 0% NA\n",
      "\n",
      "        new variable 'match.avgHeights' (double) with 51 unique values and 0% NA\n",
      "\n",
      "        new variable 'tournament.month' (ordered factor) with 11 unique values and 0% NA\n",
      "\n",
      "        new variable 'tournament.quarter' (factor) with 4 unique values and 0% NA\n",
      "\n",
      "        new variable 'tournament.dateDistance' (double) with 360 unique values and 0% NA\n",
      "\n",
      "        new variable 'match.diffRank' (integer) with 1,566 unique values and 0% NA\n",
      "\n",
      "        new variable 'match.avgRank' (double) with 1,979 unique values and 0% NA\n",
      "\n",
      "select: dropped one variable (tournament.location)\n",
      "\n",
      "mutate: changed 0 values (0%) of 'match.setsCount' (0 new NA)\n",
      "\n"
     ]
    }
   ],
   "source": [
    "df %>%\n",
    "    unite(\"match.domHands\", c(winner.domHand, looser.domHand)) %>%\n",
    "    unite(\"match.backHands\", c(winner.backHand, looser.backHand)) %>%\n",
    "    mutate(\n",
    "        match.domHands          = match.domHands %>% as.factor(),\n",
    "        match.backHands         = match.backHands %>% as.factor(),\n",
    "        match.diffHeights       = winner.height - looser.height,\n",
    "        match.avgHeights        = rowMeans(across(c(winner.height, looser.height))),\n",
    "        tournament.month        = month(tournament.date_start, label=T),\n",
    "        tournament.quarter      = quarter(tournament.date_start) %>% as.factor(),\n",
    "        tournament.dateDistance = difftime(firstT, tournament.date_start, units = \"weeks\"),\n",
    "        match.diffRank          = winner.rank - looser.rank,\n",
    "        match.avgRank           = rowMeans(across(c(winner.rank, looser.rank)))\n",
    "    ) %>% \n",
    "    select(-tournament.location) %>% \n",
    "    mutate(match.setsCount = fct_drop(match.setsCount))->  dfF\n",
    "# dfF %>% skim()"
   ]
  },
  {
   "cell_type": "code",
   "execution_count": null,
   "id": "39c83385-fbb0-4a37-8abd-33d8c0632797",
   "metadata": {},
   "outputs": [
    {
     "data": {
      "text/html": [
       "6365"
      ],
      "text/latex": [
       "6365"
      ],
      "text/markdown": [
       "6365"
      ],
      "text/plain": [
       "[1] 6365"
      ]
     },
     "metadata": {},
     "output_type": "display_data"
    }
   ],
   "source": [
    "dfF %>% nrow()"
   ]
  },
  {
   "cell_type": "code",
   "execution_count": null,
   "id": "0d8239ff-ec5d-44a0-8795-399d68b89bcb",
   "metadata": {},
   "outputs": [],
   "source": [
    "dfF %>% arrow::write_parquet(here(\"data\", \"featureless.parquet\"))"
   ]
  },
  {
   "cell_type": "markdown",
   "id": "a972a06d-6069-4ab5-998c-faac2d6324eb",
   "metadata": {},
   "source": [
    "# Primeiro modelo"
   ]
  },
  {
   "cell_type": "code",
   "execution_count": null,
   "id": "98437808-d048-4310-b8b2-b01d4d465e21",
   "metadata": {},
   "outputs": [
    {
     "name": "stderr",
     "output_type": "stream",
     "text": [
      "mutate: converted 'match.setsCount' from factor to double (0 new NA)\n",
      "\n",
      "select: dropped 24 variables (winner.name, winner.id, winner.rank, winner.bornAt, match.domHands, …)\n",
      "\n"
     ]
    },
    {
     "data": {
      "image/png": "[encoded data removed]",
      "text/plain": [
       "plot without title"
      ]
     },
     "metadata": {
      "image/png": {
       "height": 420,
       "width": 420
      }
     },
     "output_type": "display_data"
    }
   ],
   "source": [
    "library(ggcorrplot)\n",
    "cor(dfF %>% mutate(match.setsCount = match.setsCount %>% as.numeric) %>% select(\n",
    "    match.setsCount,\n",
    "    # tournament.dateDistance,\n",
    "    # match.domHands,\n",
    "    # match.backHands,\n",
    "    # match.tournamentRound,\n",
    "    # tournament.ground,\n",
    "    # tournament.quarter,\n",
    "    # match.hadTieBreaker,\n",
    "    tournament.duration,\n",
    "    match.diffHeights,\n",
    "    match.diffRank\n",
    ")) %>% ggcorrplot(type = \"lower\",lab = TRUE)"
   ]
  },
  {
   "cell_type": "code",
   "execution_count": null,
   "id": "26ef8c3a-8e94-44f8-9046-cb1c066b56d7",
   "metadata": {},
   "outputs": [
    {
     "ename": "ERROR",
     "evalue": "Error in library(package, pos = pos, lib.loc = lib.loc, character.only = TRUE, : there is no package called 'corrr'\n",
     "output_type": "error",
     "traceback": [
      "Error in library(package, pos = pos, lib.loc = lib.loc, character.only = TRUE, : there is no package called 'corrr'\nTraceback:\n",
      "1. library(corrr)",
      "2. library(package, pos = pos, lib.loc = lib.loc, character.only = TRUE, \n .     logical.return = logical.return, warn.conflicts = FALSE, \n .     quietly = quietly, verbose = verbose, mask.ok = mask.ok, \n .     exclude = exclude, include.only = include.only, attach.required = attach.required)"
     ]
    }
   ],
   "source": [
    "library(corrr)\n",
    "dfF %>% select(\n",
    "    match.setsCount,\n",
    "    # tournament.dateDistance,\n",
    "    match.domHands,\n",
    "    match.backHands,\n",
    "    match.tournamentRound,\n",
    "    tournament.ground,\n",
    "    tournament.quarter,\n",
    "    match.hadTieBreaker,\n",
    "    # tournament.duration,\n",
    "    # match.diffHeights,\n",
    "    # match.diffRank\n",
    ") %>% colpair_map(function(x, y) {table(x, y) %>% rcompanion::cramerV()}, .diagonal = TRUE) %>% \n",
    "    as_matrix() %>% \n",
    "    ggcorrplot(type = \"lower\",lab = TRUE)"
   ]
  },
  {
   "cell_type": "code",
   "execution_count": null,
   "id": "08f75638-6138-426e-8c49-f14cf7ba2007",
   "metadata": {},
   "outputs": [],
   "source": [
    "# spliting\n",
    "set.seed(1)\n",
    "df.split <- initial_split(dfF, prop = 3/4, strata = match.setsCount)\n",
    "df.train <- training(df.split)\n",
    "df.test  <- testing (df.split)"
   ]
  },
  {
   "cell_type": "code",
   "execution_count": null,
   "id": "bfe142f6-2a35-467c-bc78-36c41db58b1c",
   "metadata": {},
   "outputs": [
    {
     "data": {
      "text/html": [
       "<table class=\"dataframe\">\n",
       "<caption>A tibble: 1 × 8</caption>\n",
       "<thead>\n",
       "\t<tr><th scope=col>null.deviance</th><th scope=col>df.null</th><th scope=col>logLik</th><th scope=col>AIC</th><th scope=col>BIC</th><th scope=col>deviance</th><th scope=col>df.residual</th><th scope=col>nobs</th></tr>\n",
       "\t<tr><th scope=col>&lt;dbl&gt;</th><th scope=col>&lt;int&gt;</th><th scope=col>&lt;dbl&gt;</th><th scope=col>&lt;dbl&gt;</th><th scope=col>&lt;dbl&gt;</th><th scope=col>&lt;dbl&gt;</th><th scope=col>&lt;int&gt;</th><th scope=col>&lt;int&gt;</th></tr>\n",
       "</thead>\n",
       "<tbody>\n",
       "\t<tr><td>6099.459</td><td>4772</td><td>-2910.795</td><td>5887.589</td><td>6101.124</td><td>5821.589</td><td>4740</td><td>4773</td></tr>\n",
       "</tbody>\n",
       "</table>\n"
      ],
      "text/latex": [
       "A tibble: 1 × 8\n",
       "\\begin{tabular}{llllllll}\n",
       " null.deviance & df.null & logLik & AIC & BIC & deviance & df.residual & nobs\\\\\n",
       " <dbl> & <int> & <dbl> & <dbl> & <dbl> & <dbl> & <int> & <int>\\\\\n",
       "\\hline\n",
       "\t 6099.459 & 4772 & -2910.795 & 5887.589 & 6101.124 & 5821.589 & 4740 & 4773\\\\\n",
       "\\end{tabular}\n"
      ],
      "text/markdown": [
       "\n",
       "A tibble: 1 × 8\n",
       "\n",
       "| null.deviance &lt;dbl&gt; | df.null &lt;int&gt; | logLik &lt;dbl&gt; | AIC &lt;dbl&gt; | BIC &lt;dbl&gt; | deviance &lt;dbl&gt; | df.residual &lt;int&gt; | nobs &lt;int&gt; |\n",
       "|---|---|---|---|---|---|---|---|\n",
       "| 6099.459 | 4772 | -2910.795 | 5887.589 | 6101.124 | 5821.589 | 4740 | 4773 |\n",
       "\n"
      ],
      "text/plain": [
       "  null.deviance df.null logLik    AIC      BIC      deviance df.residual nobs\n",
       "1 6099.459      4772    -2910.795 5887.589 6101.124 5821.589 4740        4773"
      ]
     },
     "metadata": {},
     "output_type": "display_data"
    }
   ],
   "source": [
    "# first model\n",
    "models.first <- workflow() %>% \n",
    "    add_model(logistic_reg(mode=\"classification\")) %>%\n",
    "    add_formula(match.setsCount ~ \n",
    "        tournament.dateDistance + \n",
    "        match.domHands + \n",
    "        match.backHands + \n",
    "        match.tournamentRound + \n",
    "        tournament.ground + \n",
    "        tournament.quarter + \n",
    "        match.hadTieBreaker + \n",
    "        tournament.duration + \n",
    "        match.diffHeights + \n",
    "        match.diffRank,\n",
    "    ) %>% fit(df.train) # fit_resamples(df.10fold)\n",
    "models.first %>% glance()"
   ]
  },
  {
   "cell_type": "code",
   "execution_count": null,
   "id": "bac79a29-b036-43e0-9692-3dba2468156c",
   "metadata": {},
   "outputs": [
    {
     "data": {
      "text/html": [
       "<table class=\"dataframe\">\n",
       "<caption>A data.frame: 1592 × 2</caption>\n",
       "<thead>\n",
       "\t<tr><th scope=col>pred</th><th scope=col>truth</th></tr>\n",
       "\t<tr><th scope=col>&lt;fct&gt;</th><th scope=col>&lt;fct&gt;</th></tr>\n",
       "</thead>\n",
       "<tbody>\n",
       "\t<tr><td>2</td><td>2</td></tr>\n",
       "\t<tr><td>2</td><td>3</td></tr>\n",
       "\t<tr><td>2</td><td>2</td></tr>\n",
       "\t<tr><td>3</td><td>3</td></tr>\n",
       "\t<tr><td>2</td><td>3</td></tr>\n",
       "\t<tr><td>2</td><td>2</td></tr>\n",
       "\t<tr><td>2</td><td>2</td></tr>\n",
       "\t<tr><td>2</td><td>2</td></tr>\n",
       "\t<tr><td>2</td><td>3</td></tr>\n",
       "\t<tr><td>2</td><td>2</td></tr>\n",
       "\t<tr><td>2</td><td>2</td></tr>\n",
       "\t<tr><td>2</td><td>3</td></tr>\n",
       "\t<tr><td>2</td><td>2</td></tr>\n",
       "\t<tr><td>3</td><td>3</td></tr>\n",
       "\t<tr><td>2</td><td>2</td></tr>\n",
       "\t<tr><td>2</td><td>3</td></tr>\n",
       "\t<tr><td>3</td><td>2</td></tr>\n",
       "\t<tr><td>2</td><td>2</td></tr>\n",
       "\t<tr><td>2</td><td>2</td></tr>\n",
       "\t<tr><td>2</td><td>3</td></tr>\n",
       "\t<tr><td>3</td><td>3</td></tr>\n",
       "\t<tr><td>2</td><td>2</td></tr>\n",
       "\t<tr><td>2</td><td>2</td></tr>\n",
       "\t<tr><td>2</td><td>2</td></tr>\n",
       "\t<tr><td>3</td><td>3</td></tr>\n",
       "\t<tr><td>2</td><td>2</td></tr>\n",
       "\t<tr><td>2</td><td>3</td></tr>\n",
       "\t<tr><td>2</td><td>2</td></tr>\n",
       "\t<tr><td>2</td><td>2</td></tr>\n",
       "\t<tr><td>2</td><td>3</td></tr>\n",
       "\t<tr><td>⋮</td><td>⋮</td></tr>\n",
       "\t<tr><td>2</td><td>2</td></tr>\n",
       "\t<tr><td>2</td><td>2</td></tr>\n",
       "\t<tr><td>2</td><td>2</td></tr>\n",
       "\t<tr><td>3</td><td>3</td></tr>\n",
       "\t<tr><td>2</td><td>2</td></tr>\n",
       "\t<tr><td>2</td><td>3</td></tr>\n",
       "\t<tr><td>2</td><td>3</td></tr>\n",
       "\t<tr><td>2</td><td>3</td></tr>\n",
       "\t<tr><td>2</td><td>2</td></tr>\n",
       "\t<tr><td>2</td><td>2</td></tr>\n",
       "\t<tr><td>3</td><td>2</td></tr>\n",
       "\t<tr><td>2</td><td>3</td></tr>\n",
       "\t<tr><td>2</td><td>2</td></tr>\n",
       "\t<tr><td>3</td><td>3</td></tr>\n",
       "\t<tr><td>2</td><td>2</td></tr>\n",
       "\t<tr><td>2</td><td>2</td></tr>\n",
       "\t<tr><td>2</td><td>2</td></tr>\n",
       "\t<tr><td>2</td><td>2</td></tr>\n",
       "\t<tr><td>2</td><td>2</td></tr>\n",
       "\t<tr><td>2</td><td>2</td></tr>\n",
       "\t<tr><td>2</td><td>2</td></tr>\n",
       "\t<tr><td>2</td><td>2</td></tr>\n",
       "\t<tr><td>2</td><td>2</td></tr>\n",
       "\t<tr><td>2</td><td>2</td></tr>\n",
       "\t<tr><td>2</td><td>3</td></tr>\n",
       "\t<tr><td>2</td><td>2</td></tr>\n",
       "\t<tr><td>3</td><td>2</td></tr>\n",
       "\t<tr><td>3</td><td>2</td></tr>\n",
       "\t<tr><td>2</td><td>2</td></tr>\n",
       "\t<tr><td>2</td><td>2</td></tr>\n",
       "</tbody>\n",
       "</table>\n"
      ],
      "text/latex": [
       "A data.frame: 1592 × 2\n",
       "\\begin{tabular}{ll}\n",
       " pred & truth\\\\\n",
       " <fct> & <fct>\\\\\n",
       "\\hline\n",
       "\t 2 & 2\\\\\n",
       "\t 2 & 3\\\\\n",
       "\t 2 & 2\\\\\n",
       "\t 3 & 3\\\\\n",
       "\t 2 & 3\\\\\n",
       "\t 2 & 2\\\\\n",
       "\t 2 & 2\\\\\n",
       "\t 2 & 2\\\\\n",
       "\t 2 & 3\\\\\n",
       "\t 2 & 2\\\\\n",
       "\t 2 & 2\\\\\n",
       "\t 2 & 3\\\\\n",
       "\t 2 & 2\\\\\n",
       "\t 3 & 3\\\\\n",
       "\t 2 & 2\\\\\n",
       "\t 2 & 3\\\\\n",
       "\t 3 & 2\\\\\n",
       "\t 2 & 2\\\\\n",
       "\t 2 & 2\\\\\n",
       "\t 2 & 3\\\\\n",
       "\t 3 & 3\\\\\n",
       "\t 2 & 2\\\\\n",
       "\t 2 & 2\\\\\n",
       "\t 2 & 2\\\\\n",
       "\t 3 & 3\\\\\n",
       "\t 2 & 2\\\\\n",
       "\t 2 & 3\\\\\n",
       "\t 2 & 2\\\\\n",
       "\t 2 & 2\\\\\n",
       "\t 2 & 3\\\\\n",
       "\t ⋮ & ⋮\\\\\n",
       "\t 2 & 2\\\\\n",
       "\t 2 & 2\\\\\n",
       "\t 2 & 2\\\\\n",
       "\t 3 & 3\\\\\n",
       "\t 2 & 2\\\\\n",
       "\t 2 & 3\\\\\n",
       "\t 2 & 3\\\\\n",
       "\t 2 & 3\\\\\n",
       "\t 2 & 2\\\\\n",
       "\t 2 & 2\\\\\n",
       "\t 3 & 2\\\\\n",
       "\t 2 & 3\\\\\n",
       "\t 2 & 2\\\\\n",
       "\t 3 & 3\\\\\n",
       "\t 2 & 2\\\\\n",
       "\t 2 & 2\\\\\n",
       "\t 2 & 2\\\\\n",
       "\t 2 & 2\\\\\n",
       "\t 2 & 2\\\\\n",
       "\t 2 & 2\\\\\n",
       "\t 2 & 2\\\\\n",
       "\t 2 & 2\\\\\n",
       "\t 2 & 2\\\\\n",
       "\t 2 & 2\\\\\n",
       "\t 2 & 3\\\\\n",
       "\t 2 & 2\\\\\n",
       "\t 3 & 2\\\\\n",
       "\t 3 & 2\\\\\n",
       "\t 2 & 2\\\\\n",
       "\t 2 & 2\\\\\n",
       "\\end{tabular}\n"
      ],
      "text/markdown": [
       "\n",
       "A data.frame: 1592 × 2\n",
       "\n",
       "| pred &lt;fct&gt; | truth &lt;fct&gt; |\n",
       "|---|---|\n",
       "| 2 | 2 |\n",
       "| 2 | 3 |\n",
       "| 2 | 2 |\n",
       "| 3 | 3 |\n",
       "| 2 | 3 |\n",
       "| 2 | 2 |\n",
       "| 2 | 2 |\n",
       "| 2 | 2 |\n",
       "| 2 | 3 |\n",
       "| 2 | 2 |\n",
       "| 2 | 2 |\n",
       "| 2 | 3 |\n",
       "| 2 | 2 |\n",
       "| 3 | 3 |\n",
       "| 2 | 2 |\n",
       "| 2 | 3 |\n",
       "| 3 | 2 |\n",
       "| 2 | 2 |\n",
       "| 2 | 2 |\n",
       "| 2 | 3 |\n",
       "| 3 | 3 |\n",
       "| 2 | 2 |\n",
       "| 2 | 2 |\n",
       "| 2 | 2 |\n",
       "| 3 | 3 |\n",
       "| 2 | 2 |\n",
       "| 2 | 3 |\n",
       "| 2 | 2 |\n",
       "| 2 | 2 |\n",
       "| 2 | 3 |\n",
       "| ⋮ | ⋮ |\n",
       "| 2 | 2 |\n",
       "| 2 | 2 |\n",
       "| 2 | 2 |\n",
       "| 3 | 3 |\n",
       "| 2 | 2 |\n",
       "| 2 | 3 |\n",
       "| 2 | 3 |\n",
       "| 2 | 3 |\n",
       "| 2 | 2 |\n",
       "| 2 | 2 |\n",
       "| 3 | 2 |\n",
       "| 2 | 3 |\n",
       "| 2 | 2 |\n",
       "| 3 | 3 |\n",
       "| 2 | 2 |\n",
       "| 2 | 2 |\n",
       "| 2 | 2 |\n",
       "| 2 | 2 |\n",
       "| 2 | 2 |\n",
       "| 2 | 2 |\n",
       "| 2 | 2 |\n",
       "| 2 | 2 |\n",
       "| 2 | 2 |\n",
       "| 2 | 2 |\n",
       "| 2 | 3 |\n",
       "| 2 | 2 |\n",
       "| 3 | 2 |\n",
       "| 3 | 2 |\n",
       "| 2 | 2 |\n",
       "| 2 | 2 |\n",
       "\n"
      ],
      "text/plain": [
       "     pred truth\n",
       "1    2    2    \n",
       "2    2    3    \n",
       "3    2    2    \n",
       "4    3    3    \n",
       "5    2    3    \n",
       "6    2    2    \n",
       "7    2    2    \n",
       "8    2    2    \n",
       "9    2    3    \n",
       "10   2    2    \n",
       "11   2    2    \n",
       "12   2    3    \n",
       "13   2    2    \n",
       "14   3    3    \n",
       "15   2    2    \n",
       "16   2    3    \n",
       "17   3    2    \n",
       "18   2    2    \n",
       "19   2    2    \n",
       "20   2    3    \n",
       "21   3    3    \n",
       "22   2    2    \n",
       "23   2    2    \n",
       "24   2    2    \n",
       "25   3    3    \n",
       "26   2    2    \n",
       "27   2    3    \n",
       "28   2    2    \n",
       "29   2    2    \n",
       "30   2    3    \n",
       "⋮    ⋮    ⋮    \n",
       "1563 2    2    \n",
       "1564 2    2    \n",
       "1565 2    2    \n",
       "1566 3    3    \n",
       "1567 2    2    \n",
       "1568 2    3    \n",
       "1569 2    3    \n",
       "1570 2    3    \n",
       "1571 2    2    \n",
       "1572 2    2    \n",
       "1573 3    2    \n",
       "1574 2    3    \n",
       "1575 2    2    \n",
       "1576 3    3    \n",
       "1577 2    2    \n",
       "1578 2    2    \n",
       "1579 2    2    \n",
       "1580 2    2    \n",
       "1581 2    2    \n",
       "1582 2    2    \n",
       "1583 2    2    \n",
       "1584 2    2    \n",
       "1585 2    2    \n",
       "1586 2    2    \n",
       "1587 2    3    \n",
       "1588 2    2    \n",
       "1589 3    2    \n",
       "1590 3    2    \n",
       "1591 2    2    \n",
       "1592 2    2    "
      ]
     },
     "metadata": {},
     "output_type": "display_data"
    }
   ],
   "source": [
    "models.first.pred <- predict(models.first, df.test)\n",
    "models.first.vs <- cbind(pred = models.first.pred, truth = df.test$match.setsCount) %>% rename(pred = .pred_class)\n",
    "models.first.vs "
   ]
  },
  {
   "cell_type": "code",
   "execution_count": null,
   "id": "a6f167c6-0ef0-4608-9861-d1044dc3f779",
   "metadata": {},
   "outputs": [
    {
     "data": {
      "text/html": [
       "<table class=\"dataframe\">\n",
       "<caption>A tibble: 1 × 3</caption>\n",
       "<thead>\n",
       "\t<tr><th scope=col>.metric</th><th scope=col>.estimator</th><th scope=col>.estimate</th></tr>\n",
       "\t<tr><th scope=col>&lt;chr&gt;</th><th scope=col>&lt;chr&gt;</th><th scope=col>&lt;dbl&gt;</th></tr>\n",
       "</thead>\n",
       "<tbody>\n",
       "\t<tr><td>accuracy</td><td>binary</td><td>0.673995</td></tr>\n",
       "</tbody>\n",
       "</table>\n"
      ],
      "text/latex": [
       "A tibble: 1 × 3\n",
       "\\begin{tabular}{lll}\n",
       " .metric & .estimator & .estimate\\\\\n",
       " <chr> & <chr> & <dbl>\\\\\n",
       "\\hline\n",
       "\t accuracy & binary & 0.673995\\\\\n",
       "\\end{tabular}\n"
      ],
      "text/markdown": [
       "\n",
       "A tibble: 1 × 3\n",
       "\n",
       "| .metric &lt;chr&gt; | .estimator &lt;chr&gt; | .estimate &lt;dbl&gt; |\n",
       "|---|---|---|\n",
       "| accuracy | binary | 0.673995 |\n",
       "\n"
      ],
      "text/plain": [
       "  .metric  .estimator .estimate\n",
       "1 accuracy binary     0.673995 "
      ]
     },
     "metadata": {},
     "output_type": "display_data"
    }
   ],
   "source": [
    "models.first.vs %>% accuracy(truth= truth, estimate = pred)"
   ]
  },
  {
   "cell_type": "code",
   "execution_count": null,
   "id": "fa0c63be-b27a-4704-9540-bf1f6164e16e",
   "metadata": {},
   "outputs": [
    {
     "data": {
      "text/html": [
       "<table class=\"dataframe\">\n",
       "<caption>A tibble: 1 × 3</caption>\n",
       "<thead>\n",
       "\t<tr><th scope=col>.metric</th><th scope=col>.estimator</th><th scope=col>.estimate</th></tr>\n",
       "\t<tr><th scope=col>&lt;chr&gt;</th><th scope=col>&lt;chr&gt;</th><th scope=col>&lt;dbl&gt;</th></tr>\n",
       "</thead>\n",
       "<tbody>\n",
       "\t<tr><td>f_meas</td><td>binary</td><td>0.7831174</td></tr>\n",
       "</tbody>\n",
       "</table>\n"
      ],
      "text/latex": [
       "A tibble: 1 × 3\n",
       "\\begin{tabular}{lll}\n",
       " .metric & .estimator & .estimate\\\\\n",
       " <chr> & <chr> & <dbl>\\\\\n",
       "\\hline\n",
       "\t f\\_meas & binary & 0.7831174\\\\\n",
       "\\end{tabular}\n"
      ],
      "text/markdown": [
       "\n",
       "A tibble: 1 × 3\n",
       "\n",
       "| .metric &lt;chr&gt; | .estimator &lt;chr&gt; | .estimate &lt;dbl&gt; |\n",
       "|---|---|---|\n",
       "| f_meas | binary | 0.7831174 |\n",
       "\n"
      ],
      "text/plain": [
       "  .metric .estimator .estimate\n",
       "1 f_meas  binary     0.7831174"
      ]
     },
     "metadata": {},
     "output_type": "display_data"
    }
   ],
   "source": [
    "models.first.vs %>% f_meas(truth= truth, estimate = pred)"
   ]
  },
  {
   "cell_type": "code",
   "execution_count": null,
   "id": "fe59bc46-7c01-486a-8682-5abb8df2c7af",
   "metadata": {},
   "outputs": [
    {
     "data": {
      "text/plain": [
       "          Truth\n",
       "Prediction   2   3\n",
       "         2 937 400\n",
       "         3 119 136"
      ]
     },
     "metadata": {},
     "output_type": "display_data"
    }
   ],
   "source": [
    "models.first.vs %>% conf_mat(truth= truth, estimate = pred)"
   ]
  }
 ],
 "metadata": {
  "kernelspec": {
   "display_name": "ir_pacd",
   "language": "R",
   "name": "ir_pacd"
  }
 },
 "nbformat": 4,
 "nbformat_minor": 5
}
