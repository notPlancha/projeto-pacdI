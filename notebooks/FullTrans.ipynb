{
 "cells": [
  {
   "cell_type": "code",
   "execution_count": null,
   "id": "dbf277ae-a5d0-487f-a51d-cf9cd6dad9ef",
   "metadata": {},
   "outputs": [
    {
     "name": "stdout",
     "output_type": "stream",
     "text": [
      "Rows: 682,069\n",
      "Columns: 25\n",
      "$ winner.name            \u001b[3m\u001b[90m<chr>\u001b[39m\u001b[23m \"Patrick Rafter\", \"Dennis Van Scheppingen\", \"Ja…\n",
      "$ winner.id              \u001b[3m\u001b[90m<chr>\u001b[39m\u001b[23m \"r255\", \"s559\", \"s381\", \"d214\", \"r255\", \"s559\",…\n",
      "$ winner.bornAt          \u001b[3m\u001b[90m<chr>\u001b[39m\u001b[23m \"Australia\", \"Netherlands\", \"Netherlands\", \"Cze…\n",
      "$ winner.domHand         \u001b[3m\u001b[90m<chr>\u001b[39m\u001b[23m \"Right-Handed\", \"Right-Handed\", \"Left-Handed\", …\n",
      "$ winner.backHand        \u001b[3m\u001b[90m<chr>\u001b[39m\u001b[23m \" One-Handed Backhand\", \" Unknown Backhand\", \" …\n",
      "$ winner.height          \u001b[3m\u001b[90m<int>\u001b[39m\u001b[23m 185, 185, 183, 188, 185, 185, 183, 185, 188, 18…\n",
      "$ looser.name            \u001b[3m\u001b[90m<chr>\u001b[39m\u001b[23m \"Martin Damm\", \"Richard Krajicek\", \"Steve Campb…\n",
      "$ looser.id              \u001b[3m\u001b[90m<chr>\u001b[39m\u001b[23m \"d214\", \"k214\", \"c355\", \"k237\", \"s572\", \"w254\",…\n",
      "$ looser.bornAt          \u001b[3m\u001b[90m<chr>\u001b[39m\u001b[23m \"Czech Republic\", \"Netherlands\", \"USA\", \"Czech …\n",
      "$ looser.domHand         \u001b[3m\u001b[90m<chr>\u001b[39m\u001b[23m \"Right-Handed\", \"Right-Handed\", \"Right-Handed\",…\n",
      "$ looser.backHand        \u001b[3m\u001b[90m<chr>\u001b[39m\u001b[23m \" Unknown Backhand\", \" One-Handed Backhand\", \" …\n",
      "$ looser.height          \u001b[3m\u001b[90m<int>\u001b[39m\u001b[23m 188, 196, 183, 185, 193, 196, 191, 191, 185, 19…\n",
      "$ match.tournamentRound  \u001b[3m\u001b[90m<chr>\u001b[39m\u001b[23m \"Finals\", \"Quarter-Finals\", \"Quarter-Finals\", \"…\n",
      "$ match.setsCount        \u001b[3m\u001b[90m<int>\u001b[39m\u001b[23m 2, 1, 3, 3, 2, 2, 2, 2, 2, 3, 3, 2, 3, 2, 3, 2,…\n",
      "$ match.wasRet           \u001b[3m\u001b[90m<lgl>\u001b[39m\u001b[23m FALSE, FALSE, FALSE, FALSE, FALSE, FALSE, FALSE…\n",
      "$ match.hadTieBreaker    \u001b[3m\u001b[90m<lgl>\u001b[39m\u001b[23m TRUE, FALSE, FALSE, TRUE, FALSE, TRUE, FALSE, F…\n",
      "$ match.wasWalkover      \u001b[3m\u001b[90m<lgl>\u001b[39m\u001b[23m FALSE, TRUE, FALSE, FALSE, FALSE, FALSE, FALSE,…\n",
      "$ match.wasDef           \u001b[3m\u001b[90m<lgl>\u001b[39m\u001b[23m FALSE, FALSE, FALSE, FALSE, FALSE, FALSE, FALSE…\n",
      "$ tournament.name        \u001b[3m\u001b[90m<chr>\u001b[39m\u001b[23m \"'s-Hertogenbosch\", \"'s-Hertogenbosch\", \"'s-Her…\n",
      "$ tournament.prize       \u001b[3m\u001b[90m<chr>\u001b[39m\u001b[23m \"$475,000\", \"$475,000\", \"$475,000\", \"$475,000\",…\n",
      "$ tournament.ground      \u001b[3m\u001b[90m<chr>\u001b[39m\u001b[23m \"Grass\", \"Grass\", \"Grass\", \"Grass\", \"Grass\", \"G…\n",
      "$ tournament.location    \u001b[3m\u001b[90m<chr>\u001b[39m\u001b[23m \"Netherlands\", \"Netherlands\", \"Netherlands\", \"N…\n",
      "$ tournament.date_start  \u001b[3m\u001b[90m<date>\u001b[39m\u001b[23m 1998-06-15, 1998-06-15, 1998-06-15, 1998-06-15…\n",
      "$ tournament.date_finish \u001b[3m\u001b[90m<date>\u001b[39m\u001b[23m 1998-06-21, 1998-06-21, 1998-06-21, 1998-06-21…\n",
      "$ tournament.duration    \u001b[3m\u001b[90m<int>\u001b[39m\u001b[23m 6, 6, 6, 6, 6, 6, 6, 6, 6, 6, 6, 6, 6, 6, 6, 6,…\n"
     ]
    }
   ],
   "source": [
    "arrow::read_parquet(here(\"data\", \"atpTrans.parquet\")) -> atp\n",
    "atp %>% glimpse()"
   ]
  },
  {
   "cell_type": "code",
   "execution_count": null,
   "id": "05a15ab2-e9fd-4603-bb76-a546f7ddfe4f",
   "metadata": {},
   "outputs": [],
   "source": [
    "atp %>% filter(tournament.location == \"Australia\") -> atpA"
   ]
  },
  {
   "cell_type": "code",
   "execution_count": null,
   "id": "8be8cd53-b9c7-477e-89e2-22b218a3ca7e",
   "metadata": {},
   "outputs": [
    {
     "name": "stdout",
     "output_type": "stream",
     "text": [
      "── Data Summary ────────────────────────\n",
      "                           Values    \n",
      "Name                       Piped data\n",
      "Number of rows             21388     \n",
      "Number of columns          25        \n",
      "_______________________              \n",
      "Column type frequency:               \n",
      "  character                15        \n",
      "  Date                     2         \n",
      "  logical                  4         \n",
      "  numeric                  4         \n",
      "________________________             \n",
      "Group variables            None      \n",
      "\n",
      "── Variable type: character ────────────────────────────────────────────────────\n",
      "   skim_variable         n_missing complete_rate min max empty n_unique\n",
      "\u001b[90m 1\u001b[39m winner.name                   0         1       5  31     0     \u001b[4m1\u001b[24m870\n",
      "\u001b[90m 2\u001b[39m winner.id                   902         0.958   4   4     0     \u001b[4m1\u001b[24m620\n",
      "\u001b[90m 3\u001b[39m winner.bornAt              \u001b[4m3\u001b[24m143         0.853   3  24     0       84\n",
      "\u001b[90m 4\u001b[39m winner.domHand             \u001b[4m1\u001b[24m855         0.913  11  12     0        2\n",
      "\u001b[90m 5\u001b[39m winner.backHand            \u001b[4m1\u001b[24m855         0.913  17  20     0        3\n",
      "\u001b[90m 6\u001b[39m looser.name                   0         1       5  31     0     \u001b[4m2\u001b[24m632\n",
      "\u001b[90m 7\u001b[39m looser.id                  \u001b[4m1\u001b[24m686         0.921   4   4     0     \u001b[4m2\u001b[24m048\n",
      "\u001b[90m 8\u001b[39m looser.bornAt              \u001b[4m4\u001b[24m878         0.772   3  24     0       89\n",
      "\u001b[90m 9\u001b[39m looser.domHand             \u001b[4m3\u001b[24m416         0.840  11  12     0        3\n",
      "\u001b[90m10\u001b[39m looser.backHand            \u001b[4m3\u001b[24m416         0.840  17  20     0        3\n",
      "\u001b[90m11\u001b[39m match.tournamentRound         0         1       6  20     0       12\n",
      "\u001b[90m12\u001b[39m tournament.name               0         1       5  35     0      122\n",
      "\u001b[90m13\u001b[39m tournament.prize            317         0.985   6  12     0      118\n",
      "\u001b[90m14\u001b[39m tournament.ground             0         1       4   6     0        4\n",
      "\u001b[90m15\u001b[39m tournament.location           0         1       9   9     0        1\n",
      "   whitespace\n",
      "\u001b[90m 1\u001b[39m          0\n",
      "\u001b[90m 2\u001b[39m          0\n",
      "\u001b[90m 3\u001b[39m          0\n",
      "\u001b[90m 4\u001b[39m          0\n",
      "\u001b[90m 5\u001b[39m          0\n",
      "\u001b[90m 6\u001b[39m          0\n",
      "\u001b[90m 7\u001b[39m          0\n",
      "\u001b[90m 8\u001b[39m          0\n",
      "\u001b[90m 9\u001b[39m          0\n",
      "\u001b[90m10\u001b[39m          0\n",
      "\u001b[90m11\u001b[39m          0\n",
      "\u001b[90m12\u001b[39m          0\n",
      "\u001b[90m13\u001b[39m          0\n",
      "\u001b[90m14\u001b[39m          0\n",
      "\u001b[90m15\u001b[39m          0\n",
      "\n",
      "── Variable type: Date ─────────────────────────────────────────────────────────\n",
      "  skim_variable          n_missing complete_rate min        max       \n",
      "\u001b[90m1\u001b[39m tournament.date_start          0         1     1954-01-18 2022-03-21\n",
      "\u001b[90m2\u001b[39m tournament.date_finish       634         0.970 1954-02-01 2022-03-27\n",
      "  median     n_unique\n",
      "\u001b[90m1\u001b[39m 2009-04-27      548\n",
      "\u001b[90m2\u001b[39m 2010-01-10      508\n",
      "\n",
      "── Variable type: logical ──────────────────────────────────────────────────────\n",
      "  skim_variable       n_missing complete_rate     mean count                \n",
      "\u001b[90m1\u001b[39m match.wasRet                1          1.00 0.027\u001b[4m0\u001b[24m   FAL: 20809, TRU: 578 \n",
      "\u001b[90m2\u001b[39m match.hadTieBreaker         1          1.00 0.204    FAL: 17015, TRU: 4372\n",
      "\u001b[90m3\u001b[39m match.wasWalkover           1          1.00 0.004\u001b[4m3\u001b[24m\u001b[4m0\u001b[24m  FAL: 21295, TRU: 92  \n",
      "\u001b[90m4\u001b[39m match.wasDef                1          1.00 0.000\u001b[4m6\u001b[24m\u001b[4m0\u001b[24m\u001b[4m8\u001b[24m FAL: 21374, TRU: 13  \n",
      "\n",
      "── Variable type: numeric ──────────────────────────────────────────────────────\n",
      "  skim_variable       n_missing complete_rate   mean     sd p0 p25 p50 p75 p100\n",
      "\u001b[90m1\u001b[39m winner.height            \u001b[4m3\u001b[24m184         0.851 183.   19.4    0 180 185 188  211\n",
      "\u001b[90m2\u001b[39m looser.height            \u001b[4m5\u001b[24m002         0.766 183.   18.1    0 180 185 188  211\n",
      "\u001b[90m3\u001b[39m match.setsCount             1         1.00    2.62  0.824  1   2   2   3    6\n",
      "\u001b[90m4\u001b[39m tournament.duration         0         1       8.03  3.58   0   6   6  13   14\n"
     ]
    },
    {
     "ename": "ERROR",
     "evalue": "Error in is.null(text_repr) || nchar(text_repr) == 0L: 'length = 22' in coercion to 'logical(1)'\n",
     "output_type": "error",
     "traceback": [
      "Error in is.null(text_repr) || nchar(text_repr) == 0L: 'length = 22' in coercion to 'logical(1)'\nTraceback:\n"
     ]
    }
   ],
   "source": [
    "atpA %>% skimr::skim_without_charts()"
   ]
  }
 ],
 "metadata": {
  "kernelspec": {
   "display_name": "ir_pacd",
   "language": "R",
   "name": "ir_pacd"
  }
 },
 "nbformat": 4,
 "nbformat_minor": 5
}
