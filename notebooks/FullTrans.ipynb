{
 "cells": [
  {
   "cell_type": "code",
   "execution_count": 51,
   "id": "dbf277ae-a5d0-487f-a51d-cf9cd6dad9ef",
   "metadata": {
    "vscode": {
     "languageId": "r"
    }
   },
   "outputs": [
    {
     "name": "stdout",
     "output_type": "stream",
     "text": [
      "Rows: 682,069\n",
      "Columns: 27\n",
      "$ winner.name            \u001b[3m\u001b[90m<chr>\u001b[39m\u001b[23m \"Patrick Rafter\", \"Dennis Van Scheppingen\", \"Ja…\n",
      "$ winner.id              \u001b[3m\u001b[90m<chr>\u001b[39m\u001b[23m \"r255\", \"s559\", \"s381\", \"d214\", \"r255\", \"s559\",…\n",
      "$ winner.rank            \u001b[3m\u001b[90m<int>\u001b[39m\u001b[23m 6, 126, 26, 85, 6, 126, 26, 11, 85, 6, 12, 55, …\n",
      "$ winner.bornAt          \u001b[3m\u001b[90m<chr>\u001b[39m\u001b[23m \"Australia\", \"Netherlands\", \"Netherlands\", \"Cze…\n",
      "$ winner.domHand         \u001b[3m\u001b[90m<chr>\u001b[39m\u001b[23m \"Right-Handed\", \"Right-Handed\", \"Left-Handed\", …\n",
      "$ winner.backHand        \u001b[3m\u001b[90m<chr>\u001b[39m\u001b[23m \"One-Handed Backhand\", \"Unknown Backhand\", \"Unk…\n",
      "$ winner.height          \u001b[3m\u001b[90m<int>\u001b[39m\u001b[23m 185, 185, 183, 188, 185, 185, 183, 185, 188, 18…\n",
      "$ looser.name            \u001b[3m\u001b[90m<chr>\u001b[39m\u001b[23m \"Martin Damm\", \"Richard Krajicek\", \"Steve Campb…\n",
      "$ looser.id              \u001b[3m\u001b[90m<chr>\u001b[39m\u001b[23m \"d214\", \"k214\", \"c355\", \"k237\", \"s572\", \"w254\",…\n",
      "$ looser.rank            \u001b[3m\u001b[90m<int>\u001b[39m\u001b[23m 85, 12, 95, 11, 55, 189, 58, 60, 100, 94, 42, 3…\n",
      "$ looser.bornAt          \u001b[3m\u001b[90m<chr>\u001b[39m\u001b[23m \"Czech Republic\", \"Netherlands\", \"USA\", \"Czech …\n",
      "$ looser.domHand         \u001b[3m\u001b[90m<chr>\u001b[39m\u001b[23m \"Right-Handed\", \"Right-Handed\", \"Right-Handed\",…\n",
      "$ looser.backHand        \u001b[3m\u001b[90m<chr>\u001b[39m\u001b[23m \"Unknown Backhand\", \"One-Handed Backhand\", \"Unk…\n",
      "$ looser.height          \u001b[3m\u001b[90m<int>\u001b[39m\u001b[23m 188, 196, 183, 185, 193, 196, 191, 191, 185, 19…\n",
      "$ match.tournamentRound  \u001b[3m\u001b[90m<chr>\u001b[39m\u001b[23m \"Finals\", \"Quarter-Finals\", \"Quarter-Finals\", \"…\n",
      "$ match.setsCount        \u001b[3m\u001b[90m<int>\u001b[39m\u001b[23m 2, 1, 3, 3, 2, 2, 2, 2, 2, 3, 3, 2, 3, 2, 3, 2,…\n",
      "$ match.wasRet           \u001b[3m\u001b[90m<lgl>\u001b[39m\u001b[23m FALSE, FALSE, FALSE, FALSE, FALSE, FALSE, FALSE…\n",
      "$ match.hadTieBreaker    \u001b[3m\u001b[90m<lgl>\u001b[39m\u001b[23m TRUE, FALSE, FALSE, TRUE, FALSE, TRUE, FALSE, F…\n",
      "$ match.wasWalkover      \u001b[3m\u001b[90m<lgl>\u001b[39m\u001b[23m FALSE, TRUE, FALSE, FALSE, FALSE, FALSE, FALSE,…\n",
      "$ match.wasDef           \u001b[3m\u001b[90m<lgl>\u001b[39m\u001b[23m FALSE, FALSE, FALSE, FALSE, FALSE, FALSE, FALSE…\n",
      "$ tournament.name        \u001b[3m\u001b[90m<chr>\u001b[39m\u001b[23m \"'s-Hertogenbosch\", \"'s-Hertogenbosch\", \"'s-Her…\n",
      "$ tournament.prize       \u001b[3m\u001b[90m<chr>\u001b[39m\u001b[23m \"$475,000\", \"$475,000\", \"$475,000\", \"$475,000\",…\n",
      "$ tournament.ground      \u001b[3m\u001b[90m<chr>\u001b[39m\u001b[23m \"Grass\", \"Grass\", \"Grass\", \"Grass\", \"Grass\", \"G…\n",
      "$ tournament.location    \u001b[3m\u001b[90m<chr>\u001b[39m\u001b[23m \"Netherlands\", \"Netherlands\", \"Netherlands\", \"N…\n",
      "$ tournament.date_start  \u001b[3m\u001b[90m<date>\u001b[39m\u001b[23m 1998-06-15, 1998-06-15, 1998-06-15, 1998-06-15…\n",
      "$ tournament.date_finish \u001b[3m\u001b[90m<date>\u001b[39m\u001b[23m 1998-06-21, 1998-06-21, 1998-06-21, 1998-06-21…\n",
      "$ tournament.duration    \u001b[3m\u001b[90m<int>\u001b[39m\u001b[23m 6, 6, 6, 6, 6, 6, 6, 6, 6, 6, 6, 6, 6, 6, 6, 6,…\n"
     ]
    }
   ],
   "source": [
    "arrow::read_parquet(here(\"data\", \"atpTrans.parquet\")) -> atp\n",
    "atp %>% glimpse()"
   ]
  },
  {
   "cell_type": "markdown",
   "id": "3a784dfc-6b96-42cf-8438-47d58f5e1d40",
   "metadata": {},
   "source": [
    "FullTrans vai ser as transformações apó o filtro de Australia"
   ]
  },
  {
   "cell_type": "code",
   "execution_count": 52,
   "id": "05a15ab2-e9fd-4603-bb76-a546f7ddfe4f",
   "metadata": {
    "vscode": {
     "languageId": "r"
    }
   },
   "outputs": [
    {
     "name": "stderr",
     "output_type": "stream",
     "text": [
      "filter: removed 660,681 rows (97%), 21,388 rows remaining\n",
      "\n"
     ]
    }
   ],
   "source": [
    "atp %>% filter(tournament.location == \"Australia\") -> atpA"
   ]
  },
  {
   "cell_type": "code",
   "execution_count": 53,
   "id": "eaa7929b-42ce-436d-875a-05bd6e29d55c",
   "metadata": {
    "vscode": {
     "languageId": "r"
    }
   },
   "outputs": [
    {
     "name": "stderr",
     "output_type": "stream",
     "text": [
      "mutate: converted 'winner.bornAt' from character to factor (0 new NA)\n",
      "\n",
      "        converted 'winner.domHand' from character to factor (0 new NA)\n",
      "\n",
      "        converted 'winner.backHand' from character to factor (0 new NA)\n",
      "\n",
      "        converted 'looser.bornAt' from character to factor (0 new NA)\n",
      "\n",
      "        converted 'looser.domHand' from character to factor (0 new NA)\n",
      "\n",
      "        converted 'looser.backHand' from character to factor (0 new NA)\n",
      "\n",
      "        converted 'match.tournamentRound' from character to factor (0 new NA)\n",
      "\n",
      "        converted 'match.setsCount' from integer to factor (0 new NA)\n",
      "\n",
      "        converted 'tournament.ground' from character to factor (0 new NA)\n",
      "\n",
      "        converted 'tournament.location' from character to factor (0 new NA)\n",
      "\n"
     ]
    }
   ],
   "source": [
    "# parquet doesn't seem to save factor\n",
    "atpA %>% mutate(\n",
    "    winner.backHand = winner.backHand             %>% as.factor,\n",
    "    winner.domHand  = winner.domHand              %>% as.factor,\n",
    "    looser.backHand = looser.backHand             %>% as.factor,\n",
    "    looser.domHand  = looser.domHand              %>% as.factor,\n",
    "    match.tournamentRound = match.tournamentRound %>% as.factor,\n",
    "    tournament.ground = tournament.ground         %>% as.factor,\n",
    "    tournament.location = tournament.location     %>% as.factor,\n",
    "    winner.bornAt = winner.bornAt                 %>% as.factor,\n",
    "    looser.bornAt = looser.bornAt                 %>% as.factor,\n",
    "    match.setsCount = match.setsCount             %>% as.factor,\n",
    ") -> atpAF"
   ]
  },
  {
   "cell_type": "code",
   "execution_count": 54,
   "id": "8be8cd53-b9c7-477e-89e2-22b218a3ca7e",
   "metadata": {
    "vscode": {
     "languageId": "r"
    }
   },
   "outputs": [],
   "source": [
    "if (FALSE) {\n",
    "    atpAF %>% SmartEDA::ExpReport(op_file = \"temp.html\")\n",
    "}"
   ]
  },
  {
   "cell_type": "code",
   "execution_count": 55,
   "id": "7353cd4c-a983-4c2f-adc6-8415c28eade6",
   "metadata": {
    "vscode": {
     "languageId": "r"
    }
   },
   "outputs": [
    {
     "data": {
      "text/html": [
       "21388"
      ],
      "text/latex": [
       "21388"
      ],
      "text/markdown": [
       "21388"
      ],
      "text/plain": [
       "[1] 21388"
      ]
     },
     "metadata": {},
     "output_type": "display_data"
    }
   ],
   "source": [
    "(atpAF %>% nrow() -> nmatches.inicial)"
   ]
  },
  {
   "cell_type": "code",
   "execution_count": 56,
   "id": "8fbe447a-a85a-4bf2-bc34-4055917a7856",
   "metadata": {
    "vscode": {
     "languageId": "r"
    }
   },
   "outputs": [],
   "source": [
    "# things to fix:\n",
    "# turn nas into a factor too in backhand and domHand (backhand already has an unkown)\n",
    "# fazer eda do rank para perceber como tratalos"
   ]
  },
  {
   "cell_type": "markdown",
   "id": "8c6607da-53f6-4f97-b037-238f7a63502f",
   "metadata": {},
   "source": [
    "# Prize"
   ]
  },
  {
   "cell_type": "code",
   "execution_count": 57,
   "id": "c0c8a450-5598-4889-9961-b8e655e63d3c",
   "metadata": {
    "vscode": {
     "languageId": "r"
    }
   },
   "outputs": [
    {
     "name": "stderr",
     "output_type": "stream",
     "text": [
      "select: dropped 26 variables (winner.name, winner.id, winner.rank, winner.bornAt, winner.domHand, …)\n",
      "\n",
      "filter: removed all rows (100%)\n",
      "\n"
     ]
    },
    {
     "data": {
      "text/html": [
       "<table class=\"dataframe\">\n",
       "<caption>A tibble: 0 × 1</caption>\n",
       "<thead>\n",
       "\t<tr><th scope=col>tournament.prize</th></tr>\n",
       "\t<tr><th scope=col>&lt;chr&gt;</th></tr>\n",
       "</thead>\n",
       "<tbody>\n",
       "</tbody>\n",
       "</table>\n"
      ],
      "text/latex": [
       "A tibble: 0 × 1\n",
       "\\begin{tabular}{l}\n",
       " tournament.prize\\\\\n",
       " <chr>\\\\\n",
       "\\hline\n",
       "\\end{tabular}\n"
      ],
      "text/markdown": [
       "\n",
       "A tibble: 0 × 1\n",
       "\n",
       "| tournament.prize &lt;chr&gt; |\n",
       "|---|\n",
       "\n"
      ],
      "text/plain": [
       "     tournament.prize"
      ]
     },
     "metadata": {},
     "output_type": "display_data"
    }
   ],
   "source": [
    "atpAF %>% \n",
    "    select(tournament.prize) %>%\n",
    "    filter(str_detect(tournament.prize, fixed(\"$\"), negate=T))"
   ]
  },
  {
   "cell_type": "markdown",
   "id": "991e29a6-35e5-4d80-a529-0a0709e53ed0",
   "metadata": {},
   "source": [
    "Isto significa que não há prémios sem $"
   ]
  },
  {
   "cell_type": "code",
   "execution_count": 58,
   "id": "2ddeff7c-2b4e-44e5-9904-17f23a818293",
   "metadata": {
    "vscode": {
     "languageId": "r"
    }
   },
   "outputs": [
    {
     "name": "stderr",
     "output_type": "stream",
     "text": [
      "mutate: new variable 'tp' (character) with 119 unique values and 1% NA\n",
      "\n",
      "filter: removed 17,806 rows (83%), 3,582 rows remaining\n",
      "\n",
      "select: dropped 27 variables (winner.name, winner.id, winner.rank, winner.bornAt, winner.domHand, …)\n",
      "\n"
     ]
    },
    {
     "data": {
      "text/html": [
       "<table class=\"dataframe\">\n",
       "<caption>A tibble: 5 × 1</caption>\n",
       "<thead>\n",
       "\t<tr><th scope=col>tp</th></tr>\n",
       "\t<tr><th scope=col>&lt;chr&gt;</th></tr>\n",
       "</thead>\n",
       "<tbody>\n",
       "\t<tr><td>A9609870</td></tr>\n",
       "\t<tr><td>A9609870</td></tr>\n",
       "\t<tr><td>A9609870</td></tr>\n",
       "\t<tr><td>A9609870</td></tr>\n",
       "\t<tr><td>A9609870</td></tr>\n",
       "</tbody>\n",
       "</table>\n"
      ],
      "text/latex": [
       "A tibble: 5 × 1\n",
       "\\begin{tabular}{l}\n",
       " tp\\\\\n",
       " <chr>\\\\\n",
       "\\hline\n",
       "\t A9609870\\\\\n",
       "\t A9609870\\\\\n",
       "\t A9609870\\\\\n",
       "\t A9609870\\\\\n",
       "\t A9609870\\\\\n",
       "\\end{tabular}\n"
      ],
      "text/markdown": [
       "\n",
       "A tibble: 5 × 1\n",
       "\n",
       "| tp &lt;chr&gt; |\n",
       "|---|\n",
       "| A9609870 |\n",
       "| A9609870 |\n",
       "| A9609870 |\n",
       "| A9609870 |\n",
       "| A9609870 |\n",
       "\n"
      ],
      "text/plain": [
       "  tp      \n",
       "1 A9609870\n",
       "2 A9609870\n",
       "3 A9609870\n",
       "4 A9609870\n",
       "5 A9609870"
      ]
     },
     "metadata": {},
     "output_type": "display_data"
    }
   ],
   "source": [
    "atpAF %>%\n",
    "    mutate(tp = str_remove_all(tournament.prize, r\"{[,\\$]}\")) %>%\n",
    "    filter(str_detect(tp, r\"{[^0-9]}\")) %>% \n",
    "    select(tp) %>% head(5)"
   ]
  },
  {
   "cell_type": "markdown",
   "id": "c6ce151a-a601-4a66-bec7-3273021b2c26",
   "metadata": {},
   "source": [
    "Isto significa que há prémios em dollars Australianos"
   ]
  },
  {
   "cell_type": "code",
   "execution_count": 59,
   "id": "595ee382-5606-455e-9383-1e30d54d7f5d",
   "metadata": {
    "vscode": {
     "languageId": "r"
    }
   },
   "outputs": [
    {
     "name": "stderr",
     "output_type": "stream",
     "text": [
      "mutate: new variable 'tp' (character) with 119 unique values and 1% NA\n",
      "\n",
      "filter: removed all rows (100%)\n",
      "\n",
      "select: dropped 27 variables (winner.name, winner.id, winner.rank, winner.bornAt, winner.domHand, …)\n",
      "\n"
     ]
    },
    {
     "data": {
      "text/html": [
       "<table class=\"dataframe\">\n",
       "<caption>A tibble: 0 × 1</caption>\n",
       "<thead>\n",
       "\t<tr><th scope=col>tp</th></tr>\n",
       "\t<tr><th scope=col>&lt;chr&gt;</th></tr>\n",
       "</thead>\n",
       "<tbody>\n",
       "</tbody>\n",
       "</table>\n"
      ],
      "text/latex": [
       "A tibble: 0 × 1\n",
       "\\begin{tabular}{l}\n",
       " tp\\\\\n",
       " <chr>\\\\\n",
       "\\hline\n",
       "\\end{tabular}\n"
      ],
      "text/markdown": [
       "\n",
       "A tibble: 0 × 1\n",
       "\n",
       "| tp &lt;chr&gt; |\n",
       "|---|\n",
       "\n"
      ],
      "text/plain": [
       "     tp"
      ]
     },
     "metadata": {},
     "output_type": "display_data"
    }
   ],
   "source": [
    "atpAF %>%\n",
    "    mutate(tp = str_remove_all(tournament.prize, r\"{[,\\$A]}\")) %>%\n",
    "    filter(str_detect(tp, r\"{[^0-9]}\")) %>% \n",
    "    select(tp)"
   ]
  },
  {
   "cell_type": "markdown",
   "id": "fb074563-2d5e-403d-86e4-429dd7e05f7d",
   "metadata": {},
   "source": [
    "Isto significa que não há outras moedas, apenas USD e AUD"
   ]
  },
  {
   "cell_type": "code",
   "execution_count": 60,
   "id": "53f70389-3a0d-48c3-bd01-792726a67ba2",
   "metadata": {
    "vscode": {
     "languageId": "r"
    }
   },
   "outputs": [
    {
     "name": "stderr",
     "output_type": "stream",
     "text": [
      "rename: renamed one variable (tp)\n",
      "\n",
      "Warning message:\n",
      "\"\u001b[1m\u001b[22mThere was 1 warning in `.fun()`.\n",
      "\u001b[1m\u001b[22m\u001b[36mℹ\u001b[39m In argument: `tournament.prize = case_when(...)`.\n",
      "Caused by warning in `doll_to_aus()`:\n",
      "\u001b[33m!\u001b[39m NAs introduced by coercion\"\n",
      "mutate: new variable 'tournament.prize' (double) with 119 unique values and 1% NA\n",
      "\n",
      "select: dropped one variable (tp)\n",
      "\n",
      "filter: removed all rows (100%)\n",
      "\n"
     ]
    },
    {
     "data": {
      "text/html": [
       "0"
      ],
      "text/latex": [
       "0"
      ],
      "text/markdown": [
       "0"
      ],
      "text/plain": [
       "[1] 0"
      ]
     },
     "metadata": {},
     "output_type": "display_data"
    }
   ],
   "source": [
    "doll_to_aus <- \\(x) x*1.48\n",
    "atpAF %>%\n",
    "    rename(tp = tournament.prize) %>% \n",
    "    mutate(tournament.prize = case_when(\n",
    "        tp %>% is.na()                 ~ NA,\n",
    "        tp %>% str_detect(fixed(\"A$\")) ~ tp %>% str_remove_all(r\"{[\\A$,]}\") %>% as.double(),\n",
    "        tp %>% str_detect(fixed(\"$\"))  ~ tp %>% str_remove_all(r\"{[\\$,]}\")  %>% as.double() %>% doll_to_aus(),\n",
    "        TRUE ~ 9e+9\n",
    "     )) %>% select(-tp) -> atpAFP\n",
    "atpAFP %>% filter(tournament.prize == 9e+9) %>% nrow()"
   ]
  },
  {
   "cell_type": "markdown",
   "id": "3b26a6f3-a7e6-4a62-8cd0-e86700f69492",
   "metadata": {},
   "source": [
    "# Alturas"
   ]
  },
  {
   "cell_type": "code",
   "execution_count": 61,
   "id": "0f665759-66a2-4507-bb80-2fb6fcf7c9a9",
   "metadata": {
    "vscode": {
     "languageId": "r"
    }
   },
   "outputs": [],
   "source": [
    "library(skimr)\n",
    "# atpAFP %>% skim(winner.height, looser.height) # yields error because of jup"
   ]
  },
  {
   "cell_type": "markdown",
   "id": "4e7ae4aa-9bff-49fb-b016-3bb7f90ce0ba",
   "metadata": {},
   "source": [
    "Há muitos NAs e há números imposivelmente baixos"
   ]
  },
  {
   "cell_type": "code",
   "execution_count": 62,
   "id": "09feb02b-f531-460a-ae27-3b71494dd86f",
   "metadata": {
    "vscode": {
     "languageId": "r"
    }
   },
   "outputs": [
    {
     "name": "stderr",
     "output_type": "stream",
     "text": [
      "filter: removed 18,204 rows (85%), 3,184 rows remaining\n",
      "\n",
      "select: renamed 2 variables (player, id) and dropped 25 variables\n",
      "\n",
      "filter: removed 16,386 rows (77%), 5,002 rows remaining\n",
      "\n",
      "select: renamed 2 variables (player, id) and dropped 25 variables\n",
      "\n",
      "distinct: removed 7,103 rows (87%), 1,083 rows remaining\n",
      "\n"
     ]
    },
    {
     "name": "stdout",
     "output_type": "stream",
     "text": [
      "[1] 1083\n"
     ]
    },
    {
     "name": "stderr",
     "output_type": "stream",
     "text": [
      "filter: removed 449 rows (41%), 634 rows remaining\n",
      "\n"
     ]
    },
    {
     "name": "stdout",
     "output_type": "stream",
     "text": [
      "[1] 634\n"
     ]
    }
   ],
   "source": [
    "atpAFP %>% filter(winner.height %>% is.na) %>% select(player = winner.name, id = winner.id) -> a\n",
    "atpAFP %>% filter(looser.height %>% is.na) %>% select(player = looser.name, id = looser.id) -> b\n",
    "bind_rows(a, b) %>% distinct(player, id) -> c\n",
    "print(nrow(c))\n",
    "print(c %>% filter(id %>% is.na) %>% nrow())"
   ]
  },
  {
   "cell_type": "markdown",
   "id": "2385fd4e-6839-4ebf-904f-2c281aee4583",
   "metadata": {},
   "source": [
    "1083 jogadores não têm a sua altura marcada, 634 desses porque os seus jogos não são analisados do seu ponto de vista na base de dados. Desta forma estes não vão ser considerados. Da mesma forma os jogadores com 0 de altura também não vão ser considerados. Estes podiam ser interpolados, mas neste contexto não faria sentido."
   ]
  },
  {
   "cell_type": "code",
   "execution_count": 63,
   "id": "d62d6dd6-0db2-46c2-9d29-97fc593c491a",
   "metadata": {
    "vscode": {
     "languageId": "r"
    }
   },
   "outputs": [
    {
     "name": "stderr",
     "output_type": "stream",
     "text": [
      "mutate: changed 128 values (1%) of 'winner.height' (128 new NA)\n",
      "\n",
      "        changed 100 values (<1%) of 'looser.height' (100 new NA)\n",
      "\n",
      "filter: removed 7,031 rows (33%), 14,357 rows remaining\n",
      "\n"
     ]
    }
   ],
   "source": [
    "atpAFP %>% mutate(\n",
    "    winner.height = ifelse(winner.height == 0, NA, winner.height), \n",
    "    looser.height = ifelse(looser.height == 0, NA, looser.height),\n",
    ") %>% filter(!is.na(winner.height) & !is.na(looser.height)) -> atpAFPH"
   ]
  },
  {
   "cell_type": "code",
   "execution_count": 64,
   "id": "dacdc48a-c630-4e18-94e0-d3ca4856e5de",
   "metadata": {
    "vscode": {
     "languageId": "r"
    }
   },
   "outputs": [
    {
     "name": "stderr",
     "output_type": "stream",
     "text": [
      "filter: removed 14,315 rows (>99%), 42 rows remaining\n",
      "\n",
      "select: renamed 3 variables (player, id, height) and dropped 24 variables\n",
      "\n",
      "filter: removed 14,321 rows (>99%), 36 rows remaining\n",
      "\n",
      "select: renamed 3 variables (player, id, height) and dropped 24 variables\n",
      "\n",
      "distinct: removed 76 rows (97%), 2 rows remaining\n",
      "\n"
     ]
    },
    {
     "data": {
      "text/html": [
       "<table class=\"dataframe\">\n",
       "<caption>A tibble: 2 × 3</caption>\n",
       "<thead>\n",
       "\t<tr><th scope=col>player</th><th scope=col>id</th><th scope=col>height</th></tr>\n",
       "\t<tr><th scope=col>&lt;chr&gt;</th><th scope=col>&lt;chr&gt;</th><th scope=col>&lt;int&gt;</th></tr>\n",
       "</thead>\n",
       "<tbody>\n",
       "\t<tr><td>Grant Stafford</td><td>s406</td><td>15</td></tr>\n",
       "\t<tr><td>Nathan Healey </td><td>h431</td><td>15</td></tr>\n",
       "</tbody>\n",
       "</table>\n"
      ],
      "text/latex": [
       "A tibble: 2 × 3\n",
       "\\begin{tabular}{lll}\n",
       " player & id & height\\\\\n",
       " <chr> & <chr> & <int>\\\\\n",
       "\\hline\n",
       "\t Grant Stafford & s406 & 15\\\\\n",
       "\t Nathan Healey  & h431 & 15\\\\\n",
       "\\end{tabular}\n"
      ],
      "text/markdown": [
       "\n",
       "A tibble: 2 × 3\n",
       "\n",
       "| player &lt;chr&gt; | id &lt;chr&gt; | height &lt;int&gt; |\n",
       "|---|---|---|\n",
       "| Grant Stafford | s406 | 15 |\n",
       "| Nathan Healey  | h431 | 15 |\n",
       "\n"
      ],
      "text/plain": [
       "  player         id   height\n",
       "1 Grant Stafford s406 15    \n",
       "2 Nathan Healey  h431 15    "
      ]
     },
     "metadata": {},
     "output_type": "display_data"
    }
   ],
   "source": [
    "atpAFPH %>% filter(winner.height < 160) %>% select(player = winner.name, id = winner.id, height = winner.height) -> a\n",
    "atpAFPH %>% filter(looser.height < 160) %>% select(player = looser.name, id = looser.id, height = looser.height) -> b\n",
    "bind_rows(a, b) %>% distinct(player, id, height)"
   ]
  },
  {
   "cell_type": "markdown",
   "id": "52a3f591-530e-49ff-9e50-0a286c5ecb21",
   "metadata": {},
   "source": [
    "Os únicos jogadores com alturas não realistas são os anteriores. Ao fazer uma pesquisa, não é claro porque estes estão mal anotados, mas:\n",
    "\n",
    "* Nathan Healey  -> 180 cm\n",
    "* Grant Stafford -> 188 cm"
   ]
  },
  {
   "cell_type": "code",
   "execution_count": 65,
   "id": "07def4b2-0347-4761-9caf-978b60c82381",
   "metadata": {
    "vscode": {
     "languageId": "r"
    }
   },
   "outputs": [
    {
     "name": "stderr",
     "output_type": "stream",
     "text": [
      "mutate: converted 'winner.height' from integer to double (0 new NA)\n",
      "\n",
      "        converted 'looser.height' from integer to double (0 new NA)\n",
      "\n"
     ]
    }
   ],
   "source": [
    "atpAFPHF <- atpAFPH %>% mutate(winner.height = case_when(\n",
    "    winner.id == \"h431\" ~ 180,\n",
    "    winner.id == \"s406\" ~ 188,\n",
    "    TRUE ~ winner.height\n",
    "), looser.height = case_when(\n",
    "    looser.id == \"h431\" ~ 180,\n",
    "    looser.id == \"s406\" ~ 188,\n",
    "    TRUE ~ looser.height\n",
    "))\n",
    "# atpAFPHF %>% skim(winner.height, looser.height)"
   ]
  },
  {
   "cell_type": "markdown",
   "id": "a2426c22-8c8e-42ec-b9f7-74c690d9ce82",
   "metadata": {},
   "source": [
    "# Jogos inválidos\n",
    "De forma a facilitar a previsão, mas tirar jogos que acabaram prematuramente, or que não foram jogados. "
   ]
  },
  {
   "cell_type": "code",
   "execution_count": 66,
   "id": "7aa3c8a8-46ad-469f-aeb6-1d83144d7037",
   "metadata": {
    "vscode": {
     "languageId": "r"
    }
   },
   "outputs": [
    {
     "name": "stderr",
     "output_type": "stream",
     "text": [
      "filter: removed 437 rows (3%), 13,920 rows remaining\n",
      "\n",
      "select: dropped 3 variables (match.wasRet, match.wasWalkover, match.wasDef)\n",
      "\n"
     ]
    }
   ],
   "source": [
    "atpAFPHFR <- atpAFPHF %>% \n",
    "    filter(!match.wasRet, !match.wasWalkover, !match.wasDef) %>%\n",
    "    select(-match.wasRet, -match.wasWalkover, -match.wasDef)\n",
    "# atpAFPHFR %>% select(starts_with(\"match\")) %>% skim()"
   ]
  },
  {
   "cell_type": "markdown",
   "id": "a0d38a60-f08b-458e-bde7-6e6f2ca91310",
   "metadata": {},
   "source": [
    "Instruções superiores indicaram também que não vão ser analisados torneiros que incluém jogos à melhor de 5."
   ]
  },
  {
   "cell_type": "code",
   "execution_count": 67,
   "id": "57b6561f-b7ef-404e-ba1f-9433730fb840",
   "metadata": {
    "vscode": {
     "languageId": "r"
    }
   },
   "outputs": [
    {
     "name": "stderr",
     "output_type": "stream",
     "text": [
      "group_by: one grouping variable (tournament.name)\n",
      "\n",
      "filter (grouped): removed 7,073 rows (51%), 6,847 rows remaining\n",
      "\n",
      "ungroup: no grouping variables\n",
      "\n"
     ]
    }
   ],
   "source": [
    "atpAFPHFR -> atp.wbo5\n",
    "atp.wbo5 %>% \n",
    "    group_by(tournament.name) %>% \n",
    "    filter(!any(match.setsCount %>% as.integer > 3)) %>%\n",
    "    ungroup() -> atp.wo45"
   ]
  },
  {
   "cell_type": "markdown",
   "id": "63bcc6e0-8013-4beb-bbe0-881aacf32a65",
   "metadata": {},
   "source": [
    "Jogos à melhor de 3 podem ter entre 3, 4 ou 5 sets, e jogos à melhor de 2 podem ter entre 2 e 3 sets. Logo, torneios que apenas tiveram jogos com 3 sets não são claros se são há melhor de 5."
   ]
  },
  {
   "cell_type": "code",
   "execution_count": 68,
   "id": "00a6b5ff-d018-4b74-9794-cf6738a282e0",
   "metadata": {
    "vscode": {
     "languageId": "r"
    }
   },
   "outputs": [
    {
     "name": "stderr",
     "output_type": "stream",
     "text": [
      "group_by: one grouping variable (tournament.name)\n",
      "\n",
      "filter (grouped): removed 6,835 rows (>99%), 12 rows remaining\n",
      "\n",
      "summarise: now 5 rows and one column, ungrouped\n",
      "\n"
     ]
    },
    {
     "data": {
      "text/html": [
       "<table class=\"dataframe\">\n",
       "<caption>A tibble: 5 × 1</caption>\n",
       "<thead>\n",
       "\t<tr><th scope=col>tournament.name</th></tr>\n",
       "\t<tr><th scope=col>&lt;chr&gt;</th></tr>\n",
       "</thead>\n",
       "<tbody>\n",
       "\t<tr><td>AUS v. MAR WG PO       </td></tr>\n",
       "\t<tr><td>AUS v. SWE WG 1st RD   </td></tr>\n",
       "\t<tr><td>AUS vs. SVK WG Play-Off</td></tr>\n",
       "\t<tr><td>Adelaide-2             </td></tr>\n",
       "\t<tr><td>ROM V AUS QF           </td></tr>\n",
       "</tbody>\n",
       "</table>\n"
      ],
      "text/latex": [
       "A tibble: 5 × 1\n",
       "\\begin{tabular}{l}\n",
       " tournament.name\\\\\n",
       " <chr>\\\\\n",
       "\\hline\n",
       "\t AUS v. MAR WG PO       \\\\\n",
       "\t AUS v. SWE WG 1st RD   \\\\\n",
       "\t AUS vs. SVK WG Play-Off\\\\\n",
       "\t Adelaide-2             \\\\\n",
       "\t ROM V AUS QF           \\\\\n",
       "\\end{tabular}\n"
      ],
      "text/markdown": [
       "\n",
       "A tibble: 5 × 1\n",
       "\n",
       "| tournament.name &lt;chr&gt; |\n",
       "|---|\n",
       "| AUS v. MAR WG PO        |\n",
       "| AUS v. SWE WG 1st RD    |\n",
       "| AUS vs. SVK WG Play-Off |\n",
       "| Adelaide-2              |\n",
       "| ROM V AUS QF            |\n",
       "\n"
      ],
      "text/plain": [
       "  tournament.name        \n",
       "1 AUS v. MAR WG PO       \n",
       "2 AUS v. SWE WG 1st RD   \n",
       "3 AUS vs. SVK WG Play-Off\n",
       "4 Adelaide-2             \n",
       "5 ROM V AUS QF           "
      ]
     },
     "metadata": {},
     "output_type": "display_data"
    }
   ],
   "source": [
    "atp.wo45 %>% \n",
    "    group_by(tournament.name) %>% \n",
    "    filter(all(match.setsCount == 3)) %>% \n",
    "    summarise()"
   ]
  },
  {
   "cell_type": "markdown",
   "id": "b223e70e-d010-43d4-8079-9d591d5c1527",
   "metadata": {},
   "source": [
    "Felizmente apenas sobraram 5 desses torneios, portanto podemos pesquisar sobre estes manualmente"
   ]
  },
  {
   "cell_type": "code",
   "execution_count": 69,
   "id": "2bdc7cf7-3432-4071-ab60-5608f14a988b",
   "metadata": {
    "vscode": {
     "languageId": "r"
    }
   },
   "outputs": [
    {
     "name": "stderr",
     "output_type": "stream",
     "text": [
      "filter: removed 8 rows (<1%), 6,839 rows remaining\n",
      "\n"
     ]
    }
   ],
   "source": [
    "toRem = c(\"AUS v. MAR WG PO\",\"AUS v. SWE WG 1st RD\",\"AUS vs. SVK WG Play-Off\",\"ROM V AUS QF\")\n",
    "atp.wo45 %>% filter(!(tournament.name %in% toRem)) -> atp.wobo5"
   ]
  },
  {
   "cell_type": "code",
   "execution_count": 70,
   "id": "d97d59fe-4774-4fd0-9654-49ef6a5ca951",
   "metadata": {
    "vscode": {
     "languageId": "r"
    }
   },
   "outputs": [
    {
     "data": {
      "text/html": [
       "6839"
      ],
      "text/latex": [
       "6839"
      ],
      "text/markdown": [
       "6839"
      ],
      "text/plain": [
       "[1] 6839"
      ]
     },
     "metadata": {},
     "output_type": "display_data"
    }
   ],
   "source": [
    "atp.wobo5 %>% nrow()"
   ]
  },
  {
   "cell_type": "markdown",
   "id": "c8fe0868-9695-4522-822c-30fd257aff69",
   "metadata": {},
   "source": [
    "# domHand, backHand e rank"
   ]
  },
  {
   "cell_type": "code",
   "execution_count": 71,
   "id": "eb120d41-77a9-4986-8496-43d05ed2e434",
   "metadata": {
    "vscode": {
     "languageId": "r"
    }
   },
   "outputs": [],
   "source": [
    "# atp.wobo5 %>% skim(winner.domHand, looser.domHand, winner.backHand,looser.backHand, winner.rank, looser.rank)"
   ]
  },
  {
   "cell_type": "markdown",
   "id": "8f50dab9-bfa7-4d60-87f9-dcfa987aaf55",
   "metadata": {},
   "source": [
    "A base de dados inclui apenas 5 `missings` e 1 ambidestro. Como são poucos, podemos tirar estes. O mesmo se aplica ao rank de alguns jogos."
   ]
  },
  {
   "cell_type": "code",
   "execution_count": 72,
   "id": "a00905a2-3268-4768-a8cc-2d65f107d717",
   "metadata": {
    "vscode": {
     "languageId": "r"
    }
   },
   "outputs": [
    {
     "name": "stderr",
     "output_type": "stream",
     "text": [
      "filter: removed 6 rows (<1%), 6,833 rows remaining\n",
      "\n",
      "filter: removed 468 rows (7%), 6,365 rows remaining\n",
      "\n"
     ]
    }
   ],
   "source": [
    "df <- atp.wobo5 %>% \n",
    "    filter(!(looser.domHand %>% is.na) & looser.domHand != \"Ambidextrous\") %>%\n",
    "    filter(!(looser.rank %>% is.na) & !(winner.rank %>% is.na))\n",
    "# df %>% skim(winner.domHand, looser.domHand, winner.backHand,looser.backHand)"
   ]
  },
  {
   "cell_type": "markdown",
   "id": "aee5c403-9c90-456f-b193-9417a6aeecdd",
   "metadata": {},
   "source": [
    "# Algumas características diretas"
   ]
  },
  {
   "cell_type": "code",
   "execution_count": 73,
   "id": "396eb713-9fb0-4fe1-8958-3f3df7dad0bd",
   "metadata": {
    "vscode": {
     "languageId": "r"
    }
   },
   "outputs": [
    {
     "data": {
      "text/html": [
       "<time datetime=\"1974-12-09\">1974-12-09</time>"
      ],
      "text/latex": [
       "1974-12-09"
      ],
      "text/markdown": [
       "1974-12-09"
      ],
      "text/plain": [
       "[1] \"1974-12-09\""
      ]
     },
     "metadata": {},
     "output_type": "display_data"
    }
   ],
   "source": [
    "firstT <- df %>% arrange(tournament.date_start) %>% head(1) |> _$tournament.date_start\n",
    "firstT "
   ]
  },
  {
   "cell_type": "code",
   "execution_count": 74,
   "id": "a42d9939-4f81-41a7-8cd3-6265a57e3425",
   "metadata": {
    "vscode": {
     "languageId": "r"
    }
   },
   "outputs": [
    {
     "name": "stderr",
     "output_type": "stream",
     "text": [
      "mutate: converted 'match.domHands' from character to factor (0 new NA)\n",
      "\n",
      "        converted 'match.backHands' from character to factor (0 new NA)\n",
      "\n",
      "        new variable 'match.diffHeights' (double) with 48 unique values and 0% NA\n",
      "\n",
      "        new variable 'match.avgHeights' (double) with 51 unique values and 0% NA\n",
      "\n",
      "        new variable 'tournament.month' (ordered factor) with 11 unique values and 0% NA\n",
      "\n",
      "        new variable 'tournament.quarter' (factor) with 4 unique values and 0% NA\n",
      "\n",
      "        new variable 'tournament.dateDistance' (double) with 360 unique values and 0% NA\n",
      "\n",
      "        new variable 'match.diffRank' (integer) with 1,566 unique values and 0% NA\n",
      "\n",
      "        new variable 'match.avgRank' (double) with 1,979 unique values and 0% NA\n",
      "\n",
      "select: dropped one variable (tournament.location)\n",
      "\n",
      "mutate: changed 0 values (0%) of 'match.setsCount' (0 new NA)\n",
      "\n"
     ]
    }
   ],
   "source": [
    "df %>%\n",
    "    unite(\"match.domHands\", c(winner.domHand, looser.domHand)) %>%\n",
    "    unite(\"match.backHands\", c(winner.backHand, looser.backHand)) %>%\n",
    "    mutate(\n",
    "        match.domHands          = match.domHands %>% as.factor(),\n",
    "        match.backHands         = match.backHands %>% as.factor(),\n",
    "        match.diffHeights       = winner.height - looser.height,\n",
    "        match.avgHeights        = rowMeans(across(c(winner.height, looser.height))),\n",
    "        tournament.month        = month(tournament.date_start, label=T),\n",
    "        tournament.quarter      = quarter(tournament.date_start) %>% as.factor(),\n",
    "        tournament.dateDistance = difftime(firstT, tournament.date_start, units = \"weeks\"),\n",
    "        match.diffRank          = winner.rank - looser.rank,\n",
    "        match.avgRank           = rowMeans(across(c(winner.rank, looser.rank)))\n",
    "    ) %>% \n",
    "    select(-tournament.location) %>% \n",
    "    mutate(match.setsCount = fct_drop(match.setsCount))->  dfF\n",
    "# dfF %>% skim()"
   ]
  },
  {
   "cell_type": "code",
   "execution_count": 75,
   "id": "39c83385-fbb0-4a37-8abd-33d8c0632797",
   "metadata": {
    "vscode": {
     "languageId": "r"
    }
   },
   "outputs": [
    {
     "data": {
      "text/html": [
       "6365"
      ],
      "text/latex": [
       "6365"
      ],
      "text/markdown": [
       "6365"
      ],
      "text/plain": [
       "[1] 6365"
      ]
     },
     "metadata": {},
     "output_type": "display_data"
    }
   ],
   "source": [
    "dfF %>% nrow()"
   ]
  },
  {
   "cell_type": "code",
   "execution_count": 76,
   "id": "0d8239ff-ec5d-44a0-8795-399d68b89bcb",
   "metadata": {
    "vscode": {
     "languageId": "r"
    }
   },
   "outputs": [],
   "source": [
    "dfF %>% arrow::write_parquet(here(\"data\", \"featureless.parquet\"))"
   ]
  },
  {
   "cell_type": "markdown",
   "id": "a972a06d-6069-4ab5-998c-faac2d6324eb",
   "metadata": {},
   "source": [
    "# Primeiro modelo"
   ]
  },
  {
   "cell_type": "code",
   "execution_count": 77,
   "id": "98437808-d048-4310-b8b2-b01d4d465e21",
   "metadata": {
    "vscode": {
     "languageId": "r"
    }
   },
   "outputs": [
    {
     "name": "stderr",
     "output_type": "stream",
     "text": [
      "mutate: converted 'match.setsCount' from factor to double (0 new NA)\n",
      "\n",
      "select: dropped 24 variables (winner.name, winner.id, winner.rank, winner.bornAt, match.domHands, …)\n",
      "\n"
     ]
    },
    {
     "data": {
      "image/png": "[encoded data removed]",
      "text/plain": [
       "plot without title"
      ]
     },
     "metadata": {
      "image/png": {
       "height": 420,
       "width": 420
      }
     },
     "output_type": "display_data"
    }
   ],
   "source": [
    "library(ggcorrplot)\n",
    "cor(dfF %>% mutate(match.setsCount = match.setsCount %>% as.numeric) %>% select(\n",
    "    match.setsCount,\n",
    "    # tournament.dateDistance,\n",
    "    # match.domHands,\n",
    "    # match.backHands,\n",
    "    # match.tournamentRound,\n",
    "    # tournament.ground,\n",
    "    # tournament.quarter,\n",
    "    # match.hadTieBreaker,\n",
    "    tournament.duration,\n",
    "    match.diffHeights,\n",
    "    match.diffRank\n",
    ")) %>% ggcorrplot(type = \"lower\",lab = TRUE)"
   ]
  },
  {
   "cell_type": "code",
   "execution_count": 78,
   "id": "26ef8c3a-8e94-44f8-9046-cb1c066b56d7",
   "metadata": {
    "vscode": {
     "languageId": "r"
    }
   },
   "outputs": [
    {
     "ename": "ERROR",
     "evalue": "Error in library(package, pos = pos, lib.loc = lib.loc, character.only = TRUE, : there is no package called 'corrr'\n",
     "output_type": "error",
     "traceback": [
      "Error in library(package, pos = pos, lib.loc = lib.loc, character.only = TRUE, : there is no package called 'corrr'\nTraceback:\n",
      "1. library(corrr)",
      "2. library(package, pos = pos, lib.loc = lib.loc, character.only = TRUE, \n .     logical.return = logical.return, warn.conflicts = FALSE, \n .     quietly = quietly, verbose = verbose, mask.ok = mask.ok, \n .     exclude = exclude, include.only = include.only, attach.required = attach.required)"
     ]
    }
   ],
   "source": [
    "library(corrr)\n",
    "dfF %>% select(\n",
    "    match.setsCount,\n",
    "    # tournament.dateDistance,\n",
    "    match.domHands,\n",
    "    match.backHands,\n",
    "    match.tournamentRound,\n",
    "    tournament.ground,\n",
    "    tournament.quarter,\n",
    "    match.hadTieBreaker,\n",
    "    # tournament.duration,\n",
    "    # match.diffHeights,\n",
    "    # match.diffRank\n",
    ") %>% colpair_map(function(x, y) {table(x, y) %>% rcompanion::cramerV()}, .diagonal = TRUE) %>% \n",
    "    as_matrix() %>% \n",
    "    ggcorrplot(type = \"lower\",lab = TRUE)"
   ]
  },
  {
   "cell_type": "code",
   "execution_count": null,
   "id": "08f75638-6138-426e-8c49-f14cf7ba2007",
   "metadata": {
    "vscode": {
     "languageId": "r"
    }
   },
   "outputs": [],
   "source": [
    "# spliting\n",
    "set.seed(1)\n",
    "df.split <- initial_split(dfF, prop = 3/4, strata = match.setsCount)\n",
    "df.train <- training(df.split)\n",
    "df.test  <- testing (df.split)"
   ]
  },
  {
   "cell_type": "code",
   "execution_count": null,
   "id": "bfe142f6-2a35-467c-bc78-36c41db58b1c",
   "metadata": {
    "vscode": {
     "languageId": "r"
    }
   },
   "outputs": [
    {
     "data": {
      "text/html": [
       "<table class=\"dataframe\">\n",
       "<caption>A tibble: 1 × 8</caption>\n",
       "<thead>\n",
       "\t<tr><th scope=col>null.deviance</th><th scope=col>df.null</th><th scope=col>logLik</th><th scope=col>AIC</th><th scope=col>BIC</th><th scope=col>deviance</th><th scope=col>df.residual</th><th scope=col>nobs</th></tr>\n",
       "\t<tr><th scope=col>&lt;dbl&gt;</th><th scope=col>&lt;int&gt;</th><th scope=col>&lt;dbl&gt;</th><th scope=col>&lt;dbl&gt;</th><th scope=col>&lt;dbl&gt;</th><th scope=col>&lt;dbl&gt;</th><th scope=col>&lt;int&gt;</th><th scope=col>&lt;int&gt;</th></tr>\n",
       "</thead>\n",
       "<tbody>\n",
       "\t<tr><td>6099.459</td><td>4772</td><td>-2910.795</td><td>5887.589</td><td>6101.124</td><td>5821.589</td><td>4740</td><td>4773</td></tr>\n",
       "</tbody>\n",
       "</table>\n"
      ],
      "text/latex": [
       "A tibble: 1 × 8\n",
       "\\begin{tabular}{llllllll}\n",
       " null.deviance & df.null & logLik & AIC & BIC & deviance & df.residual & nobs\\\\\n",
       " <dbl> & <int> & <dbl> & <dbl> & <dbl> & <dbl> & <int> & <int>\\\\\n",
       "\\hline\n",
       "\t 6099.459 & 4772 & -2910.795 & 5887.589 & 6101.124 & 5821.589 & 4740 & 4773\\\\\n",
       "\\end{tabular}\n"
      ],
      "text/markdown": [
       "\n",
       "A tibble: 1 × 8\n",
       "\n",
       "| null.deviance &lt;dbl&gt; | df.null &lt;int&gt; | logLik &lt;dbl&gt; | AIC &lt;dbl&gt; | BIC &lt;dbl&gt; | deviance &lt;dbl&gt; | df.residual &lt;int&gt; | nobs &lt;int&gt; |\n",
       "|---|---|---|---|---|---|---|---|\n",
       "| 6099.459 | 4772 | -2910.795 | 5887.589 | 6101.124 | 5821.589 | 4740 | 4773 |\n",
       "\n"
      ],
      "text/plain": [
       "  null.deviance df.null logLik    AIC      BIC      deviance df.residual nobs\n",
       "1 6099.459      4772    -2910.795 5887.589 6101.124 5821.589 4740        4773"
      ]
     },
     "metadata": {},
     "output_type": "display_data"
    }
   ],
   "source": [
    "# first model\n",
    "models.first <- workflow() %>% \n",
    "    add_model(logistic_reg(mode=\"classification\")) %>%\n",
    "    add_formula(match.setsCount ~ \n",
    "        tournament.dateDistance + \n",
    "        match.domHands + \n",
    "        match.backHands + \n",
    "        match.tournamentRound + \n",
    "        tournament.ground + \n",
    "        tournament.quarter + \n",
    "        match.hadTieBreaker + \n",
    "        tournament.duration + \n",
    "        match.diffHeights + \n",
    "        match.diffRank,\n",
    "    ) %>% fit(df.train) # fit_resamples(df.10fold)\n",
    "models.first %>% glance()"
   ]
  },
  {
   "cell_type": "code",
   "execution_count": null,
   "id": "bac79a29-b036-43e0-9692-3dba2468156c",
   "metadata": {
    "vscode": {
     "languageId": "r"
    }
   },
   "outputs": [
    {
     "data": {
      "text/html": [
       "<table class=\"dataframe\">\n",
       "<caption>A data.frame: 1592 × 2</caption>\n",
       "<thead>\n",
       "\t<tr><th scope=col>pred</th><th scope=col>truth</th></tr>\n",
       "\t<tr><th scope=col>&lt;fct&gt;</th><th scope=col>&lt;fct&gt;</th></tr>\n",
       "</thead>\n",
       "<tbody>\n",
       "\t<tr><td>2</td><td>2</td></tr>\n",
       "\t<tr><td>2</td><td>3</td></tr>\n",
       "\t<tr><td>2</td><td>2</td></tr>\n",
       "\t<tr><td>3</td><td>3</td></tr>\n",
       "\t<tr><td>2</td><td>3</td></tr>\n",
       "\t<tr><td>2</td><td>2</td></tr>\n",
       "\t<tr><td>2</td><td>2</td></tr>\n",
       "\t<tr><td>2</td><td>2</td></tr>\n",
       "\t<tr><td>2</td><td>3</td></tr>\n",
       "\t<tr><td>2</td><td>2</td></tr>\n",
       "\t<tr><td>2</td><td>2</td></tr>\n",
       "\t<tr><td>2</td><td>3</td></tr>\n",
       "\t<tr><td>2</td><td>2</td></tr>\n",
       "\t<tr><td>3</td><td>3</td></tr>\n",
       "\t<tr><td>2</td><td>2</td></tr>\n",
       "\t<tr><td>2</td><td>3</td></tr>\n",
       "\t<tr><td>3</td><td>2</td></tr>\n",
       "\t<tr><td>2</td><td>2</td></tr>\n",
       "\t<tr><td>2</td><td>2</td></tr>\n",
       "\t<tr><td>2</td><td>3</td></tr>\n",
       "\t<tr><td>3</td><td>3</td></tr>\n",
       "\t<tr><td>2</td><td>2</td></tr>\n",
       "\t<tr><td>2</td><td>2</td></tr>\n",
       "\t<tr><td>2</td><td>2</td></tr>\n",
       "\t<tr><td>3</td><td>3</td></tr>\n",
       "\t<tr><td>2</td><td>2</td></tr>\n",
       "\t<tr><td>2</td><td>3</td></tr>\n",
       "\t<tr><td>2</td><td>2</td></tr>\n",
       "\t<tr><td>2</td><td>2</td></tr>\n",
       "\t<tr><td>2</td><td>3</td></tr>\n",
       "\t<tr><td>⋮</td><td>⋮</td></tr>\n",
       "\t<tr><td>2</td><td>2</td></tr>\n",
       "\t<tr><td>2</td><td>2</td></tr>\n",
       "\t<tr><td>2</td><td>2</td></tr>\n",
       "\t<tr><td>3</td><td>3</td></tr>\n",
       "\t<tr><td>2</td><td>2</td></tr>\n",
       "\t<tr><td>2</td><td>3</td></tr>\n",
       "\t<tr><td>2</td><td>3</td></tr>\n",
       "\t<tr><td>2</td><td>3</td></tr>\n",
       "\t<tr><td>2</td><td>2</td></tr>\n",
       "\t<tr><td>2</td><td>2</td></tr>\n",
       "\t<tr><td>3</td><td>2</td></tr>\n",
       "\t<tr><td>2</td><td>3</td></tr>\n",
       "\t<tr><td>2</td><td>2</td></tr>\n",
       "\t<tr><td>3</td><td>3</td></tr>\n",
       "\t<tr><td>2</td><td>2</td></tr>\n",
       "\t<tr><td>2</td><td>2</td></tr>\n",
       "\t<tr><td>2</td><td>2</td></tr>\n",
       "\t<tr><td>2</td><td>2</td></tr>\n",
       "\t<tr><td>2</td><td>2</td></tr>\n",
       "\t<tr><td>2</td><td>2</td></tr>\n",
       "\t<tr><td>2</td><td>2</td></tr>\n",
       "\t<tr><td>2</td><td>2</td></tr>\n",
       "\t<tr><td>2</td><td>2</td></tr>\n",
       "\t<tr><td>2</td><td>2</td></tr>\n",
       "\t<tr><td>2</td><td>3</td></tr>\n",
       "\t<tr><td>2</td><td>2</td></tr>\n",
       "\t<tr><td>3</td><td>2</td></tr>\n",
       "\t<tr><td>3</td><td>2</td></tr>\n",
       "\t<tr><td>2</td><td>2</td></tr>\n",
       "\t<tr><td>2</td><td>2</td></tr>\n",
       "</tbody>\n",
       "</table>\n"
      ],
      "text/latex": [
       "A data.frame: 1592 × 2\n",
       "\\begin{tabular}{ll}\n",
       " pred & truth\\\\\n",
       " <fct> & <fct>\\\\\n",
       "\\hline\n",
       "\t 2 & 2\\\\\n",
       "\t 2 & 3\\\\\n",
       "\t 2 & 2\\\\\n",
       "\t 3 & 3\\\\\n",
       "\t 2 & 3\\\\\n",
       "\t 2 & 2\\\\\n",
       "\t 2 & 2\\\\\n",
       "\t 2 & 2\\\\\n",
       "\t 2 & 3\\\\\n",
       "\t 2 & 2\\\\\n",
       "\t 2 & 2\\\\\n",
       "\t 2 & 3\\\\\n",
       "\t 2 & 2\\\\\n",
       "\t 3 & 3\\\\\n",
       "\t 2 & 2\\\\\n",
       "\t 2 & 3\\\\\n",
       "\t 3 & 2\\\\\n",
       "\t 2 & 2\\\\\n",
       "\t 2 & 2\\\\\n",
       "\t 2 & 3\\\\\n",
       "\t 3 & 3\\\\\n",
       "\t 2 & 2\\\\\n",
       "\t 2 & 2\\\\\n",
       "\t 2 & 2\\\\\n",
       "\t 3 & 3\\\\\n",
       "\t 2 & 2\\\\\n",
       "\t 2 & 3\\\\\n",
       "\t 2 & 2\\\\\n",
       "\t 2 & 2\\\\\n",
       "\t 2 & 3\\\\\n",
       "\t ⋮ & ⋮\\\\\n",
       "\t 2 & 2\\\\\n",
       "\t 2 & 2\\\\\n",
       "\t 2 & 2\\\\\n",
       "\t 3 & 3\\\\\n",
       "\t 2 & 2\\\\\n",
       "\t 2 & 3\\\\\n",
       "\t 2 & 3\\\\\n",
       "\t 2 & 3\\\\\n",
       "\t 2 & 2\\\\\n",
       "\t 2 & 2\\\\\n",
       "\t 3 & 2\\\\\n",
       "\t 2 & 3\\\\\n",
       "\t 2 & 2\\\\\n",
       "\t 3 & 3\\\\\n",
       "\t 2 & 2\\\\\n",
       "\t 2 & 2\\\\\n",
       "\t 2 & 2\\\\\n",
       "\t 2 & 2\\\\\n",
       "\t 2 & 2\\\\\n",
       "\t 2 & 2\\\\\n",
       "\t 2 & 2\\\\\n",
       "\t 2 & 2\\\\\n",
       "\t 2 & 2\\\\\n",
       "\t 2 & 2\\\\\n",
       "\t 2 & 3\\\\\n",
       "\t 2 & 2\\\\\n",
       "\t 3 & 2\\\\\n",
       "\t 3 & 2\\\\\n",
       "\t 2 & 2\\\\\n",
       "\t 2 & 2\\\\\n",
       "\\end{tabular}\n"
      ],
      "text/markdown": [
       "\n",
       "A data.frame: 1592 × 2\n",
       "\n",
       "| pred &lt;fct&gt; | truth &lt;fct&gt; |\n",
       "|---|---|\n",
       "| 2 | 2 |\n",
       "| 2 | 3 |\n",
       "| 2 | 2 |\n",
       "| 3 | 3 |\n",
       "| 2 | 3 |\n",
       "| 2 | 2 |\n",
       "| 2 | 2 |\n",
       "| 2 | 2 |\n",
       "| 2 | 3 |\n",
       "| 2 | 2 |\n",
       "| 2 | 2 |\n",
       "| 2 | 3 |\n",
       "| 2 | 2 |\n",
       "| 3 | 3 |\n",
       "| 2 | 2 |\n",
       "| 2 | 3 |\n",
       "| 3 | 2 |\n",
       "| 2 | 2 |\n",
       "| 2 | 2 |\n",
       "| 2 | 3 |\n",
       "| 3 | 3 |\n",
       "| 2 | 2 |\n",
       "| 2 | 2 |\n",
       "| 2 | 2 |\n",
       "| 3 | 3 |\n",
       "| 2 | 2 |\n",
       "| 2 | 3 |\n",
       "| 2 | 2 |\n",
       "| 2 | 2 |\n",
       "| 2 | 3 |\n",
       "| ⋮ | ⋮ |\n",
       "| 2 | 2 |\n",
       "| 2 | 2 |\n",
       "| 2 | 2 |\n",
       "| 3 | 3 |\n",
       "| 2 | 2 |\n",
       "| 2 | 3 |\n",
       "| 2 | 3 |\n",
       "| 2 | 3 |\n",
       "| 2 | 2 |\n",
       "| 2 | 2 |\n",
       "| 3 | 2 |\n",
       "| 2 | 3 |\n",
       "| 2 | 2 |\n",
       "| 3 | 3 |\n",
       "| 2 | 2 |\n",
       "| 2 | 2 |\n",
       "| 2 | 2 |\n",
       "| 2 | 2 |\n",
       "| 2 | 2 |\n",
       "| 2 | 2 |\n",
       "| 2 | 2 |\n",
       "| 2 | 2 |\n",
       "| 2 | 2 |\n",
       "| 2 | 2 |\n",
       "| 2 | 3 |\n",
       "| 2 | 2 |\n",
       "| 3 | 2 |\n",
       "| 3 | 2 |\n",
       "| 2 | 2 |\n",
       "| 2 | 2 |\n",
       "\n"
      ],
      "text/plain": [
       "     pred truth\n",
       "1    2    2    \n",
       "2    2    3    \n",
       "3    2    2    \n",
       "4    3    3    \n",
       "5    2    3    \n",
       "6    2    2    \n",
       "7    2    2    \n",
       "8    2    2    \n",
       "9    2    3    \n",
       "10   2    2    \n",
       "11   2    2    \n",
       "12   2    3    \n",
       "13   2    2    \n",
       "14   3    3    \n",
       "15   2    2    \n",
       "16   2    3    \n",
       "17   3    2    \n",
       "18   2    2    \n",
       "19   2    2    \n",
       "20   2    3    \n",
       "21   3    3    \n",
       "22   2    2    \n",
       "23   2    2    \n",
       "24   2    2    \n",
       "25   3    3    \n",
       "26   2    2    \n",
       "27   2    3    \n",
       "28   2    2    \n",
       "29   2    2    \n",
       "30   2    3    \n",
       "⋮    ⋮    ⋮    \n",
       "1563 2    2    \n",
       "1564 2    2    \n",
       "1565 2    2    \n",
       "1566 3    3    \n",
       "1567 2    2    \n",
       "1568 2    3    \n",
       "1569 2    3    \n",
       "1570 2    3    \n",
       "1571 2    2    \n",
       "1572 2    2    \n",
       "1573 3    2    \n",
       "1574 2    3    \n",
       "1575 2    2    \n",
       "1576 3    3    \n",
       "1577 2    2    \n",
       "1578 2    2    \n",
       "1579 2    2    \n",
       "1580 2    2    \n",
       "1581 2    2    \n",
       "1582 2    2    \n",
       "1583 2    2    \n",
       "1584 2    2    \n",
       "1585 2    2    \n",
       "1586 2    2    \n",
       "1587 2    3    \n",
       "1588 2    2    \n",
       "1589 3    2    \n",
       "1590 3    2    \n",
       "1591 2    2    \n",
       "1592 2    2    "
      ]
     },
     "metadata": {},
     "output_type": "display_data"
    }
   ],
   "source": [
    "models.first.pred <- predict(models.first, df.test)\n",
    "models.first.vs <- cbind(pred = models.first.pred, truth = df.test$match.setsCount) %>% rename(pred = .pred_class)\n",
    "models.first.vs "
   ]
  },
  {
   "cell_type": "code",
   "execution_count": null,
   "id": "a6f167c6-0ef0-4608-9861-d1044dc3f779",
   "metadata": {
    "vscode": {
     "languageId": "r"
    }
   },
   "outputs": [
    {
     "data": {
      "text/html": [
       "<table class=\"dataframe\">\n",
       "<caption>A tibble: 1 × 3</caption>\n",
       "<thead>\n",
       "\t<tr><th scope=col>.metric</th><th scope=col>.estimator</th><th scope=col>.estimate</th></tr>\n",
       "\t<tr><th scope=col>&lt;chr&gt;</th><th scope=col>&lt;chr&gt;</th><th scope=col>&lt;dbl&gt;</th></tr>\n",
       "</thead>\n",
       "<tbody>\n",
       "\t<tr><td>accuracy</td><td>binary</td><td>0.673995</td></tr>\n",
       "</tbody>\n",
       "</table>\n"
      ],
      "text/latex": [
       "A tibble: 1 × 3\n",
       "\\begin{tabular}{lll}\n",
       " .metric & .estimator & .estimate\\\\\n",
       " <chr> & <chr> & <dbl>\\\\\n",
       "\\hline\n",
       "\t accuracy & binary & 0.673995\\\\\n",
       "\\end{tabular}\n"
      ],
      "text/markdown": [
       "\n",
       "A tibble: 1 × 3\n",
       "\n",
       "| .metric &lt;chr&gt; | .estimator &lt;chr&gt; | .estimate &lt;dbl&gt; |\n",
       "|---|---|---|\n",
       "| accuracy | binary | 0.673995 |\n",
       "\n"
      ],
      "text/plain": [
       "  .metric  .estimator .estimate\n",
       "1 accuracy binary     0.673995 "
      ]
     },
     "metadata": {},
     "output_type": "display_data"
    }
   ],
   "source": [
    "models.first.vs %>% accuracy(truth= truth, estimate = pred)"
   ]
  },
  {
   "cell_type": "code",
   "execution_count": null,
   "id": "fa0c63be-b27a-4704-9540-bf1f6164e16e",
   "metadata": {
    "vscode": {
     "languageId": "r"
    }
   },
   "outputs": [
    {
     "data": {
      "text/html": [
       "<table class=\"dataframe\">\n",
       "<caption>A tibble: 1 × 3</caption>\n",
       "<thead>\n",
       "\t<tr><th scope=col>.metric</th><th scope=col>.estimator</th><th scope=col>.estimate</th></tr>\n",
       "\t<tr><th scope=col>&lt;chr&gt;</th><th scope=col>&lt;chr&gt;</th><th scope=col>&lt;dbl&gt;</th></tr>\n",
       "</thead>\n",
       "<tbody>\n",
       "\t<tr><td>f_meas</td><td>binary</td><td>0.7831174</td></tr>\n",
       "</tbody>\n",
       "</table>\n"
      ],
      "text/latex": [
       "A tibble: 1 × 3\n",
       "\\begin{tabular}{lll}\n",
       " .metric & .estimator & .estimate\\\\\n",
       " <chr> & <chr> & <dbl>\\\\\n",
       "\\hline\n",
       "\t f\\_meas & binary & 0.7831174\\\\\n",
       "\\end{tabular}\n"
      ],
      "text/markdown": [
       "\n",
       "A tibble: 1 × 3\n",
       "\n",
       "| .metric &lt;chr&gt; | .estimator &lt;chr&gt; | .estimate &lt;dbl&gt; |\n",
       "|---|---|---|\n",
       "| f_meas | binary | 0.7831174 |\n",
       "\n"
      ],
      "text/plain": [
       "  .metric .estimator .estimate\n",
       "1 f_meas  binary     0.7831174"
      ]
     },
     "metadata": {},
     "output_type": "display_data"
    }
   ],
   "source": [
    "models.first.vs %>% f_meas(truth= truth, estimate = pred)"
   ]
  },
  {
   "cell_type": "code",
   "execution_count": null,
   "id": "fe59bc46-7c01-486a-8682-5abb8df2c7af",
   "metadata": {
    "vscode": {
     "languageId": "r"
    }
   },
   "outputs": [
    {
     "data": {
      "text/plain": [
       "          Truth\n",
       "Prediction   2   3\n",
       "         2 937 400\n",
       "         3 119 136"
      ]
     },
     "metadata": {},
     "output_type": "display_data"
    }
   ],
   "source": [
    "models.first.vs %>% conf_mat(truth= truth, estimate = pred)"
   ]
  }
 ],
 "metadata": {
  "kernelspec": {
   "display_name": "IR PACD",
   "language": "R",
   "name": "ir_pacd"
  },
  "language_info": {
   "codemirror_mode": "r",
   "file_extension": ".r",
   "mimetype": "text/x-r-source",
   "name": "R",
   "pygments_lexer": "r",
   "version": "4.3.0"
  }
 },
 "nbformat": 4,
 "nbformat_minor": 5
}
