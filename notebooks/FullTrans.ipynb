{
 "cells": [
  {
   "cell_type": "code",
   "execution_count": null,
   "id": "dbf277ae-a5d0-487f-a51d-cf9cd6dad9ef",
   "metadata": {},
   "outputs": [
    {
     "name": "stdout",
     "output_type": "stream",
     "text": [
      "Rows: 682,069\n",
      "Columns: 27\n",
      "$ winner.name            \u001b[3m\u001b[90m<chr>\u001b[39m\u001b[23m \"Patrick Rafter\", \"Dennis Van Scheppingen\", \"Ja…\n",
      "$ winner.id              \u001b[3m\u001b[90m<chr>\u001b[39m\u001b[23m \"r255\", \"s559\", \"s381\", \"d214\", \"r255\", \"s559\",…\n",
      "$ winner.rank            \u001b[3m\u001b[90m<int>\u001b[39m\u001b[23m 6, 126, 26, 85, 6, 126, 26, 11, 85, 6, 12, 55, …\n",
      "$ winner.bornAt          \u001b[3m\u001b[90m<chr>\u001b[39m\u001b[23m \"Australia\", \"Netherlands\", \"Netherlands\", \"Cze…\n",
      "$ winner.domHand         \u001b[3m\u001b[90m<chr>\u001b[39m\u001b[23m \"Right-Handed\", \"Right-Handed\", \"Left-Handed\", …\n",
      "$ winner.backHand        \u001b[3m\u001b[90m<chr>\u001b[39m\u001b[23m \"One-Handed Backhand\", \"Unknown Backhand\", \"Unk…\n",
      "$ winner.height          \u001b[3m\u001b[90m<int>\u001b[39m\u001b[23m 185, 185, 183, 188, 185, 185, 183, 185, 188, 18…\n",
      "$ looser.name            \u001b[3m\u001b[90m<chr>\u001b[39m\u001b[23m \"Martin Damm\", \"Richard Krajicek\", \"Steve Campb…\n",
      "$ looser.id              \u001b[3m\u001b[90m<chr>\u001b[39m\u001b[23m \"d214\", \"k214\", \"c355\", \"k237\", \"s572\", \"w254\",…\n",
      "$ looser.rank            \u001b[3m\u001b[90m<int>\u001b[39m\u001b[23m 85, 12, 95, 11, 55, 189, 58, 60, 100, 94, 42, 3…\n",
      "$ looser.bornAt          \u001b[3m\u001b[90m<chr>\u001b[39m\u001b[23m \"Czech Republic\", \"Netherlands\", \"USA\", \"Czech …\n",
      "$ looser.domHand         \u001b[3m\u001b[90m<chr>\u001b[39m\u001b[23m \"Right-Handed\", \"Right-Handed\", \"Right-Handed\",…\n",
      "$ looser.backHand        \u001b[3m\u001b[90m<chr>\u001b[39m\u001b[23m \"Unknown Backhand\", \"One-Handed Backhand\", \"Unk…\n",
      "$ looser.height          \u001b[3m\u001b[90m<int>\u001b[39m\u001b[23m 188, 196, 183, 185, 193, 196, 191, 191, 185, 19…\n",
      "$ match.tournamentRound  \u001b[3m\u001b[90m<chr>\u001b[39m\u001b[23m \"Finals\", \"Quarter-Finals\", \"Quarter-Finals\", \"…\n",
      "$ match.setsCount        \u001b[3m\u001b[90m<int>\u001b[39m\u001b[23m 2, 1, 3, 3, 2, 2, 2, 2, 2, 3, 3, 2, 3, 2, 3, 2,…\n",
      "$ match.wasRet           \u001b[3m\u001b[90m<lgl>\u001b[39m\u001b[23m FALSE, FALSE, FALSE, FALSE, FALSE, FALSE, FALSE…\n",
      "$ match.hadTieBreaker    \u001b[3m\u001b[90m<lgl>\u001b[39m\u001b[23m TRUE, FALSE, FALSE, TRUE, FALSE, TRUE, FALSE, F…\n",
      "$ match.wasWalkover      \u001b[3m\u001b[90m<lgl>\u001b[39m\u001b[23m FALSE, TRUE, FALSE, FALSE, FALSE, FALSE, FALSE,…\n",
      "$ match.wasDef           \u001b[3m\u001b[90m<lgl>\u001b[39m\u001b[23m FALSE, FALSE, FALSE, FALSE, FALSE, FALSE, FALSE…\n",
      "$ tournament.name        \u001b[3m\u001b[90m<chr>\u001b[39m\u001b[23m \"'s-Hertogenbosch\", \"'s-Hertogenbosch\", \"'s-Her…\n",
      "$ tournament.prize       \u001b[3m\u001b[90m<chr>\u001b[39m\u001b[23m \"$475,000\", \"$475,000\", \"$475,000\", \"$475,000\",…\n",
      "$ tournament.ground      \u001b[3m\u001b[90m<chr>\u001b[39m\u001b[23m \"Grass\", \"Grass\", \"Grass\", \"Grass\", \"Grass\", \"G…\n",
      "$ tournament.location    \u001b[3m\u001b[90m<chr>\u001b[39m\u001b[23m \"Netherlands\", \"Netherlands\", \"Netherlands\", \"N…\n",
      "$ tournament.date_start  \u001b[3m\u001b[90m<date>\u001b[39m\u001b[23m 1998-06-15, 1998-06-15, 1998-06-15, 1998-06-15…\n",
      "$ tournament.date_finish \u001b[3m\u001b[90m<date>\u001b[39m\u001b[23m 1998-06-21, 1998-06-21, 1998-06-21, 1998-06-21…\n",
      "$ tournament.duration    \u001b[3m\u001b[90m<int>\u001b[39m\u001b[23m 6, 6, 6, 6, 6, 6, 6, 6, 6, 6, 6, 6, 6, 6, 6, 6,…\n"
     ]
    }
   ],
   "source": [
    "arrow::read_parquet(here(\"data\", \"atpTrans.parquet\")) -> atp\n",
    "atp %>% glimpse()"
   ]
  },
  {
   "cell_type": "code",
   "execution_count": null,
   "id": "05a15ab2-e9fd-4603-bb76-a546f7ddfe4f",
   "metadata": {},
   "outputs": [],
   "source": [
    "atp %>% filter(tournament.location == \"Australia\") -> atpA"
   ]
  },
  {
   "cell_type": "code",
   "execution_count": null,
   "id": "eaa7929b-42ce-436d-875a-05bd6e29d55c",
   "metadata": {},
   "outputs": [],
   "source": [
    "# parquet doesn't seem to save factor\n",
    "atpA %>% mutate(\n",
    "        winner.backHand = winner.backHand             %>% as.factor,\n",
    "        winner.domHand  = winner.domHand              %>% as.factor,\n",
    "        looser.backHand = looser.backHand             %>% as.factor,\n",
    "        looser.domHand  = looser.domHand              %>% as.factor,\n",
    "        match.tournamentRound = match.tournamentRound %>% as.factor,\n",
    "        tournament.ground = tournament.ground         %>% as.factor,\n",
    "        tournament.location = tournament.location     %>% as.factor\n",
    "    ) -> atpAF"
   ]
  },
  {
   "cell_type": "code",
   "execution_count": null,
   "id": "8be8cd53-b9c7-477e-89e2-22b218a3ca7e",
   "metadata": {},
   "outputs": [
    {
     "name": "stdout",
     "output_type": "stream",
     "text": [
      "── Data Summary ────────────────────────\n",
      "                           Values    \n",
      "Name                       Piped data\n",
      "Number of rows             21388     \n",
      "Number of columns          27        \n",
      "_______________________              \n",
      "Column type frequency:               \n",
      "  character                8         \n",
      "  Date                     2         \n",
      "  factor                   7         \n",
      "  logical                  4         \n",
      "  numeric                  6         \n",
      "________________________             \n",
      "Group variables            None      \n",
      "\n",
      "── Variable type: character ────────────────────────────────────────────────────\n",
      "  skim_variable    n_missing complete_rate min max empty n_unique whitespace\n",
      "\u001b[90m1\u001b[39m winner.name              0         1       5  31     0     \u001b[4m1\u001b[24m870          0\n",
      "\u001b[90m2\u001b[39m winner.id              902         0.958   4   4     0     \u001b[4m1\u001b[24m620          0\n",
      "\u001b[90m3\u001b[39m winner.bornAt         \u001b[4m3\u001b[24m143         0.853   3  24     0       84          0\n",
      "\u001b[90m4\u001b[39m looser.name              0         1       5  31     0     \u001b[4m2\u001b[24m632          0\n",
      "\u001b[90m5\u001b[39m looser.id             \u001b[4m1\u001b[24m686         0.921   4   4     0     \u001b[4m2\u001b[24m048          0\n",
      "\u001b[90m6\u001b[39m looser.bornAt         \u001b[4m4\u001b[24m878         0.772   3  24     0       89          0\n",
      "\u001b[90m7\u001b[39m tournament.name          0         1       5  35     0      122          0\n",
      "\u001b[90m8\u001b[39m tournament.prize       317         0.985   6  12     0      118          0\n",
      "\n",
      "── Variable type: Date ─────────────────────────────────────────────────────────\n",
      "  skim_variable          n_missing complete_rate min        max       \n",
      "\u001b[90m1\u001b[39m tournament.date_start          0         1     1954-01-18 2022-03-21\n",
      "\u001b[90m2\u001b[39m tournament.date_finish       634         0.970 1954-02-01 2022-03-27\n",
      "  median     n_unique\n",
      "\u001b[90m1\u001b[39m 2009-04-27      548\n",
      "\u001b[90m2\u001b[39m 2010-01-10      508\n",
      "\n",
      "── Variable type: factor ───────────────────────────────────────────────────────\n",
      "  skim_variable         n_missing complete_rate ordered n_unique\n",
      "\u001b[90m1\u001b[39m winner.domHand             \u001b[4m1\u001b[24m855         0.913 FALSE          2\n",
      "\u001b[90m2\u001b[39m winner.backHand            \u001b[4m1\u001b[24m855         0.913 FALSE          3\n",
      "\u001b[90m3\u001b[39m looser.domHand             \u001b[4m3\u001b[24m416         0.840 FALSE          3\n",
      "\u001b[90m4\u001b[39m looser.backHand            \u001b[4m3\u001b[24m416         0.840 FALSE          3\n",
      "\u001b[90m5\u001b[39m match.tournamentRound         0         1     FALSE         12\n",
      "\u001b[90m6\u001b[39m tournament.ground             0         1     FALSE          4\n",
      "\u001b[90m7\u001b[39m tournament.location           0         1     FALSE          1\n",
      "  top_counts                                \n",
      "\u001b[90m1\u001b[39m Rig: 17007, Lef: 2526                     \n",
      "\u001b[90m2\u001b[39m Two: 9891, Unk: 6970, One: 2672           \n",
      "\u001b[90m3\u001b[39m Rig: 15573, Lef: 2396, Amb: 3             \n",
      "\u001b[90m4\u001b[39m Two: 8735, Unk: 6884, One: 2353           \n",
      "\u001b[90m5\u001b[39m Rou: 6891, Rou: 3510, Rou: 2327, Rou: 1850\n",
      "\u001b[90m6\u001b[39m Har: 17205, Gra: 2712, Cla: 1223, Car: 248\n",
      "\u001b[90m7\u001b[39m Aus: 21388                                \n",
      "\n",
      "── Variable type: logical ──────────────────────────────────────────────────────\n",
      "  skim_variable       n_missing complete_rate     mean count                \n",
      "\u001b[90m1\u001b[39m match.wasRet                1          1.00 0.027\u001b[4m0\u001b[24m   FAL: 20809, TRU: 578 \n",
      "\u001b[90m2\u001b[39m match.hadTieBreaker         1          1.00 0.204    FAL: 17015, TRU: 4372\n",
      "\u001b[90m3\u001b[39m match.wasWalkover           1          1.00 0.004\u001b[4m3\u001b[24m\u001b[4m0\u001b[24m  FAL: 21295, TRU: 92  \n",
      "\u001b[90m4\u001b[39m match.wasDef                1          1.00 0.000\u001b[4m6\u001b[24m\u001b[4m0\u001b[24m\u001b[4m8\u001b[24m FAL: 21374, TRU: 13  \n",
      "\n",
      "── Variable type: numeric ──────────────────────────────────────────────────────\n",
      "  skim_variable       n_missing complete_rate   mean      sd p0 p25 p50 p75 p100\n",
      "\u001b[90m1\u001b[39m winner.rank              \u001b[4m2\u001b[24m271         0.894 289.   329.     1  53 179 398 \u001b[4m2\u001b[24m220\n",
      "\u001b[90m2\u001b[39m winner.height            \u001b[4m3\u001b[24m184         0.851 183.    19.4    0 180 185 188  211\n",
      "\u001b[90m3\u001b[39m looser.rank              \u001b[4m2\u001b[24m668         0.875 389.   429.     1  82 215 552 \u001b[4m2\u001b[24m246\n",
      "\u001b[90m4\u001b[39m looser.height            \u001b[4m5\u001b[24m002         0.766 183.    18.1    0 180 185 188  211\n",
      "\u001b[90m5\u001b[39m match.setsCount             1         1.00    2.62   0.824  1   2   2   3    6\n",
      "\u001b[90m6\u001b[39m tournament.duration         0         1       8.03   3.58   0   6   6  13   14\n"
     ]
    },
    {
     "ename": "ERROR",
     "evalue": "Error in is.null(text_repr) || nchar(text_repr) == 0L: 'length = 25' in coercion to 'logical(1)'\n",
     "output_type": "error",
     "traceback": [
      "Error in is.null(text_repr) || nchar(text_repr) == 0L: 'length = 25' in coercion to 'logical(1)'\nTraceback:\n"
     ]
    }
   ],
   "source": [
    "atpAF %>% skimr::skim_without_charts()"
   ]
  },
  {
   "cell_type": "code",
   "execution_count": null,
   "id": "8fbe447a-a85a-4bf2-bc34-4055917a7856",
   "metadata": {},
   "outputs": [],
   "source": [
    "# things to fix:\n",
    "# prize\n",
    "# maybe dont include those that are both heights missing\n",
    "# remove rets walkovers and defs\n",
    "# decide on how to remove best of 5 tournaments\n",
    "# remove missing match.setsCount too (should be the same as n_missing in logical match\n",
    "# turn nas into a factor too in backhand and domHand (backhand already has an unkown)\n",
    "# fazer eda do rank para perceber como tratalos"
   ]
  },
  {
   "cell_type": "code",
   "execution_count": null,
   "id": "ea53c132-9ab1-4b5f-a007-d565c700b801",
   "metadata": {},
   "outputs": [],
   "source": [
    "# features q faltam:\n",
    "# diferenca de alturas\n",
    "# media de alturas\n",
    "# idades (*)\n",
    "# numero de jogos jogados - diferenca/numero de wins/winrate\n",
    "# frequencia de jogos do pais de naturalidade\n",
    "# se pais tem jogos - condicao/contagem/diferenca/diferenca de condicao\n",
    "# domhand condicao\n",
    "# backhand condicao\n",
    "# se e atp\n",
    "# frequencia do torneio\n",
    "# mes do torneio\n",
    "# distancia ao ultimo torneio/primeiro\n",
    "# premio\n",
    "# distancia da ronda final\n",
    "# diferenca de rank /categoria de rank"
   ]
  }
 ],
 "metadata": {
  "kernelspec": {
   "display_name": "ir_pacd",
   "language": "R",
   "name": "ir_pacd"
  }
 },
 "nbformat": 4,
 "nbformat_minor": 5
}
