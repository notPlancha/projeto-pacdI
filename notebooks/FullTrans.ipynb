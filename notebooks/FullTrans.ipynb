{
 "cells": [
  {
   "cell_type": "code",
   "execution_count": null,
   "id": "dbf277ae-a5d0-487f-a51d-cf9cd6dad9ef",
   "metadata": {},
   "outputs": [
    {
     "name": "stdout",
     "output_type": "stream",
     "text": [
      "Rows: 682,069\n",
      "Columns: 27\n",
      "$ winner.name            \u001b[3m\u001b[90m<chr>\u001b[39m\u001b[23m \"Patrick Rafter\", \"Dennis Van Scheppingen\", \"Ja…\n",
      "$ winner.id              \u001b[3m\u001b[90m<chr>\u001b[39m\u001b[23m \"r255\", \"s559\", \"s381\", \"d214\", \"r255\", \"s559\",…\n",
      "$ winner.rank            \u001b[3m\u001b[90m<int>\u001b[39m\u001b[23m 6, 126, 26, 85, 6, 126, 26, 11, 85, 6, 12, 55, …\n",
      "$ winner.bornAt          \u001b[3m\u001b[90m<chr>\u001b[39m\u001b[23m \"Australia\", \"Netherlands\", \"Netherlands\", \"Cze…\n",
      "$ winner.domHand         \u001b[3m\u001b[90m<chr>\u001b[39m\u001b[23m \"Right-Handed\", \"Right-Handed\", \"Left-Handed\", …\n",
      "$ winner.backHand        \u001b[3m\u001b[90m<chr>\u001b[39m\u001b[23m \"One-Handed Backhand\", \"Unknown Backhand\", \"Unk…\n",
      "$ winner.height          \u001b[3m\u001b[90m<int>\u001b[39m\u001b[23m 185, 185, 183, 188, 185, 185, 183, 185, 188, 18…\n",
      "$ looser.name            \u001b[3m\u001b[90m<chr>\u001b[39m\u001b[23m \"Martin Damm\", \"Richard Krajicek\", \"Steve Campb…\n",
      "$ looser.id              \u001b[3m\u001b[90m<chr>\u001b[39m\u001b[23m \"d214\", \"k214\", \"c355\", \"k237\", \"s572\", \"w254\",…\n",
      "$ looser.rank            \u001b[3m\u001b[90m<int>\u001b[39m\u001b[23m 85, 12, 95, 11, 55, 189, 58, 60, 100, 94, 42, 3…\n",
      "$ looser.bornAt          \u001b[3m\u001b[90m<chr>\u001b[39m\u001b[23m \"Czech Republic\", \"Netherlands\", \"USA\", \"Czech …\n",
      "$ looser.domHand         \u001b[3m\u001b[90m<chr>\u001b[39m\u001b[23m \"Right-Handed\", \"Right-Handed\", \"Right-Handed\",…\n",
      "$ looser.backHand        \u001b[3m\u001b[90m<chr>\u001b[39m\u001b[23m \"Unknown Backhand\", \"One-Handed Backhand\", \"Unk…\n",
      "$ looser.height          \u001b[3m\u001b[90m<int>\u001b[39m\u001b[23m 188, 196, 183, 185, 193, 196, 191, 191, 185, 19…\n",
      "$ match.tournamentRound  \u001b[3m\u001b[90m<chr>\u001b[39m\u001b[23m \"Finals\", \"Quarter-Finals\", \"Quarter-Finals\", \"…\n",
      "$ match.setsCount        \u001b[3m\u001b[90m<int>\u001b[39m\u001b[23m 2, 1, 3, 3, 2, 2, 2, 2, 2, 3, 3, 2, 3, 2, 3, 2,…\n",
      "$ match.wasRet           \u001b[3m\u001b[90m<lgl>\u001b[39m\u001b[23m FALSE, FALSE, FALSE, FALSE, FALSE, FALSE, FALSE…\n",
      "$ match.hadTieBreaker    \u001b[3m\u001b[90m<lgl>\u001b[39m\u001b[23m TRUE, FALSE, FALSE, TRUE, FALSE, TRUE, FALSE, F…\n",
      "$ match.wasWalkover      \u001b[3m\u001b[90m<lgl>\u001b[39m\u001b[23m FALSE, TRUE, FALSE, FALSE, FALSE, FALSE, FALSE,…\n",
      "$ match.wasDef           \u001b[3m\u001b[90m<lgl>\u001b[39m\u001b[23m FALSE, FALSE, FALSE, FALSE, FALSE, FALSE, FALSE…\n",
      "$ tournament.name        \u001b[3m\u001b[90m<chr>\u001b[39m\u001b[23m \"'s-Hertogenbosch\", \"'s-Hertogenbosch\", \"'s-Her…\n",
      "$ tournament.prize       \u001b[3m\u001b[90m<chr>\u001b[39m\u001b[23m \"$475,000\", \"$475,000\", \"$475,000\", \"$475,000\",…\n",
      "$ tournament.ground      \u001b[3m\u001b[90m<chr>\u001b[39m\u001b[23m \"Grass\", \"Grass\", \"Grass\", \"Grass\", \"Grass\", \"G…\n",
      "$ tournament.location    \u001b[3m\u001b[90m<chr>\u001b[39m\u001b[23m \"Netherlands\", \"Netherlands\", \"Netherlands\", \"N…\n",
      "$ tournament.date_start  \u001b[3m\u001b[90m<date>\u001b[39m\u001b[23m 1998-06-15, 1998-06-15, 1998-06-15, 1998-06-15…\n",
      "$ tournament.date_finish \u001b[3m\u001b[90m<date>\u001b[39m\u001b[23m 1998-06-21, 1998-06-21, 1998-06-21, 1998-06-21…\n",
      "$ tournament.duration    \u001b[3m\u001b[90m<int>\u001b[39m\u001b[23m 6, 6, 6, 6, 6, 6, 6, 6, 6, 6, 6, 6, 6, 6, 6, 6,…\n"
     ]
    }
   ],
   "source": [
    "arrow::read_parquet(here(\"data\", \"atpTrans.parquet\")) -> atp\n",
    "atp %>% glimpse()"
   ]
  },
  {
   "cell_type": "code",
   "execution_count": null,
   "id": "05a15ab2-e9fd-4603-bb76-a546f7ddfe4f",
   "metadata": {},
   "outputs": [],
   "source": [
    "atp %>% filter(tournament.location == \"Australia\") -> atpA"
   ]
  },
  {
   "cell_type": "code",
   "execution_count": null,
   "id": "eaa7929b-42ce-436d-875a-05bd6e29d55c",
   "metadata": {},
   "outputs": [],
   "source": [
    "# parquet doesn't seem to save factor\n",
    "atpA %>% mutate(\n",
    "        winner.backHand = winner.backHand             %>% as.factor,\n",
    "        winner.domHand  = winner.domHand              %>% as.factor,\n",
    "        looser.backHand = looser.backHand             %>% as.factor,\n",
    "        looser.domHand  = looser.domHand              %>% as.factor,\n",
    "        match.tournamentRound = match.tournamentRound %>% as.factor,\n",
    "        tournament.ground = tournament.ground         %>% as.factor,\n",
    "        tournament.location = tournament.location     %>% as.factor\n",
    "    ) -> atpAF"
   ]
  },
  {
   "cell_type": "code",
   "execution_count": null,
   "id": "8be8cd53-b9c7-477e-89e2-22b218a3ca7e",
   "metadata": {},
   "outputs": [],
   "source": [
    "if (FALSE) {\n",
    "    atpAF %>% SmartEDA::ExpReport(op_file = \"temp.html\")\n",
    "}"
   ]
  },
  {
   "cell_type": "code",
   "execution_count": null,
   "id": "7353cd4c-a983-4c2f-adc6-8415c28eade6",
   "metadata": {},
   "outputs": [
    {
     "data": {
      "text/html": [
       "21388"
      ],
      "text/latex": [
       "21388"
      ],
      "text/markdown": [
       "21388"
      ],
      "text/plain": [
       "[1] 21388"
      ]
     },
     "metadata": {},
     "output_type": "display_data"
    }
   ],
   "source": [
    "(atpAF %>% nrow() -> nmatches.inicial)"
   ]
  },
  {
   "cell_type": "code",
   "execution_count": null,
   "id": "8fbe447a-a85a-4bf2-bc34-4055917a7856",
   "metadata": {},
   "outputs": [],
   "source": [
    "# things to fix:\n",
    "# prize ✔\n",
    "# maybe dont include those that are both heights missing✔\n",
    "# remove rets walkovers and defs✔\n",
    "# decide on how to remove best of 5 tournaments✔\n",
    "# turn nas into a factor too in backhand and domHand (backhand already has an unkown)\n",
    "# fazer eda do rank para perceber como tratalos\n",
    "# tratar heights✔"
   ]
  },
  {
   "cell_type": "code",
   "execution_count": null,
   "id": "c0c8a450-5598-4889-9961-b8e655e63d3c",
   "metadata": {},
   "outputs": [
    {
     "data": {
      "text/html": [
       "<table class=\"dataframe\">\n",
       "<caption>A tibble: 0 × 1</caption>\n",
       "<thead>\n",
       "\t<tr><th scope=col>tournament.prize</th></tr>\n",
       "\t<tr><th scope=col>&lt;chr&gt;</th></tr>\n",
       "</thead>\n",
       "<tbody>\n",
       "</tbody>\n",
       "</table>\n"
      ],
      "text/latex": [
       "A tibble: 0 × 1\n",
       "\\begin{tabular}{l}\n",
       " tournament.prize\\\\\n",
       " <chr>\\\\\n",
       "\\hline\n",
       "\\end{tabular}\n"
      ],
      "text/markdown": [
       "\n",
       "A tibble: 0 × 1\n",
       "\n",
       "| tournament.prize &lt;chr&gt; |\n",
       "|---|\n",
       "\n"
      ],
      "text/plain": [
       "     tournament.prize"
      ]
     },
     "metadata": {},
     "output_type": "display_data"
    }
   ],
   "source": [
    "# prize\n",
    "atpAF %>% \n",
    "    select(tournament.prize) %>%\n",
    "    filter(str_detect(tournament.prize, fixed(\"$\"), negate=T))"
   ]
  },
  {
   "cell_type": "code",
   "execution_count": null,
   "id": "2ddeff7c-2b4e-44e5-9904-17f23a818293",
   "metadata": {},
   "outputs": [
    {
     "data": {
      "text/html": [
       "<table class=\"dataframe\">\n",
       "<caption>A tibble: 3582 × 1</caption>\n",
       "<thead>\n",
       "\t<tr><th scope=col>tp</th></tr>\n",
       "\t<tr><th scope=col>&lt;chr&gt;</th></tr>\n",
       "</thead>\n",
       "<tbody>\n",
       "\t<tr><td>A9609870</td></tr>\n",
       "\t<tr><td>A9609870</td></tr>\n",
       "\t<tr><td>A9609870</td></tr>\n",
       "\t<tr><td>A9609870</td></tr>\n",
       "\t<tr><td>A9609870</td></tr>\n",
       "\t<tr><td>A9609870</td></tr>\n",
       "\t<tr><td>A9609870</td></tr>\n",
       "\t<tr><td>A9609870</td></tr>\n",
       "\t<tr><td>A9609870</td></tr>\n",
       "\t<tr><td>A9609870</td></tr>\n",
       "\t<tr><td>A9609870</td></tr>\n",
       "\t<tr><td>A9609870</td></tr>\n",
       "\t<tr><td>A9609870</td></tr>\n",
       "\t<tr><td>A9609870</td></tr>\n",
       "\t<tr><td>A9609870</td></tr>\n",
       "\t<tr><td>A9609870</td></tr>\n",
       "\t<tr><td>A9609870</td></tr>\n",
       "\t<tr><td>A9609870</td></tr>\n",
       "\t<tr><td>A9609870</td></tr>\n",
       "\t<tr><td>A9609870</td></tr>\n",
       "\t<tr><td>A9609870</td></tr>\n",
       "\t<tr><td>A9609870</td></tr>\n",
       "\t<tr><td>A9609870</td></tr>\n",
       "\t<tr><td>A9609870</td></tr>\n",
       "\t<tr><td>A9609870</td></tr>\n",
       "\t<tr><td>A9609870</td></tr>\n",
       "\t<tr><td>A9609870</td></tr>\n",
       "\t<tr><td>A9609870</td></tr>\n",
       "\t<tr><td>A9609870</td></tr>\n",
       "\t<tr><td>A9609870</td></tr>\n",
       "\t<tr><td>⋮</td></tr>\n",
       "\t<tr><td>A33784200</td></tr>\n",
       "\t<tr><td>A33784200</td></tr>\n",
       "\t<tr><td>A33784200</td></tr>\n",
       "\t<tr><td>A33784200</td></tr>\n",
       "\t<tr><td>A33784200</td></tr>\n",
       "\t<tr><td>A33784200</td></tr>\n",
       "\t<tr><td>A33784200</td></tr>\n",
       "\t<tr><td>A33784200</td></tr>\n",
       "\t<tr><td>A33784200</td></tr>\n",
       "\t<tr><td>A33784200</td></tr>\n",
       "\t<tr><td>A33784200</td></tr>\n",
       "\t<tr><td>A33784200</td></tr>\n",
       "\t<tr><td>A33784200</td></tr>\n",
       "\t<tr><td>A33784200</td></tr>\n",
       "\t<tr><td>A33784200</td></tr>\n",
       "\t<tr><td>A33784200</td></tr>\n",
       "\t<tr><td>A33784200</td></tr>\n",
       "\t<tr><td>A33784200</td></tr>\n",
       "\t<tr><td>A33784200</td></tr>\n",
       "\t<tr><td>A33784200</td></tr>\n",
       "\t<tr><td>A33784200</td></tr>\n",
       "\t<tr><td>A33784200</td></tr>\n",
       "\t<tr><td>A33784200</td></tr>\n",
       "\t<tr><td>A33784200</td></tr>\n",
       "\t<tr><td>A33784200</td></tr>\n",
       "\t<tr><td>A33784200</td></tr>\n",
       "\t<tr><td>A33784200</td></tr>\n",
       "\t<tr><td>A33784200</td></tr>\n",
       "\t<tr><td>A33784200</td></tr>\n",
       "\t<tr><td>A33784200</td></tr>\n",
       "</tbody>\n",
       "</table>\n"
      ],
      "text/latex": [
       "A tibble: 3582 × 1\n",
       "\\begin{tabular}{l}\n",
       " tp\\\\\n",
       " <chr>\\\\\n",
       "\\hline\n",
       "\t A9609870\\\\\n",
       "\t A9609870\\\\\n",
       "\t A9609870\\\\\n",
       "\t A9609870\\\\\n",
       "\t A9609870\\\\\n",
       "\t A9609870\\\\\n",
       "\t A9609870\\\\\n",
       "\t A9609870\\\\\n",
       "\t A9609870\\\\\n",
       "\t A9609870\\\\\n",
       "\t A9609870\\\\\n",
       "\t A9609870\\\\\n",
       "\t A9609870\\\\\n",
       "\t A9609870\\\\\n",
       "\t A9609870\\\\\n",
       "\t A9609870\\\\\n",
       "\t A9609870\\\\\n",
       "\t A9609870\\\\\n",
       "\t A9609870\\\\\n",
       "\t A9609870\\\\\n",
       "\t A9609870\\\\\n",
       "\t A9609870\\\\\n",
       "\t A9609870\\\\\n",
       "\t A9609870\\\\\n",
       "\t A9609870\\\\\n",
       "\t A9609870\\\\\n",
       "\t A9609870\\\\\n",
       "\t A9609870\\\\\n",
       "\t A9609870\\\\\n",
       "\t A9609870\\\\\n",
       "\t ⋮\\\\\n",
       "\t A33784200\\\\\n",
       "\t A33784200\\\\\n",
       "\t A33784200\\\\\n",
       "\t A33784200\\\\\n",
       "\t A33784200\\\\\n",
       "\t A33784200\\\\\n",
       "\t A33784200\\\\\n",
       "\t A33784200\\\\\n",
       "\t A33784200\\\\\n",
       "\t A33784200\\\\\n",
       "\t A33784200\\\\\n",
       "\t A33784200\\\\\n",
       "\t A33784200\\\\\n",
       "\t A33784200\\\\\n",
       "\t A33784200\\\\\n",
       "\t A33784200\\\\\n",
       "\t A33784200\\\\\n",
       "\t A33784200\\\\\n",
       "\t A33784200\\\\\n",
       "\t A33784200\\\\\n",
       "\t A33784200\\\\\n",
       "\t A33784200\\\\\n",
       "\t A33784200\\\\\n",
       "\t A33784200\\\\\n",
       "\t A33784200\\\\\n",
       "\t A33784200\\\\\n",
       "\t A33784200\\\\\n",
       "\t A33784200\\\\\n",
       "\t A33784200\\\\\n",
       "\t A33784200\\\\\n",
       "\\end{tabular}\n"
      ],
      "text/markdown": [
       "\n",
       "A tibble: 3582 × 1\n",
       "\n",
       "| tp &lt;chr&gt; |\n",
       "|---|\n",
       "| A9609870 |\n",
       "| A9609870 |\n",
       "| A9609870 |\n",
       "| A9609870 |\n",
       "| A9609870 |\n",
       "| A9609870 |\n",
       "| A9609870 |\n",
       "| A9609870 |\n",
       "| A9609870 |\n",
       "| A9609870 |\n",
       "| A9609870 |\n",
       "| A9609870 |\n",
       "| A9609870 |\n",
       "| A9609870 |\n",
       "| A9609870 |\n",
       "| A9609870 |\n",
       "| A9609870 |\n",
       "| A9609870 |\n",
       "| A9609870 |\n",
       "| A9609870 |\n",
       "| A9609870 |\n",
       "| A9609870 |\n",
       "| A9609870 |\n",
       "| A9609870 |\n",
       "| A9609870 |\n",
       "| A9609870 |\n",
       "| A9609870 |\n",
       "| A9609870 |\n",
       "| A9609870 |\n",
       "| A9609870 |\n",
       "| ⋮ |\n",
       "| A33784200 |\n",
       "| A33784200 |\n",
       "| A33784200 |\n",
       "| A33784200 |\n",
       "| A33784200 |\n",
       "| A33784200 |\n",
       "| A33784200 |\n",
       "| A33784200 |\n",
       "| A33784200 |\n",
       "| A33784200 |\n",
       "| A33784200 |\n",
       "| A33784200 |\n",
       "| A33784200 |\n",
       "| A33784200 |\n",
       "| A33784200 |\n",
       "| A33784200 |\n",
       "| A33784200 |\n",
       "| A33784200 |\n",
       "| A33784200 |\n",
       "| A33784200 |\n",
       "| A33784200 |\n",
       "| A33784200 |\n",
       "| A33784200 |\n",
       "| A33784200 |\n",
       "| A33784200 |\n",
       "| A33784200 |\n",
       "| A33784200 |\n",
       "| A33784200 |\n",
       "| A33784200 |\n",
       "| A33784200 |\n",
       "\n"
      ],
      "text/plain": [
       "     tp       \n",
       "1    A9609870 \n",
       "2    A9609870 \n",
       "3    A9609870 \n",
       "4    A9609870 \n",
       "5    A9609870 \n",
       "6    A9609870 \n",
       "7    A9609870 \n",
       "8    A9609870 \n",
       "9    A9609870 \n",
       "10   A9609870 \n",
       "11   A9609870 \n",
       "12   A9609870 \n",
       "13   A9609870 \n",
       "14   A9609870 \n",
       "15   A9609870 \n",
       "16   A9609870 \n",
       "17   A9609870 \n",
       "18   A9609870 \n",
       "19   A9609870 \n",
       "20   A9609870 \n",
       "21   A9609870 \n",
       "22   A9609870 \n",
       "23   A9609870 \n",
       "24   A9609870 \n",
       "25   A9609870 \n",
       "26   A9609870 \n",
       "27   A9609870 \n",
       "28   A9609870 \n",
       "29   A9609870 \n",
       "30   A9609870 \n",
       "⋮    ⋮        \n",
       "3553 A33784200\n",
       "3554 A33784200\n",
       "3555 A33784200\n",
       "3556 A33784200\n",
       "3557 A33784200\n",
       "3558 A33784200\n",
       "3559 A33784200\n",
       "3560 A33784200\n",
       "3561 A33784200\n",
       "3562 A33784200\n",
       "3563 A33784200\n",
       "3564 A33784200\n",
       "3565 A33784200\n",
       "3566 A33784200\n",
       "3567 A33784200\n",
       "3568 A33784200\n",
       "3569 A33784200\n",
       "3570 A33784200\n",
       "3571 A33784200\n",
       "3572 A33784200\n",
       "3573 A33784200\n",
       "3574 A33784200\n",
       "3575 A33784200\n",
       "3576 A33784200\n",
       "3577 A33784200\n",
       "3578 A33784200\n",
       "3579 A33784200\n",
       "3580 A33784200\n",
       "3581 A33784200\n",
       "3582 A33784200"
      ]
     },
     "metadata": {},
     "output_type": "display_data"
    }
   ],
   "source": [
    "# no prizes without dollar\n",
    "atpAF %>%\n",
    "    mutate(tp = str_remove_all(tournament.prize, r\"{[,\\$]}\")) %>%\n",
    "    filter(str_detect(tp, r\"{[^0-9]}\")) %>% \n",
    "    select(tp)"
   ]
  },
  {
   "cell_type": "code",
   "execution_count": null,
   "id": "595ee382-5606-455e-9383-1e30d54d7f5d",
   "metadata": {},
   "outputs": [
    {
     "data": {
      "text/html": [
       "<table class=\"dataframe\">\n",
       "<caption>A tibble: 0 × 1</caption>\n",
       "<thead>\n",
       "\t<tr><th scope=col>tp</th></tr>\n",
       "\t<tr><th scope=col>&lt;chr&gt;</th></tr>\n",
       "</thead>\n",
       "<tbody>\n",
       "</tbody>\n",
       "</table>\n"
      ],
      "text/latex": [
       "A tibble: 0 × 1\n",
       "\\begin{tabular}{l}\n",
       " tp\\\\\n",
       " <chr>\\\\\n",
       "\\hline\n",
       "\\end{tabular}\n"
      ],
      "text/markdown": [
       "\n",
       "A tibble: 0 × 1\n",
       "\n",
       "| tp &lt;chr&gt; |\n",
       "|---|\n",
       "\n"
      ],
      "text/plain": [
       "     tp"
      ]
     },
     "metadata": {},
     "output_type": "display_data"
    }
   ],
   "source": [
    "# australian dollar\n",
    "atpAF %>%\n",
    "    mutate(tp = str_remove_all(tournament.prize, r\"{[,\\$A]}\")) %>%\n",
    "    filter(str_detect(tp, r\"{[^0-9]}\")) %>% \n",
    "    select(tp)"
   ]
  },
  {
   "cell_type": "code",
   "execution_count": null,
   "id": "53f70389-3a0d-48c3-bd01-792726a67ba2",
   "metadata": {},
   "outputs": [
    {
     "name": "stderr",
     "output_type": "stream",
     "text": [
      "Warning message:\n",
      "\"\u001b[1m\u001b[22mThere was 1 warning in `mutate()`.\n",
      "\u001b[1m\u001b[22m\u001b[36mℹ\u001b[39m In argument: `tournament.prize = case_when(...)`.\n",
      "Caused by warning in `doll_to_aus()`:\n",
      "\u001b[33m!\u001b[39m NAs introduced by coercion\"\n"
     ]
    },
    {
     "data": {
      "text/html": [
       "0"
      ],
      "text/latex": [
       "0"
      ],
      "text/markdown": [
       "0"
      ],
      "text/plain": [
       "[1] 0"
      ]
     },
     "metadata": {},
     "output_type": "display_data"
    }
   ],
   "source": [
    "doll_to_aus <- \\(x) x*1.48\n",
    "atpAF %>%\n",
    "    rename(tp = tournament.prize) %>% \n",
    "    mutate(tournament.prize = case_when(\n",
    "        tp %>% is.na()                 ~ NA,\n",
    "        tp %>% str_detect(fixed(\"A$\")) ~ tp %>% str_remove_all(r\"{[\\A$,]}\") %>% as.double(),\n",
    "        tp %>% str_detect(fixed(\"$\"))  ~ tp %>% str_remove_all(r\"{[\\$,]}\")  %>% as.double() %>% doll_to_aus(),\n",
    "        TRUE ~ 9e+9\n",
    "     )) %>% select(-tp) -> atpAFP\n",
    "atpAFP %>% filter(tournament.prize == 9e+9) %>% nrow()"
   ]
  },
  {
   "cell_type": "code",
   "execution_count": null,
   "id": "0f665759-66a2-4507-bb80-2fb6fcf7c9a9",
   "metadata": {},
   "outputs": [],
   "source": [
    "library(skimr)\n",
    "# atpAFP %>% skim(winner.height, looser.height) # yields error because of jup"
   ]
  },
  {
   "cell_type": "code",
   "execution_count": null,
   "id": "d62d6dd6-0db2-46c2-9d29-97fc593c491a",
   "metadata": {},
   "outputs": [],
   "source": [
    "atpAFP %>% mutate(\n",
    "    winner.height = ifelse(winner.height == 0, NA, winner.height), \n",
    "    looser.height = ifelse(looser.height == 0, NA, looser.height), \n",
    ") -> atpAFPH.wNA\n",
    "# atpAFPH.wNA %>% skim(winner.height, looser.height)\n",
    "# interpolate heights?\n",
    "# maybe if we don't get enough observations"
   ]
  },
  {
   "cell_type": "code",
   "execution_count": null,
   "id": "5ea006ad-4b1c-4e62-9c0f-073bf315c106",
   "metadata": {},
   "outputs": [
    {
     "name": "stdout",
     "output_type": "stream",
     "text": [
      "── Data Summary ────────────────────────\n",
      "                           Values    \n",
      "Name                       Piped data\n",
      "Number of rows             14357     \n",
      "Number of columns          27        \n",
      "_______________________              \n",
      "Column type frequency:               \n",
      "  numeric                  2         \n",
      "________________________             \n",
      "Group variables            None      \n",
      "\n",
      "── Variable type: numeric ──────────────────────────────────────────────────────\n",
      "  skim_variable n_missing complete_rate mean   sd p0 p25 p50 p75 p100 hist \n",
      "\u001b[90m1\u001b[39m winner.height         0             1 185. 11.3 15 180 185 188  211 ▁▁▁▁▇\n",
      "\u001b[90m2\u001b[39m looser.height         0             1 184. 10.7 15 180 185 188  211 ▁▁▁▁▇\n"
     ]
    },
    {
     "ename": "ERROR",
     "evalue": "Error in is.null(text_repr) || nchar(text_repr) == 0L: 'length = 12' in coercion to 'logical(1)'\n",
     "output_type": "error",
     "traceback": [
      "Error in is.null(text_repr) || nchar(text_repr) == 0L: 'length = 12' in coercion to 'logical(1)'\nTraceback:\n"
     ]
    }
   ],
   "source": [
    "atpAFPH <- atpAFPH.wNA %>% filter(!is.na(winner.height) & !is.na(looser.height))\n",
    "# atpAFPH %>% skim(winner.height, looser.height)"
   ]
  },
  {
   "cell_type": "code",
   "execution_count": null,
   "id": "dacdc48a-c630-4e18-94e0-d3ca4856e5de",
   "metadata": {},
   "outputs": [
    {
     "data": {
      "text/html": [
       "<table class=\"dataframe\">\n",
       "<caption>A tibble: 2 × 1</caption>\n",
       "<thead>\n",
       "\t<tr><th scope=col>winner.id</th></tr>\n",
       "\t<tr><th scope=col>&lt;chr&gt;</th></tr>\n",
       "</thead>\n",
       "<tbody>\n",
       "\t<tr><td>s406</td></tr>\n",
       "\t<tr><td>h431</td></tr>\n",
       "</tbody>\n",
       "</table>\n"
      ],
      "text/latex": [
       "A tibble: 2 × 1\n",
       "\\begin{tabular}{l}\n",
       " winner.id\\\\\n",
       " <chr>\\\\\n",
       "\\hline\n",
       "\t s406\\\\\n",
       "\t h431\\\\\n",
       "\\end{tabular}\n"
      ],
      "text/markdown": [
       "\n",
       "A tibble: 2 × 1\n",
       "\n",
       "| winner.id &lt;chr&gt; |\n",
       "|---|\n",
       "| s406 |\n",
       "| h431 |\n",
       "\n"
      ],
      "text/plain": [
       "  winner.id\n",
       "1 s406     \n",
       "2 h431     "
      ]
     },
     "metadata": {},
     "output_type": "display_data"
    }
   ],
   "source": [
    "atpAFPH %>% filter(winner.height < 160) %>% distinct(winner.id)"
   ]
  },
  {
   "cell_type": "code",
   "execution_count": null,
   "id": "ebf5a3d5-6dc1-4be2-99a4-5a6519077fe7",
   "metadata": {},
   "outputs": [
    {
     "data": {
      "text/html": [
       "<table class=\"dataframe\">\n",
       "<caption>A tibble: 2 × 1</caption>\n",
       "<thead>\n",
       "\t<tr><th scope=col>looser.id</th></tr>\n",
       "\t<tr><th scope=col>&lt;chr&gt;</th></tr>\n",
       "</thead>\n",
       "<tbody>\n",
       "\t<tr><td>s406</td></tr>\n",
       "\t<tr><td>h431</td></tr>\n",
       "</tbody>\n",
       "</table>\n"
      ],
      "text/latex": [
       "A tibble: 2 × 1\n",
       "\\begin{tabular}{l}\n",
       " looser.id\\\\\n",
       " <chr>\\\\\n",
       "\\hline\n",
       "\t s406\\\\\n",
       "\t h431\\\\\n",
       "\\end{tabular}\n"
      ],
      "text/markdown": [
       "\n",
       "A tibble: 2 × 1\n",
       "\n",
       "| looser.id &lt;chr&gt; |\n",
       "|---|\n",
       "| s406 |\n",
       "| h431 |\n",
       "\n"
      ],
      "text/plain": [
       "  looser.id\n",
       "1 s406     \n",
       "2 h431     "
      ]
     },
     "metadata": {},
     "output_type": "display_data"
    }
   ],
   "source": [
    "atpAFPH %>% filter(looser.height < 160) %>% distinct(looser.id)"
   ]
  },
  {
   "cell_type": "markdown",
   "id": "52a3f591-530e-49ff-9e50-0a286c5ecb21",
   "metadata": {},
   "source": [
    "TODO texto mas\n",
    "\n",
    "* h431 -> 180 cm\n",
    "* s406 -> 188 cm"
   ]
  },
  {
   "cell_type": "code",
   "execution_count": null,
   "id": "07def4b2-0347-4761-9caf-978b60c82381",
   "metadata": {},
   "outputs": [],
   "source": [
    "atpAFPHF <- atpAFPH %>% mutate(winner.height = case_when(\n",
    "    winner.id == \"h431\" ~ 180,\n",
    "    winner.id == \"s406\" ~ 188,\n",
    "    TRUE ~ winner.height\n",
    "), looser.height = case_when(\n",
    "    looser.id == \"h431\" ~ 180,\n",
    "    looser.id == \"s406\" ~ 188,\n",
    "    TRUE ~ looser.height\n",
    "))\n",
    "# atpAFPHF %>% skim(winner.height, looser.height)"
   ]
  },
  {
   "cell_type": "code",
   "execution_count": null,
   "id": "7aa3c8a8-46ad-469f-aeb6-1d83144d7037",
   "metadata": {},
   "outputs": [],
   "source": [
    "atpAFPHFR <- atpAFPHF %>% \n",
    "    filter(!match.wasRet, !match.wasWalkover, !match.wasDef) %>%\n",
    "    select(-match.wasRet, -match.wasWalkover, -match.wasDef)\n",
    "# atpAFPHFR %>% select(starts_with(\"match\")) %>% skim()"
   ]
  },
  {
   "cell_type": "code",
   "execution_count": null,
   "id": "57b6561f-b7ef-404e-ba1f-9433730fb840",
   "metadata": {},
   "outputs": [],
   "source": [
    "# tournaments best of 5\n",
    "atpAFPHFR -> atp.wbo5\n",
    "atp.wbo5 %>% \n",
    "    group_by(tournament.name) %>% \n",
    "    filter(!any(match.setsCount > 3)) %>%\n",
    "    ungroup() -> atp.wo45"
   ]
  },
  {
   "cell_type": "code",
   "execution_count": null,
   "id": "00a6b5ff-d018-4b74-9794-cf6738a282e0",
   "metadata": {},
   "outputs": [
    {
     "data": {
      "text/html": [
       "<table class=\"dataframe\">\n",
       "<caption>A tibble: 5 × 1</caption>\n",
       "<thead>\n",
       "\t<tr><th scope=col>tournament.name</th></tr>\n",
       "\t<tr><th scope=col>&lt;chr&gt;</th></tr>\n",
       "</thead>\n",
       "<tbody>\n",
       "\t<tr><td>AUS v. MAR WG PO       </td></tr>\n",
       "\t<tr><td>AUS v. SWE WG 1st RD   </td></tr>\n",
       "\t<tr><td>AUS vs. SVK WG Play-Off</td></tr>\n",
       "\t<tr><td>Adelaide-2             </td></tr>\n",
       "\t<tr><td>ROM V AUS QF           </td></tr>\n",
       "</tbody>\n",
       "</table>\n"
      ],
      "text/latex": [
       "A tibble: 5 × 1\n",
       "\\begin{tabular}{l}\n",
       " tournament.name\\\\\n",
       " <chr>\\\\\n",
       "\\hline\n",
       "\t AUS v. MAR WG PO       \\\\\n",
       "\t AUS v. SWE WG 1st RD   \\\\\n",
       "\t AUS vs. SVK WG Play-Off\\\\\n",
       "\t Adelaide-2             \\\\\n",
       "\t ROM V AUS QF           \\\\\n",
       "\\end{tabular}\n"
      ],
      "text/markdown": [
       "\n",
       "A tibble: 5 × 1\n",
       "\n",
       "| tournament.name &lt;chr&gt; |\n",
       "|---|\n",
       "| AUS v. MAR WG PO        |\n",
       "| AUS v. SWE WG 1st RD    |\n",
       "| AUS vs. SVK WG Play-Off |\n",
       "| Adelaide-2              |\n",
       "| ROM V AUS QF            |\n",
       "\n"
      ],
      "text/plain": [
       "  tournament.name        \n",
       "1 AUS v. MAR WG PO       \n",
       "2 AUS v. SWE WG 1st RD   \n",
       "3 AUS vs. SVK WG Play-Off\n",
       "4 Adelaide-2             \n",
       "5 ROM V AUS QF           "
      ]
     },
     "metadata": {},
     "output_type": "display_data"
    }
   ],
   "source": [
    "atp.wo45 %>% \n",
    "    group_by(tournament.name) %>% \n",
    "    filter(all(match.setsCount == 3)) %>% \n",
    "    summarise()"
   ]
  },
  {
   "cell_type": "markdown",
   "id": "b223e70e-d010-43d4-8079-9d591d5c1527",
   "metadata": {},
   "source": [
    "TODO ver quais destes sao melhor de 3 e melhores de 5, dps tirar esses"
   ]
  },
  {
   "cell_type": "code",
   "execution_count": null,
   "id": "2bdc7cf7-3432-4071-ab60-5608f14a988b",
   "metadata": {},
   "outputs": [],
   "source": [
    "toRem = c()\n",
    "atp.wo45 %>% filter(!(tournament.name %in% toRem)) -> atp.wobo5"
   ]
  },
  {
   "cell_type": "code",
   "execution_count": null,
   "id": "ea53c132-9ab1-4b5f-a007-d565c700b801",
   "metadata": {},
   "outputs": [],
   "source": [
    "# features q faltam:\n",
    "# diferenca de alturas\n",
    "# media de alturas\n",
    "# idades (*)\n",
    "# numero de jogos jogados - diferenca/numero de wins/winrate\n",
    "# frequencia de jogos do pais de naturalidade\n",
    "# se pais tem jogos - condicao/contagem/diferenca/diferenca de condicao\n",
    "# domhand condicao\n",
    "# backhand condicao\n",
    "# se e atp\n",
    "# frequencia do torneio\n",
    "# mes do torneio\n",
    "# distancia ao ultimo torneio/primeiro\n",
    "# premio\n",
    "# distancia da ronda final\n",
    "# diferenca de rank /categoria de rank\n",
    "# maybe join domHand"
   ]
  }
 ],
 "metadata": {
  "kernelspec": {
   "display_name": "ir_pacd",
   "language": "R",
   "name": "ir_pacd"
  }
 },
 "nbformat": 4,
 "nbformat_minor": 5
}
