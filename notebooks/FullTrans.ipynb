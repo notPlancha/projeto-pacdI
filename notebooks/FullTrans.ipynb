{
 "cells": [
  {
   "cell_type": "code",
   "execution_count": null,
   "id": "dbf277ae-a5d0-487f-a51d-cf9cd6dad9ef",
   "metadata": {},
   "outputs": [
    {
     "name": "stdout",
     "output_type": "stream",
     "text": [
      "Rows: 682,069\n",
      "Columns: 27\n",
      "$ winner.name            \u001b[3m\u001b[90m<chr>\u001b[39m\u001b[23m \"Patrick Rafter\", \"Dennis Van Scheppingen\", \"Ja…\n",
      "$ winner.id              \u001b[3m\u001b[90m<chr>\u001b[39m\u001b[23m \"r255\", \"s559\", \"s381\", \"d214\", \"r255\", \"s559\",…\n",
      "$ winner.rank            \u001b[3m\u001b[90m<int>\u001b[39m\u001b[23m 6, 126, 26, 85, 6, 126, 26, 11, 85, 6, 12, 55, …\n",
      "$ winner.bornAt          \u001b[3m\u001b[90m<chr>\u001b[39m\u001b[23m \"Australia\", \"Netherlands\", \"Netherlands\", \"Cze…\n",
      "$ winner.domHand         \u001b[3m\u001b[90m<chr>\u001b[39m\u001b[23m \"Right-Handed\", \"Right-Handed\", \"Left-Handed\", …\n",
      "$ winner.backHand        \u001b[3m\u001b[90m<chr>\u001b[39m\u001b[23m \"One-Handed Backhand\", \"Unknown Backhand\", \"Unk…\n",
      "$ winner.height          \u001b[3m\u001b[90m<int>\u001b[39m\u001b[23m 185, 185, 183, 188, 185, 185, 183, 185, 188, 18…\n",
      "$ looser.name            \u001b[3m\u001b[90m<chr>\u001b[39m\u001b[23m \"Martin Damm\", \"Richard Krajicek\", \"Steve Campb…\n",
      "$ looser.id              \u001b[3m\u001b[90m<chr>\u001b[39m\u001b[23m \"d214\", \"k214\", \"c355\", \"k237\", \"s572\", \"w254\",…\n",
      "$ looser.rank            \u001b[3m\u001b[90m<int>\u001b[39m\u001b[23m 85, 12, 95, 11, 55, 189, 58, 60, 100, 94, 42, 3…\n",
      "$ looser.bornAt          \u001b[3m\u001b[90m<chr>\u001b[39m\u001b[23m \"Czech Republic\", \"Netherlands\", \"USA\", \"Czech …\n",
      "$ looser.domHand         \u001b[3m\u001b[90m<chr>\u001b[39m\u001b[23m \"Right-Handed\", \"Right-Handed\", \"Right-Handed\",…\n",
      "$ looser.backHand        \u001b[3m\u001b[90m<chr>\u001b[39m\u001b[23m \"Unknown Backhand\", \"One-Handed Backhand\", \"Unk…\n",
      "$ looser.height          \u001b[3m\u001b[90m<int>\u001b[39m\u001b[23m 188, 196, 183, 185, 193, 196, 191, 191, 185, 19…\n",
      "$ match.tournamentRound  \u001b[3m\u001b[90m<chr>\u001b[39m\u001b[23m \"Finals\", \"Quarter-Finals\", \"Quarter-Finals\", \"…\n",
      "$ match.setsCount        \u001b[3m\u001b[90m<int>\u001b[39m\u001b[23m 2, 1, 3, 3, 2, 2, 2, 2, 2, 3, 3, 2, 3, 2, 3, 2,…\n",
      "$ match.wasRet           \u001b[3m\u001b[90m<lgl>\u001b[39m\u001b[23m FALSE, FALSE, FALSE, FALSE, FALSE, FALSE, FALSE…\n",
      "$ match.hadTieBreaker    \u001b[3m\u001b[90m<lgl>\u001b[39m\u001b[23m TRUE, FALSE, FALSE, TRUE, FALSE, TRUE, FALSE, F…\n",
      "$ match.wasWalkover      \u001b[3m\u001b[90m<lgl>\u001b[39m\u001b[23m FALSE, TRUE, FALSE, FALSE, FALSE, FALSE, FALSE,…\n",
      "$ match.wasDef           \u001b[3m\u001b[90m<lgl>\u001b[39m\u001b[23m FALSE, FALSE, FALSE, FALSE, FALSE, FALSE, FALSE…\n",
      "$ tournament.name        \u001b[3m\u001b[90m<chr>\u001b[39m\u001b[23m \"'s-Hertogenbosch\", \"'s-Hertogenbosch\", \"'s-Her…\n",
      "$ tournament.prize       \u001b[3m\u001b[90m<chr>\u001b[39m\u001b[23m \"$475,000\", \"$475,000\", \"$475,000\", \"$475,000\",…\n",
      "$ tournament.ground      \u001b[3m\u001b[90m<chr>\u001b[39m\u001b[23m \"Grass\", \"Grass\", \"Grass\", \"Grass\", \"Grass\", \"G…\n",
      "$ tournament.location    \u001b[3m\u001b[90m<chr>\u001b[39m\u001b[23m \"Netherlands\", \"Netherlands\", \"Netherlands\", \"N…\n",
      "$ tournament.date_start  \u001b[3m\u001b[90m<date>\u001b[39m\u001b[23m 1998-06-15, 1998-06-15, 1998-06-15, 1998-06-15…\n",
      "$ tournament.date_finish \u001b[3m\u001b[90m<date>\u001b[39m\u001b[23m 1998-06-21, 1998-06-21, 1998-06-21, 1998-06-21…\n",
      "$ tournament.duration    \u001b[3m\u001b[90m<int>\u001b[39m\u001b[23m 6, 6, 6, 6, 6, 6, 6, 6, 6, 6, 6, 6, 6, 6, 6, 6,…\n"
     ]
    }
   ],
   "source": [
    "arrow::read_parquet(here(\"data\", \"atpTrans.parquet\")) -> atp\n",
    "atp %>% glimpse()"
   ]
  },
  {
   "cell_type": "code",
   "execution_count": null,
   "id": "05a15ab2-e9fd-4603-bb76-a546f7ddfe4f",
   "metadata": {},
   "outputs": [],
   "source": [
    "atp %>% filter(tournament.location == \"Australia\") -> atpA"
   ]
  },
  {
   "cell_type": "code",
   "execution_count": null,
   "id": "eaa7929b-42ce-436d-875a-05bd6e29d55c",
   "metadata": {},
   "outputs": [],
   "source": [
    "# parquet doesn't seem to save factor\n",
    "atpA %>% mutate(\n",
    "    winner.backHand = winner.backHand             %>% as.factor,\n",
    "    winner.domHand  = winner.domHand              %>% as.factor,\n",
    "    looser.backHand = looser.backHand             %>% as.factor,\n",
    "    looser.domHand  = looser.domHand              %>% as.factor,\n",
    "    match.tournamentRound = match.tournamentRound %>% as.factor,\n",
    "    tournament.ground = tournament.ground         %>% as.factor,\n",
    "    tournament.location = tournament.location     %>% as.factor,\n",
    "    winner.bornAt = winner.bornAt                 %>% as.factor,\n",
    "    looser.bornAt = looser.bornAt                 %>% as.factor,\n",
    "    match.setsCount = match.setsCount             %>% as.factor,\n",
    ") -> atpAF"
   ]
  },
  {
   "cell_type": "code",
   "execution_count": null,
   "id": "8be8cd53-b9c7-477e-89e2-22b218a3ca7e",
   "metadata": {},
   "outputs": [],
   "source": [
    "if (FALSE) {\n",
    "    atpAF %>% SmartEDA::ExpReport(op_file = \"temp.html\")\n",
    "}"
   ]
  },
  {
   "cell_type": "code",
   "execution_count": null,
   "id": "7353cd4c-a983-4c2f-adc6-8415c28eade6",
   "metadata": {},
   "outputs": [
    {
     "data": {
      "text/html": [
       "21388"
      ],
      "text/latex": [
       "21388"
      ],
      "text/markdown": [
       "21388"
      ],
      "text/plain": [
       "[1] 21388"
      ]
     },
     "metadata": {},
     "output_type": "display_data"
    }
   ],
   "source": [
    "(atpAF %>% nrow() -> nmatches.inicial)"
   ]
  },
  {
   "cell_type": "code",
   "execution_count": null,
   "id": "8fbe447a-a85a-4bf2-bc34-4055917a7856",
   "metadata": {},
   "outputs": [],
   "source": [
    "# things to fix:\n",
    "# prize ✔\n",
    "# maybe dont include those that are both heights missing✔\n",
    "# remove rets walkovers and defs✔\n",
    "# decide on how to remove best of 5 tournaments✔\n",
    "# turn nas into a factor too in backhand and domHand (backhand already has an unkown)\n",
    "# fazer eda do rank para perceber como tratalos\n",
    "# tratar heights✔"
   ]
  },
  {
   "cell_type": "code",
   "execution_count": null,
   "id": "c0c8a450-5598-4889-9961-b8e655e63d3c",
   "metadata": {},
   "outputs": [
    {
     "data": {
      "text/html": [
       "<table class=\"dataframe\">\n",
       "<caption>A tibble: 0 × 1</caption>\n",
       "<thead>\n",
       "\t<tr><th scope=col>tournament.prize</th></tr>\n",
       "\t<tr><th scope=col>&lt;chr&gt;</th></tr>\n",
       "</thead>\n",
       "<tbody>\n",
       "</tbody>\n",
       "</table>\n"
      ],
      "text/latex": [
       "A tibble: 0 × 1\n",
       "\\begin{tabular}{l}\n",
       " tournament.prize\\\\\n",
       " <chr>\\\\\n",
       "\\hline\n",
       "\\end{tabular}\n"
      ],
      "text/markdown": [
       "\n",
       "A tibble: 0 × 1\n",
       "\n",
       "| tournament.prize &lt;chr&gt; |\n",
       "|---|\n",
       "\n"
      ],
      "text/plain": [
       "     tournament.prize"
      ]
     },
     "metadata": {},
     "output_type": "display_data"
    }
   ],
   "source": [
    "# prize\n",
    "atpAF %>% \n",
    "    select(tournament.prize) %>%\n",
    "    filter(str_detect(tournament.prize, fixed(\"$\"), negate=T))"
   ]
  },
  {
   "cell_type": "code",
   "execution_count": null,
   "id": "2ddeff7c-2b4e-44e5-9904-17f23a818293",
   "metadata": {},
   "outputs": [
    {
     "data": {
      "text/html": [
       "<table class=\"dataframe\">\n",
       "<caption>A tibble: 3582 × 1</caption>\n",
       "<thead>\n",
       "\t<tr><th scope=col>tp</th></tr>\n",
       "\t<tr><th scope=col>&lt;chr&gt;</th></tr>\n",
       "</thead>\n",
       "<tbody>\n",
       "\t<tr><td>A9609870</td></tr>\n",
       "\t<tr><td>A9609870</td></tr>\n",
       "\t<tr><td>A9609870</td></tr>\n",
       "\t<tr><td>A9609870</td></tr>\n",
       "\t<tr><td>A9609870</td></tr>\n",
       "\t<tr><td>A9609870</td></tr>\n",
       "\t<tr><td>A9609870</td></tr>\n",
       "\t<tr><td>A9609870</td></tr>\n",
       "\t<tr><td>A9609870</td></tr>\n",
       "\t<tr><td>A9609870</td></tr>\n",
       "\t<tr><td>A9609870</td></tr>\n",
       "\t<tr><td>A9609870</td></tr>\n",
       "\t<tr><td>A9609870</td></tr>\n",
       "\t<tr><td>A9609870</td></tr>\n",
       "\t<tr><td>A9609870</td></tr>\n",
       "\t<tr><td>A9609870</td></tr>\n",
       "\t<tr><td>A9609870</td></tr>\n",
       "\t<tr><td>A9609870</td></tr>\n",
       "\t<tr><td>A9609870</td></tr>\n",
       "\t<tr><td>A9609870</td></tr>\n",
       "\t<tr><td>A9609870</td></tr>\n",
       "\t<tr><td>A9609870</td></tr>\n",
       "\t<tr><td>A9609870</td></tr>\n",
       "\t<tr><td>A9609870</td></tr>\n",
       "\t<tr><td>A9609870</td></tr>\n",
       "\t<tr><td>A9609870</td></tr>\n",
       "\t<tr><td>A9609870</td></tr>\n",
       "\t<tr><td>A9609870</td></tr>\n",
       "\t<tr><td>A9609870</td></tr>\n",
       "\t<tr><td>A9609870</td></tr>\n",
       "\t<tr><td>⋮</td></tr>\n",
       "\t<tr><td>A33784200</td></tr>\n",
       "\t<tr><td>A33784200</td></tr>\n",
       "\t<tr><td>A33784200</td></tr>\n",
       "\t<tr><td>A33784200</td></tr>\n",
       "\t<tr><td>A33784200</td></tr>\n",
       "\t<tr><td>A33784200</td></tr>\n",
       "\t<tr><td>A33784200</td></tr>\n",
       "\t<tr><td>A33784200</td></tr>\n",
       "\t<tr><td>A33784200</td></tr>\n",
       "\t<tr><td>A33784200</td></tr>\n",
       "\t<tr><td>A33784200</td></tr>\n",
       "\t<tr><td>A33784200</td></tr>\n",
       "\t<tr><td>A33784200</td></tr>\n",
       "\t<tr><td>A33784200</td></tr>\n",
       "\t<tr><td>A33784200</td></tr>\n",
       "\t<tr><td>A33784200</td></tr>\n",
       "\t<tr><td>A33784200</td></tr>\n",
       "\t<tr><td>A33784200</td></tr>\n",
       "\t<tr><td>A33784200</td></tr>\n",
       "\t<tr><td>A33784200</td></tr>\n",
       "\t<tr><td>A33784200</td></tr>\n",
       "\t<tr><td>A33784200</td></tr>\n",
       "\t<tr><td>A33784200</td></tr>\n",
       "\t<tr><td>A33784200</td></tr>\n",
       "\t<tr><td>A33784200</td></tr>\n",
       "\t<tr><td>A33784200</td></tr>\n",
       "\t<tr><td>A33784200</td></tr>\n",
       "\t<tr><td>A33784200</td></tr>\n",
       "\t<tr><td>A33784200</td></tr>\n",
       "\t<tr><td>A33784200</td></tr>\n",
       "</tbody>\n",
       "</table>\n"
      ],
      "text/latex": [
       "A tibble: 3582 × 1\n",
       "\\begin{tabular}{l}\n",
       " tp\\\\\n",
       " <chr>\\\\\n",
       "\\hline\n",
       "\t A9609870\\\\\n",
       "\t A9609870\\\\\n",
       "\t A9609870\\\\\n",
       "\t A9609870\\\\\n",
       "\t A9609870\\\\\n",
       "\t A9609870\\\\\n",
       "\t A9609870\\\\\n",
       "\t A9609870\\\\\n",
       "\t A9609870\\\\\n",
       "\t A9609870\\\\\n",
       "\t A9609870\\\\\n",
       "\t A9609870\\\\\n",
       "\t A9609870\\\\\n",
       "\t A9609870\\\\\n",
       "\t A9609870\\\\\n",
       "\t A9609870\\\\\n",
       "\t A9609870\\\\\n",
       "\t A9609870\\\\\n",
       "\t A9609870\\\\\n",
       "\t A9609870\\\\\n",
       "\t A9609870\\\\\n",
       "\t A9609870\\\\\n",
       "\t A9609870\\\\\n",
       "\t A9609870\\\\\n",
       "\t A9609870\\\\\n",
       "\t A9609870\\\\\n",
       "\t A9609870\\\\\n",
       "\t A9609870\\\\\n",
       "\t A9609870\\\\\n",
       "\t A9609870\\\\\n",
       "\t ⋮\\\\\n",
       "\t A33784200\\\\\n",
       "\t A33784200\\\\\n",
       "\t A33784200\\\\\n",
       "\t A33784200\\\\\n",
       "\t A33784200\\\\\n",
       "\t A33784200\\\\\n",
       "\t A33784200\\\\\n",
       "\t A33784200\\\\\n",
       "\t A33784200\\\\\n",
       "\t A33784200\\\\\n",
       "\t A33784200\\\\\n",
       "\t A33784200\\\\\n",
       "\t A33784200\\\\\n",
       "\t A33784200\\\\\n",
       "\t A33784200\\\\\n",
       "\t A33784200\\\\\n",
       "\t A33784200\\\\\n",
       "\t A33784200\\\\\n",
       "\t A33784200\\\\\n",
       "\t A33784200\\\\\n",
       "\t A33784200\\\\\n",
       "\t A33784200\\\\\n",
       "\t A33784200\\\\\n",
       "\t A33784200\\\\\n",
       "\t A33784200\\\\\n",
       "\t A33784200\\\\\n",
       "\t A33784200\\\\\n",
       "\t A33784200\\\\\n",
       "\t A33784200\\\\\n",
       "\t A33784200\\\\\n",
       "\\end{tabular}\n"
      ],
      "text/markdown": [
       "\n",
       "A tibble: 3582 × 1\n",
       "\n",
       "| tp &lt;chr&gt; |\n",
       "|---|\n",
       "| A9609870 |\n",
       "| A9609870 |\n",
       "| A9609870 |\n",
       "| A9609870 |\n",
       "| A9609870 |\n",
       "| A9609870 |\n",
       "| A9609870 |\n",
       "| A9609870 |\n",
       "| A9609870 |\n",
       "| A9609870 |\n",
       "| A9609870 |\n",
       "| A9609870 |\n",
       "| A9609870 |\n",
       "| A9609870 |\n",
       "| A9609870 |\n",
       "| A9609870 |\n",
       "| A9609870 |\n",
       "| A9609870 |\n",
       "| A9609870 |\n",
       "| A9609870 |\n",
       "| A9609870 |\n",
       "| A9609870 |\n",
       "| A9609870 |\n",
       "| A9609870 |\n",
       "| A9609870 |\n",
       "| A9609870 |\n",
       "| A9609870 |\n",
       "| A9609870 |\n",
       "| A9609870 |\n",
       "| A9609870 |\n",
       "| ⋮ |\n",
       "| A33784200 |\n",
       "| A33784200 |\n",
       "| A33784200 |\n",
       "| A33784200 |\n",
       "| A33784200 |\n",
       "| A33784200 |\n",
       "| A33784200 |\n",
       "| A33784200 |\n",
       "| A33784200 |\n",
       "| A33784200 |\n",
       "| A33784200 |\n",
       "| A33784200 |\n",
       "| A33784200 |\n",
       "| A33784200 |\n",
       "| A33784200 |\n",
       "| A33784200 |\n",
       "| A33784200 |\n",
       "| A33784200 |\n",
       "| A33784200 |\n",
       "| A33784200 |\n",
       "| A33784200 |\n",
       "| A33784200 |\n",
       "| A33784200 |\n",
       "| A33784200 |\n",
       "| A33784200 |\n",
       "| A33784200 |\n",
       "| A33784200 |\n",
       "| A33784200 |\n",
       "| A33784200 |\n",
       "| A33784200 |\n",
       "\n"
      ],
      "text/plain": [
       "     tp       \n",
       "1    A9609870 \n",
       "2    A9609870 \n",
       "3    A9609870 \n",
       "4    A9609870 \n",
       "5    A9609870 \n",
       "6    A9609870 \n",
       "7    A9609870 \n",
       "8    A9609870 \n",
       "9    A9609870 \n",
       "10   A9609870 \n",
       "11   A9609870 \n",
       "12   A9609870 \n",
       "13   A9609870 \n",
       "14   A9609870 \n",
       "15   A9609870 \n",
       "16   A9609870 \n",
       "17   A9609870 \n",
       "18   A9609870 \n",
       "19   A9609870 \n",
       "20   A9609870 \n",
       "21   A9609870 \n",
       "22   A9609870 \n",
       "23   A9609870 \n",
       "24   A9609870 \n",
       "25   A9609870 \n",
       "26   A9609870 \n",
       "27   A9609870 \n",
       "28   A9609870 \n",
       "29   A9609870 \n",
       "30   A9609870 \n",
       "⋮    ⋮        \n",
       "3553 A33784200\n",
       "3554 A33784200\n",
       "3555 A33784200\n",
       "3556 A33784200\n",
       "3557 A33784200\n",
       "3558 A33784200\n",
       "3559 A33784200\n",
       "3560 A33784200\n",
       "3561 A33784200\n",
       "3562 A33784200\n",
       "3563 A33784200\n",
       "3564 A33784200\n",
       "3565 A33784200\n",
       "3566 A33784200\n",
       "3567 A33784200\n",
       "3568 A33784200\n",
       "3569 A33784200\n",
       "3570 A33784200\n",
       "3571 A33784200\n",
       "3572 A33784200\n",
       "3573 A33784200\n",
       "3574 A33784200\n",
       "3575 A33784200\n",
       "3576 A33784200\n",
       "3577 A33784200\n",
       "3578 A33784200\n",
       "3579 A33784200\n",
       "3580 A33784200\n",
       "3581 A33784200\n",
       "3582 A33784200"
      ]
     },
     "metadata": {},
     "output_type": "display_data"
    }
   ],
   "source": [
    "# no prizes without dollar\n",
    "atpAF %>%\n",
    "    mutate(tp = str_remove_all(tournament.prize, r\"{[,\\$]}\")) %>%\n",
    "    filter(str_detect(tp, r\"{[^0-9]}\")) %>% \n",
    "    select(tp)"
   ]
  },
  {
   "cell_type": "code",
   "execution_count": null,
   "id": "595ee382-5606-455e-9383-1e30d54d7f5d",
   "metadata": {},
   "outputs": [
    {
     "data": {
      "text/html": [
       "<table class=\"dataframe\">\n",
       "<caption>A tibble: 0 × 1</caption>\n",
       "<thead>\n",
       "\t<tr><th scope=col>tp</th></tr>\n",
       "\t<tr><th scope=col>&lt;chr&gt;</th></tr>\n",
       "</thead>\n",
       "<tbody>\n",
       "</tbody>\n",
       "</table>\n"
      ],
      "text/latex": [
       "A tibble: 0 × 1\n",
       "\\begin{tabular}{l}\n",
       " tp\\\\\n",
       " <chr>\\\\\n",
       "\\hline\n",
       "\\end{tabular}\n"
      ],
      "text/markdown": [
       "\n",
       "A tibble: 0 × 1\n",
       "\n",
       "| tp &lt;chr&gt; |\n",
       "|---|\n",
       "\n"
      ],
      "text/plain": [
       "     tp"
      ]
     },
     "metadata": {},
     "output_type": "display_data"
    }
   ],
   "source": [
    "# australian dollar\n",
    "atpAF %>%\n",
    "    mutate(tp = str_remove_all(tournament.prize, r\"{[,\\$A]}\")) %>%\n",
    "    filter(str_detect(tp, r\"{[^0-9]}\")) %>% \n",
    "    select(tp)"
   ]
  },
  {
   "cell_type": "code",
   "execution_count": null,
   "id": "53f70389-3a0d-48c3-bd01-792726a67ba2",
   "metadata": {},
   "outputs": [
    {
     "name": "stderr",
     "output_type": "stream",
     "text": [
      "Warning message:\n",
      "\"\u001b[1m\u001b[22mThere was 1 warning in `mutate()`.\n",
      "\u001b[1m\u001b[22m\u001b[36mℹ\u001b[39m In argument: `tournament.prize = case_when(...)`.\n",
      "Caused by warning in `doll_to_aus()`:\n",
      "\u001b[33m!\u001b[39m NAs introduced by coercion\"\n"
     ]
    },
    {
     "data": {
      "text/html": [
       "0"
      ],
      "text/latex": [
       "0"
      ],
      "text/markdown": [
       "0"
      ],
      "text/plain": [
       "[1] 0"
      ]
     },
     "metadata": {},
     "output_type": "display_data"
    }
   ],
   "source": [
    "doll_to_aus <- \\(x) x*1.48\n",
    "atpAF %>%\n",
    "    rename(tp = tournament.prize) %>% \n",
    "    mutate(tournament.prize = case_when(\n",
    "        tp %>% is.na()                 ~ NA,\n",
    "        tp %>% str_detect(fixed(\"A$\")) ~ tp %>% str_remove_all(r\"{[\\A$,]}\") %>% as.double(),\n",
    "        tp %>% str_detect(fixed(\"$\"))  ~ tp %>% str_remove_all(r\"{[\\$,]}\")  %>% as.double() %>% doll_to_aus(),\n",
    "        TRUE ~ 9e+9\n",
    "     )) %>% select(-tp) -> atpAFP\n",
    "atpAFP %>% filter(tournament.prize == 9e+9) %>% nrow()"
   ]
  },
  {
   "cell_type": "code",
   "execution_count": null,
   "id": "0f665759-66a2-4507-bb80-2fb6fcf7c9a9",
   "metadata": {},
   "outputs": [],
   "source": [
    "library(skimr)\n",
    "# atpAFP %>% skim(winner.height, looser.height) # yields error because of jup"
   ]
  },
  {
   "cell_type": "code",
   "execution_count": null,
   "id": "d62d6dd6-0db2-46c2-9d29-97fc593c491a",
   "metadata": {},
   "outputs": [],
   "source": [
    "atpAFP %>% mutate(\n",
    "    winner.height = ifelse(winner.height == 0, NA, winner.height), \n",
    "    looser.height = ifelse(looser.height == 0, NA, looser.height), \n",
    ") -> atpAFPH.wNA\n",
    "# atpAFPH.wNA %>% skim(winner.height, looser.height)\n",
    "# interpolate heights?\n",
    "# maybe if we don't get enough observations"
   ]
  },
  {
   "cell_type": "code",
   "execution_count": null,
   "id": "5ea006ad-4b1c-4e62-9c0f-073bf315c106",
   "metadata": {},
   "outputs": [],
   "source": [
    "atpAFPH <- atpAFPH.wNA %>% filter(!is.na(winner.height) & !is.na(looser.height))\n",
    "# atpAFPH %>% skim(winner.height, looser.height)"
   ]
  },
  {
   "cell_type": "code",
   "execution_count": null,
   "id": "dacdc48a-c630-4e18-94e0-d3ca4856e5de",
   "metadata": {},
   "outputs": [
    {
     "data": {
      "text/html": [
       "<table class=\"dataframe\">\n",
       "<caption>A tibble: 2 × 1</caption>\n",
       "<thead>\n",
       "\t<tr><th scope=col>winner.id</th></tr>\n",
       "\t<tr><th scope=col>&lt;chr&gt;</th></tr>\n",
       "</thead>\n",
       "<tbody>\n",
       "\t<tr><td>s406</td></tr>\n",
       "\t<tr><td>h431</td></tr>\n",
       "</tbody>\n",
       "</table>\n"
      ],
      "text/latex": [
       "A tibble: 2 × 1\n",
       "\\begin{tabular}{l}\n",
       " winner.id\\\\\n",
       " <chr>\\\\\n",
       "\\hline\n",
       "\t s406\\\\\n",
       "\t h431\\\\\n",
       "\\end{tabular}\n"
      ],
      "text/markdown": [
       "\n",
       "A tibble: 2 × 1\n",
       "\n",
       "| winner.id &lt;chr&gt; |\n",
       "|---|\n",
       "| s406 |\n",
       "| h431 |\n",
       "\n"
      ],
      "text/plain": [
       "  winner.id\n",
       "1 s406     \n",
       "2 h431     "
      ]
     },
     "metadata": {},
     "output_type": "display_data"
    }
   ],
   "source": [
    "atpAFPH %>% filter(winner.height < 160) %>% distinct(winner.id)"
   ]
  },
  {
   "cell_type": "code",
   "execution_count": null,
   "id": "ebf5a3d5-6dc1-4be2-99a4-5a6519077fe7",
   "metadata": {},
   "outputs": [
    {
     "data": {
      "text/html": [
       "<table class=\"dataframe\">\n",
       "<caption>A tibble: 2 × 1</caption>\n",
       "<thead>\n",
       "\t<tr><th scope=col>looser.id</th></tr>\n",
       "\t<tr><th scope=col>&lt;chr&gt;</th></tr>\n",
       "</thead>\n",
       "<tbody>\n",
       "\t<tr><td>s406</td></tr>\n",
       "\t<tr><td>h431</td></tr>\n",
       "</tbody>\n",
       "</table>\n"
      ],
      "text/latex": [
       "A tibble: 2 × 1\n",
       "\\begin{tabular}{l}\n",
       " looser.id\\\\\n",
       " <chr>\\\\\n",
       "\\hline\n",
       "\t s406\\\\\n",
       "\t h431\\\\\n",
       "\\end{tabular}\n"
      ],
      "text/markdown": [
       "\n",
       "A tibble: 2 × 1\n",
       "\n",
       "| looser.id &lt;chr&gt; |\n",
       "|---|\n",
       "| s406 |\n",
       "| h431 |\n",
       "\n"
      ],
      "text/plain": [
       "  looser.id\n",
       "1 s406     \n",
       "2 h431     "
      ]
     },
     "metadata": {},
     "output_type": "display_data"
    }
   ],
   "source": [
    "atpAFPH %>% filter(looser.height < 160) %>% distinct(looser.id)"
   ]
  },
  {
   "cell_type": "markdown",
   "id": "52a3f591-530e-49ff-9e50-0a286c5ecb21",
   "metadata": {},
   "source": [
    "TODO texto mas\n",
    "\n",
    "* h431 -> 180 cm\n",
    "* s406 -> 188 cm"
   ]
  },
  {
   "cell_type": "code",
   "execution_count": null,
   "id": "07def4b2-0347-4761-9caf-978b60c82381",
   "metadata": {},
   "outputs": [],
   "source": [
    "atpAFPHF <- atpAFPH %>% mutate(winner.height = case_when(\n",
    "    winner.id == \"h431\" ~ 180,\n",
    "    winner.id == \"s406\" ~ 188,\n",
    "    TRUE ~ winner.height\n",
    "), looser.height = case_when(\n",
    "    looser.id == \"h431\" ~ 180,\n",
    "    looser.id == \"s406\" ~ 188,\n",
    "    TRUE ~ looser.height\n",
    "))\n",
    "# atpAFPHF %>% skim(winner.height, looser.height)"
   ]
  },
  {
   "cell_type": "code",
   "execution_count": null,
   "id": "7aa3c8a8-46ad-469f-aeb6-1d83144d7037",
   "metadata": {},
   "outputs": [],
   "source": [
    "atpAFPHFR <- atpAFPHF %>% \n",
    "    filter(!match.wasRet, !match.wasWalkover, !match.wasDef) %>%\n",
    "    select(-match.wasRet, -match.wasWalkover, -match.wasDef)\n",
    "# atpAFPHFR %>% select(starts_with(\"match\")) %>% skim()"
   ]
  },
  {
   "cell_type": "code",
   "execution_count": null,
   "id": "57b6561f-b7ef-404e-ba1f-9433730fb840",
   "metadata": {},
   "outputs": [],
   "source": [
    "# tournaments best of 5\n",
    "atpAFPHFR -> atp.wbo5\n",
    "atp.wbo5 %>% \n",
    "    group_by(tournament.name) %>% \n",
    "    filter(!any(match.setsCount %>% as.integer > 3)) %>%\n",
    "    ungroup() -> atp.wo45"
   ]
  },
  {
   "cell_type": "code",
   "execution_count": null,
   "id": "00a6b5ff-d018-4b74-9794-cf6738a282e0",
   "metadata": {},
   "outputs": [
    {
     "data": {
      "text/html": [
       "<table class=\"dataframe\">\n",
       "<caption>A tibble: 5 × 1</caption>\n",
       "<thead>\n",
       "\t<tr><th scope=col>tournament.name</th></tr>\n",
       "\t<tr><th scope=col>&lt;chr&gt;</th></tr>\n",
       "</thead>\n",
       "<tbody>\n",
       "\t<tr><td>AUS v. MAR WG PO       </td></tr>\n",
       "\t<tr><td>AUS v. SWE WG 1st RD   </td></tr>\n",
       "\t<tr><td>AUS vs. SVK WG Play-Off</td></tr>\n",
       "\t<tr><td>Adelaide-2             </td></tr>\n",
       "\t<tr><td>ROM V AUS QF           </td></tr>\n",
       "</tbody>\n",
       "</table>\n"
      ],
      "text/latex": [
       "A tibble: 5 × 1\n",
       "\\begin{tabular}{l}\n",
       " tournament.name\\\\\n",
       " <chr>\\\\\n",
       "\\hline\n",
       "\t AUS v. MAR WG PO       \\\\\n",
       "\t AUS v. SWE WG 1st RD   \\\\\n",
       "\t AUS vs. SVK WG Play-Off\\\\\n",
       "\t Adelaide-2             \\\\\n",
       "\t ROM V AUS QF           \\\\\n",
       "\\end{tabular}\n"
      ],
      "text/markdown": [
       "\n",
       "A tibble: 5 × 1\n",
       "\n",
       "| tournament.name &lt;chr&gt; |\n",
       "|---|\n",
       "| AUS v. MAR WG PO        |\n",
       "| AUS v. SWE WG 1st RD    |\n",
       "| AUS vs. SVK WG Play-Off |\n",
       "| Adelaide-2              |\n",
       "| ROM V AUS QF            |\n",
       "\n"
      ],
      "text/plain": [
       "  tournament.name        \n",
       "1 AUS v. MAR WG PO       \n",
       "2 AUS v. SWE WG 1st RD   \n",
       "3 AUS vs. SVK WG Play-Off\n",
       "4 Adelaide-2             \n",
       "5 ROM V AUS QF           "
      ]
     },
     "metadata": {},
     "output_type": "display_data"
    }
   ],
   "source": [
    "atp.wo45 %>% \n",
    "    group_by(tournament.name) %>% \n",
    "    filter(all(match.setsCount == 3)) %>% \n",
    "    summarise()"
   ]
  },
  {
   "cell_type": "markdown",
   "id": "b223e70e-d010-43d4-8079-9d591d5c1527",
   "metadata": {},
   "source": [
    "TODO ver quais destes sao melhor de 3 e melhores de 5, dps tirar esses"
   ]
  },
  {
   "cell_type": "code",
   "execution_count": null,
   "id": "2bdc7cf7-3432-4071-ab60-5608f14a988b",
   "metadata": {},
   "outputs": [],
   "source": [
    "toRem = c(\"AUS v. MAR WG PO\",\"AUS v. SWE WG 1st RD\",\"AUS vs. SVK WG Play-Off\",\"ROM V AUS QF\")\n",
    "atp.wo45 %>% filter(!(tournament.name %in% toRem)) -> atp.wobo5"
   ]
  },
  {
   "cell_type": "code",
   "execution_count": null,
   "id": "d97d59fe-4774-4fd0-9654-49ef6a5ca951",
   "metadata": {},
   "outputs": [
    {
     "data": {
      "text/html": [
       "6839"
      ],
      "text/latex": [
       "6839"
      ],
      "text/markdown": [
       "6839"
      ],
      "text/plain": [
       "[1] 6839"
      ]
     },
     "metadata": {},
     "output_type": "display_data"
    }
   ],
   "source": [
    "atp.wobo5 %>% nrow()"
   ]
  },
  {
   "cell_type": "code",
   "execution_count": null,
   "id": "eb120d41-77a9-4986-8496-43d05ed2e434",
   "metadata": {},
   "outputs": [],
   "source": [
    "# atp.wobo5 %>% skim(winner.domHand, looser.domHand, winner.backHand,looser.backHand)"
   ]
  },
  {
   "cell_type": "code",
   "execution_count": null,
   "id": "a00905a2-3268-4768-a8cc-2d65f107d717",
   "metadata": {},
   "outputs": [],
   "source": [
    "df <- atp.wobo5 %>% \n",
    "    filter(!(looser.domHand %>% is.na) & looser.domHand != \"Ambidextrous\") %>%\n",
    "    filter(!(looser.rank %>% is.na) & !(winner.rank %>% is.na))\n",
    "# df %>% skim(winner.domHand, looser.domHand, winner.backHand,looser.backHand)"
   ]
  },
  {
   "cell_type": "code",
   "execution_count": null,
   "id": "ea53c132-9ab1-4b5f-a007-d565c700b801",
   "metadata": {},
   "outputs": [],
   "source": [
    "# features q faltam:\n",
    "# diferenca de alturas✔\n",
    "# media de alturas✔\n",
    "# idades (*)\n",
    "# numero de jogos jogados - diferenca/numero de wins/winrate\n",
    "# frequencia de jogos do pais de naturalidade\n",
    "# se pais tem jogos - condicao/contagem/diferenca/diferenca de condicao\n",
    "# domhand comparacao ✔\n",
    "# backhand comparacao ✔\n",
    "# tipo do torneio (afonse)\n",
    "# frequencia do torneio\n",
    "# mes do torneio ✔\n",
    "# distancia ao ultimo torneio/primeiro ✔\n",
    "# premio (precisa eda) \n",
    "# distancia da ronda final (chaves)\n",
    "# diferenca de rank ✔ /categoria de rank (eda)"
   ]
  },
  {
   "cell_type": "code",
   "execution_count": null,
   "id": "396eb713-9fb0-4fe1-8958-3f3df7dad0bd",
   "metadata": {},
   "outputs": [
    {
     "data": {
      "text/html": [
       "<time datetime=\"1974-12-09\">1974-12-09</time>"
      ],
      "text/latex": [
       "1974-12-09"
      ],
      "text/markdown": [
       "1974-12-09"
      ],
      "text/plain": [
       "[1] \"1974-12-09\""
      ]
     },
     "metadata": {},
     "output_type": "display_data"
    }
   ],
   "source": [
    "firstT <- df %>% arrange(tournament.date_start) %>% head(1) |> _$tournament.date_start\n",
    "firstT "
   ]
  },
  {
   "cell_type": "code",
   "execution_count": null,
   "id": "a42d9939-4f81-41a7-8cd3-6265a57e3425",
   "metadata": {},
   "outputs": [],
   "source": [
    "df %>%\n",
    "    unite(\"match.domHands\", c(winner.domHand, looser.domHand)) %>%\n",
    "    unite(\"match.backHands\", c(winner.backHand, looser.backHand)) %>%\n",
    "    mutate(\n",
    "        match.domHands          = match.domHands %>% as.factor(),\n",
    "        match.backHands         = match.backHands %>% as.factor(),\n",
    "        match.diffHeights       = winner.height - looser.height,\n",
    "        match.avgHeights        = rowMeans(across(c(winner.height, looser.height))),\n",
    "        tournament.month        = month(tournament.date_start, label=T),\n",
    "        tournament.quarter      = quarter(tournament.date_start) %>% as.factor(),\n",
    "        tournament.dateDistance = difftime(firstT, tournament.date_start, units = \"weeks\"),\n",
    "        match.diffRank          = winner.rank - looser.rank,\n",
    "        match.avgRank           = rowMeans(across(c(winner.rank, looser.rank)))\n",
    "    ) %>% \n",
    "    select(-winner.name, -winner.id, -looser.name, -looser.id, -tournament.location) %>% \n",
    "    mutate(match.setsCount = fct_drop(match.setsCount))->  dfF\n",
    "# dfF %>% skim()"
   ]
  },
  {
   "cell_type": "code",
   "execution_count": null,
   "id": "39c83385-fbb0-4a37-8abd-33d8c0632797",
   "metadata": {},
   "outputs": [
    {
     "data": {
      "text/html": [
       "6365"
      ],
      "text/latex": [
       "6365"
      ],
      "text/markdown": [
       "6365"
      ],
      "text/plain": [
       "[1] 6365"
      ]
     },
     "metadata": {},
     "output_type": "display_data"
    }
   ],
   "source": [
    "dfF %>% nrow()"
   ]
  },
  {
   "cell_type": "code",
   "execution_count": null,
   "id": "08f75638-6138-426e-8c49-f14cf7ba2007",
   "metadata": {},
   "outputs": [],
   "source": [
    "# spliting\n",
    "set.seed(1)\n",
    "df.split <- initial_split(dfF, prop = 3/4, strata = match.setsCount)\n",
    "df.train <- training(df.split)\n",
    "df.test  <- testing (df.split)\n",
    "# vfold\n",
    "# df.10fold <- vfold_cv(dfF, v = 5, repeats = 5)"
   ]
  },
  {
   "cell_type": "code",
   "execution_count": null,
   "id": "bfe142f6-2a35-467c-bc78-36c41db58b1c",
   "metadata": {},
   "outputs": [
    {
     "data": {
      "text/html": [
       "<table class=\"dataframe\">\n",
       "<caption>A tibble: 1 × 8</caption>\n",
       "<thead>\n",
       "\t<tr><th scope=col>null.deviance</th><th scope=col>df.null</th><th scope=col>logLik</th><th scope=col>AIC</th><th scope=col>BIC</th><th scope=col>deviance</th><th scope=col>df.residual</th><th scope=col>nobs</th></tr>\n",
       "\t<tr><th scope=col>&lt;dbl&gt;</th><th scope=col>&lt;int&gt;</th><th scope=col>&lt;dbl&gt;</th><th scope=col>&lt;dbl&gt;</th><th scope=col>&lt;dbl&gt;</th><th scope=col>&lt;dbl&gt;</th><th scope=col>&lt;int&gt;</th><th scope=col>&lt;int&gt;</th></tr>\n",
       "</thead>\n",
       "<tbody>\n",
       "\t<tr><td>6099.459</td><td>4772</td><td>-2910.795</td><td>5887.589</td><td>6101.124</td><td>5821.589</td><td>4740</td><td>4773</td></tr>\n",
       "</tbody>\n",
       "</table>\n"
      ],
      "text/latex": [
       "A tibble: 1 × 8\n",
       "\\begin{tabular}{llllllll}\n",
       " null.deviance & df.null & logLik & AIC & BIC & deviance & df.residual & nobs\\\\\n",
       " <dbl> & <int> & <dbl> & <dbl> & <dbl> & <dbl> & <int> & <int>\\\\\n",
       "\\hline\n",
       "\t 6099.459 & 4772 & -2910.795 & 5887.589 & 6101.124 & 5821.589 & 4740 & 4773\\\\\n",
       "\\end{tabular}\n"
      ],
      "text/markdown": [
       "\n",
       "A tibble: 1 × 8\n",
       "\n",
       "| null.deviance &lt;dbl&gt; | df.null &lt;int&gt; | logLik &lt;dbl&gt; | AIC &lt;dbl&gt; | BIC &lt;dbl&gt; | deviance &lt;dbl&gt; | df.residual &lt;int&gt; | nobs &lt;int&gt; |\n",
       "|---|---|---|---|---|---|---|---|\n",
       "| 6099.459 | 4772 | -2910.795 | 5887.589 | 6101.124 | 5821.589 | 4740 | 4773 |\n",
       "\n"
      ],
      "text/plain": [
       "  null.deviance df.null logLik    AIC      BIC      deviance df.residual nobs\n",
       "1 6099.459      4772    -2910.795 5887.589 6101.124 5821.589 4740        4773"
      ]
     },
     "metadata": {},
     "output_type": "display_data"
    }
   ],
   "source": [
    "# first model\n",
    "models.first <- workflow() %>% \n",
    "    add_model(logistic_reg(mode=\"classification\")) %>%\n",
    "    add_formula(match.setsCount ~ \n",
    "        tournament.dateDistance + \n",
    "        match.domHands + \n",
    "        match.backHands + \n",
    "        match.tournamentRound + \n",
    "        tournament.ground + \n",
    "        tournament.quarter + \n",
    "        match.hadTieBreaker + \n",
    "        tournament.duration + \n",
    "        match.diffHeights + \n",
    "        match.diffRank,\n",
    "    ) %>% fit(df.train) # fit_resamples(df.10fold)\n",
    "models.first %>% glance()"
   ]
  },
  {
   "cell_type": "code",
   "execution_count": null,
   "id": "bac79a29-b036-43e0-9692-3dba2468156c",
   "metadata": {},
   "outputs": [
    {
     "data": {
      "text/html": [
       "<table class=\"dataframe\">\n",
       "<caption>A data.frame: 1592 × 2</caption>\n",
       "<thead>\n",
       "\t<tr><th scope=col>pred</th><th scope=col>truth</th></tr>\n",
       "\t<tr><th scope=col>&lt;fct&gt;</th><th scope=col>&lt;fct&gt;</th></tr>\n",
       "</thead>\n",
       "<tbody>\n",
       "\t<tr><td>2</td><td>2</td></tr>\n",
       "\t<tr><td>2</td><td>3</td></tr>\n",
       "\t<tr><td>2</td><td>2</td></tr>\n",
       "\t<tr><td>3</td><td>3</td></tr>\n",
       "\t<tr><td>2</td><td>3</td></tr>\n",
       "\t<tr><td>2</td><td>2</td></tr>\n",
       "\t<tr><td>2</td><td>2</td></tr>\n",
       "\t<tr><td>2</td><td>2</td></tr>\n",
       "\t<tr><td>2</td><td>3</td></tr>\n",
       "\t<tr><td>2</td><td>2</td></tr>\n",
       "\t<tr><td>2</td><td>2</td></tr>\n",
       "\t<tr><td>2</td><td>3</td></tr>\n",
       "\t<tr><td>2</td><td>2</td></tr>\n",
       "\t<tr><td>3</td><td>3</td></tr>\n",
       "\t<tr><td>2</td><td>2</td></tr>\n",
       "\t<tr><td>2</td><td>3</td></tr>\n",
       "\t<tr><td>3</td><td>2</td></tr>\n",
       "\t<tr><td>2</td><td>2</td></tr>\n",
       "\t<tr><td>2</td><td>2</td></tr>\n",
       "\t<tr><td>2</td><td>3</td></tr>\n",
       "\t<tr><td>3</td><td>3</td></tr>\n",
       "\t<tr><td>2</td><td>2</td></tr>\n",
       "\t<tr><td>2</td><td>2</td></tr>\n",
       "\t<tr><td>2</td><td>2</td></tr>\n",
       "\t<tr><td>3</td><td>3</td></tr>\n",
       "\t<tr><td>2</td><td>2</td></tr>\n",
       "\t<tr><td>2</td><td>3</td></tr>\n",
       "\t<tr><td>2</td><td>2</td></tr>\n",
       "\t<tr><td>2</td><td>2</td></tr>\n",
       "\t<tr><td>2</td><td>3</td></tr>\n",
       "\t<tr><td>⋮</td><td>⋮</td></tr>\n",
       "\t<tr><td>2</td><td>2</td></tr>\n",
       "\t<tr><td>2</td><td>2</td></tr>\n",
       "\t<tr><td>2</td><td>2</td></tr>\n",
       "\t<tr><td>3</td><td>3</td></tr>\n",
       "\t<tr><td>2</td><td>2</td></tr>\n",
       "\t<tr><td>2</td><td>3</td></tr>\n",
       "\t<tr><td>2</td><td>3</td></tr>\n",
       "\t<tr><td>2</td><td>3</td></tr>\n",
       "\t<tr><td>2</td><td>2</td></tr>\n",
       "\t<tr><td>2</td><td>2</td></tr>\n",
       "\t<tr><td>3</td><td>2</td></tr>\n",
       "\t<tr><td>2</td><td>3</td></tr>\n",
       "\t<tr><td>2</td><td>2</td></tr>\n",
       "\t<tr><td>3</td><td>3</td></tr>\n",
       "\t<tr><td>2</td><td>2</td></tr>\n",
       "\t<tr><td>2</td><td>2</td></tr>\n",
       "\t<tr><td>2</td><td>2</td></tr>\n",
       "\t<tr><td>2</td><td>2</td></tr>\n",
       "\t<tr><td>2</td><td>2</td></tr>\n",
       "\t<tr><td>2</td><td>2</td></tr>\n",
       "\t<tr><td>2</td><td>2</td></tr>\n",
       "\t<tr><td>2</td><td>2</td></tr>\n",
       "\t<tr><td>2</td><td>2</td></tr>\n",
       "\t<tr><td>2</td><td>2</td></tr>\n",
       "\t<tr><td>2</td><td>3</td></tr>\n",
       "\t<tr><td>2</td><td>2</td></tr>\n",
       "\t<tr><td>3</td><td>2</td></tr>\n",
       "\t<tr><td>3</td><td>2</td></tr>\n",
       "\t<tr><td>2</td><td>2</td></tr>\n",
       "\t<tr><td>2</td><td>2</td></tr>\n",
       "</tbody>\n",
       "</table>\n"
      ],
      "text/latex": [
       "A data.frame: 1592 × 2\n",
       "\\begin{tabular}{ll}\n",
       " pred & truth\\\\\n",
       " <fct> & <fct>\\\\\n",
       "\\hline\n",
       "\t 2 & 2\\\\\n",
       "\t 2 & 3\\\\\n",
       "\t 2 & 2\\\\\n",
       "\t 3 & 3\\\\\n",
       "\t 2 & 3\\\\\n",
       "\t 2 & 2\\\\\n",
       "\t 2 & 2\\\\\n",
       "\t 2 & 2\\\\\n",
       "\t 2 & 3\\\\\n",
       "\t 2 & 2\\\\\n",
       "\t 2 & 2\\\\\n",
       "\t 2 & 3\\\\\n",
       "\t 2 & 2\\\\\n",
       "\t 3 & 3\\\\\n",
       "\t 2 & 2\\\\\n",
       "\t 2 & 3\\\\\n",
       "\t 3 & 2\\\\\n",
       "\t 2 & 2\\\\\n",
       "\t 2 & 2\\\\\n",
       "\t 2 & 3\\\\\n",
       "\t 3 & 3\\\\\n",
       "\t 2 & 2\\\\\n",
       "\t 2 & 2\\\\\n",
       "\t 2 & 2\\\\\n",
       "\t 3 & 3\\\\\n",
       "\t 2 & 2\\\\\n",
       "\t 2 & 3\\\\\n",
       "\t 2 & 2\\\\\n",
       "\t 2 & 2\\\\\n",
       "\t 2 & 3\\\\\n",
       "\t ⋮ & ⋮\\\\\n",
       "\t 2 & 2\\\\\n",
       "\t 2 & 2\\\\\n",
       "\t 2 & 2\\\\\n",
       "\t 3 & 3\\\\\n",
       "\t 2 & 2\\\\\n",
       "\t 2 & 3\\\\\n",
       "\t 2 & 3\\\\\n",
       "\t 2 & 3\\\\\n",
       "\t 2 & 2\\\\\n",
       "\t 2 & 2\\\\\n",
       "\t 3 & 2\\\\\n",
       "\t 2 & 3\\\\\n",
       "\t 2 & 2\\\\\n",
       "\t 3 & 3\\\\\n",
       "\t 2 & 2\\\\\n",
       "\t 2 & 2\\\\\n",
       "\t 2 & 2\\\\\n",
       "\t 2 & 2\\\\\n",
       "\t 2 & 2\\\\\n",
       "\t 2 & 2\\\\\n",
       "\t 2 & 2\\\\\n",
       "\t 2 & 2\\\\\n",
       "\t 2 & 2\\\\\n",
       "\t 2 & 2\\\\\n",
       "\t 2 & 3\\\\\n",
       "\t 2 & 2\\\\\n",
       "\t 3 & 2\\\\\n",
       "\t 3 & 2\\\\\n",
       "\t 2 & 2\\\\\n",
       "\t 2 & 2\\\\\n",
       "\\end{tabular}\n"
      ],
      "text/markdown": [
       "\n",
       "A data.frame: 1592 × 2\n",
       "\n",
       "| pred &lt;fct&gt; | truth &lt;fct&gt; |\n",
       "|---|---|\n",
       "| 2 | 2 |\n",
       "| 2 | 3 |\n",
       "| 2 | 2 |\n",
       "| 3 | 3 |\n",
       "| 2 | 3 |\n",
       "| 2 | 2 |\n",
       "| 2 | 2 |\n",
       "| 2 | 2 |\n",
       "| 2 | 3 |\n",
       "| 2 | 2 |\n",
       "| 2 | 2 |\n",
       "| 2 | 3 |\n",
       "| 2 | 2 |\n",
       "| 3 | 3 |\n",
       "| 2 | 2 |\n",
       "| 2 | 3 |\n",
       "| 3 | 2 |\n",
       "| 2 | 2 |\n",
       "| 2 | 2 |\n",
       "| 2 | 3 |\n",
       "| 3 | 3 |\n",
       "| 2 | 2 |\n",
       "| 2 | 2 |\n",
       "| 2 | 2 |\n",
       "| 3 | 3 |\n",
       "| 2 | 2 |\n",
       "| 2 | 3 |\n",
       "| 2 | 2 |\n",
       "| 2 | 2 |\n",
       "| 2 | 3 |\n",
       "| ⋮ | ⋮ |\n",
       "| 2 | 2 |\n",
       "| 2 | 2 |\n",
       "| 2 | 2 |\n",
       "| 3 | 3 |\n",
       "| 2 | 2 |\n",
       "| 2 | 3 |\n",
       "| 2 | 3 |\n",
       "| 2 | 3 |\n",
       "| 2 | 2 |\n",
       "| 2 | 2 |\n",
       "| 3 | 2 |\n",
       "| 2 | 3 |\n",
       "| 2 | 2 |\n",
       "| 3 | 3 |\n",
       "| 2 | 2 |\n",
       "| 2 | 2 |\n",
       "| 2 | 2 |\n",
       "| 2 | 2 |\n",
       "| 2 | 2 |\n",
       "| 2 | 2 |\n",
       "| 2 | 2 |\n",
       "| 2 | 2 |\n",
       "| 2 | 2 |\n",
       "| 2 | 2 |\n",
       "| 2 | 3 |\n",
       "| 2 | 2 |\n",
       "| 3 | 2 |\n",
       "| 3 | 2 |\n",
       "| 2 | 2 |\n",
       "| 2 | 2 |\n",
       "\n"
      ],
      "text/plain": [
       "     pred truth\n",
       "1    2    2    \n",
       "2    2    3    \n",
       "3    2    2    \n",
       "4    3    3    \n",
       "5    2    3    \n",
       "6    2    2    \n",
       "7    2    2    \n",
       "8    2    2    \n",
       "9    2    3    \n",
       "10   2    2    \n",
       "11   2    2    \n",
       "12   2    3    \n",
       "13   2    2    \n",
       "14   3    3    \n",
       "15   2    2    \n",
       "16   2    3    \n",
       "17   3    2    \n",
       "18   2    2    \n",
       "19   2    2    \n",
       "20   2    3    \n",
       "21   3    3    \n",
       "22   2    2    \n",
       "23   2    2    \n",
       "24   2    2    \n",
       "25   3    3    \n",
       "26   2    2    \n",
       "27   2    3    \n",
       "28   2    2    \n",
       "29   2    2    \n",
       "30   2    3    \n",
       "⋮    ⋮    ⋮    \n",
       "1563 2    2    \n",
       "1564 2    2    \n",
       "1565 2    2    \n",
       "1566 3    3    \n",
       "1567 2    2    \n",
       "1568 2    3    \n",
       "1569 2    3    \n",
       "1570 2    3    \n",
       "1571 2    2    \n",
       "1572 2    2    \n",
       "1573 3    2    \n",
       "1574 2    3    \n",
       "1575 2    2    \n",
       "1576 3    3    \n",
       "1577 2    2    \n",
       "1578 2    2    \n",
       "1579 2    2    \n",
       "1580 2    2    \n",
       "1581 2    2    \n",
       "1582 2    2    \n",
       "1583 2    2    \n",
       "1584 2    2    \n",
       "1585 2    2    \n",
       "1586 2    2    \n",
       "1587 2    3    \n",
       "1588 2    2    \n",
       "1589 3    2    \n",
       "1590 3    2    \n",
       "1591 2    2    \n",
       "1592 2    2    "
      ]
     },
     "metadata": {},
     "output_type": "display_data"
    }
   ],
   "source": [
    "models.first.pred <- predict(models.first, df.test)\n",
    "models.first.vs <- cbind(pred = models.first.pred, truth = df.test$match.setsCount) %>% rename(pred = .pred_class)\n",
    "models.first.vs "
   ]
  },
  {
   "cell_type": "code",
   "execution_count": null,
   "id": "a6f167c6-0ef0-4608-9861-d1044dc3f779",
   "metadata": {},
   "outputs": [
    {
     "data": {
      "text/html": [
       "<table class=\"dataframe\">\n",
       "<caption>A tibble: 1 × 3</caption>\n",
       "<thead>\n",
       "\t<tr><th scope=col>.metric</th><th scope=col>.estimator</th><th scope=col>.estimate</th></tr>\n",
       "\t<tr><th scope=col>&lt;chr&gt;</th><th scope=col>&lt;chr&gt;</th><th scope=col>&lt;dbl&gt;</th></tr>\n",
       "</thead>\n",
       "<tbody>\n",
       "\t<tr><td>accuracy</td><td>binary</td><td>0.673995</td></tr>\n",
       "</tbody>\n",
       "</table>\n"
      ],
      "text/latex": [
       "A tibble: 1 × 3\n",
       "\\begin{tabular}{lll}\n",
       " .metric & .estimator & .estimate\\\\\n",
       " <chr> & <chr> & <dbl>\\\\\n",
       "\\hline\n",
       "\t accuracy & binary & 0.673995\\\\\n",
       "\\end{tabular}\n"
      ],
      "text/markdown": [
       "\n",
       "A tibble: 1 × 3\n",
       "\n",
       "| .metric &lt;chr&gt; | .estimator &lt;chr&gt; | .estimate &lt;dbl&gt; |\n",
       "|---|---|---|\n",
       "| accuracy | binary | 0.673995 |\n",
       "\n"
      ],
      "text/plain": [
       "  .metric  .estimator .estimate\n",
       "1 accuracy binary     0.673995 "
      ]
     },
     "metadata": {},
     "output_type": "display_data"
    }
   ],
   "source": [
    "models.first.vs %>% accuracy(truth= truth, estimate = pred)"
   ]
  },
  {
   "cell_type": "code",
   "execution_count": null,
   "id": "fa0c63be-b27a-4704-9540-bf1f6164e16e",
   "metadata": {},
   "outputs": [
    {
     "data": {
      "text/html": [
       "<table class=\"dataframe\">\n",
       "<caption>A tibble: 1 × 3</caption>\n",
       "<thead>\n",
       "\t<tr><th scope=col>.metric</th><th scope=col>.estimator</th><th scope=col>.estimate</th></tr>\n",
       "\t<tr><th scope=col>&lt;chr&gt;</th><th scope=col>&lt;chr&gt;</th><th scope=col>&lt;dbl&gt;</th></tr>\n",
       "</thead>\n",
       "<tbody>\n",
       "\t<tr><td>f_meas</td><td>binary</td><td>0.7831174</td></tr>\n",
       "</tbody>\n",
       "</table>\n"
      ],
      "text/latex": [
       "A tibble: 1 × 3\n",
       "\\begin{tabular}{lll}\n",
       " .metric & .estimator & .estimate\\\\\n",
       " <chr> & <chr> & <dbl>\\\\\n",
       "\\hline\n",
       "\t f\\_meas & binary & 0.7831174\\\\\n",
       "\\end{tabular}\n"
      ],
      "text/markdown": [
       "\n",
       "A tibble: 1 × 3\n",
       "\n",
       "| .metric &lt;chr&gt; | .estimator &lt;chr&gt; | .estimate &lt;dbl&gt; |\n",
       "|---|---|---|\n",
       "| f_meas | binary | 0.7831174 |\n",
       "\n"
      ],
      "text/plain": [
       "  .metric .estimator .estimate\n",
       "1 f_meas  binary     0.7831174"
      ]
     },
     "metadata": {},
     "output_type": "display_data"
    }
   ],
   "source": [
    "models.first.vs %>% f_meas(truth= truth, estimate = pred)"
   ]
  },
  {
   "cell_type": "code",
   "execution_count": null,
   "id": "fe59bc46-7c01-486a-8682-5abb8df2c7af",
   "metadata": {},
   "outputs": [
    {
     "data": {
      "text/plain": [
       "          Truth\n",
       "Prediction   2   3\n",
       "         2 937 400\n",
       "         3 119 136"
      ]
     },
     "metadata": {},
     "output_type": "display_data"
    }
   ],
   "source": [
    "models.first.vs %>% conf_mat(truth= truth, estimate = pred)"
   ]
  },
  {
   "cell_type": "code",
   "execution_count": null,
   "id": "98437808-d048-4310-b8b2-b01d4d465e21",
   "metadata": {},
   "outputs": [
    {
     "data": {
      "image/png": "[encoded data removed]",
      "text/plain": [
       "plot without title"
      ]
     },
     "metadata": {
      "image/png": {
       "height": 420,
       "width": 420
      }
     },
     "output_type": "display_data"
    }
   ],
   "source": [
    "library(ggcorrplot)\n",
    "cor(dfF %>% mutate(match.setsCount = match.setsCount %>% as.numeric) %>% select(\n",
    "    match.setsCount,\n",
    "    # tournament.dateDistance,\n",
    "    # match.domHands,\n",
    "    # match.backHands,\n",
    "    # match.tournamentRound,\n",
    "    # tournament.ground,\n",
    "    # tournament.quarter,\n",
    "    # match.hadTieBreaker,\n",
    "    tournament.duration,\n",
    "    match.diffHeights,\n",
    "    match.diffRank\n",
    ")) %>% ggcorrplot(type = \"lower\",lab = TRUE)"
   ]
  },
  {
   "cell_type": "code",
   "execution_count": null,
   "id": "26ef8c3a-8e94-44f8-9046-cb1c066b56d7",
   "metadata": {},
   "outputs": [
    {
     "data": {
      "image/png": "[encoded data removed]",
      "text/plain": [
       "plot without title"
      ]
     },
     "metadata": {
      "image/png": {
       "height": 420,
       "width": 420
      }
     },
     "output_type": "display_data"
    }
   ],
   "source": [
    "library(corrr)\n",
    "dfF %>% select(\n",
    "    match.setsCount,\n",
    "    # tournament.dateDistance,\n",
    "    match.domHands,\n",
    "    match.backHands,\n",
    "    match.tournamentRound,\n",
    "    tournament.ground,\n",
    "    tournament.quarter,\n",
    "    match.hadTieBreaker,\n",
    "    # tournament.duration,\n",
    "    # match.diffHeights,\n",
    "    # match.diffRank\n",
    ") %>% colpair_map(function(x, y) {table(x, y) %>% rcompanion::cramerV()}, .diagonal = TRUE) %>% \n",
    "    as_matrix() %>% \n",
    "    ggcorrplot(type = \"lower\",lab = TRUE)"
   ]
  },
  {
   "cell_type": "code",
   "execution_count": null,
   "id": "911b0120-ff94-4789-a526-4929559d786f",
   "metadata": {},
   "outputs": [],
   "source": []
  }
 ],
 "metadata": {
  "kernelspec": {
   "display_name": "ir_pacd",
   "language": "R",
   "name": "ir_pacd"
  }
 },
 "nbformat": 4,
 "nbformat_minor": 5
}
