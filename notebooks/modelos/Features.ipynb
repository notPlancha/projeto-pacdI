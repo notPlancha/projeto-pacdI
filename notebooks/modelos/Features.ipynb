{
 "cells": [
  {
   "cell_type": "raw",
   "id": "801a44e3-c13a-4f42-ab3e-7d7eebe981ee",
   "metadata": {},
   "source": [
    "arrow::read_parquet(here(\"data\", \"featureless.parquet\"), as_data_frame = TRUE) -> atp\n",
    "arrow::read_parquet(here(\"data\", \"atpTrans.parquet\")) -> atpFull\n",
    "library(skimr)"
   ]
  },
  {
   "cell_type": "raw",
   "id": "40ea9cc4-e782-4351-92a3-9482ea4f5147",
   "metadata": {},
   "source": [
    "# Número de jogos jogados"
   ]
  },
  {
   "cell_type": "raw",
   "id": "0401335a-94b6-49fb-a355-79c77a382058",
   "metadata": {},
   "source": [
    "atp %>%\n",
    "    group_by(winner.name, winner.id) %>% \n",
    "    summarise(player.nwins = n()) %>% \n",
    "    rename(player.name = winner.name, player.id = winner.id) -> a\n",
    "atp %>%\n",
    "    group_by(looser.name, looser.id) %>% \n",
    "    summarise(player.nlosses = n()) %>% \n",
    "    rename(player.name = looser.name, player.id = looser.id) -> b\n",
    "\n",
    "full_join(a, b) %>% mutate(\n",
    "    player.nwins   = ifelse(player.nwins %>% is.na, 0, player.nwins),\n",
    "    player.nlosses = ifelse(player.nlosses %>% is.na, 0, player.nlosses),\n",
    "    player.njogos  = player.nwins + player.nlosses,\n",
    "    player.winrate = player.nwins*100 / player.njogos,\n",
    ") -> playerRate\n",
    "playerRate"
   ]
  },
  {
   "cell_type": "raw",
   "id": "5ec0c045-8a9f-4099-bb08-5b8da712ed3d",
   "metadata": {},
   "source": [
    "atp %>% \n",
    "    left_join(playerRate, by=join_by(winner.name == player.name, winner.id == player.id)) %>% \n",
    "    rename(\n",
    "        winner.Anwins   = player.nwins, \n",
    "        winner.Anlosses = player.nlosses, \n",
    "        winner.Anjogos  = player.njogos, \n",
    "        winner.Awinrate = player.winrate\n",
    "    ) %>% left_join(playerRate, by=join_by(looser.name == player.name, looser.id == player.id)) %>% \n",
    "    rename(\n",
    "        looser.Anwins   = player.nwins, \n",
    "        looser.Anlosses = player.nlosses, \n",
    "        looser.Anjogos  = player.njogos, \n",
    "        looser.Awinrate = player.winrate\n",
    "    ) %>% mutate(\n",
    "        match.AnjogosDiff = winner.Anjogos - looser.Anjogos\n",
    "    ) -> atpP\n",
    "atpP %>% glimpse()"
   ]
  },
  {
   "cell_type": "raw",
   "id": "8b64ff95-d635-40d7-8ea1-2fcc3336eafc",
   "metadata": {},
   "source": [
    "atpFull %>%\n",
    "    group_by(winner.name, winner.id) %>% \n",
    "    summarise(player.nwins = n()) %>% \n",
    "    rename(player.name = winner.name, player.id = winner.id) -> a\n",
    "atpFull %>%\n",
    "    group_by(looser.name, looser.id) %>% \n",
    "    summarise(player.nlosses = n()) %>% \n",
    "    rename(player.name = looser.name, player.id = looser.id) -> b\n",
    "\n",
    "full_join(a, b) %>% mutate(\n",
    "    player.nwins   = ifelse(player.nwins %>% is.na, 0, player.nwins),\n",
    "    player.nlosses = ifelse(player.nlosses %>% is.na, 0, player.nlosses),\n",
    "    player.njogos  = player.nwins + player.nlosses,\n",
    "    player.winrate = player.nwins*100 / player.njogos,\n",
    ") -> playerRateF\n",
    "playerRateF"
   ]
  },
  {
   "cell_type": "raw",
   "id": "58689e83-82cc-4477-8bae-fb6495061c28",
   "metadata": {},
   "source": [
    "atpP %>% \n",
    "    left_join(playerRateF, by=join_by(winner.name == player.name, winner.id == player.id)) %>% \n",
    "    rename(\n",
    "        winner.nwins   = player.nwins, \n",
    "        winner.nlosses = player.nlosses, \n",
    "        winner.njogos  = player.njogos, \n",
    "        winner.winrate = player.winrate\n",
    "    ) %>% left_join(playerRate, by=join_by(looser.name == player.name, looser.id == player.id)) %>% \n",
    "    rename(\n",
    "        looser.nwins   = player.nwins, \n",
    "        looser.nlosses = player.nlosses, \n",
    "        looser.njogos  = player.njogos, \n",
    "        looser.winrate = player.winrate\n",
    "    ) %>% mutate(\n",
    "        match.njogosDiff = winner.njogos - looser.njogos\n",
    "    ) -> atpPP\n",
    "atpPP %>% glimpse()"
   ]
  },
  {
   "cell_type": "raw",
   "id": "a776f5aa-b95d-4f2a-9e24-4dce5176b37e",
   "metadata": {},
   "source": [
    "atpFull %>% \n",
    "    group_by(tournament.location, tournament.name, tournament.date_start) %>%\n",
    "    summarise() %>%\n",
    "    group_by(tournament.location) %>%\n",
    "    summarise(tournament.locationFreq = n()) %>% -> tfreq\n",
    "\n",
    "atpPP %>% \n",
    "    left_join(tfreq, by=join_by(winner.bornAt == tournament.location)) %>% \n",
    "    rename(winner.bornAt.tournFreq = tournament.locationFreq) %>%\n",
    "    left_join(tfreq, by=join_by(looser.bornAt == tournament.location)) %>% \n",
    "    rename(looser.bornAt.tournFreq = tournament.locationFreq) %>%\n",
    "    mutate(\n",
    "        winner.bornAt.hasTourn = winner.bornAt.tournFreq != 0,\n",
    "        looser.bornAt.hasTourn = looser.bornAt.tournFreq != 0,\n",
    "        match.playersBorn.hasTournXor = winner.bornAt.hasTourn == looser.bornAt.hasTourn,\n",
    "        # match.playersBorn.hasTournAny = any(winner.bornAt.hasTourn, looser.bornAt.hasTourn), #all T\n",
    "        match.playersBorn.tournFreqDiff = winner.bornAt.hasTourn - looser.bornAt.hasTourn,\n",
    "    ) -> atpPPT\n",
    "atpPPT %>% glimpse()"
   ]
  },
  {
   "cell_type": "raw",
   "id": "37f97325-de6f-4d2b-8161-195b081a9e44",
   "metadata": {},
   "source": [
    "tfreq"
   ]
  },
  {
   "cell_type": "raw",
   "id": "e2e7ca92-e20b-4c7c-8706-d352cfc00856",
   "metadata": {},
   "source": [
    "# ultimo torneio do jogador\n",
    "atpFull %>% \n",
    "    group_by(winner.name, winner.id, tournament.name, tournament.date_start) %>% \n",
    "    summarise() %>%\n",
    "    arrange(tournament.date_start) %>% \n",
    "    group_by(winner.name, winner.id) %>%\n",
    "    mutate(\n",
    "        winner.nTournament         = row_number(),\n",
    "        winner.lastTournamentDate  = lag(tournament.date_start),\n",
    "        winner.lastTournamentDate  = ifelse(winner.lastTournamentDate %>% is.na, tournament.date_start, winner.lastTournamentDate),\n",
    "        winner.lastTournamentDelay = -(tournament.date_start %--% winner.lastTournamentDate) %>% as.duration()\n",
    "    ) %>% arrange(winner.name, winner.id) -> n\n",
    "atpPPT %>% left_join(n) -> atpPPTL\n",
    "# atpFull %>% \n",
    "#     group_by(looser.name, looser.id, tournament.name, tournament.date_start) %>% \n",
    "#     summarise() %>%\n",
    "#     arrange(tournament.date_start) %>% \n",
    "#     group_by(looser.name, looser.id) %>%\n",
    "#      mutate(\n",
    "#         looser.nTournament         = row_number(),\n",
    "#         looser.lastTournamentDate  = lag(tournament.date_start),\n",
    "#         looser.lastTournamentDate  = ifelse(looser.lastTournamentDate %>% is.na, tournament.date_start, looser.lastTournamentDate),\n",
    "#         looser.lastTournamentDelay = (tournament.date_start - winner.lastTournamentDate) %>% make_difftime(units = \"weeks\")\n",
    "#     ) %>% arrange(looser.name, looser.id) -> n\n",
    "# atpPPTLL <- atpPPTL %>% left_join(n)\n",
    "atpPPTL %>% glimpse()"
   ]
  },
  {
   "cell_type": "raw",
   "id": "0e8809f3-d402-4705-98eb-38b072a8ffb4",
   "metadata": {},
   "source": [
    "atpFull %>% \n",
    "    group_by(winner.name, winner.id, tournament.name, tournament.date_start) %>% \n",
    "    summarise() %>%\n",
    "    arrange(tournament.date_start) %>% \n",
    "    rename(player.name = winner.name, player.id = winner.id) -> a\n",
    "atpFull %>% \n",
    "    group_by(looser.name, looser.id, tournament.name, tournament.date_start) %>% \n",
    "    summarise() %>%\n",
    "    arrange(tournament.date_start) %>% \n",
    "    rename(player.name = looser.name, player.id = looser.id) -> b\n",
    "bind_rows(a, b) %>% \n",
    "   group_by(player.name, player.id) %>%\n",
    "   mutate(\n",
    "       player.nTournament          = row_number(),\n",
    "       player.lastTournamentDate   = ifelse(player.nTournament == 1, tournament.date_start, lag(tournament.date_start)) %>% as.Date,\n",
    "       player.lastTournamentDelayW = -interval(tournament.date_start, player.lastTournamentDate) / dweeks(1)#as weeks\n",
    "   ) %>% select(-player.lastTournamentDate) -> ab\n",
    "\n",
    "atpPPT %>% \n",
    "    left_join(ab, by=join_by(\n",
    "        winner.name == player.name, \n",
    "        winner.id == player.id, \n",
    "        tournament.date_start == tournament.date_start,\n",
    "        tournament.name == tournament.name\n",
    "    ), relationship = \"many-to-many\") %>%\n",
    "    rename_with(\\(x) str_replace(x, \"player\", \"winner\"), starts_with(\"player\")) %>%\n",
    "    left_join(ab, by=join_by(\n",
    "        looser.name == player.name, \n",
    "        looser.id == player.id, \n",
    "        tournament.date_start == tournament.date_start,\n",
    "        tournament.name == tournament.name\n",
    "    ), relationship = \"many-to-many\") %>%\n",
    "    rename_with(\\(x) str_replace(x, \"player\", \"looser\"), starts_with(\"player\")) -> atpPPTD\n",
    "atpPPTD %>% glimpse()"
   ]
  },
  {
   "cell_type": "raw",
   "id": "25469dd6-21c5-409f-87d9-f6c7598a5f5a",
   "metadata": {},
   "source": [
    "# atpPPTD %>% SmartEDA::ExpReport(Target = \"match.setsCount\", op_file=\"temp.html\")\n",
    "# atpPPTD %>% SmartEDA::ExpNumViz(target = \"match.setsCount\", col = c(\"Red\", \"Blue\"), fname=\"temp.scatters\", scatter=T)"
   ]
  },
  {
   "cell_type": "raw",
   "id": "156aa5ad-f19f-48f0-bf54-f6b976e3b613",
   "metadata": {},
   "source": [
    "Coisas a notar: \n",
    "\n",
    "* tournament duration Ã© melhor ser categÃ³rico ou ordinal\n",
    "* height sugere ser melhor ordinal ou range\n",
    "* prize precisa de mais eda mas probs deve ser range ou atÃ© binario\n",
    "* freq tourneio deve ser preciso ser categorico ou normalizar \n",
    "* diff rank deve ser normalizado tmb (posivitive skew)\n",
    "* possivelmente seja bom dar oversample de domHands e tournament.ground (embora eles estejam igualmene distribuidos na var (n me lembro se Ã© bom ou mau)) \n",
    "* match.setCount estÃ¡ 2/3 3 jogos\n",
    "* secalhar seria bom agrupar backhands, tournament.quarter\n",
    "* as categoricas estÃ£o todas igualmente distribuidas em termos da target"
   ]
  },
  {
   "cell_type": "raw",
   "id": "a5206e28-9c06-4237-b437-6b7ff3ef1511",
   "metadata": {},
   "source": [
    "atpPPTD %>% \n",
    "    group_by(winner.height) %>%\n",
    "    summarise(n = n(), prop = n*100/nrow(.)) %>%\n",
    "    mutate(propSum = cumsum(prop), range = propSum %/% 20)"
   ]
  },
  {
   "cell_type": "raw",
   "id": "9d023f12-1966-4568-9f1f-fdba6794a055",
   "metadata": {},
   "source": [
    "atpPPTD %>% group_by(atpPPTD$match.backHands) %>% summarise(n = n(),  prop = n*100/nrow(.))"
   ]
  },
  {
   "cell_type": "raw",
   "id": "b2ca9c84-3acc-4710-aa2f-81203c975038",
   "metadata": {},
   "source": [
    "atpPPTD %>% group_by(atpPPTD$tournament.quarter) %>% summarise(n = n(),  prop = n*100/nrow(.))"
   ]
  },
  {
   "cell_type": "raw",
   "id": "50d6299f-6f05-4e8b-8338-173e3dbc56ae",
   "metadata": {},
   "source": [
    "atpPPTD %>% ggplot(aes(sample=tournament.prize)) + stat_qq()"
   ]
  },
  {
   "cell_type": "raw",
   "id": "b74bae8d-647e-4263-a9c7-e8b7ac891d2e",
   "metadata": {},
   "source": [
    "atpPPTD %>% group_by(winner.bornAt) %>% summarise(n = n(),  prop = n*100/nrow(.)) %>% arrange(-n)"
   ]
  },
  {
   "cell_type": "raw",
   "id": "971c8122-de03-4153-ba82-f93f2fa91ace",
   "metadata": {},
   "source": [
    "atpPPTD %>% \n",
    "    mutate(winner.bornAt = winner.bornAt %>% fct_lump_min(1000)) %>%\n",
    "    group_by(winner.bornAt) %>% \n",
    "    summarise(n = n(),  prop = n*100/nrow(.)) %>% \n",
    "    arrange(-n)"
   ]
  },
  {
   "cell_type": "raw",
   "id": "e50b41cb-f41f-4338-9796-f1a4ccfde433",
   "metadata": {},
   "source": [
    "atpPPTD %>% arrange(winner.height) %>% mutate(\n",
    "    winner.bornAt = winner.bornAt %>% fct_lump_min(1000),\n",
    "    looser.bornAt = looser.bornAt %>% fct_lump_min(1000),\n",
    "    tournament.durationF  = tournament.duration %>% as_factor(),\n",
    "    tournament.durationFL = tournament.durationF %>% fct_lump_n(1),\n",
    "    winner.heightF        = winner.height %>% as_factor() %>% fct_inseq(),\n",
    "    looser.heightF        = looser.height %>% as_factor() %>% fct_inseq(),\n",
    "    winner.heightFC       = case_when( # division on 33/66\n",
    "        winner.height <= 180 ~ \"]163, 180]\",\n",
    "        winner.height <= 186 ~ \"]180, 186]\",\n",
    "        TRUE                 ~ \"]186, 211]\"\n",
    "    ) %>% as_factor() %>% fct_inorder()\n",
    ") %>% arrange(looser.height) %>% mutate(\n",
    "    looser.heightFC       = case_when(\n",
    "        looser.height <= 180 ~ \"]163, 180]\",\n",
    "        looser.height <= 186 ~ \"]180, 186]\",\n",
    "        TRUE                 ~ \"]186, 211]\"\n",
    "    ) %>% as_factor() %>% fct_inorder(),\n",
    "    match.heightFCvs = paste(winner.heightFC, looser.heightFC, sep=\" vs \") %>% as_factor(),\n",
    ") %>% mutate(\n",
    "    match.backHandsL1 = match.backHands %>% fct_lump_n(1),\n",
    "    match.backHandsL2 = match.backHands %>% fct_lump_n(2),\n",
    "    tournament.quarterL1 = tournament.quarter %>% fct_lump_n(1),\n",
    "    tournament.quarterL2 = tournament.quarter %>% fct_lump_n(2),\n",
    "    tournament.smallPrize = is.na(tournament.prize) | tournament.prize < 5e+6,\n",
    "    match.nTournamentDiff = winner.nTournament - looser.nTournament,\n",
    ")-> featurefull\n",
    "\n",
    "\n",
    "\n",
    "#featurefull %>% skim(\n",
    "#    tournament.durationF, \n",
    "#    tournament.durationFL, \n",
    "#    winner.heightF, \n",
    "#    looser.heightF,\n",
    "#    winner.heightFC,\n",
    "#    looser.heightFC,\n",
    "#    match.heightFCvs,\n",
    "#    match.backHandsL1,\n",
    "#    match.backHandsL2,\n",
    "#    tournament.quarterL1,\n",
    "#    tournament.quarterL2,\n",
    "#    tournament.smallPrize,\n",
    "#    match.nTournamentDiff\n",
    "#)"
   ]
  },
  {
   "cell_type": "raw",
   "id": "961480f4-b6fe-48f6-8059-400f0929435d",
   "metadata": {},
   "source": [
    "featurefull %>% arrow::write_parquet(here(\"data\", \"featurefull.parquet\"))"
   ]
  }
 ],
 "metadata": {
  "kernelspec": {
   "display_name": "ir_pacd",
   "language": "R",
   "name": "ir_pacd"
  }
 },
 "nbformat": 4,
 "nbformat_minor": 5
}
