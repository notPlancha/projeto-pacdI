{
 "cells": [
  {
   "cell_type": "code",
   "execution_count": null,
   "id": "c1cdbbe9-169f-4c66-9d2d-d5650625607c",
   "metadata": {},
   "outputs": [],
   "source": [
    "arrow::read_parquet(here(\"data\", \"atpRaw.parquet\"), as_data_frame = TRUE) -> atp"
   ]
  },
  {
   "cell_type": "code",
   "execution_count": null,
   "id": "786b4141-d0fc-467d-8d4a-89b7b6f8839c",
   "metadata": {},
   "outputs": [
    {
     "data": {
      "text/html": [
       "<table class=\"dataframe\">\n",
       "<caption>A data.table: 3 × 16</caption>\n",
       "<thead>\n",
       "\t<tr><th scope=col>Born</th><th scope=col>Date</th><th scope=col>GameRank</th><th scope=col>GameRound</th><th scope=col>Ground</th><th scope=col>Hand</th><th scope=col>Height</th><th scope=col>LinkPlayer</th><th scope=col>Location</th><th scope=col>Oponent</th><th scope=col>PlayerName</th><th scope=col>Prize</th><th scope=col>Score</th><th scope=col>Tournament</th><th scope=col>WL</th><th scope=col>_id.$oid</th></tr>\n",
       "\t<tr><th scope=col>&lt;chr&gt;</th><th scope=col>&lt;chr&gt;</th><th scope=col>&lt;chr&gt;</th><th scope=col>&lt;chr&gt;</th><th scope=col>&lt;chr&gt;</th><th scope=col>&lt;chr&gt;</th><th scope=col>&lt;chr&gt;</th><th scope=col>&lt;chr&gt;</th><th scope=col>&lt;chr&gt;</th><th scope=col>&lt;chr&gt;</th><th scope=col>&lt;chr&gt;</th><th scope=col>&lt;chr&gt;</th><th scope=col>&lt;chr&gt;</th><th scope=col>&lt;chr&gt;</th><th scope=col>&lt;chr&gt;</th><th scope=col>&lt;chr&gt;</th></tr>\n",
       "</thead>\n",
       "<tbody>\n",
       "\t<tr><td>Belgrade, Serbia</td><td>2021.11.22 - 2021.12.05</td><td>30</td><td>Semi-Finals</td><td>Hard</td><td>Right-Handed, Two-Handed Backhand</td><td>188</td><td>https://www.atptour.com/en/players/novak-djokovic/d643/player-activity?year=all&amp;matchType=Singles</td><td>Madrid, Spain</td><td><span style=white-space:pre-wrap>Marin Cilic    </span></td><td>Novak Djokovic</td><td><span style=white-space:pre-wrap>          </span></td><td>64 62</td><td>Davis Cup Finals</td><td>W</td><td>624ab34913b144c54b3c9aba</td></tr>\n",
       "\t<tr><td>Belgrade, Serbia</td><td>2022.02.21 - 2022.02.26</td><td>26</td><td>Round of 16</td><td>Hard</td><td>Right-Handed, Two-Handed Backhand</td><td>188</td><td>https://www.atptour.com/en/players/novak-djokovic/d643/player-activity?year=all&amp;matchType=Singles</td><td>Dubai, U.A.E.</td><td>Karen Khachanov</td><td>Novak Djokovic</td><td>$2,794,840</td><td>63 76</td><td><span style=white-space:pre-wrap>Dubai           </span></td><td>W</td><td>624ab34913b144c54b3c9abb</td></tr>\n",
       "\t<tr><td>Belgrade, Serbia</td><td>2021.11.15 - 2021.11.21</td><td>12</td><td>Round Robin</td><td>Hard</td><td>Right-Handed, Two-Handed Backhand</td><td>188</td><td>https://www.atptour.com/en/players/novak-djokovic/d643/player-activity?year=all&amp;matchType=Singles</td><td>Turin, Italy </td><td>Cameron Norrie </td><td>Novak Djokovic</td><td>$7,250,000</td><td>62 61</td><td>Nitto ATP Finals</td><td>W</td><td>624ab34913b144c54b3c9abc</td></tr>\n",
       "</tbody>\n",
       "</table>\n"
      ],
      "text/latex": [
       "A data.table: 3 × 16\n",
       "\\begin{tabular}{llllllllllllllll}\n",
       " Born & Date & GameRank & GameRound & Ground & Hand & Height & LinkPlayer & Location & Oponent & PlayerName & Prize & Score & Tournament & WL & \\_id.\\$oid\\\\\n",
       " <chr> & <chr> & <chr> & <chr> & <chr> & <chr> & <chr> & <chr> & <chr> & <chr> & <chr> & <chr> & <chr> & <chr> & <chr> & <chr>\\\\\n",
       "\\hline\n",
       "\t Belgrade, Serbia & 2021.11.22 - 2021.12.05 & 30 & Semi-Finals & Hard & Right-Handed, Two-Handed Backhand & 188 & https://www.atptour.com/en/players/novak-djokovic/d643/player-activity?year=all\\&matchType=Singles & Madrid, Spain & Marin Cilic     & Novak Djokovic &            & 64 62 & Davis Cup Finals & W & 624ab34913b144c54b3c9aba\\\\\n",
       "\t Belgrade, Serbia & 2022.02.21 - 2022.02.26 & 26 & Round of 16 & Hard & Right-Handed, Two-Handed Backhand & 188 & https://www.atptour.com/en/players/novak-djokovic/d643/player-activity?year=all\\&matchType=Singles & Dubai, U.A.E. & Karen Khachanov & Novak Djokovic & \\$2,794,840 & 63 76 & Dubai            & W & 624ab34913b144c54b3c9abb\\\\\n",
       "\t Belgrade, Serbia & 2021.11.15 - 2021.11.21 & 12 & Round Robin & Hard & Right-Handed, Two-Handed Backhand & 188 & https://www.atptour.com/en/players/novak-djokovic/d643/player-activity?year=all\\&matchType=Singles & Turin, Italy  & Cameron Norrie  & Novak Djokovic & \\$7,250,000 & 62 61 & Nitto ATP Finals & W & 624ab34913b144c54b3c9abc\\\\\n",
       "\\end{tabular}\n"
      ],
      "text/markdown": [
       "\n",
       "A data.table: 3 × 16\n",
       "\n",
       "| Born &lt;chr&gt; | Date &lt;chr&gt; | GameRank &lt;chr&gt; | GameRound &lt;chr&gt; | Ground &lt;chr&gt; | Hand &lt;chr&gt; | Height &lt;chr&gt; | LinkPlayer &lt;chr&gt; | Location &lt;chr&gt; | Oponent &lt;chr&gt; | PlayerName &lt;chr&gt; | Prize &lt;chr&gt; | Score &lt;chr&gt; | Tournament &lt;chr&gt; | WL &lt;chr&gt; | _id.$oid &lt;chr&gt; |\n",
       "|---|---|---|---|---|---|---|---|---|---|---|---|---|---|---|---|\n",
       "| Belgrade, Serbia | 2021.11.22 - 2021.12.05 | 30 | Semi-Finals | Hard | Right-Handed, Two-Handed Backhand | 188 | https://www.atptour.com/en/players/novak-djokovic/d643/player-activity?year=all&amp;matchType=Singles | Madrid, Spain | Marin Cilic     | Novak Djokovic | <!----> | 64 62 | Davis Cup Finals | W | 624ab34913b144c54b3c9aba |\n",
       "| Belgrade, Serbia | 2022.02.21 - 2022.02.26 | 26 | Round of 16 | Hard | Right-Handed, Two-Handed Backhand | 188 | https://www.atptour.com/en/players/novak-djokovic/d643/player-activity?year=all&amp;matchType=Singles | Dubai, U.A.E. | Karen Khachanov | Novak Djokovic | $2,794,840 | 63 76 | Dubai            | W | 624ab34913b144c54b3c9abb |\n",
       "| Belgrade, Serbia | 2021.11.15 - 2021.11.21 | 12 | Round Robin | Hard | Right-Handed, Two-Handed Backhand | 188 | https://www.atptour.com/en/players/novak-djokovic/d643/player-activity?year=all&amp;matchType=Singles | Turin, Italy  | Cameron Norrie  | Novak Djokovic | $7,250,000 | 62 61 | Nitto ATP Finals | W | 624ab34913b144c54b3c9abc |\n",
       "\n"
      ],
      "text/plain": [
       "  Born             Date                    GameRank GameRound   Ground\n",
       "1 Belgrade, Serbia 2021.11.22 - 2021.12.05 30       Semi-Finals Hard  \n",
       "2 Belgrade, Serbia 2022.02.21 - 2022.02.26 26       Round of 16 Hard  \n",
       "3 Belgrade, Serbia 2021.11.15 - 2021.11.21 12       Round Robin Hard  \n",
       "  Hand                              Height\n",
       "1 Right-Handed, Two-Handed Backhand 188   \n",
       "2 Right-Handed, Two-Handed Backhand 188   \n",
       "3 Right-Handed, Two-Handed Backhand 188   \n",
       "  LinkPlayer                                                                                       \n",
       "1 https://www.atptour.com/en/players/novak-djokovic/d643/player-activity?year=all&matchType=Singles\n",
       "2 https://www.atptour.com/en/players/novak-djokovic/d643/player-activity?year=all&matchType=Singles\n",
       "3 https://www.atptour.com/en/players/novak-djokovic/d643/player-activity?year=all&matchType=Singles\n",
       "  Location      Oponent         PlayerName     Prize      Score\n",
       "1 Madrid, Spain Marin Cilic     Novak Djokovic            64 62\n",
       "2 Dubai, U.A.E. Karen Khachanov Novak Djokovic $2,794,840 63 76\n",
       "3 Turin, Italy  Cameron Norrie  Novak Djokovic $7,250,000 62 61\n",
       "  Tournament       WL _id.$oid                \n",
       "1 Davis Cup Finals W  624ab34913b144c54b3c9aba\n",
       "2 Dubai            W  624ab34913b144c54b3c9abb\n",
       "3 Nitto ATP Finals W  624ab34913b144c54b3c9abc"
      ]
     },
     "metadata": {},
     "output_type": "display_data"
    }
   ],
   "source": [
    "atp %>% head(3)"
   ]
  },
  {
   "cell_type": "code",
   "execution_count": null,
   "id": "ce38bf6b-da79-459d-95bf-85e9b4ef4cbf",
   "metadata": {},
   "outputs": [
    {
     "ename": "ERROR",
     "evalue": "Error in parse(text = x, srcfile = src): <text>:1:9: unexpected symbol\n1: Feature description\n            ^\n",
     "output_type": "error",
     "traceback": [
      "Error in parse(text = x, srcfile = src): <text>:1:9: unexpected symbol\n1: Feature description\n            ^\nTraceback:\n"
     ]
    }
   ],
   "source": [
    "#Feature description:\n",
    "    - Height: altura de cada jogador\n",
    "        Pode ser um fator importante para medir o potencial de cada jogador numa partida\n",
    "\n",
    "    - Born: país de origem de cada jogador\n",
    "        Importante para prever a qualidade do jogador e se o jogador for Australiano pode aumentar a moral do jogador.\n",
    "\n",
    "    - Hand: mão com a qual o jogador joga ténis\n",
    "        Consegue antever a probabilidade de o jogador ser bom\n",
    "\n",
    "    - (web scraping?): data de nascimento do jogador\n",
    "        Pode influenciar o desempenho do jogador numa partida\n",
    "\n",
    "    - Tournament: nome do torneio\n",
    "        Importante para ter uma visão geral do nível de dificuldade das partidas\n",
    "\n",
    "    - Grand Slam:\n",
    "\n",
    "    - Date: data de início e data do fim do torneio\n",
    "        Pode afetar a condição física do jogador, juntamente com o número de partidas do torneio, uma vez que afeta o tempo de recuperação de cada jogador\n",
    "        entre partidas. A condição física do jogador afeta o número total de sets para a tomada de decisão\n",
    "    \n",
    "    - Ground: Tipo de piso utilizado numa determinada partida\n",
    "        Dependendo do tipo de piso, o estilo de jogo e as estratégias usadas por cada jogador podem mudar. Para além disso, certos jogadores vão ser \n",
    "        melhores em certos tipos de terrenos do que outros\n",
    "\n",
    "    - Prize: prémio monetário do torneio.\n",
    "        Poderá ser importante para prever o número total de sets de uma partida, uma vez que torneios com prémios melhores serão mais\n",
    "        competitivos\n",
    "\n",
    "    - GameRank: O rank dos oponentes em cada partidas.\n",
    "        Será importante para descobrir a diferença de rankings entre os jogadores que estão a jogar e por conseguinte prever a duração do jogo \n",
    "        e o número de sets para a partida terminar\n",
    "\n",
    "    - GameRound: ronda do torneio a que pertence a partida\n",
    "        Quanto mais alta for a ronda maior será a competitividade e o rank dos jogadores deve aumentar\n",
    "\n",
    "    - Quarteto do ano:\n",
    "        No Inverno os torneios em geral são mais exporádicos, mas menos cansativos o que \n",
    "\n",
    "    - Mês:\n",
    "\n",
    "    - Decada: \n",
    "\n",
    "-----------------------------------------------------------------\n",
    "    - Objetivo: número de sets para a tomada de decisão da partida\n",
    "-----------------------------------------------------------------\n",
    "    \n"
   ]
  }
 ],
 "metadata": {
  "kernelspec": {
   "display_name": "ir_pacd",
   "language": "R",
   "name": "ir_pacd"
  }
 },
 "nbformat": 4,
 "nbformat_minor": 5
}
