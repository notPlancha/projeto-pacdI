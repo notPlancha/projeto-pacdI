{
 "cells": [
  {
   "cell_type": "code",
   "execution_count": null,
   "id": "228e07b8-07ee-47cd-b7b7-cdff601a2e37",
   "metadata": {},
   "outputs": [
    {
     "name": "stderr",
     "output_type": "stream",
     "text": [
      "relocate: columns reordered (winner.name, winner.id, winner.rank, winner.bornAt, winner.height, …)\n",
      "\n"
     ]
    },
    {
     "name": "stdout",
     "output_type": "stream",
     "text": [
      "Rows: 17,926\n",
      "Columns: 69\n",
      "$ winner.name                     \u001b[3m\u001b[90m<chr>\u001b[39m\u001b[23m \"Shuichi Sekiguchi\", \"Shuichi Sekiguch…\n",
      "$ winner.id                       \u001b[3m\u001b[90m<chr>\u001b[39m\u001b[23m \"sl92\", \"sl92\", \"sl92\", \"sl92\", \"tf58\"…\n",
      "$ winner.rank                     \u001b[3m\u001b[90m<int>\u001b[39m\u001b[23m 399, 399, 399, 399, 619, 619, 619, 619…\n",
      "$ winner.bornAt                   \u001b[3m\u001b[90m<fct>\u001b[39m\u001b[23m USA, USA, USA, USA, Other, Other, Othe…\n",
      "$ winner.height                   \u001b[3m\u001b[90m<dbl>\u001b[39m\u001b[23m 168, 168, 168, 168, 170, 170, 170, 170…\n",
      "$ winner.Anwins                   \u001b[3m\u001b[90m<dbl>\u001b[39m\u001b[23m 5, 5, 5, 5, 6, 6, 6, 6, 18, 18, 11, 11…\n",
      "$ winner.Anlosses                 \u001b[3m\u001b[90m<dbl>\u001b[39m\u001b[23m 10, 10, 10, 10, 4, 4, 4, 4, 15, 15, 5,…\n",
      "$ winner.Anjogos                  \u001b[3m\u001b[90m<dbl>\u001b[39m\u001b[23m 15, 15, 15, 15, 10, 10, 10, 10, 33, 33…\n",
      "$ winner.Awinrate                 \u001b[3m\u001b[90m<dbl>\u001b[39m\u001b[23m 33.33333, 33.33333, 33.33333, 33.33333…\n",
      "$ winner.nwins                    \u001b[3m\u001b[90m<dbl>\u001b[39m\u001b[23m 353, 353, 353, 353, 166, 166, 166, 166…\n",
      "$ winner.nlosses                  \u001b[3m\u001b[90m<dbl>\u001b[39m\u001b[23m 248, 248, 248, 248, 141, 141, 141, 141…\n",
      "$ winner.njogos                   \u001b[3m\u001b[90m<dbl>\u001b[39m\u001b[23m 601, 601, 601, 601, 307, 307, 307, 307…\n",
      "$ winner.winrate                  \u001b[3m\u001b[90m<dbl>\u001b[39m\u001b[23m 58.73544, 58.73544, 58.73544, 58.73544…\n",
      "$ winner.bornAt.tournFreq         \u001b[3m\u001b[90m<int>\u001b[39m\u001b[23m 2460, 2460, 2460, 2460, 378, 378, 378,…\n",
      "$ winner.bornAt.hasTourn          \u001b[3m\u001b[90m<lgl>\u001b[39m\u001b[23m TRUE, TRUE, TRUE, TRUE, TRUE, TRUE, TR…\n",
      "$ winner.nTournament              \u001b[3m\u001b[90m<int>\u001b[39m\u001b[23m 134, 134, 364, 364, 81, 81, 218, 218, …\n",
      "$ winner.lastTournamentDelayW     \u001b[3m\u001b[90m<dbl>\u001b[39m\u001b[23m 1, 1, 1, 1, 20, 20, 18, 18, 1, 1, 1, 1…\n",
      "$ winner.heightF                  \u001b[3m\u001b[90m<fct>\u001b[39m\u001b[23m 168, 168, 168, 168, 170, 170, 170, 170…\n",
      "$ winner.heightFC                 \u001b[3m\u001b[90m<fct>\u001b[39m\u001b[23m \"]163, 180]\", \"]163, 180]\", \"]163, 180…\n",
      "$ looser.name                     \u001b[3m\u001b[90m<chr>\u001b[39m\u001b[23m \"Yuta Shimizu\", \"Yuta Shimizu\", \"Yuta …\n",
      "$ looser.id                       \u001b[3m\u001b[90m<chr>\u001b[39m\u001b[23m \"s0aq\", \"s0aq\", \"s0aq\", \"s0aq\", \"s0ld\"…\n",
      "$ looser.rank                     \u001b[3m\u001b[90m<int>\u001b[39m\u001b[23m 464, 464, 464, 464, 1057, 1057, 1057, …\n",
      "$ looser.bornAt                   \u001b[3m\u001b[90m<fct>\u001b[39m\u001b[23m Other, Other, Other, Other, Other, Oth…\n",
      "$ looser.height                   \u001b[3m\u001b[90m<dbl>\u001b[39m\u001b[23m 163, 163, 163, 163, 163, 163, 163, 163…\n",
      "$ looser.Anwins                   \u001b[3m\u001b[90m<dbl>\u001b[39m\u001b[23m 6, 6, 6, 6, 0, 0, 0, 0, 0, 0, 6, 6, 6,…\n",
      "$ looser.Anlosses                 \u001b[3m\u001b[90m<dbl>\u001b[39m\u001b[23m 4, 4, 4, 4, 2, 2, 2, 2, 2, 2, 4, 4, 4,…\n",
      "$ looser.Anjogos                  \u001b[3m\u001b[90m<dbl>\u001b[39m\u001b[23m 10, 10, 10, 10, 2, 2, 2, 2, 2, 2, 10, …\n",
      "$ looser.Awinrate                 \u001b[3m\u001b[90m<dbl>\u001b[39m\u001b[23m 60, 60, 60, 60, 0, 0, 0, 0, 0, 0, 60, …\n",
      "$ looser.nwins                    \u001b[3m\u001b[90m<dbl>\u001b[39m\u001b[23m 6, 6, 6, 6, 0, 0, 0, 0, 0, 0, 6, 6, 6,…\n",
      "$ looser.nlosses                  \u001b[3m\u001b[90m<dbl>\u001b[39m\u001b[23m 4, 4, 4, 4, 2, 2, 2, 2, 2, 2, 4, 4, 4,…\n",
      "$ looser.njogos                   \u001b[3m\u001b[90m<dbl>\u001b[39m\u001b[23m 10, 10, 10, 10, 2, 2, 2, 2, 2, 2, 10, …\n",
      "$ looser.winrate                  \u001b[3m\u001b[90m<dbl>\u001b[39m\u001b[23m 60, 60, 60, 60, 0, 0, 0, 0, 0, 0, 60, …\n",
      "$ looser.bornAt.tournFreq         \u001b[3m\u001b[90m<int>\u001b[39m\u001b[23m 378, 378, 378, 378, 378, 378, 378, 378…\n",
      "$ looser.bornAt.hasTourn          \u001b[3m\u001b[90m<lgl>\u001b[39m\u001b[23m TRUE, TRUE, TRUE, TRUE, TRUE, TRUE, TR…\n",
      "$ looser.nTournament              \u001b[3m\u001b[90m<int>\u001b[39m\u001b[23m 30, 98, 30, 98, 13, 35, 13, 35, 12, 34…\n",
      "$ looser.lastTournamentDelayW     \u001b[3m\u001b[90m<dbl>\u001b[39m\u001b[23m 1, 1, 1, 1, 2, 2, 2, 2, 3, 3, 11, 3, 1…\n",
      "$ looser.heightF                  \u001b[3m\u001b[90m<fct>\u001b[39m\u001b[23m 163, 163, 163, 163, 163, 163, 163, 163…\n",
      "$ looser.heightFC                 \u001b[3m\u001b[90m<fct>\u001b[39m\u001b[23m \"]163, 180]\", \"]163, 180]\", \"]163, 180…\n",
      "$ match.domHands                  \u001b[3m\u001b[90m<fct>\u001b[39m\u001b[23m Right-Handed_Left-Handed, Right-Handed…\n",
      "$ match.backHands                 \u001b[3m\u001b[90m<fct>\u001b[39m\u001b[23m Two-Handed Backhand_Two-Handed Backhan…\n",
      "$ match.tournamentRound           \u001b[3m\u001b[90m<fct>\u001b[39m\u001b[23m Quarter-Finals, Quarter-Finals, Quarte…\n",
      "$ match.setsCount                 \u001b[3m\u001b[90m<fct>\u001b[39m\u001b[23m 2, 2, 2, 2, 2, 2, 2, 2, 2, 2, 2, 2, 2,…\n",
      "$ match.hadTieBreaker             \u001b[3m\u001b[90m<lgl>\u001b[39m\u001b[23m FALSE, FALSE, FALSE, FALSE, FALSE, FAL…\n",
      "$ match.diffHeights               \u001b[3m\u001b[90m<dbl>\u001b[39m\u001b[23m 5, 5, 5, 5, 7, 7, 7, 7, 7, 7, 20, 20, …\n",
      "$ match.avgHeights                \u001b[3m\u001b[90m<dbl>\u001b[39m\u001b[23m 165.5, 165.5, 165.5, 165.5, 166.5, 166…\n",
      "$ match.diffRank                  \u001b[3m\u001b[90m<int>\u001b[39m\u001b[23m -65, -65, -65, -65, -438, -438, -438, …\n",
      "$ match.avgRank                   \u001b[3m\u001b[90m<dbl>\u001b[39m\u001b[23m 431.5, 431.5, 431.5, 431.5, 838.0, 838…\n",
      "$ match.AnjogosDiff               \u001b[3m\u001b[90m<dbl>\u001b[39m\u001b[23m 5, 5, 5, 5, 8, 8, 8, 8, 31, 31, 6, 6, …\n",
      "$ match.njogosDiff                \u001b[3m\u001b[90m<dbl>\u001b[39m\u001b[23m 591, 591, 591, 591, 305, 305, 305, 305…\n",
      "$ match.playersBorn.hasTournXor   \u001b[3m\u001b[90m<lgl>\u001b[39m\u001b[23m TRUE, TRUE, TRUE, TRUE, TRUE, TRUE, TR…\n",
      "$ match.playersBorn.tournFreqDiff \u001b[3m\u001b[90m<int>\u001b[39m\u001b[23m 0, 0, 0, 0, 0, 0, 0, 0, 0, 0, 0, 0, 0,…\n",
      "$ match.heightFCvs                \u001b[3m\u001b[90m<fct>\u001b[39m\u001b[23m \"]163, 180] vs ]163, 180]\", \"]163, 180…\n",
      "$ match.backHandsL1               \u001b[3m\u001b[90m<fct>\u001b[39m\u001b[23m Two-Handed Backhand_Two-Handed Backhan…\n",
      "$ match.backHandsL2               \u001b[3m\u001b[90m<fct>\u001b[39m\u001b[23m Two-Handed Backhand_Two-Handed Backhan…\n",
      "$ match.nTournamentDiff           \u001b[3m\u001b[90m<int>\u001b[39m\u001b[23m 104, 36, 334, 266, 68, 46, 205, 183, 1…\n",
      "$ tournament.name                 \u001b[3m\u001b[90m<chr>\u001b[39m\u001b[23m \"M25 Mildura\", \"M25 Mildura\", \"M25 Mil…\n",
      "$ tournament.ground               \u001b[3m\u001b[90m<fct>\u001b[39m\u001b[23m Grass, Grass, Grass, Grass, Hard, Hard…\n",
      "$ tournament.date_start           \u001b[3m\u001b[90m<date>\u001b[39m\u001b[23m 2019-03-04, 2019-03-04, 2019-03-04, 2…\n",
      "$ tournament.date_finish          \u001b[3m\u001b[90m<date>\u001b[39m\u001b[23m 2019-03-10, 2019-03-10, 2019-03-10, 2…\n",
      "$ tournament.duration             \u001b[3m\u001b[90m<int>\u001b[39m\u001b[23m 6, 6, 6, 6, 6, 6, 6, 6, 6, 6, 6, 6, 6,…\n",
      "$ tournament.prize                \u001b[3m\u001b[90m<dbl>\u001b[39m\u001b[23m 37000.0, 37000.0, 37000.0, 37000.0, 37…\n",
      "$ tournament.month                \u001b[3m\u001b[90m<ord>\u001b[39m\u001b[23m Mar, Mar, Mar, Mar, Feb, Feb, Feb, Feb…\n",
      "$ tournament.quarter              \u001b[3m\u001b[90m<fct>\u001b[39m\u001b[23m 1, 1, 1, 1, 1, 1, 1, 1, 1, 1, 1, 1, 1,…\n",
      "$ tournament.dateDistance         \u001b[3m\u001b[90m<drtn>\u001b[39m\u001b[23m -1395878400 secs, -1395878400 secs, -…\n",
      "$ tournament.durationF            \u001b[3m\u001b[90m<fct>\u001b[39m\u001b[23m 6, 6, 6, 6, 6, 6, 6, 6, 6, 6, 6, 6, 6,…\n",
      "$ tournament.durationFL           \u001b[3m\u001b[90m<fct>\u001b[39m\u001b[23m 6, 6, 6, 6, 6, 6, 6, 6, 6, 6, 6, 6, 6,…\n",
      "$ tournament.quarterL1            \u001b[3m\u001b[90m<fct>\u001b[39m\u001b[23m 1, 1, 1, 1, 1, 1, 1, 1, 1, 1, 1, 1, 1,…\n",
      "$ tournament.quarterL2            \u001b[3m\u001b[90m<fct>\u001b[39m\u001b[23m 1, 1, 1, 1, 1, 1, 1, 1, 1, 1, 1, 1, 1,…\n",
      "$ tournament.smallPrize           \u001b[3m\u001b[90m<lgl>\u001b[39m\u001b[23m TRUE, TRUE, TRUE, TRUE, TRUE, TRUE, TR…\n"
     ]
    }
   ],
   "source": [
    "df <- arrow::read_parquet(here(\"data\", \"featurefull.parquet\") ) %>% relocate(starts_with(\"winner\"), starts_with(\"looser\"), starts_with(\"match\"), starts_with(\"tournament\"))\n",
    "df %>% glimpse()"
   ]
  },
  {
   "cell_type": "code",
   "execution_count": null,
   "id": "bf79a5a9-3456-4588-8b4d-b7128141a828",
   "metadata": {},
   "outputs": [
    {
     "name": "stdout",
     "output_type": "stream",
     "text": [
      "Rows: 25\n",
      "Columns: 3\n",
      "$ splits \u001b[3m\u001b[90m<list>\u001b[39m\u001b[23m [<vfold_split[14340 x 3586 x 17926 x 69]>], [<vfold_split[1434…\n",
      "$ id     \u001b[3m\u001b[90m<chr>\u001b[39m\u001b[23m \"Repeat1\", \"Repeat1\", \"Repeat1\", \"Repeat1\", \"Repeat1\", \"Repeat2…\n",
      "$ id2    \u001b[3m\u001b[90m<chr>\u001b[39m\u001b[23m \"Fold1\", \"Fold2\", \"Fold3\", \"Fold4\", \"Fold5\", \"Fold1\", \"Fold2\", …\n"
     ]
    }
   ],
   "source": [
    "# vfold\n",
    "set.seed(1)\n",
    "df.folds <- vfold_cv(df, v = 5, repeats = 5) # no strata\n",
    "df.folds %>% glimpse()"
   ]
  },
  {
   "cell_type": "markdown",
   "id": "3ee0ba61",
   "metadata": {},
   "source": [
    "Algumas das nossas características são relações diretas de outras características, o que pode levar a problemas de multicolinariedade; portanto, vamos ter que escolher entre essas variáveis. Para isso, vamos ajustar vários modelos para cada conjunto de varíaveis de cada grupo, passo a passo, escolhendo o conjunto de cada grupo com melhor performance. Nesta secção vamos usar regressão logística, pela sua simplicidade.\n",
    "\n",
    "Nota: aqui, players indica 2 colunas, uma de winner e outra de looser\n",
    "* Rank:\n",
    "    * players.rank\n",
    "    * match.diffRank\n",
    "    * match.avgRank\n",
    "* Born:\n",
    "    * players.bornAt\n",
    "    * players.bornAt, players.bornAt.tournFreq\n",
    "    * players.bornAt, players.bornAt.hasTourn\n",
    "    * players.bornAt.tournFreq\n",
    "    * players.bornAt.hasTourn\n",
    "    * players.bornAt, match.playersBorn.hasTournXor\n",
    "    * match.playersBorn.hasTournXor\n",
    "    * players.bornAt, match.playersBorn.tournFreqDiff\n",
    "    * match.playersBorn.tournFreqDiff\n",
    "* Altura:\n",
    "    * players.height\n",
    "    * players.heightF\n",
    "    * players.heightFC\n",
    "    * match.diffHeights\n",
    "    * match.avgHeights\n",
    "    * match.heightFCvs\n",
    "* Nº de jogos\n",
    "    * players.nwins\n",
    "    * players.nlosses\n",
    "    * players.njogos\n",
    "    * players.winrate, players.jogos\n",
    "    * players.winrate\n",
    "    * match.njogosDiff\n",
    "* numero do torneio do jogador\n",
    "    * player.nTournament\n",
    "    * match.nTournamentDiff\n",
    "* delay do torneio dos jogadores\n",
    "    * player.lastTournamentDelay\n",
    "* Mão dominante dos jogadores\n",
    "    * match.domHands\n",
    "* backhands dos jogadores\n",
    "    * match.backhand\n",
    "    * match.backHandsL1\n",
    "    * match.backHandsL2\n",
    "* ronda do tourneio\n",
    "    * tournament.round\n",
    "* se jogo teve tie breaker\n",
    "    * match.hadTieBreaker\n",
    "* terreno do torneio\n",
    "    * tournament.ground\n",
    "* duracao do torneio\n",
    "    * tournament.duration\n",
    "    * tournament.durationF\n",
    "    * tournament.durationFL\n",
    "* data do torneio num ano\n",
    "    * tournament.quarter\n",
    "    * tournament.quarterL1\n",
    "    * tournament.quarterL2\n",
    "    * tournament.month\n",
    "* data do torneio\n",
    "    * tournament.dateDistance\n",
    "* recompensa do torneio\n",
    "    * tournament.prize\n",
    "    * tournament.smallPrize\n",
    "\n"
   ]
  },
  {
   "cell_type": "code",
   "execution_count": null,
   "id": "6e8393c4",
   "metadata": {},
   "outputs": [
    {
     "data": {
      "text/plain": [
       "══ Workflow ══════════════════════════════════════════════════════════════════════════════════════════════════════════════\n",
       "\u001b[3mPreprocessor:\u001b[23m None\n",
       "\u001b[3mModel:\u001b[23m logistic_reg()\n",
       "\n",
       "── Model ─────────────────────────────────────────────────────────────────────────────────────────────────────────────────\n",
       "Logistic Regression Model Specification (classification)\n",
       "\n",
       "Computational engine: glm \n"
      ]
     },
     "metadata": {},
     "output_type": "display_data"
    }
   ],
   "source": [
    "df.featureSelect.model <- workflow() %>%\n",
    "    add_model(logistic_reg())\n",
    "df.metrics <- metric_set(accuracy, f_meas, roc_auc, pr_auc)\n",
    "df.featureSelect.model"
   ]
  },
  {
   "cell_type": "code",
   "execution_count": null,
   "id": "b2d24700-3cc3-42ae-89d8-be646794bbc5",
   "metadata": {},
   "outputs": [
    {
     "name": "stdout",
     "output_type": "stream",
     "text": [
      "match.setsCount ~ winner.lastTournamentDelayW + looser.lastTournamentDelayW + \n",
      "    match.domHands + match.tournamentRound + match.hadTieBreaker + \n",
      "    tournament.dateDistance\n",
      "<environment: 0x00000174d2d8ce68>\n",
      "[1] TRUE TRUE TRUE TRUE TRUE TRUE\n"
     ]
    }
   ],
   "source": [
    "library(formulaic)\n",
    "vars <- c(# variables with no direct correlation\n",
    "    \"winner.lastTournamentDelayW\",\n",
    "    \"looser.lastTournamentDelayW\",\n",
    "    \"match.domHands\",\n",
    "    \"match.tournamentRound\",\n",
    "    \"match.hadTieBreaker\", \n",
    "    \"tournament.dateDistance\"\n",
    ")\n",
    "firstVars <- vars\n",
    "form <- create.formula(input.names = vars, outcome.name = \"match.setsCount\", dat = df)\n",
    "print(form$formula)\n",
    "print(form$inclusion.table$include.variable)"
   ]
  },
  {
   "cell_type": "code",
   "execution_count": null,
   "id": "dddf5f26-a4e3-4a00-83fb-44bb022ff83d",
   "metadata": {},
   "outputs": [
    {
     "name": "stdout",
     "output_type": "stream",
     "text": [
      "6.83 sec elapsed\n"
     ]
    },
    {
     "data": {
      "text/html": [
       "<table class=\"dataframe\">\n",
       "<caption>A tibble: 4 × 6</caption>\n",
       "<thead>\n",
       "\t<tr><th scope=col>.metric</th><th scope=col>.estimator</th><th scope=col>mean</th><th scope=col>n</th><th scope=col>std_err</th><th scope=col>.config</th></tr>\n",
       "\t<tr><th scope=col>&lt;chr&gt;</th><th scope=col>&lt;chr&gt;</th><th scope=col>&lt;dbl&gt;</th><th scope=col>&lt;int&gt;</th><th scope=col>&lt;dbl&gt;</th><th scope=col>&lt;chr&gt;</th></tr>\n",
       "</thead>\n",
       "<tbody>\n",
       "\t<tr><td>accuracy</td><td>binary</td><td>0.6765143</td><td>25</td><td>0.001659724</td><td>Preprocessor1_Model1</td></tr>\n",
       "\t<tr><td>f_meas  </td><td>binary</td><td>0.7796199</td><td>25</td><td>0.001374097</td><td>Preprocessor1_Model1</td></tr>\n",
       "\t<tr><td>pr_auc  </td><td>binary</td><td>0.7238419</td><td>25</td><td>0.002138314</td><td>Preprocessor1_Model1</td></tr>\n",
       "\t<tr><td>roc_auc </td><td>binary</td><td>0.6125514</td><td>25</td><td>0.001584453</td><td>Preprocessor1_Model1</td></tr>\n",
       "</tbody>\n",
       "</table>\n"
      ],
      "text/latex": [
       "A tibble: 4 × 6\n",
       "\\begin{tabular}{llllll}\n",
       " .metric & .estimator & mean & n & std\\_err & .config\\\\\n",
       " <chr> & <chr> & <dbl> & <int> & <dbl> & <chr>\\\\\n",
       "\\hline\n",
       "\t accuracy & binary & 0.6765143 & 25 & 0.001659724 & Preprocessor1\\_Model1\\\\\n",
       "\t f\\_meas   & binary & 0.7796199 & 25 & 0.001374097 & Preprocessor1\\_Model1\\\\\n",
       "\t pr\\_auc   & binary & 0.7238419 & 25 & 0.002138314 & Preprocessor1\\_Model1\\\\\n",
       "\t roc\\_auc  & binary & 0.6125514 & 25 & 0.001584453 & Preprocessor1\\_Model1\\\\\n",
       "\\end{tabular}\n"
      ],
      "text/markdown": [
       "\n",
       "A tibble: 4 × 6\n",
       "\n",
       "| .metric &lt;chr&gt; | .estimator &lt;chr&gt; | mean &lt;dbl&gt; | n &lt;int&gt; | std_err &lt;dbl&gt; | .config &lt;chr&gt; |\n",
       "|---|---|---|---|---|---|\n",
       "| accuracy | binary | 0.6765143 | 25 | 0.001659724 | Preprocessor1_Model1 |\n",
       "| f_meas   | binary | 0.7796199 | 25 | 0.001374097 | Preprocessor1_Model1 |\n",
       "| pr_auc   | binary | 0.7238419 | 25 | 0.002138314 | Preprocessor1_Model1 |\n",
       "| roc_auc  | binary | 0.6125514 | 25 | 0.001584453 | Preprocessor1_Model1 |\n",
       "\n"
      ],
      "text/plain": [
       "  .metric  .estimator mean      n  std_err     .config             \n",
       "1 accuracy binary     0.6765143 25 0.001659724 Preprocessor1_Model1\n",
       "2 f_meas   binary     0.7796199 25 0.001374097 Preprocessor1_Model1\n",
       "3 pr_auc   binary     0.7238419 25 0.002138314 Preprocessor1_Model1\n",
       "4 roc_auc  binary     0.6125514 25 0.001584453 Preprocessor1_Model1"
      ]
     },
     "metadata": {},
     "output_type": "display_data"
    }
   ],
   "source": [
    "# primeiro modelo\n",
    "library(tictoc)\n",
    "tic()\n",
    "df.featureSelect.model %>% add_formula(form$formula) %>% fit_resamples(df.folds, metrics = df.metrics, control = control_grid(save_pred = TRUE)) -> df.featureSelect.firstModel\n",
    "toc(log=T)\n",
    "collect_metrics(df.featureSelect.firstModel)"
   ]
  },
  {
   "cell_type": "code",
   "execution_count": null,
   "id": "6ba244ae-6227-4949-a743-b179215cede7",
   "metadata": {},
   "outputs": [],
   "source": [
    "# curva roc do primeiro\n",
    "pred <- collect_predictions(df.featureSelect.firstModel)\n",
    "pred %>% pROC::roc(match.setsCount, .pred_2) %>% ggroc()\n",
    "ggsave(here(\"relatorio\", \"curva_roc.png\"))"
   ]
  },
  {
   "cell_type": "code",
   "execution_count": null,
   "id": "3817fd8c-f65a-4741-a4a7-05442281dce4",
   "metadata": {},
   "outputs": [],
   "source": [
    "featuresFit <- function(formula){\n",
    "    tic()\n",
    "    df.featureSelect.model %>% add_formula(formula$formula) %>% fit_resamples(df.folds, metrics = df.metrics) -> fitted\n",
    "    toc(log=T)\n",
    "    list(\n",
    "        metrics = collect_metrics(fitted)                          %>% dplyr::select(metric = .metric, mean),\n",
    "        preds   = collect_predictions(df.featureSelect.firstModel),\n",
    "        roc     = collect_predictions(df.featureSelect.firstModel) %>% pROC::roc(match.setsCount, .pred_2)\n",
    "    )\n",
    "}\n",
    "cformula <-  function(inputs) {\n",
    "    create.formula(input.names = inputs, outcome.name = \"match.setsCount\", dat = df)\n",
    "}\n",
    "compare <- function(first, modelsToCompare) {\n",
    "    final <- tibble(\n",
    "        metric = first$metric,\n",
    "        before = first$mean\n",
    "    )\n",
    "    # now add the other models as the difference to the first\n",
    "    i = 0\n",
    "    for (model in modelsToCompare) {\n",
    "        i = i + 1\n",
    "        final <- final %>% add_column(!!paste0(\"model\", i) := model$mean - first$mean)\n",
    "    }\n",
    "    final\n",
    "}"
   ]
  },
  {
   "cell_type": "code",
   "execution_count": null,
   "id": "4564620c-55c7-41d4-b7e2-a3c070633217",
   "metadata": {},
   "outputs": [
    {
     "name": "stdout",
     "output_type": "stream",
     "text": [
      "6.85 sec elapsed\n"
     ]
    },
    {
     "name": "stderr",
     "output_type": "stream",
     "text": [
      "Setting levels: control = 2, case = 3\n",
      "\n",
      "Setting direction: controls > cases\n",
      "\n"
     ]
    },
    {
     "name": "stdout",
     "output_type": "stream",
     "text": [
      "6.69 sec elapsed\n"
     ]
    },
    {
     "name": "stderr",
     "output_type": "stream",
     "text": [
      "Setting levels: control = 2, case = 3\n",
      "\n",
      "Setting direction: controls > cases\n",
      "\n"
     ]
    },
    {
     "name": "stdout",
     "output_type": "stream",
     "text": [
      "5.86 sec elapsed\n"
     ]
    },
    {
     "name": "stderr",
     "output_type": "stream",
     "text": [
      "Setting levels: control = 2, case = 3\n",
      "\n",
      "Setting direction: controls > cases\n",
      "\n"
     ]
    },
    {
     "name": "stdout",
     "output_type": "stream",
     "text": [
      "6.18 sec elapsed\n"
     ]
    },
    {
     "name": "stderr",
     "output_type": "stream",
     "text": [
      "Setting levels: control = 2, case = 3\n",
      "\n",
      "Setting direction: controls > cases\n",
      "\n"
     ]
    },
    {
     "data": {
      "text/html": [
       "<table class=\"dataframe\">\n",
       "<caption>A data.frame: 4 × 8</caption>\n",
       "<thead>\n",
       "\t<tr><th scope=col>metric</th><th scope=col>mean</th><th scope=col>metric</th><th scope=col>mean</th><th scope=col>metric</th><th scope=col>mean</th><th scope=col>metric</th><th scope=col>mean</th></tr>\n",
       "\t<tr><th scope=col>&lt;chr&gt;</th><th scope=col>&lt;dbl&gt;</th><th scope=col>&lt;chr&gt;</th><th scope=col>&lt;dbl&gt;</th><th scope=col>&lt;chr&gt;</th><th scope=col>&lt;dbl&gt;</th><th scope=col>&lt;chr&gt;</th><th scope=col>&lt;dbl&gt;</th></tr>\n",
       "</thead>\n",
       "<tbody>\n",
       "\t<tr><td>accuracy</td><td>0.6765143</td><td>accuracy</td><td>0.6790246</td><td>accuracy</td><td>0.6790469</td><td>accuracy</td><td>0.6771724</td></tr>\n",
       "\t<tr><td>f_meas  </td><td>0.7796199</td><td>f_meas  </td><td>0.7844442</td><td>f_meas  </td><td>0.7844720</td><td>f_meas  </td><td>0.7810586</td></tr>\n",
       "\t<tr><td>pr_auc  </td><td>0.7238419</td><td>pr_auc  </td><td>0.7480742</td><td>pr_auc  </td><td>0.7484085</td><td>pr_auc  </td><td>0.7278242</td></tr>\n",
       "\t<tr><td>roc_auc </td><td>0.6125514</td><td>roc_auc </td><td>0.6251664</td><td>roc_auc </td><td>0.6254390</td><td>roc_auc </td><td>0.6145628</td></tr>\n",
       "</tbody>\n",
       "</table>\n"
      ],
      "text/latex": [
       "A data.frame: 4 × 8\n",
       "\\begin{tabular}{llllllll}\n",
       " metric & mean & metric & mean & metric & mean & metric & mean\\\\\n",
       " <chr> & <dbl> & <chr> & <dbl> & <chr> & <dbl> & <chr> & <dbl>\\\\\n",
       "\\hline\n",
       "\t accuracy & 0.6765143 & accuracy & 0.6790246 & accuracy & 0.6790469 & accuracy & 0.6771724\\\\\n",
       "\t f\\_meas   & 0.7796199 & f\\_meas   & 0.7844442 & f\\_meas   & 0.7844720 & f\\_meas   & 0.7810586\\\\\n",
       "\t pr\\_auc   & 0.7238419 & pr\\_auc   & 0.7480742 & pr\\_auc   & 0.7484085 & pr\\_auc   & 0.7278242\\\\\n",
       "\t roc\\_auc  & 0.6125514 & roc\\_auc  & 0.6251664 & roc\\_auc  & 0.6254390 & roc\\_auc  & 0.6145628\\\\\n",
       "\\end{tabular}\n"
      ],
      "text/markdown": [
       "\n",
       "A data.frame: 4 × 8\n",
       "\n",
       "| metric &lt;chr&gt; | mean &lt;dbl&gt; | metric &lt;chr&gt; | mean &lt;dbl&gt; | metric &lt;chr&gt; | mean &lt;dbl&gt; | metric &lt;chr&gt; | mean &lt;dbl&gt; |\n",
       "|---|---|---|---|---|---|---|---|\n",
       "| accuracy | 0.6765143 | accuracy | 0.6790246 | accuracy | 0.6790469 | accuracy | 0.6771724 |\n",
       "| f_meas   | 0.7796199 | f_meas   | 0.7844442 | f_meas   | 0.7844720 | f_meas   | 0.7810586 |\n",
       "| pr_auc   | 0.7238419 | pr_auc   | 0.7480742 | pr_auc   | 0.7484085 | pr_auc   | 0.7278242 |\n",
       "| roc_auc  | 0.6125514 | roc_auc  | 0.6251664 | roc_auc  | 0.6254390 | roc_auc  | 0.6145628 |\n",
       "\n"
      ],
      "text/plain": [
       "  metric   mean      metric   mean      metric   mean      metric   mean     \n",
       "1 accuracy 0.6765143 accuracy 0.6790246 accuracy 0.6790469 accuracy 0.6771724\n",
       "2 f_meas   0.7796199 f_meas   0.7844442 f_meas   0.7844720 f_meas   0.7810586\n",
       "3 pr_auc   0.7238419 pr_auc   0.7480742 pr_auc   0.7484085 pr_auc   0.7278242\n",
       "4 roc_auc  0.6125514 roc_auc  0.6251664 roc_auc  0.6254390 roc_auc  0.6145628"
      ]
     },
     "metadata": {},
     "output_type": "display_data"
    }
   ],
   "source": [
    "# rank\n",
    "firstModel  <- featuresFit(cformula(c(vars                              )))$metrics\n",
    "directRanks <- featuresFit(cformula(c(vars, \"winner.rank\", \"looser.rank\")))$metrics\n",
    "diffRanks   <- featuresFit(cformula(c(vars, \"match.diffRank\"            )))$metrics\n",
    "avgRanks    <- featuresFit(cformula(c(vars, \"match.avgRank\"             )))$metrics\n",
    "cbind(firstModel, directRanks, diffRanks, avgRanks)"
   ]
  },
  {
   "cell_type": "code",
   "execution_count": null,
   "id": "0c675b08-0c39-47bd-a3f4-90dd0b83af40",
   "metadata": {},
   "outputs": [
    {
     "data": {
      "text/html": [
       "<table class=\"dataframe\">\n",
       "<caption>A tibble: 4 × 5</caption>\n",
       "<thead>\n",
       "\t<tr><th scope=col>metric</th><th scope=col>before</th><th scope=col>model1</th><th scope=col>model2</th><th scope=col>model3</th></tr>\n",
       "\t<tr><th scope=col>&lt;chr&gt;</th><th scope=col>&lt;dbl&gt;</th><th scope=col>&lt;dbl&gt;</th><th scope=col>&lt;dbl&gt;</th><th scope=col>&lt;dbl&gt;</th></tr>\n",
       "</thead>\n",
       "<tbody>\n",
       "\t<tr><td>accuracy</td><td>0.6765143</td><td>0.002510348</td><td>0.002532667</td><td>0.0006581865</td></tr>\n",
       "\t<tr><td>f_meas  </td><td>0.7796199</td><td>0.004824245</td><td>0.004852115</td><td>0.0014387073</td></tr>\n",
       "\t<tr><td>pr_auc  </td><td>0.7238419</td><td>0.024232322</td><td>0.024566566</td><td>0.0039822703</td></tr>\n",
       "\t<tr><td>roc_auc </td><td>0.6125514</td><td>0.012615011</td><td>0.012887600</td><td>0.0020114347</td></tr>\n",
       "</tbody>\n",
       "</table>\n"
      ],
      "text/latex": [
       "A tibble: 4 × 5\n",
       "\\begin{tabular}{lllll}\n",
       " metric & before & model1 & model2 & model3\\\\\n",
       " <chr> & <dbl> & <dbl> & <dbl> & <dbl>\\\\\n",
       "\\hline\n",
       "\t accuracy & 0.6765143 & 0.002510348 & 0.002532667 & 0.0006581865\\\\\n",
       "\t f\\_meas   & 0.7796199 & 0.004824245 & 0.004852115 & 0.0014387073\\\\\n",
       "\t pr\\_auc   & 0.7238419 & 0.024232322 & 0.024566566 & 0.0039822703\\\\\n",
       "\t roc\\_auc  & 0.6125514 & 0.012615011 & 0.012887600 & 0.0020114347\\\\\n",
       "\\end{tabular}\n"
      ],
      "text/markdown": [
       "\n",
       "A tibble: 4 × 5\n",
       "\n",
       "| metric &lt;chr&gt; | before &lt;dbl&gt; | model1 &lt;dbl&gt; | model2 &lt;dbl&gt; | model3 &lt;dbl&gt; |\n",
       "|---|---|---|---|---|\n",
       "| accuracy | 0.6765143 | 0.002510348 | 0.002532667 | 0.0006581865 |\n",
       "| f_meas   | 0.7796199 | 0.004824245 | 0.004852115 | 0.0014387073 |\n",
       "| pr_auc   | 0.7238419 | 0.024232322 | 0.024566566 | 0.0039822703 |\n",
       "| roc_auc  | 0.6125514 | 0.012615011 | 0.012887600 | 0.0020114347 |\n",
       "\n"
      ],
      "text/plain": [
       "  metric   before    model1      model2      model3      \n",
       "1 accuracy 0.6765143 0.002510348 0.002532667 0.0006581865\n",
       "2 f_meas   0.7796199 0.004824245 0.004852115 0.0014387073\n",
       "3 pr_auc   0.7238419 0.024232322 0.024566566 0.0039822703\n",
       "4 roc_auc  0.6125514 0.012615011 0.012887600 0.0020114347"
      ]
     },
     "metadata": {},
     "output_type": "display_data"
    }
   ],
   "source": [
    "# no scientific notation\n",
    "options(scipen=999)\n",
    "before <- firstModel\n",
    "compare(before, list(directRanks, diffRanks, avgRanks))"
   ]
  },
  {
   "cell_type": "code",
   "execution_count": null,
   "id": "4fc3e1e9-50ec-4125-a735-3bf256552f6b",
   "metadata": {},
   "outputs": [
    {
     "name": "stdout",
     "output_type": "stream",
     "text": [
      "6.73 sec elapsed\n"
     ]
    },
    {
     "name": "stderr",
     "output_type": "stream",
     "text": [
      "Setting levels: control = 2, case = 3\n",
      "\n",
      "Setting direction: controls > cases\n",
      "\n"
     ]
    },
    {
     "name": "stdout",
     "output_type": "stream",
     "text": [
      "7.03 sec elapsed\n"
     ]
    },
    {
     "name": "stderr",
     "output_type": "stream",
     "text": [
      "Setting levels: control = 2, case = 3\n",
      "\n",
      "Setting direction: controls > cases\n",
      "\n"
     ]
    },
    {
     "name": "stdout",
     "output_type": "stream",
     "text": [
      "6.88 sec elapsed\n"
     ]
    },
    {
     "name": "stderr",
     "output_type": "stream",
     "text": [
      "Setting levels: control = 2, case = 3\n",
      "\n",
      "Setting direction: controls > cases\n",
      "\n"
     ]
    },
    {
     "name": "stdout",
     "output_type": "stream",
     "text": [
      "6.29 sec elapsed\n"
     ]
    },
    {
     "name": "stderr",
     "output_type": "stream",
     "text": [
      "Setting levels: control = 2, case = 3\n",
      "\n",
      "Setting direction: controls > cases\n",
      "\n"
     ]
    },
    {
     "name": "stdout",
     "output_type": "stream",
     "text": [
      "6.3 sec elapsed\n"
     ]
    },
    {
     "name": "stderr",
     "output_type": "stream",
     "text": [
      "Setting levels: control = 2, case = 3\n",
      "\n",
      "Setting direction: controls > cases\n",
      "\n"
     ]
    },
    {
     "name": "stdout",
     "output_type": "stream",
     "text": [
      "6.99 sec elapsed\n"
     ]
    },
    {
     "name": "stderr",
     "output_type": "stream",
     "text": [
      "Setting levels: control = 2, case = 3\n",
      "\n",
      "Setting direction: controls > cases\n",
      "\n"
     ]
    },
    {
     "name": "stdout",
     "output_type": "stream",
     "text": [
      "5.79 sec elapsed\n"
     ]
    },
    {
     "name": "stderr",
     "output_type": "stream",
     "text": [
      "Setting levels: control = 2, case = 3\n",
      "\n",
      "Setting direction: controls > cases\n",
      "\n"
     ]
    },
    {
     "name": "stdout",
     "output_type": "stream",
     "text": [
      "6.47 sec elapsed\n"
     ]
    },
    {
     "name": "stderr",
     "output_type": "stream",
     "text": [
      "Setting levels: control = 2, case = 3\n",
      "\n",
      "Setting direction: controls > cases\n",
      "\n"
     ]
    },
    {
     "name": "stdout",
     "output_type": "stream",
     "text": [
      "5.83 sec elapsed\n"
     ]
    },
    {
     "name": "stderr",
     "output_type": "stream",
     "text": [
      "Setting levels: control = 2, case = 3\n",
      "\n",
      "Setting direction: controls > cases\n",
      "\n"
     ]
    },
    {
     "data": {
      "text/html": [
       "<table class=\"dataframe\">\n",
       "<caption>A tibble: 4 × 11</caption>\n",
       "<thead>\n",
       "\t<tr><th scope=col>metric</th><th scope=col>before</th><th scope=col>model1</th><th scope=col>model2</th><th scope=col>model3</th><th scope=col>model4</th><th scope=col>model5</th><th scope=col>model6</th><th scope=col>model7</th><th scope=col>model8</th><th scope=col>model9</th></tr>\n",
       "\t<tr><th scope=col>&lt;chr&gt;</th><th scope=col>&lt;dbl&gt;</th><th scope=col>&lt;dbl&gt;</th><th scope=col>&lt;dbl&gt;</th><th scope=col>&lt;dbl&gt;</th><th scope=col>&lt;dbl&gt;</th><th scope=col>&lt;dbl&gt;</th><th scope=col>&lt;dbl&gt;</th><th scope=col>&lt;dbl&gt;</th><th scope=col>&lt;dbl&gt;</th><th scope=col>&lt;dbl&gt;</th></tr>\n",
       "</thead>\n",
       "<tbody>\n",
       "\t<tr><td>accuracy</td><td>0.6790469</td><td>0.001238103</td><td>0.001052394</td><td>0.001306304</td><td>-0.0009372697</td><td>-0.000066948718</td><td>0.001306304</td><td>-0.000066948718</td><td>-0.0009372697</td><td>-0.000066948718</td></tr>\n",
       "\t<tr><td>f_meas  </td><td>0.7844720</td><td>0.001366604</td><td>0.001259465</td><td>0.001461325</td><td>-0.0002038398</td><td> 0.000004853335</td><td>0.001461325</td><td> 0.000004853335</td><td>-0.0002038398</td><td> 0.000004853335</td></tr>\n",
       "\t<tr><td>pr_auc  </td><td>0.7484085</td><td>0.003453219</td><td>0.002116859</td><td>0.003264937</td><td>-0.0002475573</td><td>-0.000060742909</td><td>0.003264937</td><td>-0.000060742909</td><td>-0.0002475573</td><td>-0.000060742909</td></tr>\n",
       "\t<tr><td>roc_auc </td><td>0.6254390</td><td>0.003604134</td><td>0.002114586</td><td>0.003566600</td><td> 0.0002653753</td><td>-0.000041433216</td><td>0.003566600</td><td>-0.000041433216</td><td> 0.0002653753</td><td>-0.000041433216</td></tr>\n",
       "</tbody>\n",
       "</table>\n"
      ],
      "text/latex": [
       "A tibble: 4 × 11\n",
       "\\begin{tabular}{lllllllllll}\n",
       " metric & before & model1 & model2 & model3 & model4 & model5 & model6 & model7 & model8 & model9\\\\\n",
       " <chr> & <dbl> & <dbl> & <dbl> & <dbl> & <dbl> & <dbl> & <dbl> & <dbl> & <dbl> & <dbl>\\\\\n",
       "\\hline\n",
       "\t accuracy & 0.6790469 & 0.001238103 & 0.001052394 & 0.001306304 & -0.0009372697 & -0.000066948718 & 0.001306304 & -0.000066948718 & -0.0009372697 & -0.000066948718\\\\\n",
       "\t f\\_meas   & 0.7844720 & 0.001366604 & 0.001259465 & 0.001461325 & -0.0002038398 &  0.000004853335 & 0.001461325 &  0.000004853335 & -0.0002038398 &  0.000004853335\\\\\n",
       "\t pr\\_auc   & 0.7484085 & 0.003453219 & 0.002116859 & 0.003264937 & -0.0002475573 & -0.000060742909 & 0.003264937 & -0.000060742909 & -0.0002475573 & -0.000060742909\\\\\n",
       "\t roc\\_auc  & 0.6254390 & 0.003604134 & 0.002114586 & 0.003566600 &  0.0002653753 & -0.000041433216 & 0.003566600 & -0.000041433216 &  0.0002653753 & -0.000041433216\\\\\n",
       "\\end{tabular}\n"
      ],
      "text/markdown": [
       "\n",
       "A tibble: 4 × 11\n",
       "\n",
       "| metric &lt;chr&gt; | before &lt;dbl&gt; | model1 &lt;dbl&gt; | model2 &lt;dbl&gt; | model3 &lt;dbl&gt; | model4 &lt;dbl&gt; | model5 &lt;dbl&gt; | model6 &lt;dbl&gt; | model7 &lt;dbl&gt; | model8 &lt;dbl&gt; | model9 &lt;dbl&gt; |\n",
       "|---|---|---|---|---|---|---|---|---|---|---|\n",
       "| accuracy | 0.6790469 | 0.001238103 | 0.001052394 | 0.001306304 | -0.0009372697 | -0.000066948718 | 0.001306304 | -0.000066948718 | -0.0009372697 | -0.000066948718 |\n",
       "| f_meas   | 0.7844720 | 0.001366604 | 0.001259465 | 0.001461325 | -0.0002038398 |  0.000004853335 | 0.001461325 |  0.000004853335 | -0.0002038398 |  0.000004853335 |\n",
       "| pr_auc   | 0.7484085 | 0.003453219 | 0.002116859 | 0.003264937 | -0.0002475573 | -0.000060742909 | 0.003264937 | -0.000060742909 | -0.0002475573 | -0.000060742909 |\n",
       "| roc_auc  | 0.6254390 | 0.003604134 | 0.002114586 | 0.003566600 |  0.0002653753 | -0.000041433216 | 0.003566600 | -0.000041433216 |  0.0002653753 | -0.000041433216 |\n",
       "\n"
      ],
      "text/plain": [
       "  metric   before    model1      model2      model3      model4       \n",
       "1 accuracy 0.6790469 0.001238103 0.001052394 0.001306304 -0.0009372697\n",
       "2 f_meas   0.7844720 0.001366604 0.001259465 0.001461325 -0.0002038398\n",
       "3 pr_auc   0.7484085 0.003453219 0.002116859 0.003264937 -0.0002475573\n",
       "4 roc_auc  0.6254390 0.003604134 0.002114586 0.003566600  0.0002653753\n",
       "  model5          model6      model7          model8        model9         \n",
       "1 -0.000066948718 0.001306304 -0.000066948718 -0.0009372697 -0.000066948718\n",
       "2  0.000004853335 0.001461325  0.000004853335 -0.0002038398  0.000004853335\n",
       "3 -0.000060742909 0.003264937 -0.000060742909 -0.0002475573 -0.000060742909\n",
       "4 -0.000041433216 0.003566600 -0.000041433216  0.0002653753 -0.000041433216"
      ]
     },
     "metadata": {},
     "output_type": "display_data"
    }
   ],
   "source": [
    "# diffRanks best\n",
    "vars <- c(vars, \"match.diffRank\")\n",
    "before <- diffRanks\n",
    "# now born\n",
    "bornAt           <- featuresFit(cformula(c(vars, \"winner.bornAt\", \"looser.bornAt\")))$metrics\n",
    "bornAt_tournFreq <- featuresFit(cformula(c(vars, \"winner.bornAt\", \"looser.bornAt\", \"winner.bornAt.tournFreq\", \"looser.bornAt.tournFreq\")))$metrics\n",
    "bornAt_hasTourn  <- featuresFit(cformula(c(vars, \"winner.bornAt\", \"looser.bornAt\", \"winner.bornAt.hasTourn\", \"looser.bornAt.hasTourn\"  )) )$metrics\n",
    "tournFreq        <- featuresFit(cformula(c(vars, \"winner.bornAt.tournFreq\", \"looser.bornAt.tournFreq\")))$metrics\n",
    "hasTourn         <- featuresFit(cformula(c(vars, \"winner.bornAt.hasTourn\", \"looser.bornAt.hasTourn\"  )) )$metrics\n",
    "bornAt_hasTournXor <- featuresFit(cformula(c(vars, \"winner.bornAt\", \"looser.bornAt\", \"match.playersBorn.hasTournXor\")) )$metrics\n",
    "hasTournXor      <- featuresFit(cformula(c(vars, \"match.playersBorn.hasTournXor\"  )) )$metrics\n",
    "bornAt_tournFreqDiff <- featuresFit(cformula(c(vars, \"winner.bornAt.tournFreq\", \"looser.bornAt.tournFreq\", \"match.playersBorn.tournFreqDiff\")))$metrics\n",
    "tournFreqDiff    <- featuresFit(cformula(c(vars, \"match.playersBorn.tournFreqDiff\")))$metrics\n",
    "compare(before, list(bornAt, bornAt_tournFreq, bornAt_hasTourn, tournFreq, hasTourn, bornAt_hasTournXor, hasTournXor, bornAt_tournFreqDiff, tournFreqDiff))"
   ]
  },
  {
   "cell_type": "code",
   "execution_count": null,
   "id": "1ecdd47a",
   "metadata": {},
   "outputs": [
    {
     "name": "stdout",
     "output_type": "stream",
     "text": [
      "6.73 sec elapsed\n"
     ]
    },
    {
     "name": "stderr",
     "output_type": "stream",
     "text": [
      "Setting levels: control = 2, case = 3\n",
      "\n",
      "Setting direction: controls > cases\n",
      "\n"
     ]
    },
    {
     "name": "stdout",
     "output_type": "stream",
     "text": [
      "13.87 sec elapsed\n"
     ]
    },
    {
     "name": "stderr",
     "output_type": "stream",
     "text": [
      "Setting levels: control = 2, case = 3\n",
      "\n",
      "Setting direction: controls > cases\n",
      "\n"
     ]
    },
    {
     "name": "stdout",
     "output_type": "stream",
     "text": [
      "6.55 sec elapsed\n"
     ]
    },
    {
     "name": "stderr",
     "output_type": "stream",
     "text": [
      "Setting levels: control = 2, case = 3\n",
      "\n",
      "Setting direction: controls > cases\n",
      "\n"
     ]
    },
    {
     "name": "stdout",
     "output_type": "stream",
     "text": [
      "5.7 sec elapsed\n"
     ]
    },
    {
     "name": "stderr",
     "output_type": "stream",
     "text": [
      "Setting levels: control = 2, case = 3\n",
      "\n",
      "Setting direction: controls > cases\n",
      "\n"
     ]
    },
    {
     "name": "stdout",
     "output_type": "stream",
     "text": [
      "5.98 sec elapsed\n"
     ]
    },
    {
     "name": "stderr",
     "output_type": "stream",
     "text": [
      "Setting levels: control = 2, case = 3\n",
      "\n",
      "Setting direction: controls > cases\n",
      "\n"
     ]
    },
    {
     "name": "stdout",
     "output_type": "stream",
     "text": [
      "7.08 sec elapsed\n"
     ]
    },
    {
     "name": "stderr",
     "output_type": "stream",
     "text": [
      "Setting levels: control = 2, case = 3\n",
      "\n",
      "Setting direction: controls > cases\n",
      "\n"
     ]
    },
    {
     "data": {
      "text/html": [
       "<table class=\"dataframe\">\n",
       "<caption>A tibble: 4 × 8</caption>\n",
       "<thead>\n",
       "\t<tr><th scope=col>metric</th><th scope=col>before</th><th scope=col>model1</th><th scope=col>model2</th><th scope=col>model3</th><th scope=col>model4</th><th scope=col>model5</th><th scope=col>model6</th></tr>\n",
       "\t<tr><th scope=col>&lt;chr&gt;</th><th scope=col>&lt;dbl&gt;</th><th scope=col>&lt;dbl&gt;</th><th scope=col>&lt;dbl&gt;</th><th scope=col>&lt;dbl&gt;</th><th scope=col>&lt;dbl&gt;</th><th scope=col>&lt;dbl&gt;</th><th scope=col>&lt;dbl&gt;</th></tr>\n",
       "</thead>\n",
       "<tbody>\n",
       "\t<tr><td>accuracy</td><td>0.6802850</td><td>0.0006569876</td><td>-0.00123605152</td><td> 0.00014649272</td><td>-0.00003471421</td><td>0.00006770546</td><td>0.0010538065</td></tr>\n",
       "\t<tr><td>f_meas  </td><td>0.7858386</td><td>0.0006868869</td><td> 0.00008340659</td><td> 0.00025583446</td><td> 0.00011968147</td><td>0.00015535893</td><td>0.0012061045</td></tr>\n",
       "\t<tr><td>pr_auc  </td><td>0.7518617</td><td>0.0007312841</td><td> 0.00236642481</td><td> 0.00009998103</td><td> 0.00043893053</td><td>0.00038179513</td><td>0.0010633460</td></tr>\n",
       "\t<tr><td>roc_auc </td><td>0.6290431</td><td>0.0002337923</td><td> 0.00363072884</td><td>-0.00034555806</td><td>-0.00002229160</td><td>0.00039700441</td><td>0.0005565433</td></tr>\n",
       "</tbody>\n",
       "</table>\n"
      ],
      "text/latex": [
       "A tibble: 4 × 8\n",
       "\\begin{tabular}{llllllll}\n",
       " metric & before & model1 & model2 & model3 & model4 & model5 & model6\\\\\n",
       " <chr> & <dbl> & <dbl> & <dbl> & <dbl> & <dbl> & <dbl> & <dbl>\\\\\n",
       "\\hline\n",
       "\t accuracy & 0.6802850 & 0.0006569876 & -0.00123605152 &  0.00014649272 & -0.00003471421 & 0.00006770546 & 0.0010538065\\\\\n",
       "\t f\\_meas   & 0.7858386 & 0.0006868869 &  0.00008340659 &  0.00025583446 &  0.00011968147 & 0.00015535893 & 0.0012061045\\\\\n",
       "\t pr\\_auc   & 0.7518617 & 0.0007312841 &  0.00236642481 &  0.00009998103 &  0.00043893053 & 0.00038179513 & 0.0010633460\\\\\n",
       "\t roc\\_auc  & 0.6290431 & 0.0002337923 &  0.00363072884 & -0.00034555806 & -0.00002229160 & 0.00039700441 & 0.0005565433\\\\\n",
       "\\end{tabular}\n"
      ],
      "text/markdown": [
       "\n",
       "A tibble: 4 × 8\n",
       "\n",
       "| metric &lt;chr&gt; | before &lt;dbl&gt; | model1 &lt;dbl&gt; | model2 &lt;dbl&gt; | model3 &lt;dbl&gt; | model4 &lt;dbl&gt; | model5 &lt;dbl&gt; | model6 &lt;dbl&gt; |\n",
       "|---|---|---|---|---|---|---|---|\n",
       "| accuracy | 0.6802850 | 0.0006569876 | -0.00123605152 |  0.00014649272 | -0.00003471421 | 0.00006770546 | 0.0010538065 |\n",
       "| f_meas   | 0.7858386 | 0.0006868869 |  0.00008340659 |  0.00025583446 |  0.00011968147 | 0.00015535893 | 0.0012061045 |\n",
       "| pr_auc   | 0.7518617 | 0.0007312841 |  0.00236642481 |  0.00009998103 |  0.00043893053 | 0.00038179513 | 0.0010633460 |\n",
       "| roc_auc  | 0.6290431 | 0.0002337923 |  0.00363072884 | -0.00034555806 | -0.00002229160 | 0.00039700441 | 0.0005565433 |\n",
       "\n"
      ],
      "text/plain": [
       "  metric   before    model1       model2         model3         model4        \n",
       "1 accuracy 0.6802850 0.0006569876 -0.00123605152  0.00014649272 -0.00003471421\n",
       "2 f_meas   0.7858386 0.0006868869  0.00008340659  0.00025583446  0.00011968147\n",
       "3 pr_auc   0.7518617 0.0007312841  0.00236642481  0.00009998103  0.00043893053\n",
       "4 roc_auc  0.6290431 0.0002337923  0.00363072884 -0.00034555806 -0.00002229160\n",
       "  model5        model6      \n",
       "1 0.00006770546 0.0010538065\n",
       "2 0.00015535893 0.0012061045\n",
       "3 0.00038179513 0.0010633460\n",
       "4 0.00039700441 0.0005565433"
      ]
     },
     "metadata": {},
     "output_type": "display_data"
    }
   ],
   "source": [
    "# melhor é o bornAt\n",
    "vars <- c(vars, \"winner.bornAt\", \"looser.bornAt\")\n",
    "before <- bornAt\n",
    "# now height\n",
    "height <- featuresFit(cformula(c(vars, \"winner.height\", \"looser.height\")))$metrics\n",
    "heightF <- featuresFit(cformula(c(vars, \"winner.heightF\", \"looser.heightF\")))$metrics\n",
    "heightFC <- featuresFit(cformula(c(vars, \"winner.heightFC\", \"looser.heightFC\")))$metrics\n",
    "heightDiff <- featuresFit(cformula(c(vars, \"match.diffHeights\")))$metrics\n",
    "heightAvg <- featuresFit(cformula(c(vars, \"match.avgHeights\")))$metrics\n",
    "heights.heightFCvs <- featuresFit(cformula(c(vars, \"match.heightFCvs\")))$metrics\n",
    "\n",
    "compare(before, list(height, heightF, heightFC, heightDiff, heightAvg, heights.heightFCvs))"
   ]
  },
  {
   "cell_type": "code",
   "execution_count": null,
   "id": "eefad318",
   "metadata": {},
   "outputs": [
    {
     "name": "stdout",
     "output_type": "stream",
     "text": [
      "13.86 sec elapsed\n"
     ]
    },
    {
     "name": "stderr",
     "output_type": "stream",
     "text": [
      "Setting levels: control = 2, case = 3\n",
      "\n",
      "Setting direction: controls > cases\n",
      "\n"
     ]
    },
    {
     "name": "stdout",
     "output_type": "stream",
     "text": [
      "14.05 sec elapsed\n"
     ]
    },
    {
     "name": "stderr",
     "output_type": "stream",
     "text": [
      "Setting levels: control = 2, case = 3\n",
      "\n",
      "Setting direction: controls > cases\n",
      "\n"
     ]
    },
    {
     "name": "stdout",
     "output_type": "stream",
     "text": [
      "13.22 sec elapsed\n"
     ]
    },
    {
     "name": "stderr",
     "output_type": "stream",
     "text": [
      "Setting levels: control = 2, case = 3\n",
      "\n",
      "Setting direction: controls > cases\n",
      "\n"
     ]
    },
    {
     "name": "stdout",
     "output_type": "stream",
     "text": [
      "13.74 sec elapsed\n"
     ]
    },
    {
     "name": "stderr",
     "output_type": "stream",
     "text": [
      "Setting levels: control = 2, case = 3\n",
      "\n",
      "Setting direction: controls > cases\n",
      "\n"
     ]
    },
    {
     "name": "stdout",
     "output_type": "stream",
     "text": [
      "13.58 sec elapsed\n"
     ]
    },
    {
     "name": "stderr",
     "output_type": "stream",
     "text": [
      "Setting levels: control = 2, case = 3\n",
      "\n",
      "Setting direction: controls > cases\n",
      "\n"
     ]
    },
    {
     "name": "stdout",
     "output_type": "stream",
     "text": [
      "12.75 sec elapsed\n"
     ]
    },
    {
     "name": "stderr",
     "output_type": "stream",
     "text": [
      "Setting levels: control = 2, case = 3\n",
      "\n",
      "Setting direction: controls > cases\n",
      "\n"
     ]
    },
    {
     "data": {
      "text/html": [
       "<table class=\"dataframe\">\n",
       "<caption>A tibble: 4 × 8</caption>\n",
       "<thead>\n",
       "\t<tr><th scope=col>metric</th><th scope=col>before</th><th scope=col>model1</th><th scope=col>model2</th><th scope=col>model3</th><th scope=col>model4</th><th scope=col>model5</th><th scope=col>model6</th></tr>\n",
       "\t<tr><th scope=col>&lt;chr&gt;</th><th scope=col>&lt;dbl&gt;</th><th scope=col>&lt;dbl&gt;</th><th scope=col>&lt;dbl&gt;</th><th scope=col>&lt;dbl&gt;</th><th scope=col>&lt;dbl&gt;</th><th scope=col>&lt;dbl&gt;</th><th scope=col>&lt;dbl&gt;</th></tr>\n",
       "</thead>\n",
       "<tbody>\n",
       "\t<tr><td>accuracy</td><td>0.6790490</td><td>0.001576876</td><td>0.0010080626</td><td>0.001315495</td><td>-0.0025050624</td><td>-0.0005204988</td><td> 0.00009112342</td></tr>\n",
       "\t<tr><td>f_meas  </td><td>0.7859221</td><td>0.001491477</td><td>0.0009806052</td><td>0.001289399</td><td>-0.0009930384</td><td> 0.0006809564</td><td> 0.00006469896</td></tr>\n",
       "\t<tr><td>pr_auc  </td><td>0.7542281</td><td>0.003755752</td><td>0.0011298078</td><td>0.002580200</td><td> 0.0065662507</td><td> 0.0073592875</td><td> 0.00024748604</td></tr>\n",
       "\t<tr><td>roc_auc </td><td>0.6326739</td><td>0.004547073</td><td>0.0025629413</td><td>0.003597994</td><td> 0.0078523595</td><td> 0.0104501627</td><td>-0.00015290904</td></tr>\n",
       "</tbody>\n",
       "</table>\n"
      ],
      "text/latex": [
       "A tibble: 4 × 8\n",
       "\\begin{tabular}{llllllll}\n",
       " metric & before & model1 & model2 & model3 & model4 & model5 & model6\\\\\n",
       " <chr> & <dbl> & <dbl> & <dbl> & <dbl> & <dbl> & <dbl> & <dbl>\\\\\n",
       "\\hline\n",
       "\t accuracy & 0.6790490 & 0.001576876 & 0.0010080626 & 0.001315495 & -0.0025050624 & -0.0005204988 &  0.00009112342\\\\\n",
       "\t f\\_meas   & 0.7859221 & 0.001491477 & 0.0009806052 & 0.001289399 & -0.0009930384 &  0.0006809564 &  0.00006469896\\\\\n",
       "\t pr\\_auc   & 0.7542281 & 0.003755752 & 0.0011298078 & 0.002580200 &  0.0065662507 &  0.0073592875 &  0.00024748604\\\\\n",
       "\t roc\\_auc  & 0.6326739 & 0.004547073 & 0.0025629413 & 0.003597994 &  0.0078523595 &  0.0104501627 & -0.00015290904\\\\\n",
       "\\end{tabular}\n"
      ],
      "text/markdown": [
       "\n",
       "A tibble: 4 × 8\n",
       "\n",
       "| metric &lt;chr&gt; | before &lt;dbl&gt; | model1 &lt;dbl&gt; | model2 &lt;dbl&gt; | model3 &lt;dbl&gt; | model4 &lt;dbl&gt; | model5 &lt;dbl&gt; | model6 &lt;dbl&gt; |\n",
       "|---|---|---|---|---|---|---|---|\n",
       "| accuracy | 0.6790490 | 0.001576876 | 0.0010080626 | 0.001315495 | -0.0025050624 | -0.0005204988 |  0.00009112342 |\n",
       "| f_meas   | 0.7859221 | 0.001491477 | 0.0009806052 | 0.001289399 | -0.0009930384 |  0.0006809564 |  0.00006469896 |\n",
       "| pr_auc   | 0.7542281 | 0.003755752 | 0.0011298078 | 0.002580200 |  0.0065662507 |  0.0073592875 |  0.00024748604 |\n",
       "| roc_auc  | 0.6326739 | 0.004547073 | 0.0025629413 | 0.003597994 |  0.0078523595 |  0.0104501627 | -0.00015290904 |\n",
       "\n"
      ],
      "text/plain": [
       "  metric   before    model1      model2       model3      model4       \n",
       "1 accuracy 0.6790490 0.001576876 0.0010080626 0.001315495 -0.0025050624\n",
       "2 f_meas   0.7859221 0.001491477 0.0009806052 0.001289399 -0.0009930384\n",
       "3 pr_auc   0.7542281 0.003755752 0.0011298078 0.002580200  0.0065662507\n",
       "4 roc_auc  0.6326739 0.004547073 0.0025629413 0.003597994  0.0078523595\n",
       "  model5        model6        \n",
       "1 -0.0005204988  0.00009112342\n",
       "2  0.0006809564  0.00006469896\n",
       "3  0.0073592875  0.00024748604\n",
       "4  0.0104501627 -0.00015290904"
      ]
     },
     "metadata": {},
     "output_type": "display_data"
    }
   ],
   "source": [
    "# heightF melhor\n",
    "vars <- c(vars, \"winner.heightF\", \"looser.heightF\")\n",
    "before <- heightF\n",
    "# now n jogos\n",
    "nwins <- featuresFit(cformula(c(vars, \"winner.nwins\", \"looser.nwins\")))$metrics\n",
    "nlooses <- featuresFit(cformula(c(vars, \"winner.nlosses\", \"looser.nlosses\")))$metrics\n",
    "njogos <- featuresFit(cformula(c(vars, \"winner.njogos\", \"looser.njogos\")))$metrics\n",
    "winrate <- featuresFit(cformula(c(vars, \"winner.winrate\", \"looser.winrate\")))$metrics\n",
    "winrate_njogos <- featuresFit(cformula(c(vars, \"winner.winrate\", \"looser.winrate\", \"winner.njogos\", \"looser.njogos\")))$metrics\n",
    "njogosDiff <- featuresFit(cformula(c(vars, \"match.njogosDiff\")))$metrics\n",
    "\n",
    "compare(before, list(nwins, nlooses, njogos, winrate, winrate_njogos, njogosDiff))"
   ]
  },
  {
   "cell_type": "code",
   "execution_count": null,
   "id": "fe0e22e0",
   "metadata": {},
   "outputs": [
    {
     "name": "stdout",
     "output_type": "stream",
     "text": [
      "14.23 sec elapsed\n"
     ]
    },
    {
     "name": "stderr",
     "output_type": "stream",
     "text": [
      "Setting levels: control = 2, case = 3\n",
      "\n",
      "Setting direction: controls > cases\n",
      "\n"
     ]
    },
    {
     "name": "stdout",
     "output_type": "stream",
     "text": [
      "13.6 sec elapsed\n"
     ]
    },
    {
     "name": "stderr",
     "output_type": "stream",
     "text": [
      "Setting levels: control = 2, case = 3\n",
      "\n",
      "Setting direction: controls > cases\n",
      "\n"
     ]
    },
    {
     "data": {
      "text/html": [
       "<table class=\"dataframe\">\n",
       "<caption>A tibble: 4 × 4</caption>\n",
       "<thead>\n",
       "\t<tr><th scope=col>metric</th><th scope=col>before</th><th scope=col>model1</th><th scope=col>model2</th></tr>\n",
       "\t<tr><th scope=col>&lt;chr&gt;</th><th scope=col>&lt;dbl&gt;</th><th scope=col>&lt;dbl&gt;</th><th scope=col>&lt;dbl&gt;</th></tr>\n",
       "</thead>\n",
       "<tbody>\n",
       "\t<tr><td>accuracy</td><td>0.6785285</td><td> 0.00014705841</td><td> 0.000045387198</td></tr>\n",
       "\t<tr><td>f_meas  </td><td>0.7866030</td><td> 0.00007766727</td><td> 0.000001048024</td></tr>\n",
       "\t<tr><td>pr_auc  </td><td>0.7615874</td><td>-0.00025412921</td><td>-0.000169252859</td></tr>\n",
       "\t<tr><td>roc_auc </td><td>0.6431240</td><td>-0.00043073251</td><td>-0.000195974271</td></tr>\n",
       "</tbody>\n",
       "</table>\n"
      ],
      "text/latex": [
       "A tibble: 4 × 4\n",
       "\\begin{tabular}{llll}\n",
       " metric & before & model1 & model2\\\\\n",
       " <chr> & <dbl> & <dbl> & <dbl>\\\\\n",
       "\\hline\n",
       "\t accuracy & 0.6785285 &  0.00014705841 &  0.000045387198\\\\\n",
       "\t f\\_meas   & 0.7866030 &  0.00007766727 &  0.000001048024\\\\\n",
       "\t pr\\_auc   & 0.7615874 & -0.00025412921 & -0.000169252859\\\\\n",
       "\t roc\\_auc  & 0.6431240 & -0.00043073251 & -0.000195974271\\\\\n",
       "\\end{tabular}\n"
      ],
      "text/markdown": [
       "\n",
       "A tibble: 4 × 4\n",
       "\n",
       "| metric &lt;chr&gt; | before &lt;dbl&gt; | model1 &lt;dbl&gt; | model2 &lt;dbl&gt; |\n",
       "|---|---|---|---|\n",
       "| accuracy | 0.6785285 |  0.00014705841 |  0.000045387198 |\n",
       "| f_meas   | 0.7866030 |  0.00007766727 |  0.000001048024 |\n",
       "| pr_auc   | 0.7615874 | -0.00025412921 | -0.000169252859 |\n",
       "| roc_auc  | 0.6431240 | -0.00043073251 | -0.000195974271 |\n",
       "\n"
      ],
      "text/plain": [
       "  metric   before    model1         model2         \n",
       "1 accuracy 0.6785285  0.00014705841  0.000045387198\n",
       "2 f_meas   0.7866030  0.00007766727  0.000001048024\n",
       "3 pr_auc   0.7615874 -0.00025412921 -0.000169252859\n",
       "4 roc_auc  0.6431240 -0.00043073251 -0.000195974271"
      ]
     },
     "metadata": {},
     "output_type": "display_data"
    }
   ],
   "source": [
    "# winrate_njogos melhor\n",
    "vars <- c(vars, \"winner.winrate\", \"looser.winrate\", \"winner.njogos\", \"looser.njogos\")\n",
    "before <- winrate_njogos\n",
    "# now numero do torneio do jogador\n",
    "nTournament <- featuresFit(cformula(c(vars, \"winner.nTournament\", \"looser.nTournament\")))$metrics\n",
    "nTournamentDiff <- featuresFit(cformula(c(vars, \"match.nTournamentDiff\")))$metrics\n",
    "\n",
    "compare(before, list(nTournament, nTournamentDiff))"
   ]
  },
  {
   "cell_type": "code",
   "execution_count": null,
   "id": "2a1e0594",
   "metadata": {},
   "outputs": [
    {
     "name": "stdout",
     "output_type": "stream",
     "text": [
      "15.5 sec elapsed\n"
     ]
    },
    {
     "name": "stderr",
     "output_type": "stream",
     "text": [
      "Setting levels: control = 2, case = 3\n",
      "\n",
      "Setting direction: controls > cases\n",
      "\n"
     ]
    },
    {
     "name": "stdout",
     "output_type": "stream",
     "text": [
      "13.76 sec elapsed\n"
     ]
    },
    {
     "name": "stderr",
     "output_type": "stream",
     "text": [
      "Setting levels: control = 2, case = 3\n",
      "\n",
      "Setting direction: controls > cases\n",
      "\n"
     ]
    },
    {
     "name": "stdout",
     "output_type": "stream",
     "text": [
      "13.4 sec elapsed\n"
     ]
    },
    {
     "name": "stderr",
     "output_type": "stream",
     "text": [
      "Setting levels: control = 2, case = 3\n",
      "\n",
      "Setting direction: controls > cases\n",
      "\n"
     ]
    },
    {
     "data": {
      "text/html": [
       "<table class=\"dataframe\">\n",
       "<caption>A tibble: 4 × 5</caption>\n",
       "<thead>\n",
       "\t<tr><th scope=col>metric</th><th scope=col>before</th><th scope=col>model1</th><th scope=col>model2</th><th scope=col>model3</th></tr>\n",
       "\t<tr><th scope=col>&lt;chr&gt;</th><th scope=col>&lt;dbl&gt;</th><th scope=col>&lt;dbl&gt;</th><th scope=col>&lt;dbl&gt;</th><th scope=col>&lt;dbl&gt;</th></tr>\n",
       "</thead>\n",
       "<tbody>\n",
       "\t<tr><td>accuracy</td><td>0.6785285</td><td>0.0014846578</td><td>-0.0000005337311</td><td>-0.0000004845622</td></tr>\n",
       "\t<tr><td>f_meas  </td><td>0.7866030</td><td>0.0013167547</td><td> 0.0000665297701</td><td> 0.0000854944885</td></tr>\n",
       "\t<tr><td>pr_auc  </td><td>0.7615874</td><td>0.0001574541</td><td>-0.0001143156807</td><td> 0.0000282263349</td></tr>\n",
       "\t<tr><td>roc_auc </td><td>0.6431240</td><td>0.0003324690</td><td> 0.0001412939402</td><td> 0.0003142744778</td></tr>\n",
       "</tbody>\n",
       "</table>\n"
      ],
      "text/latex": [
       "A tibble: 4 × 5\n",
       "\\begin{tabular}{lllll}\n",
       " metric & before & model1 & model2 & model3\\\\\n",
       " <chr> & <dbl> & <dbl> & <dbl> & <dbl>\\\\\n",
       "\\hline\n",
       "\t accuracy & 0.6785285 & 0.0014846578 & -0.0000005337311 & -0.0000004845622\\\\\n",
       "\t f\\_meas   & 0.7866030 & 0.0013167547 &  0.0000665297701 &  0.0000854944885\\\\\n",
       "\t pr\\_auc   & 0.7615874 & 0.0001574541 & -0.0001143156807 &  0.0000282263349\\\\\n",
       "\t roc\\_auc  & 0.6431240 & 0.0003324690 &  0.0001412939402 &  0.0003142744778\\\\\n",
       "\\end{tabular}\n"
      ],
      "text/markdown": [
       "\n",
       "A tibble: 4 × 5\n",
       "\n",
       "| metric &lt;chr&gt; | before &lt;dbl&gt; | model1 &lt;dbl&gt; | model2 &lt;dbl&gt; | model3 &lt;dbl&gt; |\n",
       "|---|---|---|---|---|\n",
       "| accuracy | 0.6785285 | 0.0014846578 | -0.0000005337311 | -0.0000004845622 |\n",
       "| f_meas   | 0.7866030 | 0.0013167547 |  0.0000665297701 |  0.0000854944885 |\n",
       "| pr_auc   | 0.7615874 | 0.0001574541 | -0.0001143156807 |  0.0000282263349 |\n",
       "| roc_auc  | 0.6431240 | 0.0003324690 |  0.0001412939402 |  0.0003142744778 |\n",
       "\n"
      ],
      "text/plain": [
       "  metric   before    model1       model2           model3          \n",
       "1 accuracy 0.6785285 0.0014846578 -0.0000005337311 -0.0000004845622\n",
       "2 f_meas   0.7866030 0.0013167547  0.0000665297701  0.0000854944885\n",
       "3 pr_auc   0.7615874 0.0001574541 -0.0001143156807  0.0000282263349\n",
       "4 roc_auc  0.6431240 0.0003324690  0.0001412939402  0.0003142744778"
      ]
     },
     "metadata": {},
     "output_type": "display_data"
    }
   ],
   "source": [
    "# nenhuma das opções melhora o roc_auc, e o f1 não melhora o suficiente para justificar\n",
    "vars <- vars\n",
    "before <- before\n",
    "\n",
    "# now backhand\n",
    "backHands <- featuresFit(cformula(c(vars,  \"match.backHands\")))$metrics\n",
    "backHandsL1 <- featuresFit(cformula(c(vars,  \"match.backHandsL1\")))$metrics\n",
    "backHandsL2 <- featuresFit(cformula(c(vars,  \"match.backHandsL2\")))$metrics\n",
    "\n",
    "compare(before, list(backHands, backHandsL1, backHandsL2))"
   ]
  },
  {
   "cell_type": "code",
   "execution_count": null,
   "id": "77e6d16b",
   "metadata": {},
   "outputs": [
    {
     "name": "stdout",
     "output_type": "stream",
     "text": [
      "15.42 sec elapsed\n"
     ]
    },
    {
     "name": "stderr",
     "output_type": "stream",
     "text": [
      "Setting levels: control = 2, case = 3\n",
      "\n",
      "Setting direction: controls > cases\n",
      "\n"
     ]
    },
    {
     "name": "stdout",
     "output_type": "stream",
     "text": [
      "16.59 sec elapsed\n"
     ]
    },
    {
     "name": "stderr",
     "output_type": "stream",
     "text": [
      "Setting levels: control = 2, case = 3\n",
      "\n",
      "Setting direction: controls > cases\n",
      "\n"
     ]
    },
    {
     "name": "stdout",
     "output_type": "stream",
     "text": [
      "15.43 sec elapsed\n"
     ]
    },
    {
     "name": "stderr",
     "output_type": "stream",
     "text": [
      "Setting levels: control = 2, case = 3\n",
      "\n",
      "Setting direction: controls > cases\n",
      "\n"
     ]
    },
    {
     "data": {
      "text/html": [
       "<table class=\"dataframe\">\n",
       "<caption>A tibble: 4 × 5</caption>\n",
       "<thead>\n",
       "\t<tr><th scope=col>metric</th><th scope=col>before</th><th scope=col>model1</th><th scope=col>model2</th><th scope=col>model3</th></tr>\n",
       "\t<tr><th scope=col>&lt;chr&gt;</th><th scope=col>&lt;dbl&gt;</th><th scope=col>&lt;dbl&gt;</th><th scope=col>&lt;dbl&gt;</th><th scope=col>&lt;dbl&gt;</th></tr>\n",
       "</thead>\n",
       "<tbody>\n",
       "\t<tr><td>accuracy</td><td>0.6800131</td><td> 0.00006822684</td><td>-0.0006572606</td><td>-0.0005892295</td></tr>\n",
       "\t<tr><td>f_meas  </td><td>0.7879198</td><td> 0.00009581015</td><td>-0.0005863043</td><td>-0.0004157900</td></tr>\n",
       "\t<tr><td>pr_auc  </td><td>0.7617449</td><td>-0.00003636564</td><td> 0.0012715849</td><td> 0.0004990970</td></tr>\n",
       "\t<tr><td>roc_auc </td><td>0.6434565</td><td> 0.00005551073</td><td> 0.0008255979</td><td> 0.0002797927</td></tr>\n",
       "</tbody>\n",
       "</table>\n"
      ],
      "text/latex": [
       "A tibble: 4 × 5\n",
       "\\begin{tabular}{lllll}\n",
       " metric & before & model1 & model2 & model3\\\\\n",
       " <chr> & <dbl> & <dbl> & <dbl> & <dbl>\\\\\n",
       "\\hline\n",
       "\t accuracy & 0.6800131 &  0.00006822684 & -0.0006572606 & -0.0005892295\\\\\n",
       "\t f\\_meas   & 0.7879198 &  0.00009581015 & -0.0005863043 & -0.0004157900\\\\\n",
       "\t pr\\_auc   & 0.7617449 & -0.00003636564 &  0.0012715849 &  0.0004990970\\\\\n",
       "\t roc\\_auc  & 0.6434565 &  0.00005551073 &  0.0008255979 &  0.0002797927\\\\\n",
       "\\end{tabular}\n"
      ],
      "text/markdown": [
       "\n",
       "A tibble: 4 × 5\n",
       "\n",
       "| metric &lt;chr&gt; | before &lt;dbl&gt; | model1 &lt;dbl&gt; | model2 &lt;dbl&gt; | model3 &lt;dbl&gt; |\n",
       "|---|---|---|---|---|\n",
       "| accuracy | 0.6800131 |  0.00006822684 | -0.0006572606 | -0.0005892295 |\n",
       "| f_meas   | 0.7879198 |  0.00009581015 | -0.0005863043 | -0.0004157900 |\n",
       "| pr_auc   | 0.7617449 | -0.00003636564 |  0.0012715849 |  0.0004990970 |\n",
       "| roc_auc  | 0.6434565 |  0.00005551073 |  0.0008255979 |  0.0002797927 |\n",
       "\n"
      ],
      "text/plain": [
       "  metric   before    model1         model2        model3       \n",
       "1 accuracy 0.6800131  0.00006822684 -0.0006572606 -0.0005892295\n",
       "2 f_meas   0.7879198  0.00009581015 -0.0005863043 -0.0004157900\n",
       "3 pr_auc   0.7617449 -0.00003636564  0.0012715849  0.0004990970\n",
       "4 roc_auc  0.6434565  0.00005551073  0.0008255979  0.0002797927"
      ]
     },
     "metadata": {},
     "output_type": "display_data"
    }
   ],
   "source": [
    "# backhands melhor\n",
    "vars <- c(vars, \"match.backHands\")\n",
    "before <- backHands\n",
    "# now duração do torneio\n",
    "\n",
    "duration <- featuresFit(cformula(c(vars, \"tournament.duration\")))$metrics\n",
    "durationF <- featuresFit(cformula(c(vars, \"tournament.durationF\")))$metrics\n",
    "durationFL <- featuresFit(cformula(c(vars, \"tournament.durationFL\")))$metrics\n",
    "\n",
    "compare(before, list(duration, durationF, durationFL))\n"
   ]
  },
  {
   "cell_type": "code",
   "execution_count": null,
   "id": "457c33a3",
   "metadata": {},
   "outputs": [
    {
     "name": "stdout",
     "output_type": "stream",
     "text": [
      "17.72 sec elapsed\n"
     ]
    },
    {
     "name": "stderr",
     "output_type": "stream",
     "text": [
      "Setting levels: control = 2, case = 3\n",
      "\n",
      "Setting direction: controls > cases\n",
      "\n"
     ]
    },
    {
     "name": "stdout",
     "output_type": "stream",
     "text": [
      "17.32 sec elapsed\n"
     ]
    },
    {
     "name": "stderr",
     "output_type": "stream",
     "text": [
      "Setting levels: control = 2, case = 3\n",
      "\n",
      "Setting direction: controls > cases\n",
      "\n"
     ]
    },
    {
     "name": "stdout",
     "output_type": "stream",
     "text": [
      "17.86 sec elapsed\n"
     ]
    },
    {
     "name": "stderr",
     "output_type": "stream",
     "text": [
      "Setting levels: control = 2, case = 3\n",
      "\n",
      "Setting direction: controls > cases\n",
      "\n"
     ]
    },
    {
     "data": {
      "text/html": [
       "<table class=\"dataframe\">\n",
       "<caption>A tibble: 4 × 5</caption>\n",
       "<thead>\n",
       "\t<tr><th scope=col>metric</th><th scope=col>before</th><th scope=col>model1</th><th scope=col>model2</th><th scope=col>model3</th></tr>\n",
       "\t<tr><th scope=col>&lt;chr&gt;</th><th scope=col>&lt;dbl&gt;</th><th scope=col>&lt;dbl&gt;</th><th scope=col>&lt;dbl&gt;</th><th scope=col>&lt;dbl&gt;</th></tr>\n",
       "</thead>\n",
       "<tbody>\n",
       "\t<tr><td>accuracy</td><td>0.6793559</td><td>-0.0003067227</td><td>-0.0003751356</td><td>-0.0003753350</td></tr>\n",
       "\t<tr><td>f_meas  </td><td>0.7873335</td><td>-0.0001828893</td><td>-0.0002113355</td><td>-0.0002301965</td></tr>\n",
       "\t<tr><td>pr_auc  </td><td>0.7630165</td><td> 0.0003590845</td><td> 0.0003832285</td><td> 0.0002846896</td></tr>\n",
       "\t<tr><td>roc_auc </td><td>0.6442821</td><td> 0.0005006879</td><td> 0.0002631356</td><td> 0.0001172242</td></tr>\n",
       "</tbody>\n",
       "</table>\n"
      ],
      "text/latex": [
       "A tibble: 4 × 5\n",
       "\\begin{tabular}{lllll}\n",
       " metric & before & model1 & model2 & model3\\\\\n",
       " <chr> & <dbl> & <dbl> & <dbl> & <dbl>\\\\\n",
       "\\hline\n",
       "\t accuracy & 0.6793559 & -0.0003067227 & -0.0003751356 & -0.0003753350\\\\\n",
       "\t f\\_meas   & 0.7873335 & -0.0001828893 & -0.0002113355 & -0.0002301965\\\\\n",
       "\t pr\\_auc   & 0.7630165 &  0.0003590845 &  0.0003832285 &  0.0002846896\\\\\n",
       "\t roc\\_auc  & 0.6442821 &  0.0005006879 &  0.0002631356 &  0.0001172242\\\\\n",
       "\\end{tabular}\n"
      ],
      "text/markdown": [
       "\n",
       "A tibble: 4 × 5\n",
       "\n",
       "| metric &lt;chr&gt; | before &lt;dbl&gt; | model1 &lt;dbl&gt; | model2 &lt;dbl&gt; | model3 &lt;dbl&gt; |\n",
       "|---|---|---|---|---|\n",
       "| accuracy | 0.6793559 | -0.0003067227 | -0.0003751356 | -0.0003753350 |\n",
       "| f_meas   | 0.7873335 | -0.0001828893 | -0.0002113355 | -0.0002301965 |\n",
       "| pr_auc   | 0.7630165 |  0.0003590845 |  0.0003832285 |  0.0002846896 |\n",
       "| roc_auc  | 0.6442821 |  0.0005006879 |  0.0002631356 |  0.0001172242 |\n",
       "\n"
      ],
      "text/plain": [
       "  metric   before    model1        model2        model3       \n",
       "1 accuracy 0.6793559 -0.0003067227 -0.0003751356 -0.0003753350\n",
       "2 f_meas   0.7873335 -0.0001828893 -0.0002113355 -0.0002301965\n",
       "3 pr_auc   0.7630165  0.0003590845  0.0003832285  0.0002846896\n",
       "4 roc_auc  0.6442821  0.0005006879  0.0002631356  0.0001172242"
      ]
     },
     "metadata": {},
     "output_type": "display_data"
    }
   ],
   "source": [
    "# durationF é o único que muda mais do que 0.001 numa das métricas, mesmo que piore o f1 é o melhor\n",
    "vars <- c(vars, \"tournament.durationF\")\n",
    "before <- durationF\n",
    "# now quarter\n",
    "\n",
    "quarter <- featuresFit(cformula(c(vars, \"tournament.quarter\")))$metrics\n",
    "quarterL1 <- featuresFit(cformula(c(vars, \"tournament.quarterL1\")))$metrics\n",
    "quarterL2 <- featuresFit(cformula(c(vars, \"tournament.quarterL2\")))$metrics\n",
    "# mmonth <- featuresFit(cformula(c(vars, \"tournament.month\")))$metrics # for some reason not working and I can't digure out why :(\n",
    "\n",
    "compare(before, list(quarter, quarterL1, quarterL2))"
   ]
  },
  {
   "cell_type": "code",
   "execution_count": null,
   "id": "fb85ee66",
   "metadata": {},
   "outputs": [
    {
     "name": "stdout",
     "output_type": "stream",
     "text": [
      "15.78 sec elapsed\n"
     ]
    },
    {
     "name": "stderr",
     "output_type": "stream",
     "text": [
      "Setting levels: control = 2, case = 3\n",
      "\n",
      "Setting direction: controls > cases\n",
      "\n"
     ]
    },
    {
     "name": "stdout",
     "output_type": "stream",
     "text": [
      "17.3 sec elapsed\n"
     ]
    },
    {
     "name": "stderr",
     "output_type": "stream",
     "text": [
      "Setting levels: control = 2, case = 3\n",
      "\n",
      "Setting direction: controls > cases\n",
      "\n"
     ]
    },
    {
     "data": {
      "text/html": [
       "<table class=\"dataframe\">\n",
       "<caption>A tibble: 4 × 4</caption>\n",
       "<thead>\n",
       "\t<tr><th scope=col>metric</th><th scope=col>before</th><th scope=col>model1</th><th scope=col>model2</th></tr>\n",
       "\t<tr><th scope=col>&lt;chr&gt;</th><th scope=col>&lt;dbl&gt;</th><th scope=col>&lt;dbl&gt;</th><th scope=col>&lt;dbl&gt;</th></tr>\n",
       "</thead>\n",
       "<tbody>\n",
       "\t<tr><td>accuracy</td><td>0.6789805</td><td>0.002029040</td><td>-0.00010189328</td></tr>\n",
       "\t<tr><td>f_meas  </td><td>0.7871033</td><td>0.001675178</td><td>-0.00004663057</td></tr>\n",
       "\t<tr><td>pr_auc  </td><td>0.7633011</td><td>0.002482923</td><td>-0.00009660253</td></tr>\n",
       "\t<tr><td>roc_auc </td><td>0.6443993</td><td>0.001422813</td><td>-0.00013134732</td></tr>\n",
       "</tbody>\n",
       "</table>\n"
      ],
      "text/latex": [
       "A tibble: 4 × 4\n",
       "\\begin{tabular}{llll}\n",
       " metric & before & model1 & model2\\\\\n",
       " <chr> & <dbl> & <dbl> & <dbl>\\\\\n",
       "\\hline\n",
       "\t accuracy & 0.6789805 & 0.002029040 & -0.00010189328\\\\\n",
       "\t f\\_meas   & 0.7871033 & 0.001675178 & -0.00004663057\\\\\n",
       "\t pr\\_auc   & 0.7633011 & 0.002482923 & -0.00009660253\\\\\n",
       "\t roc\\_auc  & 0.6443993 & 0.001422813 & -0.00013134732\\\\\n",
       "\\end{tabular}\n"
      ],
      "text/markdown": [
       "\n",
       "A tibble: 4 × 4\n",
       "\n",
       "| metric &lt;chr&gt; | before &lt;dbl&gt; | model1 &lt;dbl&gt; | model2 &lt;dbl&gt; |\n",
       "|---|---|---|---|\n",
       "| accuracy | 0.6789805 | 0.002029040 | -0.00010189328 |\n",
       "| f_meas   | 0.7871033 | 0.001675178 | -0.00004663057 |\n",
       "| pr_auc   | 0.7633011 | 0.002482923 | -0.00009660253 |\n",
       "| roc_auc  | 0.6443993 | 0.001422813 | -0.00013134732 |\n",
       "\n"
      ],
      "text/plain": [
       "  metric   before    model1      model2        \n",
       "1 accuracy 0.6789805 0.002029040 -0.00010189328\n",
       "2 f_meas   0.7871033 0.001675178 -0.00004663057\n",
       "3 pr_auc   0.7633011 0.002482923 -0.00009660253\n",
       "4 roc_auc  0.6443993 0.001422813 -0.00013134732"
      ]
     },
     "metadata": {},
     "output_type": "display_data"
    }
   ],
   "source": [
    "# quarterL2 é o melhor\n",
    "vars <- c(vars, \"tournament.quarterL2\")\n",
    "before <- quarterL2\n",
    "# now prize\n",
    "\n",
    "prize <- featuresFit(cformula(c(vars, \"tournament.prize\")))$metrics\n",
    "smallPrize <- featuresFit(cformula(c(vars, \"tournament.smallPrize\")))$metrics\n",
    "\n",
    "compare(before, list(prize, smallPrize))"
   ]
  },
  {
   "cell_type": "code",
   "execution_count": null,
   "id": "8a857c1f",
   "metadata": {},
   "outputs": [
    {
     "name": "stderr",
     "output_type": "stream",
     "text": [
      "mutate: new variable 'afterSum' (double) with 4 unique values and 0% NA\n",
      "\n",
      "        new variable 'after' (double) with 4 unique values and 0% NA\n",
      "\n",
      "select: renamed one variable (diff) and dropped one variable\n",
      "\n"
     ]
    },
    {
     "data": {
      "text/html": [
       "<table class=\"dataframe\">\n",
       "<caption>A tibble: 4 × 4</caption>\n",
       "<thead>\n",
       "\t<tr><th scope=col>metric</th><th scope=col>before</th><th scope=col>after</th><th scope=col>diff</th></tr>\n",
       "\t<tr><th scope=col>&lt;chr&gt;</th><th scope=col>&lt;dbl&gt;</th><th scope=col>&lt;dbl&gt;</th><th scope=col>&lt;dbl&gt;</th></tr>\n",
       "</thead>\n",
       "<tbody>\n",
       "\t<tr><td>accuracy</td><td>0.6765143</td><td>0.6810096</td><td>0.004495321</td></tr>\n",
       "\t<tr><td>f_meas  </td><td>0.7796199</td><td>0.7887784</td><td>0.009158514</td></tr>\n",
       "\t<tr><td>pr_auc  </td><td>0.7238419</td><td>0.7657841</td><td>0.041942149</td></tr>\n",
       "\t<tr><td>roc_auc </td><td>0.6125514</td><td>0.6458221</td><td>0.033270729</td></tr>\n",
       "</tbody>\n",
       "</table>\n"
      ],
      "text/latex": [
       "A tibble: 4 × 4\n",
       "\\begin{tabular}{llll}\n",
       " metric & before & after & diff\\\\\n",
       " <chr> & <dbl> & <dbl> & <dbl>\\\\\n",
       "\\hline\n",
       "\t accuracy & 0.6765143 & 0.6810096 & 0.004495321\\\\\n",
       "\t f\\_meas   & 0.7796199 & 0.7887784 & 0.009158514\\\\\n",
       "\t pr\\_auc   & 0.7238419 & 0.7657841 & 0.041942149\\\\\n",
       "\t roc\\_auc  & 0.6125514 & 0.6458221 & 0.033270729\\\\\n",
       "\\end{tabular}\n"
      ],
      "text/markdown": [
       "\n",
       "A tibble: 4 × 4\n",
       "\n",
       "| metric &lt;chr&gt; | before &lt;dbl&gt; | after &lt;dbl&gt; | diff &lt;dbl&gt; |\n",
       "|---|---|---|---|\n",
       "| accuracy | 0.6765143 | 0.6810096 | 0.004495321 |\n",
       "| f_meas   | 0.7796199 | 0.7887784 | 0.009158514 |\n",
       "| pr_auc   | 0.7238419 | 0.7657841 | 0.041942149 |\n",
       "| roc_auc  | 0.6125514 | 0.6458221 | 0.033270729 |\n",
       "\n"
      ],
      "text/plain": [
       "  metric   before    after     diff       \n",
       "1 accuracy 0.6765143 0.6810096 0.004495321\n",
       "2 f_meas   0.7796199 0.7887784 0.009158514\n",
       "3 pr_auc   0.7238419 0.7657841 0.041942149\n",
       "4 roc_auc  0.6125514 0.6458221 0.033270729"
      ]
     },
     "metadata": {},
     "output_type": "display_data"
    }
   ],
   "source": [
    "# prize é o melhor\n",
    "vars <- c(vars, \"tournament.prize\")\n",
    "before <- prize\n",
    "\n",
    "# we are done, now we compare with the first one\n",
    "compare(firstModel,list(before)) %>% mutate(afterSum = model1, after = before + model1)%>% select(metric, before, after, diff=afterSum)"
   ]
  },
  {
   "cell_type": "code",
   "execution_count": null,
   "id": "ee1a1b60",
   "metadata": {},
   "outputs": [
    {
     "name": "stdout",
     "output_type": "stream",
     "text": [
      "4.59 sec elapsed\n"
     ]
    },
    {
     "name": "stderr",
     "output_type": "stream",
     "text": [
      "Setting levels: control = 2, case = 3\n",
      "\n",
      "Setting direction: controls > cases\n",
      "\n"
     ]
    },
    {
     "name": "stdout",
     "output_type": "stream",
     "text": [
      "16.67 sec elapsed\n"
     ]
    },
    {
     "name": "stderr",
     "output_type": "stream",
     "text": [
      "Setting levels: control = 2, case = 3\n",
      "\n",
      "Setting direction: controls > cases\n",
      "\n"
     ]
    }
   ],
   "source": [
    "first <- featuresFit(cformula(firstVars))\n",
    "last  <- featuresFit(cformula(vars))"
   ]
  },
  {
   "cell_type": "code",
   "execution_count": null,
   "id": "636a568e",
   "metadata": {},
   "outputs": [
    {
     "name": "stderr",
     "output_type": "stream",
     "text": [
      "\u001b[1m\u001b[22mScale for \u001b[32mx\u001b[39m is already present.\n",
      "Adding another scale for \u001b[32mx\u001b[39m, which will replace the existing scale.\n"
     ]
    },
    {
     "data": {
      "image/png": "[encoded data removed]",
      "text/plain": [
       "plot without title"
      ]
     },
     "metadata": {
      "image/png": {
       "height": 420,
       "width": 420
      }
     },
     "output_type": "display_data"
    }
   ],
   "source": [
    "# e a curva roc\n",
    "library(pROC)\n",
    "roc1 <- first$roc\n",
    "roc2 <- last$roc\n",
    "\n",
    "tibble(\n",
    "    roc1_spec = roc1$specificities, \n",
    "    roc2_spec = roc2$specificities, \n",
    "    roc1_sens = roc1$sensitivities, \n",
    "    roc2_sens = roc2$sensitivities\n",
    ") -> rocs\n",
    "ggplot(data = rocs) + \n",
    "  geom_line(aes(x = roc1_spec, y = roc1_sens, color = \"blue\"), linetype = 1, size = 2) +\n",
    "  geom_line(aes(x = roc2_spec, y = roc2_sens, color = \"red\"), linetype = 1, size = 1) +\n",
    "  geom_abline(intercept = 1, slope = 1, linetype = \"dashed\", color = \"black\") +  # Add the 0.5 line\n",
    "  labs(x = \"Specificity\", y = \"Sensitivity\") +\n",
    "  scale_x_continuous(limits = c(0, 1), breaks = seq(0, 1, 0.1)) +\n",
    "  scale_y_continuous(limits = c(0, 1), breaks = seq(0, 1, 0.1)) +\n",
    "  scale_x_reverse() + \n",
    "  theme_minimal() +\n",
    "  theme(\n",
    "    axis.title = element_text(size = 12),\n",
    "    axis.text = element_text(size = 10)\n",
    "  )# + \n",
    "  #scale_fill_discrete(labels = c(\"ROC antes\", \"ROC depois\"))\n",
    "ggsave(here(\"relatorio\", \"curvas_roc.png\"), width=10,height = 10)"
   ]
  },
  {
   "cell_type": "code",
   "execution_count": null,
   "id": "8c9d5783-665b-42bc-97cb-594cb19c25b6",
   "metadata": {},
   "outputs": [
    {
     "data": {
      "text/html": [
       "<table class=\"dataframe\">\n",
       "<caption>A tibble: 76472 × 4</caption>\n",
       "<thead>\n",
       "\t<tr><th scope=col>roc1_spec</th><th scope=col>roc2_spec</th><th scope=col>roc1_sens</th><th scope=col>roc2_sens</th></tr>\n",
       "\t<tr><th scope=col>&lt;dbl&gt;</th><th scope=col>&lt;dbl&gt;</th><th scope=col>&lt;dbl&gt;</th><th scope=col>&lt;dbl&gt;</th></tr>\n",
       "</thead>\n",
       "<tbody>\n",
       "\t<tr><td>0.00000000000</td><td>0.00000000000</td><td>1.0000000</td><td>1.0000000</td></tr>\n",
       "\t<tr><td>0.00001691761</td><td>0.00001691761</td><td>1.0000000</td><td>1.0000000</td></tr>\n",
       "\t<tr><td>0.00003383522</td><td>0.00003383522</td><td>1.0000000</td><td>1.0000000</td></tr>\n",
       "\t<tr><td>0.00005075283</td><td>0.00005075283</td><td>1.0000000</td><td>1.0000000</td></tr>\n",
       "\t<tr><td>0.00005075283</td><td>0.00005075283</td><td>0.9999672</td><td>0.9999672</td></tr>\n",
       "\t<tr><td>0.00005075283</td><td>0.00005075283</td><td>0.9999345</td><td>0.9999345</td></tr>\n",
       "\t<tr><td>0.00006767044</td><td>0.00006767044</td><td>0.9999345</td><td>0.9999345</td></tr>\n",
       "\t<tr><td>0.00006767044</td><td>0.00006767044</td><td>0.9999017</td><td>0.9999017</td></tr>\n",
       "\t<tr><td>0.00008458806</td><td>0.00008458806</td><td>0.9999017</td><td>0.9999017</td></tr>\n",
       "\t<tr><td>0.00008458806</td><td>0.00008458806</td><td>0.9998689</td><td>0.9998689</td></tr>\n",
       "\t<tr><td>0.00008458806</td><td>0.00008458806</td><td>0.9998362</td><td>0.9998362</td></tr>\n",
       "\t<tr><td>0.00010150567</td><td>0.00010150567</td><td>0.9998362</td><td>0.9998362</td></tr>\n",
       "\t<tr><td>0.00011842328</td><td>0.00011842328</td><td>0.9998362</td><td>0.9998362</td></tr>\n",
       "\t<tr><td>0.00011842328</td><td>0.00011842328</td><td>0.9998034</td><td>0.9998034</td></tr>\n",
       "\t<tr><td>0.00011842328</td><td>0.00011842328</td><td>0.9997706</td><td>0.9997706</td></tr>\n",
       "\t<tr><td>0.00011842328</td><td>0.00011842328</td><td>0.9997379</td><td>0.9997379</td></tr>\n",
       "\t<tr><td>0.00011842328</td><td>0.00011842328</td><td>0.9997051</td><td>0.9997051</td></tr>\n",
       "\t<tr><td>0.00011842328</td><td>0.00011842328</td><td>0.9996723</td><td>0.9996723</td></tr>\n",
       "\t<tr><td>0.00013534089</td><td>0.00013534089</td><td>0.9996723</td><td>0.9996723</td></tr>\n",
       "\t<tr><td>0.00015225850</td><td>0.00015225850</td><td>0.9996723</td><td>0.9996723</td></tr>\n",
       "\t<tr><td>0.00015225850</td><td>0.00015225850</td><td>0.9996396</td><td>0.9996396</td></tr>\n",
       "\t<tr><td>0.00015225850</td><td>0.00015225850</td><td>0.9996068</td><td>0.9996068</td></tr>\n",
       "\t<tr><td>0.00016917611</td><td>0.00016917611</td><td>0.9996068</td><td>0.9996068</td></tr>\n",
       "\t<tr><td>0.00016917611</td><td>0.00016917611</td><td>0.9995740</td><td>0.9995740</td></tr>\n",
       "\t<tr><td>0.00016917611</td><td>0.00016917611</td><td>0.9995413</td><td>0.9995413</td></tr>\n",
       "\t<tr><td>0.00018609372</td><td>0.00018609372</td><td>0.9995413</td><td>0.9995413</td></tr>\n",
       "\t<tr><td>0.00020301133</td><td>0.00020301133</td><td>0.9995413</td><td>0.9995413</td></tr>\n",
       "\t<tr><td>0.00021992895</td><td>0.00021992895</td><td>0.9995413</td><td>0.9995413</td></tr>\n",
       "\t<tr><td>0.00021992895</td><td>0.00021992895</td><td>0.9995085</td><td>0.9995085</td></tr>\n",
       "\t<tr><td>0.00023684656</td><td>0.00023684656</td><td>0.9995085</td><td>0.9995085</td></tr>\n",
       "\t<tr><td>⋮</td><td>⋮</td><td>⋮</td><td>⋮</td></tr>\n",
       "\t<tr><td>0.9997632</td><td>0.9997632</td><td>0.0010484928</td><td>0.0010484928</td></tr>\n",
       "\t<tr><td>0.9997632</td><td>0.9997632</td><td>0.0009829620</td><td>0.0009829620</td></tr>\n",
       "\t<tr><td>0.9997801</td><td>0.9997801</td><td>0.0009829620</td><td>0.0009829620</td></tr>\n",
       "\t<tr><td>0.9997970</td><td>0.9997970</td><td>0.0009829620</td><td>0.0009829620</td></tr>\n",
       "\t<tr><td>0.9998139</td><td>0.9998139</td><td>0.0009829620</td><td>0.0009829620</td></tr>\n",
       "\t<tr><td>0.9998308</td><td>0.9998308</td><td>0.0009829620</td><td>0.0009829620</td></tr>\n",
       "\t<tr><td>0.9998477</td><td>0.9998477</td><td>0.0009829620</td><td>0.0009829620</td></tr>\n",
       "\t<tr><td>0.9998477</td><td>0.9998477</td><td>0.0009501966</td><td>0.0009501966</td></tr>\n",
       "\t<tr><td>0.9998477</td><td>0.9998477</td><td>0.0009174312</td><td>0.0009174312</td></tr>\n",
       "\t<tr><td>0.9998647</td><td>0.9998647</td><td>0.0009174312</td><td>0.0009174312</td></tr>\n",
       "\t<tr><td>0.9998816</td><td>0.9998816</td><td>0.0009174312</td><td>0.0009174312</td></tr>\n",
       "\t<tr><td>0.9998985</td><td>0.9998985</td><td>0.0009174312</td><td>0.0009174312</td></tr>\n",
       "\t<tr><td>0.9998985</td><td>0.9998985</td><td>0.0008846658</td><td>0.0008846658</td></tr>\n",
       "\t<tr><td>0.9999154</td><td>0.9999154</td><td>0.0008846658</td><td>0.0008846658</td></tr>\n",
       "\t<tr><td>0.9999323</td><td>0.9999323</td><td>0.0008846658</td><td>0.0008846658</td></tr>\n",
       "\t<tr><td>0.9999323</td><td>0.9999323</td><td>0.0008519004</td><td>0.0008519004</td></tr>\n",
       "\t<tr><td>0.9999492</td><td>0.9999492</td><td>0.0008519004</td><td>0.0008519004</td></tr>\n",
       "\t<tr><td>0.9999662</td><td>0.9999662</td><td>0.0008519004</td><td>0.0008519004</td></tr>\n",
       "\t<tr><td>0.9999662</td><td>0.9999662</td><td>0.0008191350</td><td>0.0008191350</td></tr>\n",
       "\t<tr><td>0.9999662</td><td>0.9999662</td><td>0.0007863696</td><td>0.0007863696</td></tr>\n",
       "\t<tr><td>0.9999662</td><td>0.9999662</td><td>0.0007536042</td><td>0.0007536042</td></tr>\n",
       "\t<tr><td>0.9999831</td><td>0.9999831</td><td>0.0007536042</td><td>0.0007536042</td></tr>\n",
       "\t<tr><td>0.9999831</td><td>0.9999831</td><td>0.0007208388</td><td>0.0007208388</td></tr>\n",
       "\t<tr><td>1.0000000</td><td>1.0000000</td><td>0.0007208388</td><td>0.0007208388</td></tr>\n",
       "\t<tr><td>1.0000000</td><td>1.0000000</td><td>0.0006880734</td><td>0.0006880734</td></tr>\n",
       "\t<tr><td>1.0000000</td><td>1.0000000</td><td>0.0006553080</td><td>0.0006553080</td></tr>\n",
       "\t<tr><td>1.0000000</td><td>1.0000000</td><td>0.0005570118</td><td>0.0005570118</td></tr>\n",
       "\t<tr><td>1.0000000</td><td>1.0000000</td><td>0.0004914810</td><td>0.0004914810</td></tr>\n",
       "\t<tr><td>1.0000000</td><td>1.0000000</td><td>0.0001965924</td><td>0.0001965924</td></tr>\n",
       "\t<tr><td>1.0000000</td><td>1.0000000</td><td>0.0000000000</td><td>0.0000000000</td></tr>\n",
       "</tbody>\n",
       "</table>\n"
      ],
      "text/latex": [
       "A tibble: 76472 × 4\n",
       "\\begin{tabular}{llll}\n",
       " roc1\\_spec & roc2\\_spec & roc1\\_sens & roc2\\_sens\\\\\n",
       " <dbl> & <dbl> & <dbl> & <dbl>\\\\\n",
       "\\hline\n",
       "\t 0.00000000000 & 0.00000000000 & 1.0000000 & 1.0000000\\\\\n",
       "\t 0.00001691761 & 0.00001691761 & 1.0000000 & 1.0000000\\\\\n",
       "\t 0.00003383522 & 0.00003383522 & 1.0000000 & 1.0000000\\\\\n",
       "\t 0.00005075283 & 0.00005075283 & 1.0000000 & 1.0000000\\\\\n",
       "\t 0.00005075283 & 0.00005075283 & 0.9999672 & 0.9999672\\\\\n",
       "\t 0.00005075283 & 0.00005075283 & 0.9999345 & 0.9999345\\\\\n",
       "\t 0.00006767044 & 0.00006767044 & 0.9999345 & 0.9999345\\\\\n",
       "\t 0.00006767044 & 0.00006767044 & 0.9999017 & 0.9999017\\\\\n",
       "\t 0.00008458806 & 0.00008458806 & 0.9999017 & 0.9999017\\\\\n",
       "\t 0.00008458806 & 0.00008458806 & 0.9998689 & 0.9998689\\\\\n",
       "\t 0.00008458806 & 0.00008458806 & 0.9998362 & 0.9998362\\\\\n",
       "\t 0.00010150567 & 0.00010150567 & 0.9998362 & 0.9998362\\\\\n",
       "\t 0.00011842328 & 0.00011842328 & 0.9998362 & 0.9998362\\\\\n",
       "\t 0.00011842328 & 0.00011842328 & 0.9998034 & 0.9998034\\\\\n",
       "\t 0.00011842328 & 0.00011842328 & 0.9997706 & 0.9997706\\\\\n",
       "\t 0.00011842328 & 0.00011842328 & 0.9997379 & 0.9997379\\\\\n",
       "\t 0.00011842328 & 0.00011842328 & 0.9997051 & 0.9997051\\\\\n",
       "\t 0.00011842328 & 0.00011842328 & 0.9996723 & 0.9996723\\\\\n",
       "\t 0.00013534089 & 0.00013534089 & 0.9996723 & 0.9996723\\\\\n",
       "\t 0.00015225850 & 0.00015225850 & 0.9996723 & 0.9996723\\\\\n",
       "\t 0.00015225850 & 0.00015225850 & 0.9996396 & 0.9996396\\\\\n",
       "\t 0.00015225850 & 0.00015225850 & 0.9996068 & 0.9996068\\\\\n",
       "\t 0.00016917611 & 0.00016917611 & 0.9996068 & 0.9996068\\\\\n",
       "\t 0.00016917611 & 0.00016917611 & 0.9995740 & 0.9995740\\\\\n",
       "\t 0.00016917611 & 0.00016917611 & 0.9995413 & 0.9995413\\\\\n",
       "\t 0.00018609372 & 0.00018609372 & 0.9995413 & 0.9995413\\\\\n",
       "\t 0.00020301133 & 0.00020301133 & 0.9995413 & 0.9995413\\\\\n",
       "\t 0.00021992895 & 0.00021992895 & 0.9995413 & 0.9995413\\\\\n",
       "\t 0.00021992895 & 0.00021992895 & 0.9995085 & 0.9995085\\\\\n",
       "\t 0.00023684656 & 0.00023684656 & 0.9995085 & 0.9995085\\\\\n",
       "\t ⋮ & ⋮ & ⋮ & ⋮\\\\\n",
       "\t 0.9997632 & 0.9997632 & 0.0010484928 & 0.0010484928\\\\\n",
       "\t 0.9997632 & 0.9997632 & 0.0009829620 & 0.0009829620\\\\\n",
       "\t 0.9997801 & 0.9997801 & 0.0009829620 & 0.0009829620\\\\\n",
       "\t 0.9997970 & 0.9997970 & 0.0009829620 & 0.0009829620\\\\\n",
       "\t 0.9998139 & 0.9998139 & 0.0009829620 & 0.0009829620\\\\\n",
       "\t 0.9998308 & 0.9998308 & 0.0009829620 & 0.0009829620\\\\\n",
       "\t 0.9998477 & 0.9998477 & 0.0009829620 & 0.0009829620\\\\\n",
       "\t 0.9998477 & 0.9998477 & 0.0009501966 & 0.0009501966\\\\\n",
       "\t 0.9998477 & 0.9998477 & 0.0009174312 & 0.0009174312\\\\\n",
       "\t 0.9998647 & 0.9998647 & 0.0009174312 & 0.0009174312\\\\\n",
       "\t 0.9998816 & 0.9998816 & 0.0009174312 & 0.0009174312\\\\\n",
       "\t 0.9998985 & 0.9998985 & 0.0009174312 & 0.0009174312\\\\\n",
       "\t 0.9998985 & 0.9998985 & 0.0008846658 & 0.0008846658\\\\\n",
       "\t 0.9999154 & 0.9999154 & 0.0008846658 & 0.0008846658\\\\\n",
       "\t 0.9999323 & 0.9999323 & 0.0008846658 & 0.0008846658\\\\\n",
       "\t 0.9999323 & 0.9999323 & 0.0008519004 & 0.0008519004\\\\\n",
       "\t 0.9999492 & 0.9999492 & 0.0008519004 & 0.0008519004\\\\\n",
       "\t 0.9999662 & 0.9999662 & 0.0008519004 & 0.0008519004\\\\\n",
       "\t 0.9999662 & 0.9999662 & 0.0008191350 & 0.0008191350\\\\\n",
       "\t 0.9999662 & 0.9999662 & 0.0007863696 & 0.0007863696\\\\\n",
       "\t 0.9999662 & 0.9999662 & 0.0007536042 & 0.0007536042\\\\\n",
       "\t 0.9999831 & 0.9999831 & 0.0007536042 & 0.0007536042\\\\\n",
       "\t 0.9999831 & 0.9999831 & 0.0007208388 & 0.0007208388\\\\\n",
       "\t 1.0000000 & 1.0000000 & 0.0007208388 & 0.0007208388\\\\\n",
       "\t 1.0000000 & 1.0000000 & 0.0006880734 & 0.0006880734\\\\\n",
       "\t 1.0000000 & 1.0000000 & 0.0006553080 & 0.0006553080\\\\\n",
       "\t 1.0000000 & 1.0000000 & 0.0005570118 & 0.0005570118\\\\\n",
       "\t 1.0000000 & 1.0000000 & 0.0004914810 & 0.0004914810\\\\\n",
       "\t 1.0000000 & 1.0000000 & 0.0001965924 & 0.0001965924\\\\\n",
       "\t 1.0000000 & 1.0000000 & 0.0000000000 & 0.0000000000\\\\\n",
       "\\end{tabular}\n"
      ],
      "text/markdown": [
       "\n",
       "A tibble: 76472 × 4\n",
       "\n",
       "| roc1_spec &lt;dbl&gt; | roc2_spec &lt;dbl&gt; | roc1_sens &lt;dbl&gt; | roc2_sens &lt;dbl&gt; |\n",
       "|---|---|---|---|\n",
       "| 0.00000000000 | 0.00000000000 | 1.0000000 | 1.0000000 |\n",
       "| 0.00001691761 | 0.00001691761 | 1.0000000 | 1.0000000 |\n",
       "| 0.00003383522 | 0.00003383522 | 1.0000000 | 1.0000000 |\n",
       "| 0.00005075283 | 0.00005075283 | 1.0000000 | 1.0000000 |\n",
       "| 0.00005075283 | 0.00005075283 | 0.9999672 | 0.9999672 |\n",
       "| 0.00005075283 | 0.00005075283 | 0.9999345 | 0.9999345 |\n",
       "| 0.00006767044 | 0.00006767044 | 0.9999345 | 0.9999345 |\n",
       "| 0.00006767044 | 0.00006767044 | 0.9999017 | 0.9999017 |\n",
       "| 0.00008458806 | 0.00008458806 | 0.9999017 | 0.9999017 |\n",
       "| 0.00008458806 | 0.00008458806 | 0.9998689 | 0.9998689 |\n",
       "| 0.00008458806 | 0.00008458806 | 0.9998362 | 0.9998362 |\n",
       "| 0.00010150567 | 0.00010150567 | 0.9998362 | 0.9998362 |\n",
       "| 0.00011842328 | 0.00011842328 | 0.9998362 | 0.9998362 |\n",
       "| 0.00011842328 | 0.00011842328 | 0.9998034 | 0.9998034 |\n",
       "| 0.00011842328 | 0.00011842328 | 0.9997706 | 0.9997706 |\n",
       "| 0.00011842328 | 0.00011842328 | 0.9997379 | 0.9997379 |\n",
       "| 0.00011842328 | 0.00011842328 | 0.9997051 | 0.9997051 |\n",
       "| 0.00011842328 | 0.00011842328 | 0.9996723 | 0.9996723 |\n",
       "| 0.00013534089 | 0.00013534089 | 0.9996723 | 0.9996723 |\n",
       "| 0.00015225850 | 0.00015225850 | 0.9996723 | 0.9996723 |\n",
       "| 0.00015225850 | 0.00015225850 | 0.9996396 | 0.9996396 |\n",
       "| 0.00015225850 | 0.00015225850 | 0.9996068 | 0.9996068 |\n",
       "| 0.00016917611 | 0.00016917611 | 0.9996068 | 0.9996068 |\n",
       "| 0.00016917611 | 0.00016917611 | 0.9995740 | 0.9995740 |\n",
       "| 0.00016917611 | 0.00016917611 | 0.9995413 | 0.9995413 |\n",
       "| 0.00018609372 | 0.00018609372 | 0.9995413 | 0.9995413 |\n",
       "| 0.00020301133 | 0.00020301133 | 0.9995413 | 0.9995413 |\n",
       "| 0.00021992895 | 0.00021992895 | 0.9995413 | 0.9995413 |\n",
       "| 0.00021992895 | 0.00021992895 | 0.9995085 | 0.9995085 |\n",
       "| 0.00023684656 | 0.00023684656 | 0.9995085 | 0.9995085 |\n",
       "| ⋮ | ⋮ | ⋮ | ⋮ |\n",
       "| 0.9997632 | 0.9997632 | 0.0010484928 | 0.0010484928 |\n",
       "| 0.9997632 | 0.9997632 | 0.0009829620 | 0.0009829620 |\n",
       "| 0.9997801 | 0.9997801 | 0.0009829620 | 0.0009829620 |\n",
       "| 0.9997970 | 0.9997970 | 0.0009829620 | 0.0009829620 |\n",
       "| 0.9998139 | 0.9998139 | 0.0009829620 | 0.0009829620 |\n",
       "| 0.9998308 | 0.9998308 | 0.0009829620 | 0.0009829620 |\n",
       "| 0.9998477 | 0.9998477 | 0.0009829620 | 0.0009829620 |\n",
       "| 0.9998477 | 0.9998477 | 0.0009501966 | 0.0009501966 |\n",
       "| 0.9998477 | 0.9998477 | 0.0009174312 | 0.0009174312 |\n",
       "| 0.9998647 | 0.9998647 | 0.0009174312 | 0.0009174312 |\n",
       "| 0.9998816 | 0.9998816 | 0.0009174312 | 0.0009174312 |\n",
       "| 0.9998985 | 0.9998985 | 0.0009174312 | 0.0009174312 |\n",
       "| 0.9998985 | 0.9998985 | 0.0008846658 | 0.0008846658 |\n",
       "| 0.9999154 | 0.9999154 | 0.0008846658 | 0.0008846658 |\n",
       "| 0.9999323 | 0.9999323 | 0.0008846658 | 0.0008846658 |\n",
       "| 0.9999323 | 0.9999323 | 0.0008519004 | 0.0008519004 |\n",
       "| 0.9999492 | 0.9999492 | 0.0008519004 | 0.0008519004 |\n",
       "| 0.9999662 | 0.9999662 | 0.0008519004 | 0.0008519004 |\n",
       "| 0.9999662 | 0.9999662 | 0.0008191350 | 0.0008191350 |\n",
       "| 0.9999662 | 0.9999662 | 0.0007863696 | 0.0007863696 |\n",
       "| 0.9999662 | 0.9999662 | 0.0007536042 | 0.0007536042 |\n",
       "| 0.9999831 | 0.9999831 | 0.0007536042 | 0.0007536042 |\n",
       "| 0.9999831 | 0.9999831 | 0.0007208388 | 0.0007208388 |\n",
       "| 1.0000000 | 1.0000000 | 0.0007208388 | 0.0007208388 |\n",
       "| 1.0000000 | 1.0000000 | 0.0006880734 | 0.0006880734 |\n",
       "| 1.0000000 | 1.0000000 | 0.0006553080 | 0.0006553080 |\n",
       "| 1.0000000 | 1.0000000 | 0.0005570118 | 0.0005570118 |\n",
       "| 1.0000000 | 1.0000000 | 0.0004914810 | 0.0004914810 |\n",
       "| 1.0000000 | 1.0000000 | 0.0001965924 | 0.0001965924 |\n",
       "| 1.0000000 | 1.0000000 | 0.0000000000 | 0.0000000000 |\n",
       "\n"
      ],
      "text/plain": [
       "      roc1_spec     roc2_spec     roc1_sens    roc2_sens   \n",
       "1     0.00000000000 0.00000000000 1.0000000    1.0000000   \n",
       "2     0.00001691761 0.00001691761 1.0000000    1.0000000   \n",
       "3     0.00003383522 0.00003383522 1.0000000    1.0000000   \n",
       "4     0.00005075283 0.00005075283 1.0000000    1.0000000   \n",
       "5     0.00005075283 0.00005075283 0.9999672    0.9999672   \n",
       "6     0.00005075283 0.00005075283 0.9999345    0.9999345   \n",
       "7     0.00006767044 0.00006767044 0.9999345    0.9999345   \n",
       "8     0.00006767044 0.00006767044 0.9999017    0.9999017   \n",
       "9     0.00008458806 0.00008458806 0.9999017    0.9999017   \n",
       "10    0.00008458806 0.00008458806 0.9998689    0.9998689   \n",
       "11    0.00008458806 0.00008458806 0.9998362    0.9998362   \n",
       "12    0.00010150567 0.00010150567 0.9998362    0.9998362   \n",
       "13    0.00011842328 0.00011842328 0.9998362    0.9998362   \n",
       "14    0.00011842328 0.00011842328 0.9998034    0.9998034   \n",
       "15    0.00011842328 0.00011842328 0.9997706    0.9997706   \n",
       "16    0.00011842328 0.00011842328 0.9997379    0.9997379   \n",
       "17    0.00011842328 0.00011842328 0.9997051    0.9997051   \n",
       "18    0.00011842328 0.00011842328 0.9996723    0.9996723   \n",
       "19    0.00013534089 0.00013534089 0.9996723    0.9996723   \n",
       "20    0.00015225850 0.00015225850 0.9996723    0.9996723   \n",
       "21    0.00015225850 0.00015225850 0.9996396    0.9996396   \n",
       "22    0.00015225850 0.00015225850 0.9996068    0.9996068   \n",
       "23    0.00016917611 0.00016917611 0.9996068    0.9996068   \n",
       "24    0.00016917611 0.00016917611 0.9995740    0.9995740   \n",
       "25    0.00016917611 0.00016917611 0.9995413    0.9995413   \n",
       "26    0.00018609372 0.00018609372 0.9995413    0.9995413   \n",
       "27    0.00020301133 0.00020301133 0.9995413    0.9995413   \n",
       "28    0.00021992895 0.00021992895 0.9995413    0.9995413   \n",
       "29    0.00021992895 0.00021992895 0.9995085    0.9995085   \n",
       "30    0.00023684656 0.00023684656 0.9995085    0.9995085   \n",
       "⋮     ⋮             ⋮             ⋮            ⋮           \n",
       "76443 0.9997632     0.9997632     0.0010484928 0.0010484928\n",
       "76444 0.9997632     0.9997632     0.0009829620 0.0009829620\n",
       "76445 0.9997801     0.9997801     0.0009829620 0.0009829620\n",
       "76446 0.9997970     0.9997970     0.0009829620 0.0009829620\n",
       "76447 0.9998139     0.9998139     0.0009829620 0.0009829620\n",
       "76448 0.9998308     0.9998308     0.0009829620 0.0009829620\n",
       "76449 0.9998477     0.9998477     0.0009829620 0.0009829620\n",
       "76450 0.9998477     0.9998477     0.0009501966 0.0009501966\n",
       "76451 0.9998477     0.9998477     0.0009174312 0.0009174312\n",
       "76452 0.9998647     0.9998647     0.0009174312 0.0009174312\n",
       "76453 0.9998816     0.9998816     0.0009174312 0.0009174312\n",
       "76454 0.9998985     0.9998985     0.0009174312 0.0009174312\n",
       "76455 0.9998985     0.9998985     0.0008846658 0.0008846658\n",
       "76456 0.9999154     0.9999154     0.0008846658 0.0008846658\n",
       "76457 0.9999323     0.9999323     0.0008846658 0.0008846658\n",
       "76458 0.9999323     0.9999323     0.0008519004 0.0008519004\n",
       "76459 0.9999492     0.9999492     0.0008519004 0.0008519004\n",
       "76460 0.9999662     0.9999662     0.0008519004 0.0008519004\n",
       "76461 0.9999662     0.9999662     0.0008191350 0.0008191350\n",
       "76462 0.9999662     0.9999662     0.0007863696 0.0007863696\n",
       "76463 0.9999662     0.9999662     0.0007536042 0.0007536042\n",
       "76464 0.9999831     0.9999831     0.0007536042 0.0007536042\n",
       "76465 0.9999831     0.9999831     0.0007208388 0.0007208388\n",
       "76466 1.0000000     1.0000000     0.0007208388 0.0007208388\n",
       "76467 1.0000000     1.0000000     0.0006880734 0.0006880734\n",
       "76468 1.0000000     1.0000000     0.0006553080 0.0006553080\n",
       "76469 1.0000000     1.0000000     0.0005570118 0.0005570118\n",
       "76470 1.0000000     1.0000000     0.0004914810 0.0004914810\n",
       "76471 1.0000000     1.0000000     0.0001965924 0.0001965924\n",
       "76472 1.0000000     1.0000000     0.0000000000 0.0000000000"
      ]
     },
     "metadata": {},
     "output_type": "display_data"
    }
   ],
   "source": [
    "rocs"
   ]
  },
  {
   "cell_type": "code",
   "execution_count": null,
   "id": "21b66978-af6c-42d1-9802-9600d715d6ff",
   "metadata": {},
   "outputs": [
    {
     "name": "stderr",
     "output_type": "stream",
     "text": [
      "mutate: new variable 'diff' (logical) with one unique value and 0% NA\n",
      "\n",
      "filter: removed all rows (100%)\n",
      "\n"
     ]
    },
    {
     "data": {
      "text/html": [
       "<table class=\"dataframe\">\n",
       "<caption>A tibble: 0 × 5</caption>\n",
       "<thead>\n",
       "\t<tr><th scope=col>roc1_spec</th><th scope=col>roc2_spec</th><th scope=col>roc1_sens</th><th scope=col>roc2_sens</th><th scope=col>diff</th></tr>\n",
       "\t<tr><th scope=col>&lt;dbl&gt;</th><th scope=col>&lt;dbl&gt;</th><th scope=col>&lt;dbl&gt;</th><th scope=col>&lt;dbl&gt;</th><th scope=col>&lt;lgl&gt;</th></tr>\n",
       "</thead>\n",
       "<tbody>\n",
       "</tbody>\n",
       "</table>\n"
      ],
      "text/latex": [
       "A tibble: 0 × 5\n",
       "\\begin{tabular}{lllll}\n",
       " roc1\\_spec & roc2\\_spec & roc1\\_sens & roc2\\_sens & diff\\\\\n",
       " <dbl> & <dbl> & <dbl> & <dbl> & <lgl>\\\\\n",
       "\\hline\n",
       "\\end{tabular}\n"
      ],
      "text/markdown": [
       "\n",
       "A tibble: 0 × 5\n",
       "\n",
       "| roc1_spec &lt;dbl&gt; | roc2_spec &lt;dbl&gt; | roc1_sens &lt;dbl&gt; | roc2_sens &lt;dbl&gt; | diff &lt;lgl&gt; |\n",
       "|---|---|---|---|---|\n",
       "\n"
      ],
      "text/plain": [
       "     roc1_spec roc2_spec roc1_sens roc2_sens diff"
      ]
     },
     "metadata": {},
     "output_type": "display_data"
    }
   ],
   "source": [
    "rocs %>% \n",
    "    mutate(diff = roc1_spec != roc2_spec | roc1_sens != roc2_sens) %>% filter(diff)"
   ]
  },
  {
   "cell_type": "code",
   "execution_count": null,
   "id": "a4ec4acc",
   "metadata": {},
   "outputs": [],
   "source": [
    "# final vars explicitly\n",
    "vars <- c(\n",
    "    \"winner.lastTournamentDelayW\",\n",
    "    \"looser.lastTournamentDelayW\",\n",
    "    \"match.domHands\",\n",
    "    \"match.tournamentRound\",\n",
    "    \"match.hadTieBreaker\", \n",
    "    \"tournament.dateDistance\",\n",
    "    \"match.diffRank\",\n",
    "    \"winner.bornAt\",\n",
    "    \"looser.bornAt\",\n",
    "    \"winner.heightF\",\n",
    "    \"looser.heightF\",\n",
    "    \"winner.winrate\",\n",
    "    \"looser.winrate\",\n",
    "    \"winner.njogos\",\n",
    "    \"looser.njogos\",\n",
    "    \"winner.nTournament\",\n",
    "    \"looser.nTournament\",\n",
    "    \"match.backHands\",\n",
    "    \"tournament.durationF\",\n",
    "    \"tournament.quarterL2\",\n",
    "    \"tournament.prize\"\n",
    ")"
   ]
  },
  {
   "cell_type": "code",
   "execution_count": null,
   "id": "aabcec03-64cf-4054-b9a8-1fc2f61a7956",
   "metadata": {},
   "outputs": [
    {
     "name": "stdout",
     "output_type": "stream",
     "text": [
      "\u001b[90m# A tibble: 76 × 3\u001b[39m\n",
      "   Variable                                               Importance Sign \n",
      "   \u001b[3m\u001b[90m<chr>\u001b[39m\u001b[23m                                                       \u001b[3m\u001b[90m<dbl>\u001b[39m\u001b[23m \u001b[3m\u001b[90m<chr>\u001b[39m\u001b[23m\n",
      "\u001b[90m 1\u001b[39m match.hadTieBreakerTRUE                                   27.1    POS  \n",
      "\u001b[90m 2\u001b[39m match.diffRank                                             9.17   POS  \n",
      "\u001b[90m 3\u001b[39m winner.winrate                                             6.56   NEG  \n",
      "\u001b[90m 4\u001b[39m looser.winrate                                             4.74   POS  \n",
      "\u001b[90m 5\u001b[39m looser.njogos                                              3.86   POS  \n",
      "\u001b[90m 6\u001b[39m tournament.quarterL24                                      3.62   NEG  \n",
      "\u001b[90m 7\u001b[39m tournament.dateDistance                                    3.21   POS  \n",
      "\u001b[90m 8\u001b[39m tournament.durationF5                                      2.66   NEG  \n",
      "\u001b[90m 9\u001b[39m tournament.durationF6                                      2.58   NEG  \n",
      "\u001b[90m10\u001b[39m winner.bornAtUSA                                           2.54   NEG  \n",
      "\u001b[90m11\u001b[39m winner.heightF173                                          2.27   NEG  \n",
      "\u001b[90m12\u001b[39m match.domHandsRight-Handed_Right-Handed                    2.07   POS  \n",
      "\u001b[90m13\u001b[39m winner.heightF203                                          1.75   NEG  \n",
      "\u001b[90m14\u001b[39m match.backHandsOne-Handed Backhand_Two-Handed Backhand     1.69   POS  \n",
      "\u001b[90m15\u001b[39m tournament.prize                                           1.66   POS  \n",
      "\u001b[90m16\u001b[39m winner.lastTournamentDelayW                                1.64   POS  \n",
      "\u001b[90m17\u001b[39m match.domHandsLeft-Handed_Right-Handed                     1.57   POS  \n",
      "\u001b[90m18\u001b[39m match.backHandsTwo-Handed Backhand_Unknown Backhand        1.55   POS  \n",
      "\u001b[90m19\u001b[39m tournament.durationF13                                     1.48   NEG  \n",
      "\u001b[90m20\u001b[39m looser.heightF211                                          1.44   POS  \n",
      "\u001b[90m21\u001b[39m winner.bornAtOther                                         1.43   POS  \n",
      "\u001b[90m22\u001b[39m match.domHandsRight-Handed_Left-Handed                     1.41   POS  \n",
      "\u001b[90m23\u001b[39m match.tournamentRoundRound Robin                           1.38   NEG  \n",
      "\u001b[90m24\u001b[39m match.backHandsUnknown Backhand_One-Handed Backhand        1.27   POS  \n",
      "\u001b[90m25\u001b[39m winner.heightF188                                          1.24   NEG  \n",
      "\u001b[90m26\u001b[39m winner.heightF198                                          1.17   NEG  \n",
      "\u001b[90m27\u001b[39m winner.heightF183                                          1.12   NEG  \n",
      "\u001b[90m28\u001b[39m winner.heightF178                                          1.12   NEG  \n",
      "\u001b[90m29\u001b[39m winner.heightF191                                          1.11   NEG  \n",
      "\u001b[90m30\u001b[39m winner.heightF185                                          1.09   NEG  \n",
      "\u001b[90m31\u001b[39m winner.heightF180                                          1.08   NEG  \n",
      "\u001b[90m32\u001b[39m winner.heightF175                                          1.07   NEG  \n",
      "\u001b[90m33\u001b[39m match.tournamentRoundSemi-Finals                           1.05   NEG  \n",
      "\u001b[90m34\u001b[39m looser.heightF196                                          1.04   POS  \n",
      "\u001b[90m35\u001b[39m winner.heightF168                                          0.993  NEG  \n",
      "\u001b[90m36\u001b[39m winner.heightF201                                          0.993  NEG  \n",
      "\u001b[90m37\u001b[39m match.tournamentRound3rd Round Qualifying                  0.992  POS  \n",
      "\u001b[90m38\u001b[39m looser.heightF191                                          0.988  POS  \n",
      "\u001b[90m39\u001b[39m winner.heightF193                                          0.978  NEG  \n",
      "\u001b[90m40\u001b[39m winner.njogos                                              0.965  POS  \n",
      "\u001b[90m41\u001b[39m winner.heightF196                                          0.936  NEG  \n",
      "\u001b[90m42\u001b[39m looser.heightF198                                          0.887  POS  \n",
      "\u001b[90m43\u001b[39m looser.heightF208                                          0.884  POS  \n",
      "\u001b[90m44\u001b[39m looser.heightF180                                          0.871  POS  \n",
      "\u001b[90m45\u001b[39m winner.heightF211                                          0.800  NEG  \n",
      "\u001b[90m46\u001b[39m match.tournamentRound2nd Round Qualifying                  0.766  NEG  \n",
      "\u001b[90m47\u001b[39m looser.heightF188                                          0.752  POS  \n",
      "\u001b[90m48\u001b[39m looser.heightF178                                          0.739  POS  \n",
      "\u001b[90m49\u001b[39m tournament.durationF8                                      0.732  NEG  \n",
      "\u001b[90m50\u001b[39m looser.heightF183                                          0.688  POS  \n",
      "\u001b[90m51\u001b[39m looser.heightF185                                          0.654  POS  \n",
      "\u001b[90m52\u001b[39m match.tournamentRoundRound of 32                           0.618  POS  \n",
      "\u001b[90m53\u001b[39m looser.heightF175                                          0.579  POS  \n",
      "\u001b[90m54\u001b[39m tournament.quarterL2Other                                  0.574  NEG  \n",
      "\u001b[90m55\u001b[39m match.backHandsUnknown Backhand_Two-Handed Backhand        0.574  POS  \n",
      "\u001b[90m56\u001b[39m winner.heightF170                                          0.558  NEG  \n",
      "\u001b[90m57\u001b[39m looser.lastTournamentDelayW                                0.538  NEG  \n",
      "\u001b[90m58\u001b[39m looser.heightF193                                          0.485  POS  \n",
      "\u001b[90m59\u001b[39m match.backHandsTwo-Handed Backhand_Two-Handed Backhand     0.474  POS  \n",
      "\u001b[90m60\u001b[39m winner.nTournament                                         0.452  POS  \n",
      "\u001b[90m61\u001b[39m match.backHandsUnknown Backhand_Unknown Backhand           0.365  POS  \n",
      "\u001b[90m62\u001b[39m looser.bornAtUSA                                           0.358  POS  \n",
      "\u001b[90m63\u001b[39m match.tournamentRoundFinals                                0.353  NEG  \n",
      "\u001b[90m64\u001b[39m looser.heightF168                                          0.315  NEG  \n",
      "\u001b[90m65\u001b[39m match.backHandsTwo-Handed Backhand_One-Handed Backhand     0.309  POS  \n",
      "\u001b[90m66\u001b[39m looser.heightF203                                          0.254  POS  \n",
      "\u001b[90m67\u001b[39m match.tournamentRoundRound of 64                           0.193  POS  \n",
      "\u001b[90m68\u001b[39m match.backHandsOne-Handed Backhand_Unknown Backhand        0.172  NEG  \n",
      "\u001b[90m69\u001b[39m match.tournamentRoundQuarter-Finals                        0.166  NEG  \n",
      "\u001b[90m70\u001b[39m looser.heightF170                                          0.160  POS  \n",
      "\u001b[90m71\u001b[39m looser.heightF173                                          0.145  POS  \n",
      "\u001b[90m72\u001b[39m looser.heightF201                                          0.123  NEG  \n",
      "\u001b[90m73\u001b[39m winner.heightF208                                          0.117  NEG  \n",
      "\u001b[90m74\u001b[39m looser.nTournament                                         0.088\u001b[4m1\u001b[24m POS  \n",
      "\u001b[90m75\u001b[39m looser.bornAtOther                                         0.085\u001b[4m6\u001b[24m NEG  \n",
      "\u001b[90m76\u001b[39m match.tournamentRoundRound of 16                           0.028\u001b[4m6\u001b[24m NEG  \n"
     ]
    }
   ],
   "source": [
    "logistic_reg() %>% \n",
    "    fit(create.formula(input.names = vars, outcome.name = \"match.setsCount\", dat = df)$formula, data=df) %>% vip::vi() -> VI\n",
    "VI %>% print(n=100)"
   ]
  },
  {
   "cell_type": "code",
   "execution_count": null,
   "id": "fdd2cc70-52e7-41db-946f-9298584908d9",
   "metadata": {},
   "outputs": [
    {
     "name": "stdout",
     "output_type": "stream",
     "text": [
      "\u001b[90m# A tibble: 76 × 3\u001b[39m\n",
      "   Variable                                               Importance Sign \n",
      "   \u001b[3m\u001b[90m<chr>\u001b[39m\u001b[23m                                                       \u001b[3m\u001b[90m<dbl>\u001b[39m\u001b[23m \u001b[3m\u001b[90m<chr>\u001b[39m\u001b[23m\n",
      "\u001b[90m 1\u001b[39m looser.bornAtOther                                         0.085\u001b[4m6\u001b[24m NEG  \n",
      "\u001b[90m 2\u001b[39m looser.bornAtUSA                                           0.358  POS  \n",
      "\u001b[90m 3\u001b[39m looser.heightF168                                          0.315  NEG  \n",
      "\u001b[90m 4\u001b[39m looser.heightF170                                          0.160  POS  \n",
      "\u001b[90m 5\u001b[39m looser.heightF173                                          0.145  POS  \n",
      "\u001b[90m 6\u001b[39m looser.heightF175                                          0.579  POS  \n",
      "\u001b[90m 7\u001b[39m looser.heightF178                                          0.739  POS  \n",
      "\u001b[90m 8\u001b[39m looser.heightF180                                          0.871  POS  \n",
      "\u001b[90m 9\u001b[39m looser.heightF183                                          0.688  POS  \n",
      "\u001b[90m10\u001b[39m looser.heightF185                                          0.654  POS  \n",
      "\u001b[90m11\u001b[39m looser.heightF188                                          0.752  POS  \n",
      "\u001b[90m12\u001b[39m looser.heightF191                                          0.988  POS  \n",
      "\u001b[90m13\u001b[39m looser.heightF193                                          0.485  POS  \n",
      "\u001b[90m14\u001b[39m looser.heightF196                                          1.04   POS  \n",
      "\u001b[90m15\u001b[39m looser.heightF198                                          0.887  POS  \n",
      "\u001b[90m16\u001b[39m looser.heightF201                                          0.123  NEG  \n",
      "\u001b[90m17\u001b[39m looser.heightF203                                          0.254  POS  \n",
      "\u001b[90m18\u001b[39m looser.heightF208                                          0.884  POS  \n",
      "\u001b[90m19\u001b[39m looser.heightF211                                          1.44   POS  \n",
      "\u001b[90m20\u001b[39m looser.lastTournamentDelayW                                0.538  NEG  \n",
      "\u001b[90m21\u001b[39m looser.nTournament                                         0.088\u001b[4m1\u001b[24m POS  \n",
      "\u001b[90m22\u001b[39m looser.njogos                                              3.86   POS  \n",
      "\u001b[90m23\u001b[39m looser.winrate                                             4.74   POS  \n",
      "\u001b[90m24\u001b[39m match.backHandsOne-Handed Backhand_Two-Handed Backhand     1.69   POS  \n",
      "\u001b[90m25\u001b[39m match.backHandsOne-Handed Backhand_Unknown Backhand        0.172  NEG  \n",
      "\u001b[90m26\u001b[39m match.backHandsTwo-Handed Backhand_One-Handed Backhand     0.309  POS  \n",
      "\u001b[90m27\u001b[39m match.backHandsTwo-Handed Backhand_Two-Handed Backhand     0.474  POS  \n",
      "\u001b[90m28\u001b[39m match.backHandsTwo-Handed Backhand_Unknown Backhand        1.55   POS  \n",
      "\u001b[90m29\u001b[39m match.backHandsUnknown Backhand_One-Handed Backhand        1.27   POS  \n",
      "\u001b[90m30\u001b[39m match.backHandsUnknown Backhand_Two-Handed Backhand        0.574  POS  \n",
      "\u001b[90m31\u001b[39m match.backHandsUnknown Backhand_Unknown Backhand           0.365  POS  \n",
      "\u001b[90m32\u001b[39m match.diffRank                                             9.17   POS  \n",
      "\u001b[90m33\u001b[39m match.domHandsLeft-Handed_Right-Handed                     1.57   POS  \n",
      "\u001b[90m34\u001b[39m match.domHandsRight-Handed_Left-Handed                     1.41   POS  \n",
      "\u001b[90m35\u001b[39m match.domHandsRight-Handed_Right-Handed                    2.07   POS  \n",
      "\u001b[90m36\u001b[39m match.hadTieBreakerTRUE                                   27.1    POS  \n",
      "\u001b[90m37\u001b[39m match.tournamentRound2nd Round Qualifying                  0.766  NEG  \n",
      "\u001b[90m38\u001b[39m match.tournamentRound3rd Round Qualifying                  0.992  POS  \n",
      "\u001b[90m39\u001b[39m match.tournamentRoundFinals                                0.353  NEG  \n",
      "\u001b[90m40\u001b[39m match.tournamentRoundQuarter-Finals                        0.166  NEG  \n",
      "\u001b[90m41\u001b[39m match.tournamentRoundRound Robin                           1.38   NEG  \n",
      "\u001b[90m42\u001b[39m match.tournamentRoundRound of 16                           0.028\u001b[4m6\u001b[24m NEG  \n",
      "\u001b[90m43\u001b[39m match.tournamentRoundRound of 32                           0.618  POS  \n",
      "\u001b[90m44\u001b[39m match.tournamentRoundRound of 64                           0.193  POS  \n",
      "\u001b[90m45\u001b[39m match.tournamentRoundSemi-Finals                           1.05   NEG  \n",
      "\u001b[90m46\u001b[39m tournament.dateDistance                                    3.21   POS  \n",
      "\u001b[90m47\u001b[39m tournament.durationF13                                     1.48   NEG  \n",
      "\u001b[90m48\u001b[39m tournament.durationF5                                      2.66   NEG  \n",
      "\u001b[90m49\u001b[39m tournament.durationF6                                      2.58   NEG  \n",
      "\u001b[90m50\u001b[39m tournament.durationF8                                      0.732  NEG  \n",
      "\u001b[90m51\u001b[39m tournament.prize                                           1.66   POS  \n",
      "\u001b[90m52\u001b[39m tournament.quarterL24                                      3.62   NEG  \n",
      "\u001b[90m53\u001b[39m tournament.quarterL2Other                                  0.574  NEG  \n",
      "\u001b[90m54\u001b[39m winner.bornAtOther                                         1.43   POS  \n",
      "\u001b[90m55\u001b[39m winner.bornAtUSA                                           2.54   NEG  \n",
      "\u001b[90m56\u001b[39m winner.heightF168                                          0.993  NEG  \n",
      "\u001b[90m57\u001b[39m winner.heightF170                                          0.558  NEG  \n",
      "\u001b[90m58\u001b[39m winner.heightF173                                          2.27   NEG  \n",
      "\u001b[90m59\u001b[39m winner.heightF175                                          1.07   NEG  \n",
      "\u001b[90m60\u001b[39m winner.heightF178                                          1.12   NEG  \n",
      "\u001b[90m61\u001b[39m winner.heightF180                                          1.08   NEG  \n",
      "\u001b[90m62\u001b[39m winner.heightF183                                          1.12   NEG  \n",
      "\u001b[90m63\u001b[39m winner.heightF185                                          1.09   NEG  \n",
      "\u001b[90m64\u001b[39m winner.heightF188                                          1.24   NEG  \n",
      "\u001b[90m65\u001b[39m winner.heightF191                                          1.11   NEG  \n",
      "\u001b[90m66\u001b[39m winner.heightF193                                          0.978  NEG  \n",
      "\u001b[90m67\u001b[39m winner.heightF196                                          0.936  NEG  \n",
      "\u001b[90m68\u001b[39m winner.heightF198                                          1.17   NEG  \n",
      "\u001b[90m69\u001b[39m winner.heightF201                                          0.993  NEG  \n",
      "\u001b[90m70\u001b[39m winner.heightF203                                          1.75   NEG  \n",
      "\u001b[90m71\u001b[39m winner.heightF208                                          0.117  NEG  \n",
      "\u001b[90m72\u001b[39m winner.heightF211                                          0.800  NEG  \n",
      "\u001b[90m73\u001b[39m winner.lastTournamentDelayW                                1.64   POS  \n",
      "\u001b[90m74\u001b[39m winner.nTournament                                         0.452  POS  \n",
      "\u001b[90m75\u001b[39m winner.njogos                                              0.965  POS  \n",
      "\u001b[90m76\u001b[39m winner.winrate                                             6.56   NEG  \n"
     ]
    }
   ],
   "source": [
    "VI %>% arrange(Variable) %>% print(n=100) "
   ]
  },
  {
   "cell_type": "code",
   "execution_count": null,
   "id": "c736e935-731f-4aaf-b426-acd23e75754d",
   "metadata": {},
   "outputs": [
    {
     "data": {
      "text/html": [
       "-8"
      ],
      "text/latex": [
       "-8"
      ],
      "text/markdown": [
       "-8"
      ],
      "text/plain": [
       "[1] -8"
      ]
     },
     "metadata": {},
     "output_type": "display_data"
    }
   ],
   "source": [
    "# most relevant\n",
    "rel_vars <- c(\n",
    "    \"winner.bornAt\",\n",
    "    \"winner.heightF\",\n",
    "    \"winner.lastTournamentDelayW\",\n",
    "    \"winner.winrate\",\n",
    "    \"looser.njogos\",\n",
    "    \"looser.winrate\",\n",
    "    \"match.diffRank\",\n",
    "    \"match.domHands\",\n",
    "    \"match.hadTieBreaker\",\n",
    "    \"tournament.dateDistance\",\n",
    "    \"tournament.durationF\",\n",
    "    \"tournament.prize\",\n",
    "    \"tournament.quarterL2\"\n",
    ")\n",
    "length(rel_vars) - length(vars)"
   ]
  },
  {
   "cell_type": "code",
   "execution_count": null,
   "id": "2d367325-fb9f-4d8e-9a1a-fe44630077a3",
   "metadata": {},
   "outputs": [
    {
     "data": {
      "image/png": "[encoded data removed]",
      "text/plain": [
       "plot without title"
      ]
     },
     "metadata": {
      "image/png": {
       "height": 420,
       "width": 420
      }
     },
     "output_type": "display_data"
    }
   ],
   "source": [
    "logistic_reg() %>% \n",
    "    fit(create.formula(input.names = vars, outcome.name = \"match.setsCount\", dat = df)$formula, data=df) %>% \n",
    "    vip::vip(scale=TRUE, mapping = aes_string(fill = \"Sign\")) + theme(legend.position = c(0.8, 0.2))\n",
    "ggsave(here(\"relatorio\", \"importancias.png\"), width = 10, height = 10)"
   ]
  },
  {
   "cell_type": "code",
   "execution_count": null,
   "id": "c5b037ec-1cd5-4587-a62a-d2db0cdb10c7",
   "metadata": {},
   "outputs": [
    {
     "data": {
      "image/png": "[encoded data removed]",
      "text/plain": [
       "plot without title"
      ]
     },
     "metadata": {
      "image/png": {
       "height": 420,
       "width": 420
      }
     },
     "output_type": "display_data"
    }
   ],
   "source": [
    "ggplot(df, aes(color = match.setsCount, x = match.diffRank)) + geom_density(kernel=\"gaussian\", size= 0.9)\n",
    "ggsave(here(\"relatorio\", \"diffRank.png\"), width = 11, height = 10)"
   ]
  },
  {
   "cell_type": "code",
   "execution_count": null,
   "id": "d1746044-4f7b-4f25-85d2-8c1d74740a50",
   "metadata": {},
   "outputs": [
    {
     "name": "stderr",
     "output_type": "stream",
     "text": [
      "select: dropped 47 variables (winner.name, winner.id, winner.rank, winner.height, winner.Anwins, …)\n",
      "\n",
      "mutate: changed 17,924 values (>99%) of 'tournament.dateDistance' (0 new NA)\n",
      "\n"
     ]
    },
    {
     "name": "stdout",
     "output_type": "stream",
     "text": [
      "── Data Summary ────────────────────────\n",
      "                           Values    \n",
      "Name                       Piped data\n",
      "Number of rows             17926     \n",
      "Number of columns          22        \n",
      "_______________________              \n",
      "Column type frequency:               \n",
      "  factor                   10        \n",
      "  logical                  1         \n",
      "  numeric                  11        \n",
      "________________________             \n",
      "Group variables            None      \n",
      "\n",
      "── Variable type: factor ───────────────────────────────────────────────────────\n",
      "   skim_variable         n_missing complete_rate ordered n_unique\n",
      "\u001b[90m 1\u001b[39m match.domHands                0         1     FALSE          4\n",
      "\u001b[90m 2\u001b[39m match.tournamentRound         0         1     FALSE         11\n",
      "\u001b[90m 3\u001b[39m winner.bornAt               119         0.993 FALSE          3\n",
      "\u001b[90m 4\u001b[39m looser.bornAt               169         0.991 FALSE          3\n",
      "\u001b[90m 5\u001b[39m winner.heightF                0         1     FALSE         18\n",
      "\u001b[90m 6\u001b[39m looser.heightF                0         1     FALSE         18\n",
      "\u001b[90m 7\u001b[39m match.backHands               0         1     FALSE          9\n",
      "\u001b[90m 8\u001b[39m tournament.durationF          0         1     FALSE          5\n",
      "\u001b[90m 9\u001b[39m tournament.quarterL2          0         1     FALSE          3\n",
      "\u001b[90m10\u001b[39m match.setsCount               0         1     FALSE          2\n",
      "   top_counts                                \n",
      "\u001b[90m 1\u001b[39m Rig: 13642, Rig: 2022, Lef: 1977, Lef: 285\n",
      "\u001b[90m 2\u001b[39m Rou: 5265, Rou: 5056, Qua: 2979, Sem: 1484\n",
      "\u001b[90m 3\u001b[39m Oth: 9956, Aus: 6472, USA: 1379           \n",
      "\u001b[90m 4\u001b[39m Oth: 9626, Aus: 6694, USA: 1437           \n",
      "\u001b[90m 5\u001b[39m 183: 3830, 188: 3232, 180: 2194, 185: 2118\n",
      "\u001b[90m 6\u001b[39m 183: 3546, 188: 3119, 180: 2293, 185: 2191\n",
      "\u001b[90m 7\u001b[39m Two: 7677, Unk: 3275, Two: 1532, Unk: 1383\n",
      "\u001b[90m 8\u001b[39m 6: 16357, 5: 900, 13: 596, 0: 53          \n",
      "\u001b[90m 9\u001b[39m 1: 9655, 4: 6622, Oth: 1649               \n",
      "\u001b[90m10\u001b[39m 2: 11822, 3: 6104                         \n",
      "\n",
      "── Variable type: logical ──────────────────────────────────────────────────────\n",
      "  skim_variable       n_missing complete_rate  mean count                \n",
      "\u001b[90m1\u001b[39m match.hadTieBreaker         0             1 0.201 FAL: 14318, TRU: 3608\n",
      "\n",
      "── Variable type: numeric ──────────────────────────────────────────────────────\n",
      "   skim_variable               n_missing complete_rate      mean         sd\n",
      "\u001b[90m 1\u001b[39m winner.lastTournamentDelayW         0         1          5.55      12.8 \n",
      "\u001b[90m 2\u001b[39m looser.lastTournamentDelayW         0         1          5.01      27.2 \n",
      "\u001b[90m 3\u001b[39m tournament.dateDistance             0         1        -\u001b[31m34\u001b[39m\u001b[31m.\u001b[39m\u001b[31m7\u001b[39m       10.2 \n",
      "\u001b[90m 4\u001b[39m match.diffRank                      0         1       -\u001b[31m116\u001b[39m\u001b[31m.\u001b[39m       366.  \n",
      "\u001b[90m 5\u001b[39m winner.winrate                      0         1         55.5        7.24\n",
      "\u001b[90m 6\u001b[39m looser.winrate                      0         1         44.9       18.3 \n",
      "\u001b[90m 7\u001b[39m winner.njogos                       0         1        516.       270.  \n",
      "\u001b[90m 8\u001b[39m looser.njogos                       0         1         37.9       41.1 \n",
      "\u001b[90m 9\u001b[39m winner.nTournament                  0         1        153.       137.  \n",
      "\u001b[90m10\u001b[39m looser.nTournament                  0         1        168.       146.  \n",
      "\u001b[90m11\u001b[39m tournament.prize                  217         0.988 \u001b[4m6\u001b[24m\u001b[4m4\u001b[24m\u001b[4m5\u001b[24m543.   2\u001b[4m9\u001b[24m\u001b[4m3\u001b[24m\u001b[4m3\u001b[24m229.  \n",
      "        p0     p25     p50      p75       p100 hist \n",
      "\u001b[90m 1\u001b[39m  -\u001b[31m689\u001b[39m       1       3        8        271   ▁▁▁▇▁\n",
      "\u001b[90m 2\u001b[39m  -\u001b[31m861\u001b[39m       1       3        8        271   ▁▁▁▇▁\n",
      "\u001b[90m 3\u001b[39m   -\u001b[31m47\u001b[39m\u001b[31m.\u001b[39m\u001b[31m3\u001b[39m   -\u001b[31m42\u001b[39m\u001b[31m.\u001b[39m\u001b[31m9\u001b[39m   -\u001b[31m38\u001b[39m\u001b[31m.\u001b[39m\u001b[31m1\u001b[39m    -\u001b[31m28\u001b[39m\u001b[31m.\u001b[39m\u001b[31m1\u001b[39m        0   ▇▃▂▂▁\n",
      "\u001b[90m 4\u001b[39m -\u001b[31m\u001b[4m1\u001b[24m94\u001b[39m\u001b[31m1\u001b[39m    -\u001b[31m229\u001b[39m     -\u001b[31m45\u001b[39m       43       \u001b[4m1\u001b[24m702   ▁▁▇▁▁\n",
      "\u001b[90m 5\u001b[39m    17.9    52.7    55.9     59.0       83.1 ▁▁▇▆▁\n",
      "\u001b[90m 6\u001b[39m     0      33.3    49.0     58.3       92.9 ▂▃▇▆▁\n",
      "\u001b[90m 7\u001b[39m    10     312     492      699       \u001b[4m1\u001b[24m568   ▅▇▅▁▁\n",
      "\u001b[90m 8\u001b[39m     1       8      19       56        178   ▇▂▂▁▁\n",
      "\u001b[90m 9\u001b[39m     1      49     112      220        846   ▇▃▁▁▁\n",
      "\u001b[90m10\u001b[39m     1      52     129      242        854   ▇▃▁▁▁\n",
      "\u001b[90m11\u001b[39m \u001b[4m1\u001b[24m\u001b[4m4\u001b[24m800   \u001b[4m3\u001b[24m\u001b[4m7\u001b[24m000   \u001b[4m7\u001b[24m\u001b[4m4\u001b[24m000   \u001b[4m3\u001b[24m\u001b[4m3\u001b[24m\u001b[4m3\u001b[24m000   22\u001b[4m2\u001b[24m\u001b[4m0\u001b[24m\u001b[4m0\u001b[24m000   ▇▁▁▁▁\n"
     ]
    },
    {
     "ename": "ERROR",
     "evalue": "Error in is.null(text_repr) || nchar(text_repr) == 0L: 'length = 17' in coercion to 'logical(1)'\n",
     "output_type": "error",
     "traceback": [
      "Error in is.null(text_repr) || nchar(text_repr) == 0L: 'length = 17' in coercion to 'logical(1)'\nTraceback:\n"
     ]
    }
   ],
   "source": [
    "df %>% select(# final vars explicitly\n",
    "    \"winner.lastTournamentDelayW\",\n",
    "    \"looser.lastTournamentDelayW\",\n",
    "    \"match.domHands\",\n",
    "    \"match.tournamentRound\",\n",
    "    \"match.hadTieBreaker\", \n",
    "    \"tournament.dateDistance\",\n",
    "    \"match.diffRank\",\n",
    "    \"winner.bornAt\",\n",
    "    \"looser.bornAt\",\n",
    "    \"winner.heightF\",\n",
    "    \"looser.heightF\",\n",
    "    \"winner.winrate\",\n",
    "    \"looser.winrate\",\n",
    "    \"winner.njogos\",\n",
    "    \"looser.njogos\",\n",
    "    \"winner.nTournament\",\n",
    "    \"looser.nTournament\",\n",
    "    \"match.backHands\",\n",
    "    \"tournament.durationF\",\n",
    "    \"tournament.quarterL2\",\n",
    "    \"tournament.prize\",\n",
    "    \"match.setsCount\"\n",
    ") %>% mutate(tournament.dateDistance = tournament.dateDistance/dyears(1)) -> a\n",
    "a %>% skimr::skim()"
   ]
  },
  {
   "cell_type": "code",
   "execution_count": null,
   "id": "6f7ee9f0-8a59-4765-b725-6dbbb8675611",
   "metadata": {},
   "outputs": [
    {
     "name": "stderr",
     "output_type": "stream",
     "text": [
      "mutate: converted 'match.setsCount' from factor to double (0 new NA)\n",
      "\n",
      "relocate: columns reordered (match.setsCount, winner.lastTournamentDelayW, looser.lastTournamentDelayW, match.domHands, match.tournamentRound, …)\n",
      "\n",
      "select: dropped 10 variables (match.domHands, match.tournamentRound, match.hadTieBreaker, winner.bornAt, looser.bornAt, …)\n",
      "\n",
      "Correlation computed with\n",
      "\u001b[36m•\u001b[39m Method: 'pearson'\n",
      "\u001b[36m•\u001b[39m Missing treated using: 'pairwise.complete.obs'\n"
     ]
    },
    {
     "data": {
      "image/png": "[encoded data removed]",
      "text/plain": [
       "plot without title"
      ]
     },
     "metadata": {
      "image/png": {
       "height": 600,
       "width": 600
      }
     },
     "output_type": "display_data"
    }
   ],
   "source": [
    "library(corrr)\n",
    "library(ggcorrplot)\n",
    "options(repr.plot.width=10, repr.plot.height=10)\n",
    "\n",
    "# continuous\n",
    "cont <- a %>% mutate(match.setsCount = match.setsCount %>% as.numeric) %>% \n",
    "    relocate(match.setsCount) %>%\n",
    "    select(where(is.numeric)) %>%\n",
    "    correlate() %>%\n",
    "    as_matrix()\n",
    "cont %>% ggcorrplot(type = \"lower\",lab = TRUE)\n",
    "ggsave(here(\"relatorio\", \"pearson.png\") ,width = 10, height = 10)"
   ]
  },
  {
   "cell_type": "code",
   "execution_count": null,
   "id": "6d4eae61-2098-4f40-a077-ea74eb705d08",
   "metadata": {},
   "outputs": [
    {
     "name": "stderr",
     "output_type": "stream",
     "text": [
      "select: dropped 12 variables (winner.lastTournamentDelayW, looser.lastTournamentDelayW, match.hadTieBreaker, tournament.dateDistance, match.diffRank, …)\n",
      "\n",
      "relocate: columns reordered (match.setsCount, match.domHands, match.tournamentRound, winner.bornAt, looser.bornAt, …)\n",
      "\n"
     ]
    },
    {
     "data": {
      "image/png": "[encoded data removed]",
      "text/plain": [
       "plot without title"
      ]
     },
     "metadata": {
      "image/png": {
       "height": 600,
       "width": 600
      }
     },
     "output_type": "display_data"
    }
   ],
   "source": [
    "library(rstatix)\n",
    "cont <- a %>% select(where(is.factor)) %>% \n",
    "    relocate(match.setsCount) %>% \n",
    "    colpair_map(\\(x, y) cramer_v(x, y, simulate.p.value = TRUE)) %>% \n",
    "    as_matrix()\n",
    "cont %>% ggcorrplot(type = \"lower\",lab = TRUE)\n",
    "ggsave(here(\"relatorio\", \"cramer.png\") ,width = 10, height = 10)"
   ]
  },
  {
   "cell_type": "code",
   "execution_count": null,
   "id": "d3e95eb6-5c00-4ada-86cd-34e4a8de507d",
   "metadata": {},
   "outputs": [
    {
     "data": {
      "image/png": "[encoded data removed]",
      "text/plain": [
       "plot without title"
      ]
     },
     "metadata": {
      "image/png": {
       "height": 420,
       "width": 420
      }
     },
     "output_type": "display_data"
    }
   ],
   "source": [
    "a %>% ggplot(aes(match.setsCount, match.hadTieBreaker)) + geom_jitter()"
   ]
  },
  {
   "cell_type": "code",
   "execution_count": null,
   "id": "946d4c32-9b75-4268-8fcf-468f9cab9cb5",
   "metadata": {},
   "outputs": [
    {
     "data": {
      "text/html": [
       "17926"
      ],
      "text/latex": [
       "17926"
      ],
      "text/markdown": [
       "17926"
      ],
      "text/plain": [
       "[1] 17926"
      ]
     },
     "metadata": {},
     "output_type": "display_data"
    }
   ],
   "source": [
    "nrow(df)"
   ]
  }
 ],
 "metadata": {
  "kernelspec": {
   "display_name": "ir_pacd",
   "language": "R",
   "name": "ir_pacd"
  }
 },
 "nbformat": 4,
 "nbformat_minor": 5
}
