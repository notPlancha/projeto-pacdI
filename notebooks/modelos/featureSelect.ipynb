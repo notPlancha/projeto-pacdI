{
 "cells": [
  {
   "cell_type": "code",
   "execution_count": 23,
   "id": "228e07b8-07ee-47cd-b7b7-cdff601a2e37",
   "metadata": {
    "vscode": {
     "languageId": "r"
    }
   },
   "outputs": [
    {
     "name": "stderr",
     "output_type": "stream",
     "text": [
      "relocate: columns reordered (winner.name, winner.id, winner.rank, winner.bornAt, winner.height, …)\n",
      "\n"
     ]
    },
    {
     "name": "stdout",
     "output_type": "stream",
     "text": [
      "Rows: 17,926\n",
      "Columns: 69\n",
      "$ winner.name                     \u001b[3m\u001b[90m<chr>\u001b[39m\u001b[23m \"Shuichi Sekiguchi\", \"Shuichi Sekiguch…\n",
      "$ winner.id                       \u001b[3m\u001b[90m<chr>\u001b[39m\u001b[23m \"sl92\", \"sl92\", \"sl92\", \"sl92\", \"tf58\"…\n",
      "$ winner.rank                     \u001b[3m\u001b[90m<int>\u001b[39m\u001b[23m 399, 399, 399, 399, 619, 619, 619, 619…\n",
      "$ winner.bornAt                   \u001b[3m\u001b[90m<fct>\u001b[39m\u001b[23m USA, USA, USA, USA, Other, Other, Othe…\n",
      "$ winner.height                   \u001b[3m\u001b[90m<dbl>\u001b[39m\u001b[23m 168, 168, 168, 168, 170, 170, 170, 170…\n",
      "$ winner.Anwins                   \u001b[3m\u001b[90m<dbl>\u001b[39m\u001b[23m 5, 5, 5, 5, 6, 6, 6, 6, 18, 18, 11, 11…\n",
      "$ winner.Anlosses                 \u001b[3m\u001b[90m<dbl>\u001b[39m\u001b[23m 10, 10, 10, 10, 4, 4, 4, 4, 15, 15, 5,…\n",
      "$ winner.Anjogos                  \u001b[3m\u001b[90m<dbl>\u001b[39m\u001b[23m 15, 15, 15, 15, 10, 10, 10, 10, 33, 33…\n",
      "$ winner.Awinrate                 \u001b[3m\u001b[90m<dbl>\u001b[39m\u001b[23m 33.33333, 33.33333, 33.33333, 33.33333…\n",
      "$ winner.nwins                    \u001b[3m\u001b[90m<dbl>\u001b[39m\u001b[23m 353, 353, 353, 353, 166, 166, 166, 166…\n",
      "$ winner.nlosses                  \u001b[3m\u001b[90m<dbl>\u001b[39m\u001b[23m 248, 248, 248, 248, 141, 141, 141, 141…\n",
      "$ winner.njogos                   \u001b[3m\u001b[90m<dbl>\u001b[39m\u001b[23m 601, 601, 601, 601, 307, 307, 307, 307…\n",
      "$ winner.winrate                  \u001b[3m\u001b[90m<dbl>\u001b[39m\u001b[23m 58.73544, 58.73544, 58.73544, 58.73544…\n",
      "$ winner.bornAt.tournFreq         \u001b[3m\u001b[90m<int>\u001b[39m\u001b[23m 2460, 2460, 2460, 2460, 378, 378, 378,…\n",
      "$ winner.bornAt.hasTourn          \u001b[3m\u001b[90m<lgl>\u001b[39m\u001b[23m TRUE, TRUE, TRUE, TRUE, TRUE, TRUE, TR…\n",
      "$ winner.nTournament              \u001b[3m\u001b[90m<int>\u001b[39m\u001b[23m 134, 134, 364, 364, 81, 81, 218, 218, …\n",
      "$ winner.lastTournamentDelayW     \u001b[3m\u001b[90m<dbl>\u001b[39m\u001b[23m 1, 1, 1, 1, 20, 20, 18, 18, 1, 1, 1, 1…\n",
      "$ winner.heightF                  \u001b[3m\u001b[90m<fct>\u001b[39m\u001b[23m 168, 168, 168, 168, 170, 170, 170, 170…\n",
      "$ winner.heightFC                 \u001b[3m\u001b[90m<fct>\u001b[39m\u001b[23m \"]163, 180]\", \"]163, 180]\", \"]163, 180…\n",
      "$ looser.name                     \u001b[3m\u001b[90m<chr>\u001b[39m\u001b[23m \"Yuta Shimizu\", \"Yuta Shimizu\", \"Yuta …\n",
      "$ looser.id                       \u001b[3m\u001b[90m<chr>\u001b[39m\u001b[23m \"s0aq\", \"s0aq\", \"s0aq\", \"s0aq\", \"s0ld\"…\n",
      "$ looser.rank                     \u001b[3m\u001b[90m<int>\u001b[39m\u001b[23m 464, 464, 464, 464, 1057, 1057, 1057, …\n",
      "$ looser.bornAt                   \u001b[3m\u001b[90m<fct>\u001b[39m\u001b[23m Other, Other, Other, Other, Other, Oth…\n",
      "$ looser.height                   \u001b[3m\u001b[90m<dbl>\u001b[39m\u001b[23m 163, 163, 163, 163, 163, 163, 163, 163…\n",
      "$ looser.Anwins                   \u001b[3m\u001b[90m<dbl>\u001b[39m\u001b[23m 6, 6, 6, 6, 0, 0, 0, 0, 0, 0, 6, 6, 6,…\n",
      "$ looser.Anlosses                 \u001b[3m\u001b[90m<dbl>\u001b[39m\u001b[23m 4, 4, 4, 4, 2, 2, 2, 2, 2, 2, 4, 4, 4,…\n",
      "$ looser.Anjogos                  \u001b[3m\u001b[90m<dbl>\u001b[39m\u001b[23m 10, 10, 10, 10, 2, 2, 2, 2, 2, 2, 10, …\n",
      "$ looser.Awinrate                 \u001b[3m\u001b[90m<dbl>\u001b[39m\u001b[23m 60, 60, 60, 60, 0, 0, 0, 0, 0, 0, 60, …\n",
      "$ looser.nwins                    \u001b[3m\u001b[90m<dbl>\u001b[39m\u001b[23m 6, 6, 6, 6, 0, 0, 0, 0, 0, 0, 6, 6, 6,…\n",
      "$ looser.nlosses                  \u001b[3m\u001b[90m<dbl>\u001b[39m\u001b[23m 4, 4, 4, 4, 2, 2, 2, 2, 2, 2, 4, 4, 4,…\n",
      "$ looser.njogos                   \u001b[3m\u001b[90m<dbl>\u001b[39m\u001b[23m 10, 10, 10, 10, 2, 2, 2, 2, 2, 2, 10, …\n",
      "$ looser.winrate                  \u001b[3m\u001b[90m<dbl>\u001b[39m\u001b[23m 60, 60, 60, 60, 0, 0, 0, 0, 0, 0, 60, …\n",
      "$ looser.bornAt.tournFreq         \u001b[3m\u001b[90m<int>\u001b[39m\u001b[23m 378, 378, 378, 378, 378, 378, 378, 378…\n",
      "$ looser.bornAt.hasTourn          \u001b[3m\u001b[90m<lgl>\u001b[39m\u001b[23m TRUE, TRUE, TRUE, TRUE, TRUE, TRUE, TR…\n",
      "$ looser.nTournament              \u001b[3m\u001b[90m<int>\u001b[39m\u001b[23m 30, 98, 30, 98, 13, 35, 13, 35, 12, 34…\n",
      "$ looser.lastTournamentDelayW     \u001b[3m\u001b[90m<dbl>\u001b[39m\u001b[23m 1, 1, 1, 1, 2, 2, 2, 2, 3, 3, 11, 3, 1…\n",
      "$ looser.heightF                  \u001b[3m\u001b[90m<fct>\u001b[39m\u001b[23m 163, 163, 163, 163, 163, 163, 163, 163…\n",
      "$ looser.heightFC                 \u001b[3m\u001b[90m<fct>\u001b[39m\u001b[23m \"]163, 180]\", \"]163, 180]\", \"]163, 180…\n",
      "$ match.domHands                  \u001b[3m\u001b[90m<fct>\u001b[39m\u001b[23m Right-Handed_Left-Handed, Right-Handed…\n",
      "$ match.backHands                 \u001b[3m\u001b[90m<fct>\u001b[39m\u001b[23m Two-Handed Backhand_Two-Handed Backhan…\n",
      "$ match.tournamentRound           \u001b[3m\u001b[90m<fct>\u001b[39m\u001b[23m Quarter-Finals, Quarter-Finals, Quarte…\n",
      "$ match.setsCount                 \u001b[3m\u001b[90m<fct>\u001b[39m\u001b[23m 2, 2, 2, 2, 2, 2, 2, 2, 2, 2, 2, 2, 2,…\n",
      "$ match.hadTieBreaker             \u001b[3m\u001b[90m<lgl>\u001b[39m\u001b[23m FALSE, FALSE, FALSE, FALSE, FALSE, FAL…\n",
      "$ match.diffHeights               \u001b[3m\u001b[90m<dbl>\u001b[39m\u001b[23m 5, 5, 5, 5, 7, 7, 7, 7, 7, 7, 20, 20, …\n",
      "$ match.avgHeights                \u001b[3m\u001b[90m<dbl>\u001b[39m\u001b[23m 165.5, 165.5, 165.5, 165.5, 166.5, 166…\n",
      "$ match.diffRank                  \u001b[3m\u001b[90m<int>\u001b[39m\u001b[23m -65, -65, -65, -65, -438, -438, -438, …\n",
      "$ match.avgRank                   \u001b[3m\u001b[90m<dbl>\u001b[39m\u001b[23m 431.5, 431.5, 431.5, 431.5, 838.0, 838…\n",
      "$ match.AnjogosDiff               \u001b[3m\u001b[90m<dbl>\u001b[39m\u001b[23m 5, 5, 5, 5, 8, 8, 8, 8, 31, 31, 6, 6, …\n",
      "$ match.njogosDiff                \u001b[3m\u001b[90m<dbl>\u001b[39m\u001b[23m 591, 591, 591, 591, 305, 305, 305, 305…\n",
      "$ match.playersBorn.hasTournXor   \u001b[3m\u001b[90m<lgl>\u001b[39m\u001b[23m TRUE, TRUE, TRUE, TRUE, TRUE, TRUE, TR…\n",
      "$ match.playersBorn.tournFreqDiff \u001b[3m\u001b[90m<int>\u001b[39m\u001b[23m 0, 0, 0, 0, 0, 0, 0, 0, 0, 0, 0, 0, 0,…\n",
      "$ match.heightFCvs                \u001b[3m\u001b[90m<fct>\u001b[39m\u001b[23m \"]163, 180] vs ]163, 180]\", \"]163, 180…\n",
      "$ match.backHandsL1               \u001b[3m\u001b[90m<fct>\u001b[39m\u001b[23m Two-Handed Backhand_Two-Handed Backhan…\n",
      "$ match.backHandsL2               \u001b[3m\u001b[90m<fct>\u001b[39m\u001b[23m Two-Handed Backhand_Two-Handed Backhan…\n",
      "$ match.nTournamentDiff           \u001b[3m\u001b[90m<int>\u001b[39m\u001b[23m 104, 36, 334, 266, 68, 46, 205, 183, 1…\n",
      "$ tournament.name                 \u001b[3m\u001b[90m<chr>\u001b[39m\u001b[23m \"M25 Mildura\", \"M25 Mildura\", \"M25 Mil…\n",
      "$ tournament.ground               \u001b[3m\u001b[90m<fct>\u001b[39m\u001b[23m Grass, Grass, Grass, Grass, Hard, Hard…\n",
      "$ tournament.date_start           \u001b[3m\u001b[90m<date>\u001b[39m\u001b[23m 2019-03-04, 2019-03-04, 2019-03-04, 2…\n",
      "$ tournament.date_finish          \u001b[3m\u001b[90m<date>\u001b[39m\u001b[23m 2019-03-10, 2019-03-10, 2019-03-10, 2…\n",
      "$ tournament.duration             \u001b[3m\u001b[90m<int>\u001b[39m\u001b[23m 6, 6, 6, 6, 6, 6, 6, 6, 6, 6, 6, 6, 6,…\n",
      "$ tournament.prize                \u001b[3m\u001b[90m<dbl>\u001b[39m\u001b[23m 37000.0, 37000.0, 37000.0, 37000.0, 37…\n",
      "$ tournament.month                \u001b[3m\u001b[90m<ord>\u001b[39m\u001b[23m Mar, Mar, Mar, Mar, Feb, Feb, Feb, Feb…\n",
      "$ tournament.quarter              \u001b[3m\u001b[90m<fct>\u001b[39m\u001b[23m 1, 1, 1, 1, 1, 1, 1, 1, 1, 1, 1, 1, 1,…\n",
      "$ tournament.dateDistance         \u001b[3m\u001b[90m<drtn>\u001b[39m\u001b[23m -1395878400 secs, -1395878400 secs, -…\n",
      "$ tournament.durationF            \u001b[3m\u001b[90m<fct>\u001b[39m\u001b[23m 6, 6, 6, 6, 6, 6, 6, 6, 6, 6, 6, 6, 6,…\n",
      "$ tournament.durationFL           \u001b[3m\u001b[90m<fct>\u001b[39m\u001b[23m 6, 6, 6, 6, 6, 6, 6, 6, 6, 6, 6, 6, 6,…\n",
      "$ tournament.quarterL1            \u001b[3m\u001b[90m<fct>\u001b[39m\u001b[23m 1, 1, 1, 1, 1, 1, 1, 1, 1, 1, 1, 1, 1,…\n",
      "$ tournament.quarterL2            \u001b[3m\u001b[90m<fct>\u001b[39m\u001b[23m 1, 1, 1, 1, 1, 1, 1, 1, 1, 1, 1, 1, 1,…\n",
      "$ tournament.smallPrize           \u001b[3m\u001b[90m<lgl>\u001b[39m\u001b[23m TRUE, TRUE, TRUE, TRUE, TRUE, TRUE, TR…\n"
     ]
    }
   ],
   "source": [
    "df <- arrow::read_parquet(here(\"data\", \"featurefull.parquet\") ) %>% relocate(starts_with(\"winner\"), starts_with(\"looser\"), starts_with(\"match\"), starts_with(\"tournament\"))\n",
    "df %>% glimpse()"
   ]
  },
  {
   "cell_type": "code",
   "execution_count": 24,
   "id": "bf79a5a9-3456-4588-8b4d-b7128141a828",
   "metadata": {
    "vscode": {
     "languageId": "r"
    }
   },
   "outputs": [
    {
     "name": "stdout",
     "output_type": "stream",
     "text": [
      "Rows: 25\n",
      "Columns: 3\n",
      "$ splits \u001b[3m\u001b[90m<list>\u001b[39m\u001b[23m [<vfold_split[14340 x 3586 x 17926 x 69]>], [<vfold_split[1434…\n",
      "$ id     \u001b[3m\u001b[90m<chr>\u001b[39m\u001b[23m \"Repeat1\", \"Repeat1\", \"Repeat1\", \"Repeat1\", \"Repeat1\", \"Repeat2…\n",
      "$ id2    \u001b[3m\u001b[90m<chr>\u001b[39m\u001b[23m \"Fold1\", \"Fold2\", \"Fold3\", \"Fold4\", \"Fold5\", \"Fold1\", \"Fold2\", …\n"
     ]
    }
   ],
   "source": [
    "# vfold\n",
    "set.seed(1)\n",
    "df.folds <- vfold_cv(df, v = 5, repeats = 5) # no strata\n",
    "df.folds %>% glimpse()"
   ]
  },
  {
   "attachments": {},
   "cell_type": "markdown",
   "id": "3ee0ba61",
   "metadata": {},
   "source": [
    "Algumas das nossas características são relações diretas de outras características, o que pode levar a problemas de multicolinariedade; portanto, vamos ter que escolher entre essas variáveis. Para isso, vamos ajustar vários modelos para cada conjunto de varíaveis de cada grupo, passo a passo, escolhendo o conjunto de cada grupo com melhor performance. Nesta secção vamos usar regressão logística, pela sua simplicidade.\n",
    "\n",
    "Nota: aqui, players indica 2 colunas, uma de winner e outra de looser\n",
    "* Rank:\n",
    "    * players.rank\n",
    "    * match.diffRank\n",
    "    * match.avgRank\n",
    "* Born:\n",
    "    * players.bornAt\n",
    "    * players.bornAt, players.bornAt.tournFreq\n",
    "    * players.bornAt, players.bornAt.hasTourn\n",
    "    * players.bornAt.tournFreq\n",
    "    * players.bornAt.hasTourn\n",
    "    * players.bornAt, match.playersBorn.hasTournXor\n",
    "    * match.playersBorn.hasTournXor\n",
    "    * players.bornAt, match.playersBorn.tournFreqDiff\n",
    "    * match.playersBorn.tournFreqDiff\n",
    "* Altura:\n",
    "    * players.height\n",
    "    * players.heightF\n",
    "    * players.heightFC\n",
    "    * match.diffHeights\n",
    "    * match.avgHeights\n",
    "    * match.heightFCvs\n",
    "* Nº de jogos\n",
    "    * players.nwins\n",
    "    * players.nlosses\n",
    "    * players.njogos\n",
    "    * players.winrate, players.jogos\n",
    "    * players.winrate\n",
    "    * match.njogosDiff\n",
    "* Nº de jogos total\n",
    "    * Será a mesma variável da de cima só que estrapulado, mas é preciso \n",
    "* numero do torneio do jogador\n",
    "    * player.nTournament\n",
    "    * match.nTournamentDiff\n",
    "* delay do torneio dos jogadores\n",
    "    * player.lastTournamentDelay\n",
    "* Mão dominante dos jogadores\n",
    "    * match.domHands\n",
    "* backhands dos jogadores\n",
    "    * match.backhand\n",
    "    * match.backHandsL1\n",
    "    * match.backHandsL2\n",
    "* ronda do tourneio\n",
    "    * tournament.round\n",
    "* se jogo teve tie breaker\n",
    "    * match.hadTieBreaker\n",
    "* terreno do torneio\n",
    "    * tournament.ground\n",
    "* duracao do torneio\n",
    "    * tournament.duration\n",
    "    * tournament.durationF\n",
    "    * tournament.durationFL\n",
    "* data do torneio num ano\n",
    "    * tournament.quarter\n",
    "    * tournament.quarterL1\n",
    "    * tournament.quarterL2\n",
    "    * tournament.month\n",
    "* data do torneio\n",
    "    * tournament.dateDistance\n",
    "* recompensa do torneio\n",
    "    * tournament.prize\n",
    "    * tournament.smallPrize\n",
    "\n"
   ]
  },
  {
   "cell_type": "code",
   "execution_count": 25,
   "id": "6e8393c4",
   "metadata": {
    "vscode": {
     "languageId": "r"
    }
   },
   "outputs": [
    {
     "data": {
      "text/plain": [
       "══ Workflow ════════════════════════════════════════════════════════════════════\n",
       "\u001b[3mPreprocessor:\u001b[23m None\n",
       "\u001b[3mModel:\u001b[23m logistic_reg()\n",
       "\n",
       "── Model ───────────────────────────────────────────────────────────────────────\n",
       "Logistic Regression Model Specification (classification)\n",
       "\n",
       "Computational engine: glm \n"
      ]
     },
     "metadata": {},
     "output_type": "display_data"
    }
   ],
   "source": [
    "df.featureSelect.model <- workflow() %>%\n",
    "    add_model(logistic_reg())\n",
    "df.metrics <- metric_set(accuracy, f_meas, roc_auc, pr_auc)\n",
    "df.featureSelect.model"
   ]
  },
  {
   "cell_type": "code",
   "execution_count": 26,
   "id": "b2d24700-3cc3-42ae-89d8-be646794bbc5",
   "metadata": {
    "vscode": {
     "languageId": "r"
    }
   },
   "outputs": [
    {
     "name": "stdout",
     "output_type": "stream",
     "text": [
      "match.setsCount ~ winner.lastTournamentDelayW + looser.lastTournamentDelayW + \n",
      "    match.domHands + match.tournamentRound + match.hadTieBreaker + \n",
      "    tournament.dateDistance\n",
      "<environment: 0x000002337a7dbe70>\n",
      "[1] TRUE TRUE TRUE TRUE TRUE TRUE\n"
     ]
    }
   ],
   "source": [
    "library(formulaic)\n",
    "vars <- c(# variables with no direct correlation\n",
    "    \"winner.lastTournamentDelayW\",\n",
    "    \"looser.lastTournamentDelayW\",\n",
    "    \"match.domHands\",\n",
    "    \"match.tournamentRound\",\n",
    "    \"match.hadTieBreaker\", \n",
    "    \"tournament.dateDistance\"\n",
    ")\n",
    "form <- create.formula(input.names = vars, outcome.name = \"match.setsCount\", dat = df)\n",
    "print(form$formula)\n",
    "print(form$inclusion.table$include.variable)"
   ]
  },
  {
   "cell_type": "code",
   "execution_count": 27,
   "id": "dddf5f26-a4e3-4a00-83fb-44bb022ff83d",
   "metadata": {
    "vscode": {
     "languageId": "r"
    }
   },
   "outputs": [
    {
     "name": "stdout",
     "output_type": "stream",
     "text": [
      "5.12 sec elapsed\n"
     ]
    },
    {
     "data": {
      "text/html": [
       "<table class=\"dataframe\">\n",
       "<caption>A tibble: 4 × 6</caption>\n",
       "<thead>\n",
       "\t<tr><th scope=col>.metric</th><th scope=col>.estimator</th><th scope=col>mean</th><th scope=col>n</th><th scope=col>std_err</th><th scope=col>.config</th></tr>\n",
       "\t<tr><th scope=col>&lt;chr&gt;</th><th scope=col>&lt;chr&gt;</th><th scope=col>&lt;dbl&gt;</th><th scope=col>&lt;int&gt;</th><th scope=col>&lt;dbl&gt;</th><th scope=col>&lt;chr&gt;</th></tr>\n",
       "</thead>\n",
       "<tbody>\n",
       "\t<tr><td>accuracy</td><td>binary</td><td>0.6765143</td><td>25</td><td>0.001659724</td><td>Preprocessor1_Model1</td></tr>\n",
       "\t<tr><td>f_meas  </td><td>binary</td><td>0.7796199</td><td>25</td><td>0.001374097</td><td>Preprocessor1_Model1</td></tr>\n",
       "\t<tr><td>pr_auc  </td><td>binary</td><td>0.7238419</td><td>25</td><td>0.002138314</td><td>Preprocessor1_Model1</td></tr>\n",
       "\t<tr><td>roc_auc </td><td>binary</td><td>0.6125514</td><td>25</td><td>0.001584453</td><td>Preprocessor1_Model1</td></tr>\n",
       "</tbody>\n",
       "</table>\n"
      ],
      "text/latex": [
       "A tibble: 4 × 6\n",
       "\\begin{tabular}{llllll}\n",
       " .metric & .estimator & mean & n & std\\_err & .config\\\\\n",
       " <chr> & <chr> & <dbl> & <int> & <dbl> & <chr>\\\\\n",
       "\\hline\n",
       "\t accuracy & binary & 0.6765143 & 25 & 0.001659724 & Preprocessor1\\_Model1\\\\\n",
       "\t f\\_meas   & binary & 0.7796199 & 25 & 0.001374097 & Preprocessor1\\_Model1\\\\\n",
       "\t pr\\_auc   & binary & 0.7238419 & 25 & 0.002138314 & Preprocessor1\\_Model1\\\\\n",
       "\t roc\\_auc  & binary & 0.6125514 & 25 & 0.001584453 & Preprocessor1\\_Model1\\\\\n",
       "\\end{tabular}\n"
      ],
      "text/markdown": [
       "\n",
       "A tibble: 4 × 6\n",
       "\n",
       "| .metric &lt;chr&gt; | .estimator &lt;chr&gt; | mean &lt;dbl&gt; | n &lt;int&gt; | std_err &lt;dbl&gt; | .config &lt;chr&gt; |\n",
       "|---|---|---|---|---|---|\n",
       "| accuracy | binary | 0.6765143 | 25 | 0.001659724 | Preprocessor1_Model1 |\n",
       "| f_meas   | binary | 0.7796199 | 25 | 0.001374097 | Preprocessor1_Model1 |\n",
       "| pr_auc   | binary | 0.7238419 | 25 | 0.002138314 | Preprocessor1_Model1 |\n",
       "| roc_auc  | binary | 0.6125514 | 25 | 0.001584453 | Preprocessor1_Model1 |\n",
       "\n"
      ],
      "text/plain": [
       "  .metric  .estimator mean      n  std_err     .config             \n",
       "1 accuracy binary     0.6765143 25 0.001659724 Preprocessor1_Model1\n",
       "2 f_meas   binary     0.7796199 25 0.001374097 Preprocessor1_Model1\n",
       "3 pr_auc   binary     0.7238419 25 0.002138314 Preprocessor1_Model1\n",
       "4 roc_auc  binary     0.6125514 25 0.001584453 Preprocessor1_Model1"
      ]
     },
     "metadata": {},
     "output_type": "display_data"
    }
   ],
   "source": [
    "# primeiro modelo\n",
    "library(tictoc)\n",
    "tic()\n",
    "df.featureSelect.model %>% add_formula(form$formula) %>% fit_resamples(df.folds, metrics = df.metrics, control = control_grid(save_pred = TRUE)) -> df.featureSelect.firstModel\n",
    "toc(log=T)\n",
    "collect_metrics(df.featureSelect.firstModel)"
   ]
  },
  {
   "cell_type": "code",
   "execution_count": 28,
   "id": "6ba244ae-6227-4949-a743-b179215cede7",
   "metadata": {
    "vscode": {
     "languageId": "r"
    }
   },
   "outputs": [
    {
     "name": "stderr",
     "output_type": "stream",
     "text": [
      "Setting levels: control = 2, case = 3\n",
      "\n",
      "Setting direction: controls > cases\n",
      "\n"
     ]
    },
    {
     "data": {
      "image/png": "[encoded data removed]",
      "text/plain": [
       "plot without title"
      ]
     },
     "metadata": {
      "image/png": {
       "height": 420,
       "width": 420
      }
     },
     "output_type": "display_data"
    }
   ],
   "source": [
    "# curva roc do primeiro\n",
    "pred <- collect_predictions(df.featureSelect.firstModel)\n",
    "pred %>% pROC::roc(match.setsCount, .pred_2) %>% plot()"
   ]
  },
  {
   "cell_type": "code",
   "execution_count": 29,
   "id": "3817fd8c-f65a-4741-a4a7-05442281dce4",
   "metadata": {
    "vscode": {
     "languageId": "r"
    }
   },
   "outputs": [],
   "source": [
    "featuresFit <- function(formula){\n",
    "    tic()\n",
    "    df.featureSelect.model %>% add_formula(formula$formula) %>% fit_resamples(df.folds, metrics = df.metrics) -> fitted\n",
    "    toc(log=T)\n",
    "    list(\n",
    "        metrics = collect_metrics(fitted)                          %>% dplyr::select(metric = .metric, mean),\n",
    "        preds   = collect_predictions(df.featureSelect.firstModel),\n",
    "        roc     = collect_predictions(df.featureSelect.firstModel) %>% pROC::roc(match.setsCount, .pred_2)\n",
    "    )\n",
    "}\n",
    "cformula <-  function(inputs) {\n",
    "    create.formula(input.names = inputs, outcome.name = \"match.setsCount\", dat = df)\n",
    "}\n",
    "compare <- function(first, modelsToCompare) {\n",
    "    final <- tibble(\n",
    "        metric = first$metric,\n",
    "        before = first$mean\n",
    "    )\n",
    "    # now add the other models as the difference to the first\n",
    "    i = 0\n",
    "    for (model in modelsToCompare) {\n",
    "        i = i + 1\n",
    "        final <- final %>% add_column(!!paste0(\"model\", i) := model$mean - first$mean)\n",
    "    }\n",
    "    final\n",
    "}"
   ]
  },
  {
   "cell_type": "code",
   "execution_count": 30,
   "id": "4564620c-55c7-41d4-b7e2-a3c070633217",
   "metadata": {
    "vscode": {
     "languageId": "r"
    }
   },
   "outputs": [
    {
     "name": "stdout",
     "output_type": "stream",
     "text": [
      "5.25 sec elapsed\n"
     ]
    },
    {
     "name": "stderr",
     "output_type": "stream",
     "text": [
      "Setting levels: control = 2, case = 3\n",
      "\n",
      "Setting direction: controls > cases\n",
      "\n"
     ]
    },
    {
     "name": "stdout",
     "output_type": "stream",
     "text": [
      "5.19 sec elapsed\n"
     ]
    },
    {
     "name": "stderr",
     "output_type": "stream",
     "text": [
      "Setting levels: control = 2, case = 3\n",
      "\n",
      "Setting direction: controls > cases\n",
      "\n"
     ]
    },
    {
     "name": "stdout",
     "output_type": "stream",
     "text": [
      "5.22 sec elapsed\n"
     ]
    },
    {
     "name": "stderr",
     "output_type": "stream",
     "text": [
      "Setting levels: control = 2, case = 3\n",
      "\n",
      "Setting direction: controls > cases\n",
      "\n"
     ]
    },
    {
     "name": "stdout",
     "output_type": "stream",
     "text": [
      "5.05 sec elapsed\n"
     ]
    },
    {
     "name": "stderr",
     "output_type": "stream",
     "text": [
      "Setting levels: control = 2, case = 3\n",
      "\n",
      "Setting direction: controls > cases\n",
      "\n"
     ]
    },
    {
     "data": {
      "text/html": [
       "<table class=\"dataframe\">\n",
       "<caption>A data.frame: 4 × 8</caption>\n",
       "<thead>\n",
       "\t<tr><th scope=col>metric</th><th scope=col>mean</th><th scope=col>metric</th><th scope=col>mean</th><th scope=col>metric</th><th scope=col>mean</th><th scope=col>metric</th><th scope=col>mean</th></tr>\n",
       "\t<tr><th scope=col>&lt;chr&gt;</th><th scope=col>&lt;dbl&gt;</th><th scope=col>&lt;chr&gt;</th><th scope=col>&lt;dbl&gt;</th><th scope=col>&lt;chr&gt;</th><th scope=col>&lt;dbl&gt;</th><th scope=col>&lt;chr&gt;</th><th scope=col>&lt;dbl&gt;</th></tr>\n",
       "</thead>\n",
       "<tbody>\n",
       "\t<tr><td>accuracy</td><td>0.6765143</td><td>accuracy</td><td>0.6790246</td><td>accuracy</td><td>0.6790469</td><td>accuracy</td><td>0.6771724</td></tr>\n",
       "\t<tr><td>f_meas  </td><td>0.7796199</td><td>f_meas  </td><td>0.7844442</td><td>f_meas  </td><td>0.7844720</td><td>f_meas  </td><td>0.7810586</td></tr>\n",
       "\t<tr><td>pr_auc  </td><td>0.7238419</td><td>pr_auc  </td><td>0.7480742</td><td>pr_auc  </td><td>0.7484085</td><td>pr_auc  </td><td>0.7278242</td></tr>\n",
       "\t<tr><td>roc_auc </td><td>0.6125514</td><td>roc_auc </td><td>0.6251664</td><td>roc_auc </td><td>0.6254390</td><td>roc_auc </td><td>0.6145628</td></tr>\n",
       "</tbody>\n",
       "</table>\n"
      ],
      "text/latex": [
       "A data.frame: 4 × 8\n",
       "\\begin{tabular}{llllllll}\n",
       " metric & mean & metric & mean & metric & mean & metric & mean\\\\\n",
       " <chr> & <dbl> & <chr> & <dbl> & <chr> & <dbl> & <chr> & <dbl>\\\\\n",
       "\\hline\n",
       "\t accuracy & 0.6765143 & accuracy & 0.6790246 & accuracy & 0.6790469 & accuracy & 0.6771724\\\\\n",
       "\t f\\_meas   & 0.7796199 & f\\_meas   & 0.7844442 & f\\_meas   & 0.7844720 & f\\_meas   & 0.7810586\\\\\n",
       "\t pr\\_auc   & 0.7238419 & pr\\_auc   & 0.7480742 & pr\\_auc   & 0.7484085 & pr\\_auc   & 0.7278242\\\\\n",
       "\t roc\\_auc  & 0.6125514 & roc\\_auc  & 0.6251664 & roc\\_auc  & 0.6254390 & roc\\_auc  & 0.6145628\\\\\n",
       "\\end{tabular}\n"
      ],
      "text/markdown": [
       "\n",
       "A data.frame: 4 × 8\n",
       "\n",
       "| metric &lt;chr&gt; | mean &lt;dbl&gt; | metric &lt;chr&gt; | mean &lt;dbl&gt; | metric &lt;chr&gt; | mean &lt;dbl&gt; | metric &lt;chr&gt; | mean &lt;dbl&gt; |\n",
       "|---|---|---|---|---|---|---|---|\n",
       "| accuracy | 0.6765143 | accuracy | 0.6790246 | accuracy | 0.6790469 | accuracy | 0.6771724 |\n",
       "| f_meas   | 0.7796199 | f_meas   | 0.7844442 | f_meas   | 0.7844720 | f_meas   | 0.7810586 |\n",
       "| pr_auc   | 0.7238419 | pr_auc   | 0.7480742 | pr_auc   | 0.7484085 | pr_auc   | 0.7278242 |\n",
       "| roc_auc  | 0.6125514 | roc_auc  | 0.6251664 | roc_auc  | 0.6254390 | roc_auc  | 0.6145628 |\n",
       "\n"
      ],
      "text/plain": [
       "  metric   mean      metric   mean      metric   mean      metric   mean     \n",
       "1 accuracy 0.6765143 accuracy 0.6790246 accuracy 0.6790469 accuracy 0.6771724\n",
       "2 f_meas   0.7796199 f_meas   0.7844442 f_meas   0.7844720 f_meas   0.7810586\n",
       "3 pr_auc   0.7238419 pr_auc   0.7480742 pr_auc   0.7484085 pr_auc   0.7278242\n",
       "4 roc_auc  0.6125514 roc_auc  0.6251664 roc_auc  0.6254390 roc_auc  0.6145628"
      ]
     },
     "metadata": {},
     "output_type": "display_data"
    }
   ],
   "source": [
    "# rank\n",
    "firstModel  <- featuresFit(cformula(c(vars                              )))$metrics\n",
    "directRanks <- featuresFit(cformula(c(vars, \"winner.rank\", \"looser.rank\")))$metrics\n",
    "diffRanks   <- featuresFit(cformula(c(vars, \"match.diffRank\"            )))$metrics\n",
    "avgRanks    <- featuresFit(cformula(c(vars, \"match.avgRank\"             )))$metrics\n",
    "cbind(firstModel, directRanks, diffRanks, avgRanks)"
   ]
  },
  {
   "cell_type": "code",
   "execution_count": 31,
   "id": "17a9635c",
   "metadata": {
    "vscode": {
     "languageId": "r"
    }
   },
   "outputs": [
    {
     "data": {
      "text/html": [
       "<table class=\"dataframe\">\n",
       "<caption>A tibble: 4 × 5</caption>\n",
       "<thead>\n",
       "\t<tr><th scope=col>metric</th><th scope=col>before</th><th scope=col>model1</th><th scope=col>model2</th><th scope=col>model3</th></tr>\n",
       "\t<tr><th scope=col>&lt;chr&gt;</th><th scope=col>&lt;dbl&gt;</th><th scope=col>&lt;dbl&gt;</th><th scope=col>&lt;dbl&gt;</th><th scope=col>&lt;dbl&gt;</th></tr>\n",
       "</thead>\n",
       "<tbody>\n",
       "\t<tr><td>accuracy</td><td>0.6765143</td><td>0.002510348</td><td>0.002532667</td><td>0.0006581865</td></tr>\n",
       "\t<tr><td>f_meas  </td><td>0.7796199</td><td>0.004824245</td><td>0.004852115</td><td>0.0014387073</td></tr>\n",
       "\t<tr><td>pr_auc  </td><td>0.7238419</td><td>0.024232322</td><td>0.024566566</td><td>0.0039822703</td></tr>\n",
       "\t<tr><td>roc_auc </td><td>0.6125514</td><td>0.012615011</td><td>0.012887600</td><td>0.0020114347</td></tr>\n",
       "</tbody>\n",
       "</table>\n"
      ],
      "text/latex": [
       "A tibble: 4 × 5\n",
       "\\begin{tabular}{lllll}\n",
       " metric & before & model1 & model2 & model3\\\\\n",
       " <chr> & <dbl> & <dbl> & <dbl> & <dbl>\\\\\n",
       "\\hline\n",
       "\t accuracy & 0.6765143 & 0.002510348 & 0.002532667 & 0.0006581865\\\\\n",
       "\t f\\_meas   & 0.7796199 & 0.004824245 & 0.004852115 & 0.0014387073\\\\\n",
       "\t pr\\_auc   & 0.7238419 & 0.024232322 & 0.024566566 & 0.0039822703\\\\\n",
       "\t roc\\_auc  & 0.6125514 & 0.012615011 & 0.012887600 & 0.0020114347\\\\\n",
       "\\end{tabular}\n"
      ],
      "text/markdown": [
       "\n",
       "A tibble: 4 × 5\n",
       "\n",
       "| metric &lt;chr&gt; | before &lt;dbl&gt; | model1 &lt;dbl&gt; | model2 &lt;dbl&gt; | model3 &lt;dbl&gt; |\n",
       "|---|---|---|---|---|\n",
       "| accuracy | 0.6765143 | 0.002510348 | 0.002532667 | 0.0006581865 |\n",
       "| f_meas   | 0.7796199 | 0.004824245 | 0.004852115 | 0.0014387073 |\n",
       "| pr_auc   | 0.7238419 | 0.024232322 | 0.024566566 | 0.0039822703 |\n",
       "| roc_auc  | 0.6125514 | 0.012615011 | 0.012887600 | 0.0020114347 |\n",
       "\n"
      ],
      "text/plain": [
       "  metric   before    model1      model2      model3      \n",
       "1 accuracy 0.6765143 0.002510348 0.002532667 0.0006581865\n",
       "2 f_meas   0.7796199 0.004824245 0.004852115 0.0014387073\n",
       "3 pr_auc   0.7238419 0.024232322 0.024566566 0.0039822703\n",
       "4 roc_auc  0.6125514 0.012615011 0.012887600 0.0020114347"
      ]
     },
     "metadata": {},
     "output_type": "display_data"
    }
   ],
   "source": [
    "# no scientific notation\n",
    "options(scipen=999)\n",
    "before <- firstModel\n",
    "compare(before, list(directRanks, diffRanks, avgRanks))"
   ]
  },
  {
   "cell_type": "code",
   "execution_count": 32,
   "id": "4fc3e1e9-50ec-4125-a735-3bf256552f6b",
   "metadata": {
    "vscode": {
     "languageId": "r"
    }
   },
   "outputs": [
    {
     "name": "stdout",
     "output_type": "stream",
     "text": [
      "6.04 sec elapsed\n"
     ]
    },
    {
     "name": "stderr",
     "output_type": "stream",
     "text": [
      "Setting levels: control = 2, case = 3\n",
      "\n",
      "Setting direction: controls > cases\n",
      "\n"
     ]
    },
    {
     "name": "stdout",
     "output_type": "stream",
     "text": [
      "5.92 sec elapsed\n"
     ]
    },
    {
     "name": "stderr",
     "output_type": "stream",
     "text": [
      "Setting levels: control = 2, case = 3\n",
      "\n",
      "Setting direction: controls > cases\n",
      "\n"
     ]
    },
    {
     "name": "stdout",
     "output_type": "stream",
     "text": [
      "6.45 sec elapsed\n"
     ]
    },
    {
     "name": "stderr",
     "output_type": "stream",
     "text": [
      "Setting levels: control = 2, case = 3\n",
      "\n",
      "Setting direction: controls > cases\n",
      "\n"
     ]
    },
    {
     "name": "stdout",
     "output_type": "stream",
     "text": [
      "5.43 sec elapsed\n"
     ]
    },
    {
     "name": "stderr",
     "output_type": "stream",
     "text": [
      "Setting levels: control = 2, case = 3\n",
      "\n",
      "Setting direction: controls > cases\n",
      "\n"
     ]
    },
    {
     "name": "stdout",
     "output_type": "stream",
     "text": [
      "5.6 sec elapsed\n"
     ]
    },
    {
     "name": "stderr",
     "output_type": "stream",
     "text": [
      "Setting levels: control = 2, case = 3\n",
      "\n",
      "Setting direction: controls > cases\n",
      "\n"
     ]
    },
    {
     "name": "stdout",
     "output_type": "stream",
     "text": [
      "6.22 sec elapsed\n"
     ]
    },
    {
     "name": "stderr",
     "output_type": "stream",
     "text": [
      "Setting levels: control = 2, case = 3\n",
      "\n",
      "Setting direction: controls > cases\n",
      "\n"
     ]
    },
    {
     "name": "stdout",
     "output_type": "stream",
     "text": [
      "5.41 sec elapsed\n"
     ]
    },
    {
     "name": "stderr",
     "output_type": "stream",
     "text": [
      "Setting levels: control = 2, case = 3\n",
      "\n",
      "Setting direction: controls > cases\n",
      "\n"
     ]
    },
    {
     "name": "stdout",
     "output_type": "stream",
     "text": [
      "5.54 sec elapsed\n"
     ]
    },
    {
     "name": "stderr",
     "output_type": "stream",
     "text": [
      "Setting levels: control = 2, case = 3\n",
      "\n",
      "Setting direction: controls > cases\n",
      "\n"
     ]
    },
    {
     "name": "stdout",
     "output_type": "stream",
     "text": [
      "5.55 sec elapsed\n"
     ]
    },
    {
     "name": "stderr",
     "output_type": "stream",
     "text": [
      "Setting levels: control = 2, case = 3\n",
      "\n",
      "Setting direction: controls > cases\n",
      "\n"
     ]
    },
    {
     "data": {
      "text/html": [
       "<table class=\"dataframe\">\n",
       "<caption>A tibble: 4 × 11</caption>\n",
       "<thead>\n",
       "\t<tr><th scope=col>metric</th><th scope=col>before</th><th scope=col>model1</th><th scope=col>model2</th><th scope=col>model3</th><th scope=col>model4</th><th scope=col>model5</th><th scope=col>model6</th><th scope=col>model7</th><th scope=col>model8</th><th scope=col>model9</th></tr>\n",
       "\t<tr><th scope=col>&lt;chr&gt;</th><th scope=col>&lt;dbl&gt;</th><th scope=col>&lt;dbl&gt;</th><th scope=col>&lt;dbl&gt;</th><th scope=col>&lt;dbl&gt;</th><th scope=col>&lt;dbl&gt;</th><th scope=col>&lt;dbl&gt;</th><th scope=col>&lt;dbl&gt;</th><th scope=col>&lt;dbl&gt;</th><th scope=col>&lt;dbl&gt;</th><th scope=col>&lt;dbl&gt;</th></tr>\n",
       "</thead>\n",
       "<tbody>\n",
       "\t<tr><td>accuracy</td><td>0.6790469</td><td>0.001238103</td><td>0.001052394</td><td>0.001306304</td><td>-0.0009372697</td><td>-0.000066948718</td><td>0.001306304</td><td>-0.000066948718</td><td>-0.0009372697</td><td>-0.000066948718</td></tr>\n",
       "\t<tr><td>f_meas  </td><td>0.7844720</td><td>0.001366604</td><td>0.001259465</td><td>0.001461325</td><td>-0.0002038398</td><td> 0.000004853335</td><td>0.001461325</td><td> 0.000004853335</td><td>-0.0002038398</td><td> 0.000004853335</td></tr>\n",
       "\t<tr><td>pr_auc  </td><td>0.7484085</td><td>0.003453219</td><td>0.002116859</td><td>0.003264937</td><td>-0.0002475573</td><td>-0.000060742909</td><td>0.003264937</td><td>-0.000060742909</td><td>-0.0002475573</td><td>-0.000060742909</td></tr>\n",
       "\t<tr><td>roc_auc </td><td>0.6254390</td><td>0.003604134</td><td>0.002114586</td><td>0.003566600</td><td> 0.0002653753</td><td>-0.000041433216</td><td>0.003566600</td><td>-0.000041433216</td><td> 0.0002653753</td><td>-0.000041433216</td></tr>\n",
       "</tbody>\n",
       "</table>\n"
      ],
      "text/latex": [
       "A tibble: 4 × 11\n",
       "\\begin{tabular}{lllllllllll}\n",
       " metric & before & model1 & model2 & model3 & model4 & model5 & model6 & model7 & model8 & model9\\\\\n",
       " <chr> & <dbl> & <dbl> & <dbl> & <dbl> & <dbl> & <dbl> & <dbl> & <dbl> & <dbl> & <dbl>\\\\\n",
       "\\hline\n",
       "\t accuracy & 0.6790469 & 0.001238103 & 0.001052394 & 0.001306304 & -0.0009372697 & -0.000066948718 & 0.001306304 & -0.000066948718 & -0.0009372697 & -0.000066948718\\\\\n",
       "\t f\\_meas   & 0.7844720 & 0.001366604 & 0.001259465 & 0.001461325 & -0.0002038398 &  0.000004853335 & 0.001461325 &  0.000004853335 & -0.0002038398 &  0.000004853335\\\\\n",
       "\t pr\\_auc   & 0.7484085 & 0.003453219 & 0.002116859 & 0.003264937 & -0.0002475573 & -0.000060742909 & 0.003264937 & -0.000060742909 & -0.0002475573 & -0.000060742909\\\\\n",
       "\t roc\\_auc  & 0.6254390 & 0.003604134 & 0.002114586 & 0.003566600 &  0.0002653753 & -0.000041433216 & 0.003566600 & -0.000041433216 &  0.0002653753 & -0.000041433216\\\\\n",
       "\\end{tabular}\n"
      ],
      "text/markdown": [
       "\n",
       "A tibble: 4 × 11\n",
       "\n",
       "| metric &lt;chr&gt; | before &lt;dbl&gt; | model1 &lt;dbl&gt; | model2 &lt;dbl&gt; | model3 &lt;dbl&gt; | model4 &lt;dbl&gt; | model5 &lt;dbl&gt; | model6 &lt;dbl&gt; | model7 &lt;dbl&gt; | model8 &lt;dbl&gt; | model9 &lt;dbl&gt; |\n",
       "|---|---|---|---|---|---|---|---|---|---|---|\n",
       "| accuracy | 0.6790469 | 0.001238103 | 0.001052394 | 0.001306304 | -0.0009372697 | -0.000066948718 | 0.001306304 | -0.000066948718 | -0.0009372697 | -0.000066948718 |\n",
       "| f_meas   | 0.7844720 | 0.001366604 | 0.001259465 | 0.001461325 | -0.0002038398 |  0.000004853335 | 0.001461325 |  0.000004853335 | -0.0002038398 |  0.000004853335 |\n",
       "| pr_auc   | 0.7484085 | 0.003453219 | 0.002116859 | 0.003264937 | -0.0002475573 | -0.000060742909 | 0.003264937 | -0.000060742909 | -0.0002475573 | -0.000060742909 |\n",
       "| roc_auc  | 0.6254390 | 0.003604134 | 0.002114586 | 0.003566600 |  0.0002653753 | -0.000041433216 | 0.003566600 | -0.000041433216 |  0.0002653753 | -0.000041433216 |\n",
       "\n"
      ],
      "text/plain": [
       "  metric   before    model1      model2      model3      model4       \n",
       "1 accuracy 0.6790469 0.001238103 0.001052394 0.001306304 -0.0009372697\n",
       "2 f_meas   0.7844720 0.001366604 0.001259465 0.001461325 -0.0002038398\n",
       "3 pr_auc   0.7484085 0.003453219 0.002116859 0.003264937 -0.0002475573\n",
       "4 roc_auc  0.6254390 0.003604134 0.002114586 0.003566600  0.0002653753\n",
       "  model5          model6      model7          model8        model9         \n",
       "1 -0.000066948718 0.001306304 -0.000066948718 -0.0009372697 -0.000066948718\n",
       "2  0.000004853335 0.001461325  0.000004853335 -0.0002038398  0.000004853335\n",
       "3 -0.000060742909 0.003264937 -0.000060742909 -0.0002475573 -0.000060742909\n",
       "4 -0.000041433216 0.003566600 -0.000041433216  0.0002653753 -0.000041433216"
      ]
     },
     "metadata": {},
     "output_type": "display_data"
    }
   ],
   "source": [
    "# diffRanks best\n",
    "vars <- c(vars, \"match.diffRank\")\n",
    "before <- diffRanks\n",
    "# now born\n",
    "bornAt           <- featuresFit(cformula(c(vars, \"winner.bornAt\", \"looser.bornAt\")))$metrics\n",
    "bornAt_tournFreq <- featuresFit(cformula(c(vars, \"winner.bornAt\", \"looser.bornAt\", \"winner.bornAt.tournFreq\", \"looser.bornAt.tournFreq\")))$metrics\n",
    "bornAt_hasTourn  <- featuresFit(cformula(c(vars, \"winner.bornAt\", \"looser.bornAt\", \"winner.bornAt.hasTourn\", \"looser.bornAt.hasTourn\"  )) )$metrics\n",
    "tournFreq        <- featuresFit(cformula(c(vars, \"winner.bornAt.tournFreq\", \"looser.bornAt.tournFreq\")))$metrics\n",
    "hasTourn         <- featuresFit(cformula(c(vars, \"winner.bornAt.hasTourn\", \"looser.bornAt.hasTourn\"  )) )$metrics\n",
    "bornAt_hasTournXor <- featuresFit(cformula(c(vars, \"winner.bornAt\", \"looser.bornAt\", \"match.playersBorn.hasTournXor\")) )$metrics\n",
    "hasTournXor      <- featuresFit(cformula(c(vars, \"match.playersBorn.hasTournXor\"  )) )$metrics\n",
    "bornAt_tournFreqDiff <- featuresFit(cformula(c(vars, \"winner.bornAt.tournFreq\", \"looser.bornAt.tournFreq\", \"match.playersBorn.tournFreqDiff\")))$metrics\n",
    "tournFreqDiff    <- featuresFit(cformula(c(vars, \"match.playersBorn.tournFreqDiff\")))$metrics\n",
    "compare(before, list(bornAt, bornAt_tournFreq, bornAt_hasTourn, tournFreq, hasTourn, bornAt_hasTournXor, hasTournXor, bornAt_tournFreqDiff, tournFreqDiff))"
   ]
  },
  {
   "cell_type": "code",
   "execution_count": 37,
   "id": "1ecdd47a",
   "metadata": {
    "vscode": {
     "languageId": "r"
    }
   },
   "outputs": [
    {
     "name": "stdout",
     "output_type": "stream",
     "text": [
      "6.36 sec elapsed\n"
     ]
    },
    {
     "name": "stderr",
     "output_type": "stream",
     "text": [
      "Setting levels: control = 2, case = 3\n",
      "\n",
      "Setting direction: controls > cases\n",
      "\n"
     ]
    },
    {
     "name": "stdout",
     "output_type": "stream",
     "text": [
      "13.76 sec elapsed\n"
     ]
    },
    {
     "name": "stderr",
     "output_type": "stream",
     "text": [
      "Setting levels: control = 2, case = 3\n",
      "\n",
      "Setting direction: controls > cases\n",
      "\n"
     ]
    },
    {
     "name": "stdout",
     "output_type": "stream",
     "text": [
      "6.48 sec elapsed\n"
     ]
    },
    {
     "name": "stderr",
     "output_type": "stream",
     "text": [
      "Setting levels: control = 2, case = 3\n",
      "\n",
      "Setting direction: controls > cases\n",
      "\n"
     ]
    },
    {
     "name": "stdout",
     "output_type": "stream",
     "text": [
      "6.07 sec elapsed\n"
     ]
    },
    {
     "name": "stderr",
     "output_type": "stream",
     "text": [
      "Setting levels: control = 2, case = 3\n",
      "\n",
      "Setting direction: controls > cases\n",
      "\n"
     ]
    },
    {
     "name": "stdout",
     "output_type": "stream",
     "text": [
      "5.73 sec elapsed\n"
     ]
    },
    {
     "name": "stderr",
     "output_type": "stream",
     "text": [
      "Setting levels: control = 2, case = 3\n",
      "\n",
      "Setting direction: controls > cases\n",
      "\n"
     ]
    },
    {
     "name": "stdout",
     "output_type": "stream",
     "text": [
      "7.23 sec elapsed\n"
     ]
    },
    {
     "name": "stderr",
     "output_type": "stream",
     "text": [
      "Setting levels: control = 2, case = 3\n",
      "\n",
      "Setting direction: controls > cases\n",
      "\n"
     ]
    },
    {
     "data": {
      "text/html": [
       "<table class=\"dataframe\">\n",
       "<caption>A tibble: 4 × 8</caption>\n",
       "<thead>\n",
       "\t<tr><th scope=col>metric</th><th scope=col>before</th><th scope=col>model1</th><th scope=col>model2</th><th scope=col>model3</th><th scope=col>model4</th><th scope=col>model5</th><th scope=col>model6</th></tr>\n",
       "\t<tr><th scope=col>&lt;chr&gt;</th><th scope=col>&lt;dbl&gt;</th><th scope=col>&lt;dbl&gt;</th><th scope=col>&lt;dbl&gt;</th><th scope=col>&lt;dbl&gt;</th><th scope=col>&lt;dbl&gt;</th><th scope=col>&lt;dbl&gt;</th><th scope=col>&lt;dbl&gt;</th></tr>\n",
       "</thead>\n",
       "<tbody>\n",
       "\t<tr><td>accuracy</td><td>0.6802850</td><td>0.0006569876</td><td>-0.00123605152</td><td> 0.00014649272</td><td>-0.00003471421</td><td>0.00006770546</td><td>0.0010538065</td></tr>\n",
       "\t<tr><td>f_meas  </td><td>0.7858386</td><td>0.0006868869</td><td> 0.00008340659</td><td> 0.00025583446</td><td> 0.00011968147</td><td>0.00015535893</td><td>0.0012061045</td></tr>\n",
       "\t<tr><td>pr_auc  </td><td>0.7518617</td><td>0.0007312841</td><td> 0.00236642481</td><td> 0.00009998103</td><td> 0.00043893053</td><td>0.00038179513</td><td>0.0010633460</td></tr>\n",
       "\t<tr><td>roc_auc </td><td>0.6290431</td><td>0.0002337923</td><td> 0.00363072884</td><td>-0.00034555806</td><td>-0.00002229160</td><td>0.00039700441</td><td>0.0005565433</td></tr>\n",
       "</tbody>\n",
       "</table>\n"
      ],
      "text/latex": [
       "A tibble: 4 × 8\n",
       "\\begin{tabular}{llllllll}\n",
       " metric & before & model1 & model2 & model3 & model4 & model5 & model6\\\\\n",
       " <chr> & <dbl> & <dbl> & <dbl> & <dbl> & <dbl> & <dbl> & <dbl>\\\\\n",
       "\\hline\n",
       "\t accuracy & 0.6802850 & 0.0006569876 & -0.00123605152 &  0.00014649272 & -0.00003471421 & 0.00006770546 & 0.0010538065\\\\\n",
       "\t f\\_meas   & 0.7858386 & 0.0006868869 &  0.00008340659 &  0.00025583446 &  0.00011968147 & 0.00015535893 & 0.0012061045\\\\\n",
       "\t pr\\_auc   & 0.7518617 & 0.0007312841 &  0.00236642481 &  0.00009998103 &  0.00043893053 & 0.00038179513 & 0.0010633460\\\\\n",
       "\t roc\\_auc  & 0.6290431 & 0.0002337923 &  0.00363072884 & -0.00034555806 & -0.00002229160 & 0.00039700441 & 0.0005565433\\\\\n",
       "\\end{tabular}\n"
      ],
      "text/markdown": [
       "\n",
       "A tibble: 4 × 8\n",
       "\n",
       "| metric &lt;chr&gt; | before &lt;dbl&gt; | model1 &lt;dbl&gt; | model2 &lt;dbl&gt; | model3 &lt;dbl&gt; | model4 &lt;dbl&gt; | model5 &lt;dbl&gt; | model6 &lt;dbl&gt; |\n",
       "|---|---|---|---|---|---|---|---|\n",
       "| accuracy | 0.6802850 | 0.0006569876 | -0.00123605152 |  0.00014649272 | -0.00003471421 | 0.00006770546 | 0.0010538065 |\n",
       "| f_meas   | 0.7858386 | 0.0006868869 |  0.00008340659 |  0.00025583446 |  0.00011968147 | 0.00015535893 | 0.0012061045 |\n",
       "| pr_auc   | 0.7518617 | 0.0007312841 |  0.00236642481 |  0.00009998103 |  0.00043893053 | 0.00038179513 | 0.0010633460 |\n",
       "| roc_auc  | 0.6290431 | 0.0002337923 |  0.00363072884 | -0.00034555806 | -0.00002229160 | 0.00039700441 | 0.0005565433 |\n",
       "\n"
      ],
      "text/plain": [
       "  metric   before    model1       model2         model3         model4        \n",
       "1 accuracy 0.6802850 0.0006569876 -0.00123605152  0.00014649272 -0.00003471421\n",
       "2 f_meas   0.7858386 0.0006868869  0.00008340659  0.00025583446  0.00011968147\n",
       "3 pr_auc   0.7518617 0.0007312841  0.00236642481  0.00009998103  0.00043893053\n",
       "4 roc_auc  0.6290431 0.0002337923  0.00363072884 -0.00034555806 -0.00002229160\n",
       "  model5        model6      \n",
       "1 0.00006770546 0.0010538065\n",
       "2 0.00015535893 0.0012061045\n",
       "3 0.00038179513 0.0010633460\n",
       "4 0.00039700441 0.0005565433"
      ]
     },
     "metadata": {},
     "output_type": "display_data"
    }
   ],
   "source": [
    "# melhor é o bornAt\n",
    "vars <- c(vars, \"winner.bornAt\", \"looser.bornAt\")\n",
    "before <- bornAt\n",
    "# now height\n",
    "height <- featuresFit(cformula(c(vars, \"winner.height\", \"looser.height\")))$metrics\n",
    "heightF <- featuresFit(cformula(c(vars, \"winner.heightF\", \"looser.heightF\")))$metrics\n",
    "heightFC <- featuresFit(cformula(c(vars, \"winner.heightFC\", \"looser.heightFC\")))$metrics\n",
    "heightDiff <- featuresFit(cformula(c(vars, \"match.diffHeights\")))$metrics\n",
    "heightAvg <- featuresFit(cformula(c(vars, \"match.avgHeights\")))$metrics\n",
    "heights.heightFCvs <- featuresFit(cformula(c(vars, \"match.heightFCvs\")))$metrics\n",
    "\n",
    "compare(before, list(height, heightF, heightFC, heightDiff, heightAvg, heights.heightFCvs))"
   ]
  },
  {
   "cell_type": "code",
   "execution_count": 43,
   "id": "eefad318",
   "metadata": {
    "vscode": {
     "languageId": "r"
    }
   },
   "outputs": [
    {
     "name": "stdout",
     "output_type": "stream",
     "text": [
      "14.36 sec elapsed\n"
     ]
    },
    {
     "name": "stderr",
     "output_type": "stream",
     "text": [
      "Setting levels: control = 2, case = 3\n",
      "\n",
      "Setting direction: controls > cases\n",
      "\n"
     ]
    },
    {
     "name": "stdout",
     "output_type": "stream",
     "text": [
      "13.19 sec elapsed\n"
     ]
    },
    {
     "name": "stderr",
     "output_type": "stream",
     "text": [
      "Setting levels: control = 2, case = 3\n",
      "\n",
      "Setting direction: controls > cases\n",
      "\n"
     ]
    },
    {
     "name": "stdout",
     "output_type": "stream",
     "text": [
      "13.38 sec elapsed\n"
     ]
    },
    {
     "name": "stderr",
     "output_type": "stream",
     "text": [
      "Setting levels: control = 2, case = 3\n",
      "\n",
      "Setting direction: controls > cases\n",
      "\n"
     ]
    },
    {
     "name": "stdout",
     "output_type": "stream",
     "text": [
      "13.33 sec elapsed\n"
     ]
    },
    {
     "name": "stderr",
     "output_type": "stream",
     "text": [
      "Setting levels: control = 2, case = 3\n",
      "\n",
      "Setting direction: controls > cases\n",
      "\n"
     ]
    },
    {
     "name": "stdout",
     "output_type": "stream",
     "text": [
      "13.38 sec elapsed\n"
     ]
    },
    {
     "name": "stderr",
     "output_type": "stream",
     "text": [
      "Setting levels: control = 2, case = 3\n",
      "\n",
      "Setting direction: controls > cases\n",
      "\n"
     ]
    },
    {
     "name": "stdout",
     "output_type": "stream",
     "text": [
      "13.03 sec elapsed\n"
     ]
    },
    {
     "name": "stderr",
     "output_type": "stream",
     "text": [
      "Setting levels: control = 2, case = 3\n",
      "\n",
      "Setting direction: controls > cases\n",
      "\n"
     ]
    },
    {
     "data": {
      "text/html": [
       "<table class=\"dataframe\">\n",
       "<caption>A tibble: 4 × 8</caption>\n",
       "<thead>\n",
       "\t<tr><th scope=col>metric</th><th scope=col>before</th><th scope=col>model1</th><th scope=col>model2</th><th scope=col>model3</th><th scope=col>model4</th><th scope=col>model5</th><th scope=col>model6</th></tr>\n",
       "\t<tr><th scope=col>&lt;chr&gt;</th><th scope=col>&lt;dbl&gt;</th><th scope=col>&lt;dbl&gt;</th><th scope=col>&lt;dbl&gt;</th><th scope=col>&lt;dbl&gt;</th><th scope=col>&lt;dbl&gt;</th><th scope=col>&lt;dbl&gt;</th><th scope=col>&lt;dbl&gt;</th></tr>\n",
       "</thead>\n",
       "<tbody>\n",
       "\t<tr><td>accuracy</td><td>0.6790490</td><td>0.001576876</td><td>0</td><td>0.001315495</td><td>-0.0025050624</td><td>-0.0005204988</td><td> 0.00009112342</td></tr>\n",
       "\t<tr><td>f_meas  </td><td>0.7859221</td><td>0.001491477</td><td>0</td><td>0.001289399</td><td>-0.0009930384</td><td> 0.0006809564</td><td> 0.00006469896</td></tr>\n",
       "\t<tr><td>pr_auc  </td><td>0.7542281</td><td>0.003755752</td><td>0</td><td>0.002580200</td><td> 0.0065662507</td><td> 0.0073592875</td><td> 0.00024748604</td></tr>\n",
       "\t<tr><td>roc_auc </td><td>0.6326739</td><td>0.004547073</td><td>0</td><td>0.003597994</td><td> 0.0078523595</td><td> 0.0104501627</td><td>-0.00015290904</td></tr>\n",
       "</tbody>\n",
       "</table>\n"
      ],
      "text/latex": [
       "A tibble: 4 × 8\n",
       "\\begin{tabular}{llllllll}\n",
       " metric & before & model1 & model2 & model3 & model4 & model5 & model6\\\\\n",
       " <chr> & <dbl> & <dbl> & <dbl> & <dbl> & <dbl> & <dbl> & <dbl>\\\\\n",
       "\\hline\n",
       "\t accuracy & 0.6790490 & 0.001576876 & 0 & 0.001315495 & -0.0025050624 & -0.0005204988 &  0.00009112342\\\\\n",
       "\t f\\_meas   & 0.7859221 & 0.001491477 & 0 & 0.001289399 & -0.0009930384 &  0.0006809564 &  0.00006469896\\\\\n",
       "\t pr\\_auc   & 0.7542281 & 0.003755752 & 0 & 0.002580200 &  0.0065662507 &  0.0073592875 &  0.00024748604\\\\\n",
       "\t roc\\_auc  & 0.6326739 & 0.004547073 & 0 & 0.003597994 &  0.0078523595 &  0.0104501627 & -0.00015290904\\\\\n",
       "\\end{tabular}\n"
      ],
      "text/markdown": [
       "\n",
       "A tibble: 4 × 8\n",
       "\n",
       "| metric &lt;chr&gt; | before &lt;dbl&gt; | model1 &lt;dbl&gt; | model2 &lt;dbl&gt; | model3 &lt;dbl&gt; | model4 &lt;dbl&gt; | model5 &lt;dbl&gt; | model6 &lt;dbl&gt; |\n",
       "|---|---|---|---|---|---|---|---|\n",
       "| accuracy | 0.6790490 | 0.001576876 | 0 | 0.001315495 | -0.0025050624 | -0.0005204988 |  0.00009112342 |\n",
       "| f_meas   | 0.7859221 | 0.001491477 | 0 | 0.001289399 | -0.0009930384 |  0.0006809564 |  0.00006469896 |\n",
       "| pr_auc   | 0.7542281 | 0.003755752 | 0 | 0.002580200 |  0.0065662507 |  0.0073592875 |  0.00024748604 |\n",
       "| roc_auc  | 0.6326739 | 0.004547073 | 0 | 0.003597994 |  0.0078523595 |  0.0104501627 | -0.00015290904 |\n",
       "\n"
      ],
      "text/plain": [
       "  metric   before    model1      model2 model3      model4        model5       \n",
       "1 accuracy 0.6790490 0.001576876 0      0.001315495 -0.0025050624 -0.0005204988\n",
       "2 f_meas   0.7859221 0.001491477 0      0.001289399 -0.0009930384  0.0006809564\n",
       "3 pr_auc   0.7542281 0.003755752 0      0.002580200  0.0065662507  0.0073592875\n",
       "4 roc_auc  0.6326739 0.004547073 0      0.003597994  0.0078523595  0.0104501627\n",
       "  model6        \n",
       "1  0.00009112342\n",
       "2  0.00006469896\n",
       "3  0.00024748604\n",
       "4 -0.00015290904"
      ]
     },
     "metadata": {},
     "output_type": "display_data"
    }
   ],
   "source": [
    "# heightF melhor\n",
    "vars <- c(vars, \"winner.heightF\", \"looser.heightF\")\n",
    "before <- heightF\n",
    "# now n jogos\n",
    "nwins <- featuresFit(cformula(c(vars, \"winner.nwins\", \"looser.nwins\")))$metrics\n",
    "nlooses <- featuresFit(cformula(c(vars, \"winner.nlooses\", \"looser.nlooses\")))$metrics\n",
    "njogos <- featuresFit(cformula(c(vars, \"winner.njogos\", \"looser.njogos\")))$metrics\n",
    "winrate <- featuresFit(cformula(c(vars, \"winner.winrate\", \"looser.winrate\")))$metrics\n",
    "winrate_njogos <- featuresFit(cformula(c(vars, \"winner.winrate\", \"looser.winrate\", \"winner.njogos\", \"looser.njogos\")))$metrics\n",
    "njogosDiff <- featuresFit(cformula(c(vars, \"match.njogosDiff\")))$metrics\n",
    "\n",
    "compare(before, list(nwins, nlooses, njogos, winrate, winrate_njogos, njogosDiff))"
   ]
  },
  {
   "cell_type": "code",
   "execution_count": 45,
   "id": "fe0e22e0",
   "metadata": {
    "vscode": {
     "languageId": "r"
    }
   },
   "outputs": [
    {
     "name": "stdout",
     "output_type": "stream",
     "text": [
      "13.78 sec elapsed\n"
     ]
    },
    {
     "name": "stderr",
     "output_type": "stream",
     "text": [
      "Setting levels: control = 2, case = 3\n",
      "\n",
      "Setting direction: controls > cases\n",
      "\n"
     ]
    },
    {
     "name": "stdout",
     "output_type": "stream",
     "text": [
      "13.55 sec elapsed\n"
     ]
    },
    {
     "name": "stderr",
     "output_type": "stream",
     "text": [
      "Setting levels: control = 2, case = 3\n",
      "\n",
      "Setting direction: controls > cases\n",
      "\n"
     ]
    },
    {
     "data": {
      "text/html": [
       "<table class=\"dataframe\">\n",
       "<caption>A tibble: 4 × 4</caption>\n",
       "<thead>\n",
       "\t<tr><th scope=col>metric</th><th scope=col>before</th><th scope=col>model1</th><th scope=col>model2</th></tr>\n",
       "\t<tr><th scope=col>&lt;chr&gt;</th><th scope=col>&lt;dbl&gt;</th><th scope=col>&lt;dbl&gt;</th><th scope=col>&lt;dbl&gt;</th></tr>\n",
       "</thead>\n",
       "<tbody>\n",
       "\t<tr><td>accuracy</td><td>0.6785285</td><td> 0.00014705841</td><td> 0.000045387198</td></tr>\n",
       "\t<tr><td>f_meas  </td><td>0.7866030</td><td> 0.00007766727</td><td> 0.000001048024</td></tr>\n",
       "\t<tr><td>pr_auc  </td><td>0.7615874</td><td>-0.00025412921</td><td>-0.000169252859</td></tr>\n",
       "\t<tr><td>roc_auc </td><td>0.6431240</td><td>-0.00043073251</td><td>-0.000195974271</td></tr>\n",
       "</tbody>\n",
       "</table>\n"
      ],
      "text/latex": [
       "A tibble: 4 × 4\n",
       "\\begin{tabular}{llll}\n",
       " metric & before & model1 & model2\\\\\n",
       " <chr> & <dbl> & <dbl> & <dbl>\\\\\n",
       "\\hline\n",
       "\t accuracy & 0.6785285 &  0.00014705841 &  0.000045387198\\\\\n",
       "\t f\\_meas   & 0.7866030 &  0.00007766727 &  0.000001048024\\\\\n",
       "\t pr\\_auc   & 0.7615874 & -0.00025412921 & -0.000169252859\\\\\n",
       "\t roc\\_auc  & 0.6431240 & -0.00043073251 & -0.000195974271\\\\\n",
       "\\end{tabular}\n"
      ],
      "text/markdown": [
       "\n",
       "A tibble: 4 × 4\n",
       "\n",
       "| metric &lt;chr&gt; | before &lt;dbl&gt; | model1 &lt;dbl&gt; | model2 &lt;dbl&gt; |\n",
       "|---|---|---|---|\n",
       "| accuracy | 0.6785285 |  0.00014705841 |  0.000045387198 |\n",
       "| f_meas   | 0.7866030 |  0.00007766727 |  0.000001048024 |\n",
       "| pr_auc   | 0.7615874 | -0.00025412921 | -0.000169252859 |\n",
       "| roc_auc  | 0.6431240 | -0.00043073251 | -0.000195974271 |\n",
       "\n"
      ],
      "text/plain": [
       "  metric   before    model1         model2         \n",
       "1 accuracy 0.6785285  0.00014705841  0.000045387198\n",
       "2 f_meas   0.7866030  0.00007766727  0.000001048024\n",
       "3 pr_auc   0.7615874 -0.00025412921 -0.000169252859\n",
       "4 roc_auc  0.6431240 -0.00043073251 -0.000195974271"
      ]
     },
     "metadata": {},
     "output_type": "display_data"
    }
   ],
   "source": [
    "# winrate_njogos melhor\n",
    "vars <- c(vars, \"winner.winrate\", \"looser.winrate\", \"winner.njogos\", \"looser.njogos\")\n",
    "before <- winrate_njogos\n",
    "# now numero do torneio do jogador\n",
    "nTournament <- featuresFit(cformula(c(vars, \"winner.nTournament\", \"looser.nTournament\")))$metrics\n",
    "nTournamentDiff <- featuresFit(cformula(c(vars, \"match.nTournamentDiff\")))$metrics\n",
    "\n",
    "compare(before, list(nTournament, nTournamentDiff))"
   ]
  },
  {
   "cell_type": "code",
   "execution_count": 51,
   "id": "2a1e0594",
   "metadata": {
    "vscode": {
     "languageId": "r"
    }
   },
   "outputs": [
    {
     "name": "stdout",
     "output_type": "stream",
     "text": [
      "16.9 sec elapsed\n"
     ]
    },
    {
     "name": "stderr",
     "output_type": "stream",
     "text": [
      "Setting levels: control = 2, case = 3\n",
      "\n",
      "Setting direction: controls > cases\n",
      "\n"
     ]
    },
    {
     "name": "stdout",
     "output_type": "stream",
     "text": [
      "14.36 sec elapsed\n"
     ]
    },
    {
     "name": "stderr",
     "output_type": "stream",
     "text": [
      "Setting levels: control = 2, case = 3\n",
      "\n",
      "Setting direction: controls > cases\n",
      "\n"
     ]
    },
    {
     "name": "stdout",
     "output_type": "stream",
     "text": [
      "14.56 sec elapsed\n"
     ]
    },
    {
     "name": "stderr",
     "output_type": "stream",
     "text": [
      "Setting levels: control = 2, case = 3\n",
      "\n",
      "Setting direction: controls > cases\n",
      "\n"
     ]
    },
    {
     "data": {
      "text/html": [
       "<table class=\"dataframe\">\n",
       "<caption>A tibble: 4 × 5</caption>\n",
       "<thead>\n",
       "\t<tr><th scope=col>metric</th><th scope=col>before</th><th scope=col>model1</th><th scope=col>model2</th><th scope=col>model3</th></tr>\n",
       "\t<tr><th scope=col>&lt;chr&gt;</th><th scope=col>&lt;dbl&gt;</th><th scope=col>&lt;dbl&gt;</th><th scope=col>&lt;dbl&gt;</th><th scope=col>&lt;dbl&gt;</th></tr>\n",
       "</thead>\n",
       "<tbody>\n",
       "\t<tr><td>accuracy</td><td>0.6785285</td><td>0.0014846578</td><td>-0.0000005337311</td><td>-0.0000004845622</td></tr>\n",
       "\t<tr><td>f_meas  </td><td>0.7866030</td><td>0.0013167547</td><td> 0.0000665297701</td><td> 0.0000854944885</td></tr>\n",
       "\t<tr><td>pr_auc  </td><td>0.7615874</td><td>0.0001574541</td><td>-0.0001143156807</td><td> 0.0000282263349</td></tr>\n",
       "\t<tr><td>roc_auc </td><td>0.6431240</td><td>0.0003324690</td><td> 0.0001412939402</td><td> 0.0003142744778</td></tr>\n",
       "</tbody>\n",
       "</table>\n"
      ],
      "text/latex": [
       "A tibble: 4 × 5\n",
       "\\begin{tabular}{lllll}\n",
       " metric & before & model1 & model2 & model3\\\\\n",
       " <chr> & <dbl> & <dbl> & <dbl> & <dbl>\\\\\n",
       "\\hline\n",
       "\t accuracy & 0.6785285 & 0.0014846578 & -0.0000005337311 & -0.0000004845622\\\\\n",
       "\t f\\_meas   & 0.7866030 & 0.0013167547 &  0.0000665297701 &  0.0000854944885\\\\\n",
       "\t pr\\_auc   & 0.7615874 & 0.0001574541 & -0.0001143156807 &  0.0000282263349\\\\\n",
       "\t roc\\_auc  & 0.6431240 & 0.0003324690 &  0.0001412939402 &  0.0003142744778\\\\\n",
       "\\end{tabular}\n"
      ],
      "text/markdown": [
       "\n",
       "A tibble: 4 × 5\n",
       "\n",
       "| metric &lt;chr&gt; | before &lt;dbl&gt; | model1 &lt;dbl&gt; | model2 &lt;dbl&gt; | model3 &lt;dbl&gt; |\n",
       "|---|---|---|---|---|\n",
       "| accuracy | 0.6785285 | 0.0014846578 | -0.0000005337311 | -0.0000004845622 |\n",
       "| f_meas   | 0.7866030 | 0.0013167547 |  0.0000665297701 |  0.0000854944885 |\n",
       "| pr_auc   | 0.7615874 | 0.0001574541 | -0.0001143156807 |  0.0000282263349 |\n",
       "| roc_auc  | 0.6431240 | 0.0003324690 |  0.0001412939402 |  0.0003142744778 |\n",
       "\n"
      ],
      "text/plain": [
       "  metric   before    model1       model2           model3          \n",
       "1 accuracy 0.6785285 0.0014846578 -0.0000005337311 -0.0000004845622\n",
       "2 f_meas   0.7866030 0.0013167547  0.0000665297701  0.0000854944885\n",
       "3 pr_auc   0.7615874 0.0001574541 -0.0001143156807  0.0000282263349\n",
       "4 roc_auc  0.6431240 0.0003324690  0.0001412939402  0.0003142744778"
      ]
     },
     "metadata": {},
     "output_type": "display_data"
    }
   ],
   "source": [
    "# nenhuma das opções melhora o roc_auc, e o f1 não melhora o suficiente para justificar\n",
    "vars <- vars\n",
    "before <- before\n",
    "\n",
    "# now backhand\n",
    "backHands <- featuresFit(cformula(c(vars,  \"match.backHands\")))$metrics\n",
    "backHandsL1 <- featuresFit(cformula(c(vars,  \"match.backHandsL1\")))$metrics\n",
    "backHandsL2 <- featuresFit(cformula(c(vars,  \"match.backHandsL2\")))$metrics\n",
    "\n",
    "compare(before, list(backHands, backHandsL1, backHandsL2))"
   ]
  },
  {
   "cell_type": "code",
   "execution_count": 62,
   "id": "77e6d16b",
   "metadata": {
    "vscode": {
     "languageId": "r"
    }
   },
   "outputs": [
    {
     "name": "stdout",
     "output_type": "stream",
     "text": [
      "16.75 sec elapsed\n"
     ]
    },
    {
     "name": "stderr",
     "output_type": "stream",
     "text": [
      "Setting levels: control = 2, case = 3\n",
      "\n",
      "Setting direction: controls > cases\n",
      "\n"
     ]
    },
    {
     "name": "stdout",
     "output_type": "stream",
     "text": [
      "16.28 sec elapsed\n"
     ]
    },
    {
     "name": "stderr",
     "output_type": "stream",
     "text": [
      "Setting levels: control = 2, case = 3\n",
      "\n",
      "Setting direction: controls > cases\n",
      "\n"
     ]
    },
    {
     "name": "stdout",
     "output_type": "stream",
     "text": [
      "16.61 sec elapsed\n"
     ]
    },
    {
     "name": "stderr",
     "output_type": "stream",
     "text": [
      "Setting levels: control = 2, case = 3\n",
      "\n",
      "Setting direction: controls > cases\n",
      "\n"
     ]
    },
    {
     "data": {
      "text/html": [
       "<table class=\"dataframe\">\n",
       "<caption>A tibble: 4 × 5</caption>\n",
       "<thead>\n",
       "\t<tr><th scope=col>metric</th><th scope=col>before</th><th scope=col>model1</th><th scope=col>model2</th><th scope=col>model3</th></tr>\n",
       "\t<tr><th scope=col>&lt;chr&gt;</th><th scope=col>&lt;dbl&gt;</th><th scope=col>&lt;dbl&gt;</th><th scope=col>&lt;dbl&gt;</th><th scope=col>&lt;dbl&gt;</th></tr>\n",
       "</thead>\n",
       "<tbody>\n",
       "\t<tr><td>accuracy</td><td>0.6800131</td><td>-0.0006572606</td><td>-0.0006572606</td><td>-0.0006572606</td></tr>\n",
       "\t<tr><td>f_meas  </td><td>0.7879198</td><td>-0.0005863043</td><td>-0.0005863043</td><td>-0.0005863043</td></tr>\n",
       "\t<tr><td>pr_auc  </td><td>0.7617449</td><td> 0.0012715849</td><td> 0.0012715849</td><td> 0.0012715849</td></tr>\n",
       "\t<tr><td>roc_auc </td><td>0.6434565</td><td> 0.0008255979</td><td> 0.0008255979</td><td> 0.0008255979</td></tr>\n",
       "</tbody>\n",
       "</table>\n"
      ],
      "text/latex": [
       "A tibble: 4 × 5\n",
       "\\begin{tabular}{lllll}\n",
       " metric & before & model1 & model2 & model3\\\\\n",
       " <chr> & <dbl> & <dbl> & <dbl> & <dbl>\\\\\n",
       "\\hline\n",
       "\t accuracy & 0.6800131 & -0.0006572606 & -0.0006572606 & -0.0006572606\\\\\n",
       "\t f\\_meas   & 0.7879198 & -0.0005863043 & -0.0005863043 & -0.0005863043\\\\\n",
       "\t pr\\_auc   & 0.7617449 &  0.0012715849 &  0.0012715849 &  0.0012715849\\\\\n",
       "\t roc\\_auc  & 0.6434565 &  0.0008255979 &  0.0008255979 &  0.0008255979\\\\\n",
       "\\end{tabular}\n"
      ],
      "text/markdown": [
       "\n",
       "A tibble: 4 × 5\n",
       "\n",
       "| metric &lt;chr&gt; | before &lt;dbl&gt; | model1 &lt;dbl&gt; | model2 &lt;dbl&gt; | model3 &lt;dbl&gt; |\n",
       "|---|---|---|---|---|\n",
       "| accuracy | 0.6800131 | -0.0006572606 | -0.0006572606 | -0.0006572606 |\n",
       "| f_meas   | 0.7879198 | -0.0005863043 | -0.0005863043 | -0.0005863043 |\n",
       "| pr_auc   | 0.7617449 |  0.0012715849 |  0.0012715849 |  0.0012715849 |\n",
       "| roc_auc  | 0.6434565 |  0.0008255979 |  0.0008255979 |  0.0008255979 |\n",
       "\n"
      ],
      "text/plain": [
       "  metric   before    model1        model2        model3       \n",
       "1 accuracy 0.6800131 -0.0006572606 -0.0006572606 -0.0006572606\n",
       "2 f_meas   0.7879198 -0.0005863043 -0.0005863043 -0.0005863043\n",
       "3 pr_auc   0.7617449  0.0012715849  0.0012715849  0.0012715849\n",
       "4 roc_auc  0.6434565  0.0008255979  0.0008255979  0.0008255979"
      ]
     },
     "metadata": {},
     "output_type": "display_data"
    }
   ],
   "source": [
    "# backhands melhor\n",
    "vars <- c(vars, \"match.backHands\")\n",
    "before <- backHands\n",
    "# now duração do torneio\n",
    "\n",
    "duration <- featuresFit(cformula(c(vars, \"tournament.duration\")))$metrics\n",
    "durationF <- featuresFit(cformula(c(vars, \"tournament.durationF\")))$metrics\n",
    "durationFL <- featuresFit(cformula(c(vars, \"tournament.durationFL\")))$metrics\n",
    "\n",
    "compare(before, list(duration, durationF, durationFL))\n"
   ]
  },
  {
   "cell_type": "code",
   "execution_count": 65,
   "id": "457c33a3",
   "metadata": {
    "vscode": {
     "languageId": "r"
    }
   },
   "outputs": [
    {
     "name": "stdout",
     "output_type": "stream",
     "text": [
      "17.86 sec elapsed\n"
     ]
    },
    {
     "name": "stderr",
     "output_type": "stream",
     "text": [
      "Setting levels: control = 2, case = 3\n",
      "\n",
      "Setting direction: controls > cases\n",
      "\n"
     ]
    },
    {
     "name": "stdout",
     "output_type": "stream",
     "text": [
      "17.61 sec elapsed\n"
     ]
    },
    {
     "name": "stderr",
     "output_type": "stream",
     "text": [
      "Setting levels: control = 2, case = 3\n",
      "\n",
      "Setting direction: controls > cases\n",
      "\n"
     ]
    },
    {
     "name": "stdout",
     "output_type": "stream",
     "text": [
      "17.98 sec elapsed\n"
     ]
    },
    {
     "name": "stderr",
     "output_type": "stream",
     "text": [
      "Setting levels: control = 2, case = 3\n",
      "\n",
      "Setting direction: controls > cases\n",
      "\n"
     ]
    },
    {
     "data": {
      "text/html": [
       "<table class=\"dataframe\">\n",
       "<caption>A tibble: 4 × 5</caption>\n",
       "<thead>\n",
       "\t<tr><th scope=col>metric</th><th scope=col>before</th><th scope=col>model1</th><th scope=col>model2</th><th scope=col>model3</th></tr>\n",
       "\t<tr><th scope=col>&lt;chr&gt;</th><th scope=col>&lt;dbl&gt;</th><th scope=col>&lt;dbl&gt;</th><th scope=col>&lt;dbl&gt;</th><th scope=col>&lt;dbl&gt;</th></tr>\n",
       "</thead>\n",
       "<tbody>\n",
       "\t<tr><td>accuracy</td><td>0.6793559</td><td>-0.0003067227</td><td>-0.0003751356</td><td>-0.0003753350</td></tr>\n",
       "\t<tr><td>f_meas  </td><td>0.7873335</td><td>-0.0001828893</td><td>-0.0002113355</td><td>-0.0002301965</td></tr>\n",
       "\t<tr><td>pr_auc  </td><td>0.7630165</td><td> 0.0003590845</td><td> 0.0003832285</td><td> 0.0002846896</td></tr>\n",
       "\t<tr><td>roc_auc </td><td>0.6442821</td><td> 0.0005006879</td><td> 0.0002631356</td><td> 0.0001172242</td></tr>\n",
       "</tbody>\n",
       "</table>\n"
      ],
      "text/latex": [
       "A tibble: 4 × 5\n",
       "\\begin{tabular}{lllll}\n",
       " metric & before & model1 & model2 & model3\\\\\n",
       " <chr> & <dbl> & <dbl> & <dbl> & <dbl>\\\\\n",
       "\\hline\n",
       "\t accuracy & 0.6793559 & -0.0003067227 & -0.0003751356 & -0.0003753350\\\\\n",
       "\t f\\_meas   & 0.7873335 & -0.0001828893 & -0.0002113355 & -0.0002301965\\\\\n",
       "\t pr\\_auc   & 0.7630165 &  0.0003590845 &  0.0003832285 &  0.0002846896\\\\\n",
       "\t roc\\_auc  & 0.6442821 &  0.0005006879 &  0.0002631356 &  0.0001172242\\\\\n",
       "\\end{tabular}\n"
      ],
      "text/markdown": [
       "\n",
       "A tibble: 4 × 5\n",
       "\n",
       "| metric &lt;chr&gt; | before &lt;dbl&gt; | model1 &lt;dbl&gt; | model2 &lt;dbl&gt; | model3 &lt;dbl&gt; |\n",
       "|---|---|---|---|---|\n",
       "| accuracy | 0.6793559 | -0.0003067227 | -0.0003751356 | -0.0003753350 |\n",
       "| f_meas   | 0.7873335 | -0.0001828893 | -0.0002113355 | -0.0002301965 |\n",
       "| pr_auc   | 0.7630165 |  0.0003590845 |  0.0003832285 |  0.0002846896 |\n",
       "| roc_auc  | 0.6442821 |  0.0005006879 |  0.0002631356 |  0.0001172242 |\n",
       "\n"
      ],
      "text/plain": [
       "  metric   before    model1        model2        model3       \n",
       "1 accuracy 0.6793559 -0.0003067227 -0.0003751356 -0.0003753350\n",
       "2 f_meas   0.7873335 -0.0001828893 -0.0002113355 -0.0002301965\n",
       "3 pr_auc   0.7630165  0.0003590845  0.0003832285  0.0002846896\n",
       "4 roc_auc  0.6442821  0.0005006879  0.0002631356  0.0001172242"
      ]
     },
     "metadata": {},
     "output_type": "display_data"
    }
   ],
   "source": [
    "# durationF é o único que muda mais do que 0.001 numa das métricas, mesmo que piore o f1 é o melhor\n",
    "vars <- c(vars, \"tournament.durationF\")\n",
    "before <- durationF\n",
    "# now quarter\n",
    "\n",
    "quarter <- featuresFit(cformula(c(vars, \"tournament.quarter\")))$metrics\n",
    "quarterL1 <- featuresFit(cformula(c(vars, \"tournament.quarterL1\")))$metrics\n",
    "quarterL2 <- featuresFit(cformula(c(vars, \"tournament.quarterL2\")))$metrics\n",
    "# mmonth <- featuresFit(cformula(c(vars, \"tournament.month\")))$metrics # for some reason not working and I can't digure out why :(\n",
    "\n",
    "compare(before, list(quarter, quarterL1, quarterL2))"
   ]
  },
  {
   "cell_type": "code",
   "execution_count": 74,
   "id": "fb85ee66",
   "metadata": {
    "vscode": {
     "languageId": "r"
    }
   },
   "outputs": [
    {
     "name": "stdout",
     "output_type": "stream",
     "text": [
      "16.34 sec elapsed\n"
     ]
    },
    {
     "name": "stderr",
     "output_type": "stream",
     "text": [
      "Setting levels: control = 2, case = 3\n",
      "\n",
      "Setting direction: controls > cases\n",
      "\n"
     ]
    },
    {
     "name": "stdout",
     "output_type": "stream",
     "text": [
      "17.79 sec elapsed\n"
     ]
    },
    {
     "name": "stderr",
     "output_type": "stream",
     "text": [
      "Setting levels: control = 2, case = 3\n",
      "\n",
      "Setting direction: controls > cases\n",
      "\n"
     ]
    },
    {
     "data": {
      "text/html": [
       "<table class=\"dataframe\">\n",
       "<caption>A tibble: 4 × 4</caption>\n",
       "<thead>\n",
       "\t<tr><th scope=col>metric</th><th scope=col>before</th><th scope=col>model1</th><th scope=col>model2</th></tr>\n",
       "\t<tr><th scope=col>&lt;chr&gt;</th><th scope=col>&lt;dbl&gt;</th><th scope=col>&lt;dbl&gt;</th><th scope=col>&lt;dbl&gt;</th></tr>\n",
       "</thead>\n",
       "<tbody>\n",
       "\t<tr><td>accuracy</td><td>0.6789805</td><td>0.002029040</td><td>-0.00010189328</td></tr>\n",
       "\t<tr><td>f_meas  </td><td>0.7871033</td><td>0.001675178</td><td>-0.00004663057</td></tr>\n",
       "\t<tr><td>pr_auc  </td><td>0.7633011</td><td>0.002482923</td><td>-0.00009660253</td></tr>\n",
       "\t<tr><td>roc_auc </td><td>0.6443993</td><td>0.001422813</td><td>-0.00013134732</td></tr>\n",
       "</tbody>\n",
       "</table>\n"
      ],
      "text/latex": [
       "A tibble: 4 × 4\n",
       "\\begin{tabular}{llll}\n",
       " metric & before & model1 & model2\\\\\n",
       " <chr> & <dbl> & <dbl> & <dbl>\\\\\n",
       "\\hline\n",
       "\t accuracy & 0.6789805 & 0.002029040 & -0.00010189328\\\\\n",
       "\t f\\_meas   & 0.7871033 & 0.001675178 & -0.00004663057\\\\\n",
       "\t pr\\_auc   & 0.7633011 & 0.002482923 & -0.00009660253\\\\\n",
       "\t roc\\_auc  & 0.6443993 & 0.001422813 & -0.00013134732\\\\\n",
       "\\end{tabular}\n"
      ],
      "text/markdown": [
       "\n",
       "A tibble: 4 × 4\n",
       "\n",
       "| metric &lt;chr&gt; | before &lt;dbl&gt; | model1 &lt;dbl&gt; | model2 &lt;dbl&gt; |\n",
       "|---|---|---|---|\n",
       "| accuracy | 0.6789805 | 0.002029040 | -0.00010189328 |\n",
       "| f_meas   | 0.7871033 | 0.001675178 | -0.00004663057 |\n",
       "| pr_auc   | 0.7633011 | 0.002482923 | -0.00009660253 |\n",
       "| roc_auc  | 0.6443993 | 0.001422813 | -0.00013134732 |\n",
       "\n"
      ],
      "text/plain": [
       "  metric   before    model1      model2        \n",
       "1 accuracy 0.6789805 0.002029040 -0.00010189328\n",
       "2 f_meas   0.7871033 0.001675178 -0.00004663057\n",
       "3 pr_auc   0.7633011 0.002482923 -0.00009660253\n",
       "4 roc_auc  0.6443993 0.001422813 -0.00013134732"
      ]
     },
     "metadata": {},
     "output_type": "display_data"
    }
   ],
   "source": [
    "# quarterL2 é o melhor\n",
    "vars <- c(vars, \"tournament.quarterL2\")\n",
    "before <- quarterL2\n",
    "# now prize\n",
    "\n",
    "prize <- featuresFit(cformula(c(vars, \"tournament.prize\")))$metrics\n",
    "smallPrize <- featuresFit(cformula(c(vars, \"tournament.smallPrize\")))$metrics\n",
    "\n",
    "compare(before, list(prize, smallPrize))"
   ]
  },
  {
   "cell_type": "code",
   "execution_count": 79,
   "id": "8a857c1f",
   "metadata": {
    "vscode": {
     "languageId": "r"
    }
   },
   "outputs": [
    {
     "name": "stderr",
     "output_type": "stream",
     "text": [
      "mutate: new variable 'afterSum' (double) with 4 unique values and 0% NA\n",
      "\n",
      "        new variable 'after' (double) with 4 unique values and 0% NA\n",
      "\n"
     ]
    },
    {
     "data": {
      "text/html": [
       "<table class=\"dataframe\">\n",
       "<caption>A tibble: 4 × 5</caption>\n",
       "<thead>\n",
       "\t<tr><th scope=col>metric</th><th scope=col>before</th><th scope=col>model1</th><th scope=col>afterSum</th><th scope=col>after</th></tr>\n",
       "\t<tr><th scope=col>&lt;chr&gt;</th><th scope=col>&lt;dbl&gt;</th><th scope=col>&lt;dbl&gt;</th><th scope=col>&lt;dbl&gt;</th><th scope=col>&lt;dbl&gt;</th></tr>\n",
       "</thead>\n",
       "<tbody>\n",
       "\t<tr><td>accuracy</td><td>0.6765143</td><td>0.004495321</td><td>0.004495321</td><td>0.6810096</td></tr>\n",
       "\t<tr><td>f_meas  </td><td>0.7796199</td><td>0.009158514</td><td>0.009158514</td><td>0.7887784</td></tr>\n",
       "\t<tr><td>pr_auc  </td><td>0.7238419</td><td>0.041942149</td><td>0.041942149</td><td>0.7657841</td></tr>\n",
       "\t<tr><td>roc_auc </td><td>0.6125514</td><td>0.033270729</td><td>0.033270729</td><td>0.6458221</td></tr>\n",
       "</tbody>\n",
       "</table>\n"
      ],
      "text/latex": [
       "A tibble: 4 × 5\n",
       "\\begin{tabular}{lllll}\n",
       " metric & before & model1 & afterSum & after\\\\\n",
       " <chr> & <dbl> & <dbl> & <dbl> & <dbl>\\\\\n",
       "\\hline\n",
       "\t accuracy & 0.6765143 & 0.004495321 & 0.004495321 & 0.6810096\\\\\n",
       "\t f\\_meas   & 0.7796199 & 0.009158514 & 0.009158514 & 0.7887784\\\\\n",
       "\t pr\\_auc   & 0.7238419 & 0.041942149 & 0.041942149 & 0.7657841\\\\\n",
       "\t roc\\_auc  & 0.6125514 & 0.033270729 & 0.033270729 & 0.6458221\\\\\n",
       "\\end{tabular}\n"
      ],
      "text/markdown": [
       "\n",
       "A tibble: 4 × 5\n",
       "\n",
       "| metric &lt;chr&gt; | before &lt;dbl&gt; | model1 &lt;dbl&gt; | afterSum &lt;dbl&gt; | after &lt;dbl&gt; |\n",
       "|---|---|---|---|---|\n",
       "| accuracy | 0.6765143 | 0.004495321 | 0.004495321 | 0.6810096 |\n",
       "| f_meas   | 0.7796199 | 0.009158514 | 0.009158514 | 0.7887784 |\n",
       "| pr_auc   | 0.7238419 | 0.041942149 | 0.041942149 | 0.7657841 |\n",
       "| roc_auc  | 0.6125514 | 0.033270729 | 0.033270729 | 0.6458221 |\n",
       "\n"
      ],
      "text/plain": [
       "  metric   before    model1      afterSum    after    \n",
       "1 accuracy 0.6765143 0.004495321 0.004495321 0.6810096\n",
       "2 f_meas   0.7796199 0.009158514 0.009158514 0.7887784\n",
       "3 pr_auc   0.7238419 0.041942149 0.041942149 0.7657841\n",
       "4 roc_auc  0.6125514 0.033270729 0.033270729 0.6458221"
      ]
     },
     "metadata": {},
     "output_type": "display_data"
    }
   ],
   "source": [
    "# prize é o melhor\n",
    "vars <- c(vars, \"tournament.prize\")\n",
    "before <- prize\n",
    "\n",
    "# we are done, now we compare with the first one\n",
    "compare(firstModel,list(before)) %>% mutate(afterSum = model1, after = before + model1)"
   ]
  },
  {
   "cell_type": "code",
   "execution_count": 99,
   "id": "ee1a1b60",
   "metadata": {
    "vscode": {
     "languageId": "r"
    }
   },
   "outputs": [
    {
     "name": "stdout",
     "output_type": "stream",
     "text": [
      "16.04 sec elapsed\n"
     ]
    },
    {
     "name": "stderr",
     "output_type": "stream",
     "text": [
      "Setting levels: control = 2, case = 3\n",
      "\n",
      "Setting direction: controls > cases\n",
      "\n"
     ]
    }
   ],
   "source": [
    "firstPreds <- collect_predictions(df.featureSelect.firstModel)\n",
    "afterPred  <- featuresFit(cformula(vars))$preds"
   ]
  },
  {
   "cell_type": "code",
   "execution_count": 110,
   "id": "636a568e",
   "metadata": {
    "vscode": {
     "languageId": "r"
    }
   },
   "outputs": [
    {
     "name": "stderr",
     "output_type": "stream",
     "text": [
      "Setting levels: control = 2, case = 3\n",
      "\n",
      "Setting direction: controls > cases\n",
      "\n",
      "Setting levels: control = 2, case = 3\n",
      "\n",
      "Setting direction: controls > cases\n",
      "\n",
      "\u001b[1m\u001b[22mScale for \u001b[32mx\u001b[39m is already present.\n",
      "Adding another scale for \u001b[32mx\u001b[39m, which will replace the existing scale.\n"
     ]
    },
    {
     "data": {
      "image/png": "[encoded data removed]",
      "text/plain": [
       "plot without title"
      ]
     },
     "metadata": {
      "image/png": {
       "height": 420,
       "width": 420
      }
     },
     "output_type": "display_data"
    }
   ],
   "source": [
    "# e a curva roc\n",
    "library(pROC)\n",
    "roc1 <- roc(firstPreds$match.setsCount, firstPreds$.pred_2)\n",
    "roc2 <- roc(afterPred$match.setsCount, afterPred$.pred_2)\n",
    "\n",
    "roc1_df <- data.frame(fpr = roc1$specificities, tpr = roc1$sensitivities)\n",
    "roc2_df <- data.frame(fpr = roc2$specificities, tpr = roc2$sensitivities)\n",
    "\n",
    "ggplot() + \n",
    "  geom_line(data = roc1_df, aes(x = fpr, y = tpr), color = \"blue\", linetype = \"solid\", size = 1) +\n",
    "  geom_line(data = roc2_df, aes(x = fpr, y = tpr), color = \"red\", linetype = 2, size = 1) +\n",
    "  geom_abline(intercept = 1, slope = 1, linetype = \"dashed\", color = \"black\") +  # Add the 0.5 line\n",
    "  labs(x = \"False Positive Rate\", y = \"True Positive Rate\", title = \"ROC Curves\") +\n",
    "  scale_x_continuous(limits = c(0, 1), breaks = seq(0, 1, 0.1)) +\n",
    "  scale_y_continuous(limits = c(0, 1), breaks = seq(0, 1, 0.1)) +\n",
    "  scale_x_reverse() + \n",
    "  theme_minimal() +\n",
    "  theme(plot.title = element_text(size = 14, face = \"bold\"),\n",
    "        axis.title = element_text(size = 12),\n",
    "        axis.text = element_text(size = 10))\n"
   ]
  },
  {
   "cell_type": "code",
   "execution_count": null,
   "id": "a4ec4acc",
   "metadata": {
    "vscode": {
     "languageId": "r"
    }
   },
   "outputs": [],
   "source": [
    "# final vars explicitly\n",
    "vars <- c(\n",
    "    \"winner.lastTournamentDelayW\",\n",
    "    \"looser.lastTournamentDelayW\",\n",
    "    \"match.domHands\",\n",
    "    \"match.tournamentRound\",\n",
    "    \"match.hadTieBreaker\", \n",
    "    \"tournament.dateDistance\",\n",
    "    \"match.diffRank\",\n",
    "    \"winner.bornAt\",\n",
    "    \"looser.bornAt\",\n",
    "    \"winner.heightF\",\n",
    "    \"looser.heightF\",\n",
    "    \"winner.winrate\",\n",
    "    \"looser.winrate\",\n",
    "    \"winner.njogos\",\n",
    "    \"looser.njogos\",\n",
    "    \"winner.nTournament\",\n",
    "    \"looser.nTournament\",\n",
    "    \"match.backHands\",\n",
    "    \"tournament.durationF\",\n",
    "    \"tournament.quarterL2\",\n",
    "    \"tournament.prize\"\n",
    ")"
   ]
  }
 ],
 "metadata": {
  "kernelspec": {
   "display_name": "IR PACD",
   "language": "R",
   "name": "ir_pacd"
  },
  "language_info": {
   "codemirror_mode": "r",
   "file_extension": ".r",
   "mimetype": "text/x-r-source",
   "name": "R",
   "pygments_lexer": "r",
   "version": "4.3.0"
  }
 },
 "nbformat": 4,
 "nbformat_minor": 5
}
