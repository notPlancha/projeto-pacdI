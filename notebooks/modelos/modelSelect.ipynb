{
 "cells": [
  {
   "cell_type": "code",
   "execution_count": 1,
   "metadata": {
    "vscode": {
     "languageId": "r"
    }
   },
   "outputs": [
    {
     "name": "stderr",
     "output_type": "stream",
     "text": [
      "relocate: columns reordered (winner.name, winner.id, winner.rank, winner.bornAt, winner.height, …)\n",
      "\n"
     ]
    },
    {
     "name": "stdout",
     "output_type": "stream",
     "text": [
      "Rows: 25\n",
      "Columns: 3\n",
      "$ splits \u001b[3m\u001b[90m<list>\u001b[39m\u001b[23m [<vfold_split[14340 x 3586 x 17926 x 69]>], [<vfold_split[1434…\n",
      "$ id     \u001b[3m\u001b[90m<chr>\u001b[39m\u001b[23m \"Repeat1\", \"Repeat1\", \"Repeat1\", \"Repeat1\", \"Repeat1\", \"Repeat2…\n",
      "$ id2    \u001b[3m\u001b[90m<chr>\u001b[39m\u001b[23m \"Fold1\", \"Fold2\", \"Fold3\", \"Fold4\", \"Fold5\", \"Fold1\", \"Fold2\", …\n"
     ]
    }
   ],
   "source": [
    "df <- arrow::read_parquet(here(\"data\", \"featurefull.parquet\") ) %>% relocate(starts_with(\"winner\"), starts_with(\"looser\"), starts_with(\"match\"), starts_with(\"tournament\"))\n",
    "# vfold\n",
    "set.seed(1)\n",
    "df.folds <- vfold_cv(df, v = 5, repeats = 1) # no strata TODO make repeat 5\n",
    "df.folds %>% glimpse()"
   ]
  },
  {
   "cell_type": "code",
   "execution_count": 7,
   "metadata": {
    "vscode": {
     "languageId": "r"
    }
   },
   "outputs": [
    {
     "data": {
      "text/plain": [
       "match.setsCount ~ winner.lastTournamentDelayW + looser.lastTournamentDelayW + \n",
       "    match.domHands + match.tournamentRound + match.hadTieBreaker + \n",
       "    tournament.dateDistance + match.diffRank + winner.bornAt + \n",
       "    looser.bornAt + winner.heightF + looser.heightF + winner.winrate + \n",
       "    looser.winrate + winner.njogos + looser.njogos + winner.nTournament + \n",
       "    looser.nTournament + match.backHands + tournament.durationF + \n",
       "    tournament.quarterL2 + tournament.prize\n",
       "<environment: 0x000001f41b491578>"
      ]
     },
     "metadata": {},
     "output_type": "display_data"
    }
   ],
   "source": [
    "vars <- c(\n",
    "    \"winner.lastTournamentDelayW\",\n",
    "    \"looser.lastTournamentDelayW\",\n",
    "    \"match.domHands\",\n",
    "    \"match.tournamentRound\",\n",
    "    \"match.hadTieBreaker\", \n",
    "    \"tournament.dateDistance\",\n",
    "    \"match.diffRank\",\n",
    "    \"winner.bornAt\",\n",
    "    \"looser.bornAt\",\n",
    "    \"winner.heightF\",\n",
    "    \"looser.heightF\",\n",
    "    \"winner.winrate\",\n",
    "    \"looser.winrate\",\n",
    "    \"winner.njogos\",\n",
    "    \"looser.njogos\",\n",
    "    \"winner.nTournament\",\n",
    "    \"looser.nTournament\",\n",
    "    \"match.backHands\",\n",
    "    \"tournament.durationF\",\n",
    "    \"tournament.quarterL2\",\n",
    "    \"tournament.prize\"\n",
    ")\n",
    "library(formulaic)\n",
    "library(tictoc)\n",
    "\n",
    "metrics <- metric_set(accuracy, f_meas, roc_auc, pr_auc)\n",
    "\n",
    "form <- create.formula(input.names = vars, outcome.name = \"match.setsCount\", dat = df)\n",
    "form$formula"
   ]
  },
  {
   "cell_type": "code",
   "execution_count": 15,
   "metadata": {
    "vscode": {
     "languageId": "r"
    }
   },
   "outputs": [
    {
     "name": "stdout",
     "output_type": "stream",
     "text": [
      "66.94 sec elapsed\n"
     ]
    }
   ],
   "source": [
    "# logistic regression\n",
    "wf <- workflow() %>% add_formula(form$formula)\n",
    "lg <- logistic_reg() %>%\n",
    "    set_engine(\"glm\") %>%\n",
    "    set_mode(\"classification\")\n",
    "tic()\n",
    "    lg.fitted <- fit_resamples(wf %>% add_model(lg), df.folds, metrics = metrics, control = control_resamples(save_pred = TRUE))\n",
    "toc(log=T)"
   ]
  },
  {
   "cell_type": "code",
   "execution_count": 16,
   "metadata": {
    "vscode": {
     "languageId": "r"
    }
   },
   "outputs": [
    {
     "name": "stderr",
     "output_type": "stream",
     "text": [
      "select: renamed 2 variables (metrica, valor) and dropped 4 variables\n",
      "\n"
     ]
    },
    {
     "data": {
      "text/html": [
       "<table class=\"dataframe\">\n",
       "<caption>A tibble: 4 × 2</caption>\n",
       "<thead>\n",
       "\t<tr><th scope=col>metrica</th><th scope=col>valor</th></tr>\n",
       "\t<tr><th scope=col>&lt;chr&gt;</th><th scope=col>&lt;dbl&gt;</th></tr>\n",
       "</thead>\n",
       "<tbody>\n",
       "\t<tr><td>accuracy</td><td>0.6810784</td></tr>\n",
       "\t<tr><td>f_meas  </td><td>0.7888075</td></tr>\n",
       "\t<tr><td>pr_auc  </td><td>0.7654898</td></tr>\n",
       "\t<tr><td>roc_auc </td><td>0.6454150</td></tr>\n",
       "</tbody>\n",
       "</table>\n"
      ],
      "text/latex": [
       "A tibble: 4 × 2\n",
       "\\begin{tabular}{ll}\n",
       " metrica & valor\\\\\n",
       " <chr> & <dbl>\\\\\n",
       "\\hline\n",
       "\t accuracy & 0.6810784\\\\\n",
       "\t f\\_meas   & 0.7888075\\\\\n",
       "\t pr\\_auc   & 0.7654898\\\\\n",
       "\t roc\\_auc  & 0.6454150\\\\\n",
       "\\end{tabular}\n"
      ],
      "text/markdown": [
       "\n",
       "A tibble: 4 × 2\n",
       "\n",
       "| metrica &lt;chr&gt; | valor &lt;dbl&gt; |\n",
       "|---|---|\n",
       "| accuracy | 0.6810784 |\n",
       "| f_meas   | 0.7888075 |\n",
       "| pr_auc   | 0.7654898 |\n",
       "| roc_auc  | 0.6454150 |\n",
       "\n"
      ],
      "text/plain": [
       "  metrica  valor    \n",
       "1 accuracy 0.6810784\n",
       "2 f_meas   0.7888075\n",
       "3 pr_auc   0.7654898\n",
       "4 roc_auc  0.6454150"
      ]
     },
     "metadata": {},
     "output_type": "display_data"
    }
   ],
   "source": [
    "collect_metrics(lg.fitted) %>% select(metrica = .metric, valor = mean)"
   ]
  },
  {
   "cell_type": "code",
   "execution_count": 17,
   "metadata": {
    "vscode": {
     "languageId": "r"
    }
   },
   "outputs": [
    {
     "ename": "",
     "evalue": "",
     "output_type": "error",
     "traceback": [
      "\u001b[1;31mCanceled future for execute_request message before replies were done"
     ]
    },
    {
     "ename": "",
     "evalue": "",
     "output_type": "error",
     "traceback": [
      "\u001b[1;31mThe Kernel crashed while executing code in the the current cell or a previous cell. Please review the code in the cell(s) to identify a possible cause of the failure. Click <a href='https://aka.ms/vscodeJupyterKernelCrash'>here</a> for more info. View Jupyter <a href='command:jupyter.viewOutput'>log</a> for further details."
     ]
    }
   ],
   "source": [
    "# svm radial\n",
    "svmR <- svm_rbf() %>%\n",
    "    set_engine(\"kernlab\") %>%\n",
    "    set_mode(\"classification\")\n",
    "tic()\n",
    "    svmR.fitted <- fit_resamples(wf %>% add_model(svmR), df.folds, metrics = metrics, control = control_resamples(save_pred = TRUE))\n",
    "toc(log=T)"
   ]
  },
  {
   "cell_type": "code",
   "execution_count": null,
   "metadata": {
    "vscode": {
     "languageId": "r"
    }
   },
   "outputs": [],
   "source": [
    "collect_metrics(svmR.fitted) %>% select(metrica = .metric, valor = mean)"
   ]
  }
 ],
 "metadata": {
  "kernelspec": {
   "display_name": "IR PACD",
   "language": "R",
   "name": "ir_pacd"
  },
  "language_info": {
   "codemirror_mode": "r",
   "file_extension": ".r",
   "mimetype": "text/x-r-source",
   "name": "R",
   "pygments_lexer": "r",
   "version": "4.3.0"
  },
  "orig_nbformat": 4
 },
 "nbformat": 4,
 "nbformat_minor": 2
}
