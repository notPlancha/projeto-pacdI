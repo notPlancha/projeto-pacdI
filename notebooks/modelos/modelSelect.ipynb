{
 "cells": [
  {
   "cell_type": "code",
   "execution_count": null,
   "metadata": {},
   "outputs": [
    {
     "name": "stderr",
     "output_type": "stream",
     "text": [
      "relocate: columns reordered (winner.name, winner.id, winner.rank, winner.bornAt, winner.height, …)\n",
      "\n"
     ]
    }
   ],
   "source": [
    "df <- arrow::read_parquet(here(\"data\", \"featurefull.parquet\") ) %>% relocate(starts_with(\"winner\"), starts_with(\"looser\"), starts_with(\"match\"), starts_with(\"tournament\"))"
   ]
  },
  {
   "cell_type": "code",
   "execution_count": null,
   "metadata": {},
   "outputs": [
    {
     "data": {
      "text/plain": [
       "match.setsCount ~ winner.lastTournamentDelayW + looser.lastTournamentDelayW + \n",
       "    match.domHands + match.tournamentRound + match.hadTieBreaker + \n",
       "    tournament.dateDistance + match.diffRank + winner.bornAt + \n",
       "    looser.bornAt + winner.heightF + looser.heightF + winner.winrate + \n",
       "    looser.winrate + winner.njogos + looser.njogos + winner.nTournament + \n",
       "    looser.nTournament + match.backHands + tournament.durationF + \n",
       "    tournament.quarterL2 + tournament.prize\n",
       "<environment: 0x0000023584430a60>"
      ]
     },
     "metadata": {},
     "output_type": "display_data"
    }
   ],
   "source": [
    "vars <- c(\n",
    "    \"winner.lastTournamentDelayW\",\n",
    "    \"looser.lastTournamentDelayW\",\n",
    "    \"match.domHands\",\n",
    "    \"match.tournamentRound\",\n",
    "    \"match.hadTieBreaker\", \n",
    "    \"tournament.dateDistance\",\n",
    "    \"match.diffRank\",\n",
    "    \"winner.bornAt\",\n",
    "    \"looser.bornAt\",\n",
    "    \"winner.heightF\",\n",
    "    \"looser.heightF\",\n",
    "    \"winner.winrate\",\n",
    "    \"looser.winrate\",\n",
    "    \"winner.njogos\",\n",
    "    \"looser.njogos\",\n",
    "    \"winner.nTournament\",\n",
    "    \"looser.nTournament\",\n",
    "    \"match.backHands\",\n",
    "    \"tournament.durationF\",\n",
    "    \"tournament.quarterL2\",\n",
    "    \"tournament.prize\"\n",
    ")\n",
    "library(formulaic)\n",
    "library(tictoc)\n",
    "\n",
    "# huberty index { TODO\n",
    "    # library(rlang)\n",
    "    # hubInd_vec <- function(truth, estimate, na_rm = T, case_weights = NULL, ...){\n",
    "    #     uniq <- unique(truth)\n",
    "    #     moda <- uniqv[which.max(tabulate(match(v, uniq)))]\n",
    "    #     Ho   <- accuracy_vec(truth, estimate, na_rm = na_rm, case_weights = case_weights)\n",
    "    #     He   <- (plyr::count\n",
    "    # }\n",
    "    # hubInd <- new_class_metric(\\(data, ...) UseMethod(\"hubInd\"), direction = \"maximize\")\n",
    "    # hubInd.data.frame <- \\(data, truth, estimate, na_rm = T, case_weights = NULL, ...) class_metric_summarizer(\n",
    "    #     name = \"HubertyIndex\",\n",
    "    #     fn\n",
    "    # )\n",
    "# }\n",
    "metrics <- metric_set(accuracy,bal_accuracy, f_meas) #roc_auc, pr_auc)\n",
    "\n",
    "form <- create.formula(input.names = vars, outcome.name = \"match.setsCount\", dat = df)\n",
    "form$formula"
   ]
  },
  {
   "cell_type": "code",
   "execution_count": null,
   "metadata": {},
   "outputs": [
    {
     "name": "stderr",
     "output_type": "stream",
     "text": [
      "select: dropped 48 variables (winner.name, winner.id, winner.rank, winner.height, winner.Anwins, …)\n",
      "\n"
     ]
    },
    {
     "name": "stdout",
     "output_type": "stream",
     "text": [
      "Rows: 505\n",
      "Columns: 21\n",
      "$ winner.lastTournamentDelayW \u001b[3m\u001b[90m<dbl>\u001b[39m\u001b[23m 2, 2, 22, 16, 3, 3, 3, 3, 3, 5, 1, 1, 1, 7…\n",
      "$ looser.lastTournamentDelayW \u001b[3m\u001b[90m<dbl>\u001b[39m\u001b[23m 3, 3, 1, 1, 3, 3, 3, 3, 1, 1, 2, 1, 1, 3, …\n",
      "$ match.domHands              \u001b[3m\u001b[90m<fct>\u001b[39m\u001b[23m Right-Handed_Right-Handed, Right-Handed_Ri…\n",
      "$ match.tournamentRound       \u001b[3m\u001b[90m<fct>\u001b[39m\u001b[23m Round of 64, Round of 64, Round of 32, Rou…\n",
      "$ match.hadTieBreaker         \u001b[3m\u001b[90m<lgl>\u001b[39m\u001b[23m FALSE, FALSE, FALSE, FALSE, TRUE, TRUE, TR…\n",
      "$ tournament.dateDistance     \u001b[3m\u001b[90m<drtn>\u001b[39m\u001b[23m -813456000 secs, -813456000 secs, -828576…\n",
      "$ match.diffRank              \u001b[3m\u001b[90m<int>\u001b[39m\u001b[23m -29, -29, 102, 102, -19, -19, -19, -19, -4…\n",
      "$ winner.bornAt               \u001b[3m\u001b[90m<fct>\u001b[39m\u001b[23m Other, Other, Australia, Australia, Other,…\n",
      "$ looser.bornAt               \u001b[3m\u001b[90m<fct>\u001b[39m\u001b[23m Other, Other, NA, NA, Other, Other, Other,…\n",
      "$ winner.heightF              \u001b[3m\u001b[90m<fct>\u001b[39m\u001b[23m 185, 185, 180, 180, 180, 180, 180, 180, 19…\n",
      "$ looser.heightF              \u001b[3m\u001b[90m<fct>\u001b[39m\u001b[23m 170, 170, 173, 173, 173, 173, 173, 173, 17…\n",
      "$ winner.winrate              \u001b[3m\u001b[90m<dbl>\u001b[39m\u001b[23m 51.13314, 51.13314, 47.24771, 47.24771, 60…\n",
      "$ looser.winrate              \u001b[3m\u001b[90m<dbl>\u001b[39m\u001b[23m 0.00000, 0.00000, 0.00000, 0.00000, 33.333…\n",
      "$ winner.njogos               \u001b[3m\u001b[90m<dbl>\u001b[39m\u001b[23m 706, 706, 218, 218, 774, 774, 774, 774, 58…\n",
      "$ looser.njogos               \u001b[3m\u001b[90m<dbl>\u001b[39m\u001b[23m 2, 2, 1, 1, 12, 12, 12, 12, 18, 18, 25, 8,…\n",
      "$ winner.nTournament          \u001b[3m\u001b[90m<int>\u001b[39m\u001b[23m 51, 274, 41, 143, 153, 153, 421, 421, 46, …\n",
      "$ looser.nTournament          \u001b[3m\u001b[90m<int>\u001b[39m\u001b[23m 194, 194, 174, 174, 57, 338, 57, 338, 240,…\n",
      "$ match.backHands             \u001b[3m\u001b[90m<fct>\u001b[39m\u001b[23m Two-Handed Backhand_Unknown Backhand, Two-…\n",
      "$ tournament.durationF        \u001b[3m\u001b[90m<fct>\u001b[39m\u001b[23m 13, 13, 6, 6, 13, 13, 13, 13, 6, 6, 6, 6, …\n",
      "$ tournament.quarterL2        \u001b[3m\u001b[90m<fct>\u001b[39m\u001b[23m Other, Other, 1, 1, Other, Other, Other, O…\n",
      "$ tournament.prize            \u001b[3m\u001b[90m<dbl>\u001b[39m\u001b[23m NA, NA, 37000, 37000, NA, NA, NA, NA, NA, …\n"
     ]
    }
   ],
   "source": [
    "df %>% select(all_of(vars)) %>% .[!complete.cases(.), ] %>% glimpse()"
   ]
  },
  {
   "cell_type": "code",
   "execution_count": null,
   "metadata": {},
   "outputs": [],
   "source": [
    "df$winner.bornAt %<>% fct_na_value_to_level(level = \"Other\")\n",
    "df$looser.bornAt %<>% fct_na_value_to_level(level = \"Other\")\n",
    "df$tournament.prize <- if_else(df$tournament.prize %>% is.na, 0, df$tournament.prize)"
   ]
  },
  {
   "cell_type": "code",
   "execution_count": null,
   "metadata": {},
   "outputs": [
    {
     "name": "stderr",
     "output_type": "stream",
     "text": [
      "select: dropped 48 variables (winner.name, winner.id, winner.rank, winner.height, winner.Anwins, …)\n",
      "\n"
     ]
    },
    {
     "data": {
      "text/html": [
       "0"
      ],
      "text/latex": [
       "0"
      ],
      "text/markdown": [
       "0"
      ],
      "text/plain": [
       "[1] 0"
      ]
     },
     "metadata": {},
     "output_type": "display_data"
    }
   ],
   "source": [
    "df %>% select(all_of(vars)) %>% .[!complete.cases(.),] %>% nrow()"
   ]
  },
  {
   "cell_type": "code",
   "execution_count": null,
   "metadata": {},
   "outputs": [
    {
     "name": "stdout",
     "output_type": "stream",
     "text": [
      " num [1:17926] -44.2 -44.2 -44.2 -44.2 -47.2 ...\n"
     ]
    }
   ],
   "source": [
    "df$tournament.dateDistance <- df$tournament.dateDistance/dyears(1)\n",
    "df$tournament.dateDistance %>% glimpse()"
   ]
  },
  {
   "cell_type": "code",
   "execution_count": null,
   "metadata": {},
   "outputs": [
    {
     "name": "stderr",
     "output_type": "stream",
     "text": [
      "select: dropped 48 variables (winner.name, winner.id, winner.rank, winner.height, winner.Anwins, …)\n",
      "\n"
     ]
    },
    {
     "name": "stdout",
     "output_type": "stream",
     "text": [
      "Rows: 17,926\n",
      "Columns: 21\n",
      "$ winner.lastTournamentDelayW \u001b[3m\u001b[90m<dbl>\u001b[39m\u001b[23m 1, 1, 1, 1, 20, 20, 18, 18, 1, 1, 1, 1, 1,…\n",
      "$ looser.lastTournamentDelayW \u001b[3m\u001b[90m<dbl>\u001b[39m\u001b[23m 1, 1, 1, 1, 2, 2, 2, 2, 3, 3, 11, 3, 11, 3…\n",
      "$ match.domHands              \u001b[3m\u001b[90m<fct>\u001b[39m\u001b[23m Right-Handed_Left-Handed, Right-Handed_Lef…\n",
      "$ match.tournamentRound       \u001b[3m\u001b[90m<fct>\u001b[39m\u001b[23m Quarter-Finals, Quarter-Finals, Quarter-Fi…\n",
      "$ match.hadTieBreaker         \u001b[3m\u001b[90m<lgl>\u001b[39m\u001b[23m FALSE, FALSE, FALSE, FALSE, FALSE, FALSE, …\n",
      "$ tournament.dateDistance     \u001b[3m\u001b[90m<dbl>\u001b[39m\u001b[23m -44.23272, -44.23272, -44.23272, -44.23272…\n",
      "$ match.diffRank              \u001b[3m\u001b[90m<int>\u001b[39m\u001b[23m -65, -65, -65, -65, -438, -438, -438, -438…\n",
      "$ winner.bornAt               \u001b[3m\u001b[90m<fct>\u001b[39m\u001b[23m USA, USA, USA, USA, Other, Other, Other, O…\n",
      "$ looser.bornAt               \u001b[3m\u001b[90m<fct>\u001b[39m\u001b[23m Other, Other, Other, Other, Other, Other, …\n",
      "$ winner.heightF              \u001b[3m\u001b[90m<fct>\u001b[39m\u001b[23m 168, 168, 168, 168, 170, 170, 170, 170, 17…\n",
      "$ looser.heightF              \u001b[3m\u001b[90m<fct>\u001b[39m\u001b[23m 163, 163, 163, 163, 163, 163, 163, 163, 16…\n",
      "$ winner.winrate              \u001b[3m\u001b[90m<dbl>\u001b[39m\u001b[23m 58.73544, 58.73544, 58.73544, 58.73544, 54…\n",
      "$ looser.winrate              \u001b[3m\u001b[90m<dbl>\u001b[39m\u001b[23m 60, 60, 60, 60, 0, 0, 0, 0, 0, 0, 60, 60, …\n",
      "$ winner.njogos               \u001b[3m\u001b[90m<dbl>\u001b[39m\u001b[23m 601, 601, 601, 601, 307, 307, 307, 307, 10…\n",
      "$ looser.njogos               \u001b[3m\u001b[90m<dbl>\u001b[39m\u001b[23m 10, 10, 10, 10, 2, 2, 2, 2, 2, 2, 10, 10, …\n",
      "$ winner.nTournament          \u001b[3m\u001b[90m<int>\u001b[39m\u001b[23m 134, 134, 364, 364, 81, 81, 218, 218, 30, …\n",
      "$ looser.nTournament          \u001b[3m\u001b[90m<int>\u001b[39m\u001b[23m 30, 98, 30, 98, 13, 35, 13, 35, 12, 34, 28…\n",
      "$ match.backHands             \u001b[3m\u001b[90m<fct>\u001b[39m\u001b[23m Two-Handed Backhand_Two-Handed Backhand, T…\n",
      "$ tournament.durationF        \u001b[3m\u001b[90m<fct>\u001b[39m\u001b[23m 6, 6, 6, 6, 6, 6, 6, 6, 6, 6, 6, 6, 6, 6, …\n",
      "$ tournament.quarterL2        \u001b[3m\u001b[90m<fct>\u001b[39m\u001b[23m 1, 1, 1, 1, 1, 1, 1, 1, 1, 1, 1, 1, 1, 1, …\n",
      "$ tournament.prize            \u001b[3m\u001b[90m<dbl>\u001b[39m\u001b[23m 37000.0, 37000.0, 37000.0, 37000.0, 37000.…\n"
     ]
    }
   ],
   "source": [
    "df %>% select(all_of(vars)) %>% glimpse()"
   ]
  },
  {
   "cell_type": "code",
   "execution_count": null,
   "metadata": {},
   "outputs": [
    {
     "name": "stdout",
     "output_type": "stream",
     "text": [
      "Rows: 25\n",
      "Columns: 3\n",
      "$ splits \u001b[3m\u001b[90m<list>\u001b[39m\u001b[23m [<vfold_split[14340 x 3586 x 17926 x 69]>], [<vfold_split[1434…\n",
      "$ id     \u001b[3m\u001b[90m<chr>\u001b[39m\u001b[23m \"Repeat1\", \"Repeat1\", \"Repeat1\", \"Repeat1\", \"Repeat1\", \"Repeat2…\n",
      "$ id2    \u001b[3m\u001b[90m<chr>\u001b[39m\u001b[23m \"Fold1\", \"Fold2\", \"Fold3\", \"Fold4\", \"Fold5\", \"Fold1\", \"Fold2\", …\n"
     ]
    }
   ],
   "source": [
    "# folds\n",
    "set.seed(1)\n",
    "df.folds <- vfold_cv(df, v = 5, repeats = 5) # no strata\n",
    "# workflow #this is needed for dummies, since not all do it automatically\n",
    "recip <- recipe(form$formula, df) %>% \n",
    "    step_relevel(winner.bornAt       , ref_level=\"Other\") %>%\n",
    "    step_relevel(looser.bornAt       , ref_level=\"Other\") %>%\n",
    "    step_relevel(tournament.quarterL2, ref_level=\"Other\") %>%\n",
    "    step_dummy(all_factor_predictors()) %>% \n",
    "    step_mutate(match.hadTieBreaker = ifelse(match.hadTieBreaker, 1, 0) %>% as.double())\n",
    "wf <- workflow() %>% add_recipe(recip %>% prep(df))\n",
    "df.folds %>% glimpse()"
   ]
  },
  {
   "cell_type": "code",
   "execution_count": null,
   "metadata": {},
   "outputs": [
    {
     "name": "stdout",
     "output_type": "stream",
     "text": [
      "Rows: 17,926\n",
      "Columns: 79\n",
      "$ winner.lastTournamentDelayW                             \u001b[3m\u001b[90m<dbl>\u001b[39m\u001b[23m 1, 1, 1, 1, 20…\n",
      "$ looser.lastTournamentDelayW                             \u001b[3m\u001b[90m<dbl>\u001b[39m\u001b[23m 1, 1, 1, 1, 2,…\n",
      "$ match.hadTieBreaker                                     \u001b[3m\u001b[90m<dbl>\u001b[39m\u001b[23m 0, 0, 0, 0, 0,…\n",
      "$ tournament.dateDistance                                 \u001b[3m\u001b[90m<dbl>\u001b[39m\u001b[23m -44.23272, -44…\n",
      "$ match.diffRank                                          \u001b[3m\u001b[90m<int>\u001b[39m\u001b[23m -65, -65, -65,…\n",
      "$ winner.winrate                                          \u001b[3m\u001b[90m<dbl>\u001b[39m\u001b[23m 58.73544, 58.7…\n",
      "$ looser.winrate                                          \u001b[3m\u001b[90m<dbl>\u001b[39m\u001b[23m 60, 60, 60, 60…\n",
      "$ winner.njogos                                           \u001b[3m\u001b[90m<dbl>\u001b[39m\u001b[23m 601, 601, 601,…\n",
      "$ looser.njogos                                           \u001b[3m\u001b[90m<dbl>\u001b[39m\u001b[23m 10, 10, 10, 10…\n",
      "$ winner.nTournament                                      \u001b[3m\u001b[90m<int>\u001b[39m\u001b[23m 134, 134, 364,…\n",
      "$ looser.nTournament                                      \u001b[3m\u001b[90m<int>\u001b[39m\u001b[23m 30, 98, 30, 98…\n",
      "$ tournament.prize                                        \u001b[3m\u001b[90m<dbl>\u001b[39m\u001b[23m 37000.0, 37000…\n",
      "$ match.setsCount                                         \u001b[3m\u001b[90m<fct>\u001b[39m\u001b[23m 2, 2, 2, 2, 2,…\n",
      "$ match.domHands_Left.Handed_Right.Handed                 \u001b[3m\u001b[90m<dbl>\u001b[39m\u001b[23m 0, 0, 0, 0, 0,…\n",
      "$ match.domHands_Right.Handed_Left.Handed                 \u001b[3m\u001b[90m<dbl>\u001b[39m\u001b[23m 1, 1, 1, 1, 1,…\n",
      "$ match.domHands_Right.Handed_Right.Handed                \u001b[3m\u001b[90m<dbl>\u001b[39m\u001b[23m 0, 0, 0, 0, 0,…\n",
      "$ match.tournamentRound_X2nd.Round.Qualifying             \u001b[3m\u001b[90m<dbl>\u001b[39m\u001b[23m 0, 0, 0, 0, 0,…\n",
      "$ match.tournamentRound_X3rd.Round.Qualifying             \u001b[3m\u001b[90m<dbl>\u001b[39m\u001b[23m 0, 0, 0, 0, 0,…\n",
      "$ match.tournamentRound_Finals                            \u001b[3m\u001b[90m<dbl>\u001b[39m\u001b[23m 0, 0, 0, 0, 0,…\n",
      "$ match.tournamentRound_Olympic.Bronze                    \u001b[3m\u001b[90m<dbl>\u001b[39m\u001b[23m 0, 0, 0, 0, 0,…\n",
      "$ match.tournamentRound_Quarter.Finals                    \u001b[3m\u001b[90m<dbl>\u001b[39m\u001b[23m 1, 1, 1, 1, 0,…\n",
      "$ match.tournamentRound_Round.of.128                      \u001b[3m\u001b[90m<dbl>\u001b[39m\u001b[23m 0, 0, 0, 0, 0,…\n",
      "$ match.tournamentRound_Round.of.16                       \u001b[3m\u001b[90m<dbl>\u001b[39m\u001b[23m 0, 0, 0, 0, 1,…\n",
      "$ match.tournamentRound_Round.of.32                       \u001b[3m\u001b[90m<dbl>\u001b[39m\u001b[23m 0, 0, 0, 0, 0,…\n",
      "$ match.tournamentRound_Round.of.64                       \u001b[3m\u001b[90m<dbl>\u001b[39m\u001b[23m 0, 0, 0, 0, 0,…\n",
      "$ match.tournamentRound_Round.Robin                       \u001b[3m\u001b[90m<dbl>\u001b[39m\u001b[23m 0, 0, 0, 0, 0,…\n",
      "$ match.tournamentRound_Semi.Finals                       \u001b[3m\u001b[90m<dbl>\u001b[39m\u001b[23m 0, 0, 0, 0, 0,…\n",
      "$ winner.bornAt_Australia                                 \u001b[3m\u001b[90m<dbl>\u001b[39m\u001b[23m 0, 0, 0, 0, 0,…\n",
      "$ winner.bornAt_USA                                       \u001b[3m\u001b[90m<dbl>\u001b[39m\u001b[23m 1, 1, 1, 1, 0,…\n",
      "$ looser.bornAt_Australia                                 \u001b[3m\u001b[90m<dbl>\u001b[39m\u001b[23m 0, 0, 0, 0, 0,…\n",
      "$ looser.bornAt_USA                                       \u001b[3m\u001b[90m<dbl>\u001b[39m\u001b[23m 0, 0, 0, 0, 0,…\n",
      "$ winner.heightF_X168                                     \u001b[3m\u001b[90m<dbl>\u001b[39m\u001b[23m 1, 1, 1, 1, 0,…\n",
      "$ winner.heightF_X170                                     \u001b[3m\u001b[90m<dbl>\u001b[39m\u001b[23m 0, 0, 0, 0, 1,…\n",
      "$ winner.heightF_X173                                     \u001b[3m\u001b[90m<dbl>\u001b[39m\u001b[23m 0, 0, 0, 0, 0,…\n",
      "$ winner.heightF_X175                                     \u001b[3m\u001b[90m<dbl>\u001b[39m\u001b[23m 0, 0, 0, 0, 0,…\n",
      "$ winner.heightF_X178                                     \u001b[3m\u001b[90m<dbl>\u001b[39m\u001b[23m 0, 0, 0, 0, 0,…\n",
      "$ winner.heightF_X180                                     \u001b[3m\u001b[90m<dbl>\u001b[39m\u001b[23m 0, 0, 0, 0, 0,…\n",
      "$ winner.heightF_X183                                     \u001b[3m\u001b[90m<dbl>\u001b[39m\u001b[23m 0, 0, 0, 0, 0,…\n",
      "$ winner.heightF_X185                                     \u001b[3m\u001b[90m<dbl>\u001b[39m\u001b[23m 0, 0, 0, 0, 0,…\n",
      "$ winner.heightF_X188                                     \u001b[3m\u001b[90m<dbl>\u001b[39m\u001b[23m 0, 0, 0, 0, 0,…\n",
      "$ winner.heightF_X191                                     \u001b[3m\u001b[90m<dbl>\u001b[39m\u001b[23m 0, 0, 0, 0, 0,…\n",
      "$ winner.heightF_X193                                     \u001b[3m\u001b[90m<dbl>\u001b[39m\u001b[23m 0, 0, 0, 0, 0,…\n",
      "$ winner.heightF_X196                                     \u001b[3m\u001b[90m<dbl>\u001b[39m\u001b[23m 0, 0, 0, 0, 0,…\n",
      "$ winner.heightF_X198                                     \u001b[3m\u001b[90m<dbl>\u001b[39m\u001b[23m 0, 0, 0, 0, 0,…\n",
      "$ winner.heightF_X201                                     \u001b[3m\u001b[90m<dbl>\u001b[39m\u001b[23m 0, 0, 0, 0, 0,…\n",
      "$ winner.heightF_X203                                     \u001b[3m\u001b[90m<dbl>\u001b[39m\u001b[23m 0, 0, 0, 0, 0,…\n",
      "$ winner.heightF_X208                                     \u001b[3m\u001b[90m<dbl>\u001b[39m\u001b[23m 0, 0, 0, 0, 0,…\n",
      "$ winner.heightF_X211                                     \u001b[3m\u001b[90m<dbl>\u001b[39m\u001b[23m 0, 0, 0, 0, 0,…\n",
      "$ looser.heightF_X168                                     \u001b[3m\u001b[90m<dbl>\u001b[39m\u001b[23m 0, 0, 0, 0, 0,…\n",
      "$ looser.heightF_X170                                     \u001b[3m\u001b[90m<dbl>\u001b[39m\u001b[23m 0, 0, 0, 0, 0,…\n",
      "$ looser.heightF_X173                                     \u001b[3m\u001b[90m<dbl>\u001b[39m\u001b[23m 0, 0, 0, 0, 0,…\n",
      "$ looser.heightF_X175                                     \u001b[3m\u001b[90m<dbl>\u001b[39m\u001b[23m 0, 0, 0, 0, 0,…\n",
      "$ looser.heightF_X178                                     \u001b[3m\u001b[90m<dbl>\u001b[39m\u001b[23m 0, 0, 0, 0, 0,…\n",
      "$ looser.heightF_X180                                     \u001b[3m\u001b[90m<dbl>\u001b[39m\u001b[23m 0, 0, 0, 0, 0,…\n",
      "$ looser.heightF_X183                                     \u001b[3m\u001b[90m<dbl>\u001b[39m\u001b[23m 0, 0, 0, 0, 0,…\n",
      "$ looser.heightF_X185                                     \u001b[3m\u001b[90m<dbl>\u001b[39m\u001b[23m 0, 0, 0, 0, 0,…\n",
      "$ looser.heightF_X188                                     \u001b[3m\u001b[90m<dbl>\u001b[39m\u001b[23m 0, 0, 0, 0, 0,…\n",
      "$ looser.heightF_X191                                     \u001b[3m\u001b[90m<dbl>\u001b[39m\u001b[23m 0, 0, 0, 0, 0,…\n",
      "$ looser.heightF_X193                                     \u001b[3m\u001b[90m<dbl>\u001b[39m\u001b[23m 0, 0, 0, 0, 0,…\n",
      "$ looser.heightF_X196                                     \u001b[3m\u001b[90m<dbl>\u001b[39m\u001b[23m 0, 0, 0, 0, 0,…\n",
      "$ looser.heightF_X198                                     \u001b[3m\u001b[90m<dbl>\u001b[39m\u001b[23m 0, 0, 0, 0, 0,…\n",
      "$ looser.heightF_X201                                     \u001b[3m\u001b[90m<dbl>\u001b[39m\u001b[23m 0, 0, 0, 0, 0,…\n",
      "$ looser.heightF_X203                                     \u001b[3m\u001b[90m<dbl>\u001b[39m\u001b[23m 0, 0, 0, 0, 0,…\n",
      "$ looser.heightF_X208                                     \u001b[3m\u001b[90m<dbl>\u001b[39m\u001b[23m 0, 0, 0, 0, 0,…\n",
      "$ looser.heightF_X211                                     \u001b[3m\u001b[90m<dbl>\u001b[39m\u001b[23m 0, 0, 0, 0, 0,…\n",
      "$ match.backHands_One.Handed.Backhand_Two.Handed.Backhand \u001b[3m\u001b[90m<dbl>\u001b[39m\u001b[23m 0, 0, 0, 0, 0,…\n",
      "$ match.backHands_One.Handed.Backhand_Unknown.Backhand    \u001b[3m\u001b[90m<dbl>\u001b[39m\u001b[23m 0, 0, 0, 0, 0,…\n",
      "$ match.backHands_Two.Handed.Backhand_One.Handed.Backhand \u001b[3m\u001b[90m<dbl>\u001b[39m\u001b[23m 0, 0, 0, 0, 0,…\n",
      "$ match.backHands_Two.Handed.Backhand_Two.Handed.Backhand \u001b[3m\u001b[90m<dbl>\u001b[39m\u001b[23m 1, 1, 1, 1, 1,…\n",
      "$ match.backHands_Two.Handed.Backhand_Unknown.Backhand    \u001b[3m\u001b[90m<dbl>\u001b[39m\u001b[23m 0, 0, 0, 0, 0,…\n",
      "$ match.backHands_Unknown.Backhand_One.Handed.Backhand    \u001b[3m\u001b[90m<dbl>\u001b[39m\u001b[23m 0, 0, 0, 0, 0,…\n",
      "$ match.backHands_Unknown.Backhand_Two.Handed.Backhand    \u001b[3m\u001b[90m<dbl>\u001b[39m\u001b[23m 0, 0, 0, 0, 0,…\n",
      "$ match.backHands_Unknown.Backhand_Unknown.Backhand       \u001b[3m\u001b[90m<dbl>\u001b[39m\u001b[23m 0, 0, 0, 0, 0,…\n",
      "$ tournament.durationF_X5                                 \u001b[3m\u001b[90m<dbl>\u001b[39m\u001b[23m 0, 0, 0, 0, 0,…\n",
      "$ tournament.durationF_X6                                 \u001b[3m\u001b[90m<dbl>\u001b[39m\u001b[23m 1, 1, 1, 1, 1,…\n",
      "$ tournament.durationF_X8                                 \u001b[3m\u001b[90m<dbl>\u001b[39m\u001b[23m 0, 0, 0, 0, 0,…\n",
      "$ tournament.durationF_X13                                \u001b[3m\u001b[90m<dbl>\u001b[39m\u001b[23m 0, 0, 0, 0, 0,…\n",
      "$ tournament.quarterL2_X1                                 \u001b[3m\u001b[90m<dbl>\u001b[39m\u001b[23m 1, 1, 1, 1, 1,…\n",
      "$ tournament.quarterL2_X4                                 \u001b[3m\u001b[90m<dbl>\u001b[39m\u001b[23m 0, 0, 0, 0, 0,…\n"
     ]
    }
   ],
   "source": [
    "recip %>% bake(df) %>% glimpse()"
   ]
  },
  {
   "cell_type": "code",
   "execution_count": null,
   "metadata": {},
   "outputs": [
    {
     "name": "stderr",
     "output_type": "stream",
     "text": [
      "→ \u001b[33m\u001b[1mA\u001b[22m\u001b[39m | \u001b[33mwarning\u001b[39m: prediction from rank-deficient fit; attr(*, \"non-estim\") has doubtful cases\n",
      "\n",
      "There were issues with some computations   \u001b[1m\u001b[33mA\u001b[39m\u001b[22m: x1\n",
      "There were issues with some computations   \u001b[1m\u001b[33mA\u001b[39m\u001b[22m: x2\n",
      "There were issues with some computations   \u001b[1m\u001b[33mA\u001b[39m\u001b[22m: x3\n",
      "There were issues with some computations   \u001b[1m\u001b[33mA\u001b[39m\u001b[22m: x3\n",
      "\n",
      "\n"
     ]
    },
    {
     "name": "stdout",
     "output_type": "stream",
     "text": [
      "22.13 sec elapsed\n"
     ]
    }
   ],
   "source": [
    "# logistic regression\n",
    "lg <- logistic_reg() %>%\n",
    "    set_engine(\"glm\") %>%\n",
    "    set_mode(\"classification\")\n",
    "tic()\n",
    "    lg.fitted <- fit_resamples(wf %>% add_model(lg), df.folds, metrics = metrics, control = control_resamples(save_pred = TRUE))\n",
    "toc(log=T)"
   ]
  },
  {
   "cell_type": "code",
   "execution_count": null,
   "metadata": {},
   "outputs": [
    {
     "name": "stderr",
     "output_type": "stream",
     "text": [
      "select: renamed 2 variables (metrica, valor) and dropped 4 variables\n",
      "\n"
     ]
    },
    {
     "data": {
      "text/html": [
       "<table class=\"dataframe\">\n",
       "<caption>A tibble: 3 × 2</caption>\n",
       "<thead>\n",
       "\t<tr><th scope=col>metrica</th><th scope=col>valor</th></tr>\n",
       "\t<tr><th scope=col>&lt;chr&gt;</th><th scope=col>&lt;dbl&gt;</th></tr>\n",
       "</thead>\n",
       "<tbody>\n",
       "\t<tr><td>accuracy    </td><td>0.6777861</td></tr>\n",
       "\t<tr><td>bal_accuracy</td><td>0.5740203</td></tr>\n",
       "\t<tr><td>f_meas      </td><td>0.7863830</td></tr>\n",
       "</tbody>\n",
       "</table>\n"
      ],
      "text/latex": [
       "A tibble: 3 × 2\n",
       "\\begin{tabular}{ll}\n",
       " metrica & valor\\\\\n",
       " <chr> & <dbl>\\\\\n",
       "\\hline\n",
       "\t accuracy     & 0.6777861\\\\\n",
       "\t bal\\_accuracy & 0.5740203\\\\\n",
       "\t f\\_meas       & 0.7863830\\\\\n",
       "\\end{tabular}\n"
      ],
      "text/markdown": [
       "\n",
       "A tibble: 3 × 2\n",
       "\n",
       "| metrica &lt;chr&gt; | valor &lt;dbl&gt; |\n",
       "|---|---|\n",
       "| accuracy     | 0.6777861 |\n",
       "| bal_accuracy | 0.5740203 |\n",
       "| f_meas       | 0.7863830 |\n",
       "\n"
      ],
      "text/plain": [
       "  metrica      valor    \n",
       "1 accuracy     0.6777861\n",
       "2 bal_accuracy 0.5740203\n",
       "3 f_meas       0.7863830"
      ]
     },
     "metadata": {},
     "output_type": "display_data"
    }
   ],
   "source": [
    "collect_metrics(lg.fitted) %>% select(metrica = .metric, valor = mean)"
   ]
  },
  {
   "cell_type": "code",
   "execution_count": null,
   "metadata": {},
   "outputs": [
    {
     "name": "stdout",
     "output_type": "stream",
     "text": [
      "46.14 sec elapsed\n"
     ]
    }
   ],
   "source": [
    "# svm linear\n",
    "svm <- svm_linear() %>%\n",
    "    set_engine(\"LiblineaR\") %>%\n",
    "    set_mode(\"classification\")\n",
    "\n",
    "\n",
    "tic()\n",
    "    svm.fitted <- fit_resamples(wf %>% add_model(svm), df.folds, metrics = metrics, control = control_resamples(save_pred = TRUE))\n",
    "toc(log=T)"
   ]
  },
  {
   "cell_type": "code",
   "execution_count": null,
   "metadata": {},
   "outputs": [
    {
     "name": "stderr",
     "output_type": "stream",
     "text": [
      "select: renamed 2 variables (metrica, valor) and dropped 4 variables\n",
      "\n"
     ]
    },
    {
     "data": {
      "text/html": [
       "<table class=\"dataframe\">\n",
       "<caption>A tibble: 3 × 2</caption>\n",
       "<thead>\n",
       "\t<tr><th scope=col>metrica</th><th scope=col>valor</th></tr>\n",
       "\t<tr><th scope=col>&lt;chr&gt;</th><th scope=col>&lt;dbl&gt;</th></tr>\n",
       "</thead>\n",
       "<tbody>\n",
       "\t<tr><td>accuracy    </td><td>0.5626448</td></tr>\n",
       "\t<tr><td>bal_accuracy</td><td>0.5003171</td></tr>\n",
       "\t<tr><td>f_meas      </td><td>0.6311495</td></tr>\n",
       "</tbody>\n",
       "</table>\n"
      ],
      "text/latex": [
       "A tibble: 3 × 2\n",
       "\\begin{tabular}{ll}\n",
       " metrica & valor\\\\\n",
       " <chr> & <dbl>\\\\\n",
       "\\hline\n",
       "\t accuracy     & 0.5626448\\\\\n",
       "\t bal\\_accuracy & 0.5003171\\\\\n",
       "\t f\\_meas       & 0.6311495\\\\\n",
       "\\end{tabular}\n"
      ],
      "text/markdown": [
       "\n",
       "A tibble: 3 × 2\n",
       "\n",
       "| metrica &lt;chr&gt; | valor &lt;dbl&gt; |\n",
       "|---|---|\n",
       "| accuracy     | 0.5626448 |\n",
       "| bal_accuracy | 0.5003171 |\n",
       "| f_meas       | 0.6311495 |\n",
       "\n"
      ],
      "text/plain": [
       "  metrica      valor    \n",
       "1 accuracy     0.5626448\n",
       "2 bal_accuracy 0.5003171\n",
       "3 f_meas       0.6311495"
      ]
     },
     "metadata": {},
     "output_type": "display_data"
    }
   ],
   "source": [
    "collect_metrics(svm.fitted) %>% select(metrica = .metric, valor = mean)"
   ]
  },
  {
   "cell_type": "code",
   "execution_count": null,
   "metadata": {},
   "outputs": [
    {
     "name": "stdout",
     "output_type": "stream",
     "text": [
      "34.29 sec elapsed\n"
     ]
    }
   ],
   "source": [
    "# decision tree\n",
    "dt <- decision_tree() %>%\n",
    "    set_engine(\"rpart\") %>% \n",
    "    set_mode(\"classification\")\n",
    "\n",
    "tic()\n",
    "    dt.fitted <- fit_resamples(wf %>% add_model(dt), df.folds, metrics = metrics, control = control_resamples(save_pred = TRUE))\n",
    "toc(log=T)"
   ]
  },
  {
   "cell_type": "code",
   "execution_count": null,
   "metadata": {},
   "outputs": [
    {
     "name": "stdout",
     "output_type": "stream",
     "text": [
      "Rows: 25\n",
      "Columns: 6\n",
      "$ splits       \u001b[3m\u001b[90m<list>\u001b[39m\u001b[23m [<vfold_split[14340 x 3586 x 17926 x 69]>], [<vfold_spli…\n",
      "$ id           \u001b[3m\u001b[90m<chr>\u001b[39m\u001b[23m \"Repeat1\", \"Repeat1\", \"Repeat1\", \"Repeat1\", \"Repeat1\", \"R…\n",
      "$ id2          \u001b[3m\u001b[90m<chr>\u001b[39m\u001b[23m \"Fold1\", \"Fold2\", \"Fold3\", \"Fold4\", \"Fold5\", \"Fold1\", \"Fo…\n",
      "$ .metrics     \u001b[3m\u001b[90m<list>\u001b[39m\u001b[23m [<tbl_df[3 x 4]>], [<tbl_df[3 x 4]>], [<tbl_df[3 x 4]>],…\n",
      "$ .notes       \u001b[3m\u001b[90m<list>\u001b[39m\u001b[23m [<tbl_df[0 x 3]>], [<tbl_df[0 x 3]>], [<tbl_df[0 x 3]>],…\n",
      "$ .predictions \u001b[3m\u001b[90m<list>\u001b[39m\u001b[23m [<tbl_df[3586 x 4]>], [<tbl_df[3585 x 4]>], [<tbl_df[358…\n"
     ]
    }
   ],
   "source": [
    "dt.fitted %>% glimpse()"
   ]
  },
  {
   "cell_type": "code",
   "execution_count": null,
   "metadata": {},
   "outputs": [
    {
     "name": "stderr",
     "output_type": "stream",
     "text": [
      "select: renamed 2 variables (metrica, valor) and dropped 4 variables\n",
      "\n"
     ]
    },
    {
     "data": {
      "text/html": [
       "<table class=\"dataframe\">\n",
       "<caption>A tibble: 3 × 2</caption>\n",
       "<thead>\n",
       "\t<tr><th scope=col>metrica</th><th scope=col>valor</th></tr>\n",
       "\t<tr><th scope=col>&lt;chr&gt;</th><th scope=col>&lt;dbl&gt;</th></tr>\n",
       "</thead>\n",
       "<tbody>\n",
       "\t<tr><td>accuracy    </td><td>0.6787456</td></tr>\n",
       "\t<tr><td>bal_accuracy</td><td>0.5813750</td></tr>\n",
       "\t<tr><td>f_meas      </td><td>0.7843147</td></tr>\n",
       "</tbody>\n",
       "</table>\n"
      ],
      "text/latex": [
       "A tibble: 3 × 2\n",
       "\\begin{tabular}{ll}\n",
       " metrica & valor\\\\\n",
       " <chr> & <dbl>\\\\\n",
       "\\hline\n",
       "\t accuracy     & 0.6787456\\\\\n",
       "\t bal\\_accuracy & 0.5813750\\\\\n",
       "\t f\\_meas       & 0.7843147\\\\\n",
       "\\end{tabular}\n"
      ],
      "text/markdown": [
       "\n",
       "A tibble: 3 × 2\n",
       "\n",
       "| metrica &lt;chr&gt; | valor &lt;dbl&gt; |\n",
       "|---|---|\n",
       "| accuracy     | 0.6787456 |\n",
       "| bal_accuracy | 0.5813750 |\n",
       "| f_meas       | 0.7843147 |\n",
       "\n"
      ],
      "text/plain": [
       "  metrica      valor    \n",
       "1 accuracy     0.6787456\n",
       "2 bal_accuracy 0.5813750\n",
       "3 f_meas       0.7843147"
      ]
     },
     "metadata": {},
     "output_type": "display_data"
    }
   ],
   "source": [
    "collect_metrics(dt.fitted) %>% select(metrica = .metric, valor = mean)"
   ]
  },
  {
   "cell_type": "code",
   "execution_count": null,
   "metadata": {},
   "outputs": [
    {
     "name": "stdout",
     "output_type": "stream",
     "text": [
      "334.1 sec elapsed\n"
     ]
    }
   ],
   "source": [
    "# naive Bayes\n",
    "library(discrim)\n",
    "nb <- naive_Bayes() %>%\n",
    "    set_engine(\"klaR\") %>% \n",
    "    set_mode(\"classification\")\n",
    "\n",
    "tic()\n",
    "    nb.fitted <- fit_resamples(wf %>% add_model(nb), df.folds, metrics = metrics, control = control_resamples(save_pred = TRUE))\n",
    "toc(log=T)\n",
    "detach(\"package:discrim\")"
   ]
  },
  {
   "cell_type": "code",
   "execution_count": null,
   "metadata": {},
   "outputs": [
    {
     "name": "stderr",
     "output_type": "stream",
     "text": [
      "select: renamed 2 variables (metrica, valor) and dropped 4 variables\n",
      "\n"
     ]
    },
    {
     "data": {
      "text/html": [
       "<table class=\"dataframe\">\n",
       "<caption>A tibble: 3 × 2</caption>\n",
       "<thead>\n",
       "\t<tr><th scope=col>metrica</th><th scope=col>valor</th></tr>\n",
       "\t<tr><th scope=col>&lt;chr&gt;</th><th scope=col>&lt;dbl&gt;</th></tr>\n",
       "</thead>\n",
       "<tbody>\n",
       "\t<tr><td>accuracy    </td><td>0.6604706</td></tr>\n",
       "\t<tr><td>bal_accuracy</td><td>0.5016527</td></tr>\n",
       "\t<tr><td>f_meas      </td><td>0.7951793</td></tr>\n",
       "</tbody>\n",
       "</table>\n"
      ],
      "text/latex": [
       "A tibble: 3 × 2\n",
       "\\begin{tabular}{ll}\n",
       " metrica & valor\\\\\n",
       " <chr> & <dbl>\\\\\n",
       "\\hline\n",
       "\t accuracy     & 0.6604706\\\\\n",
       "\t bal\\_accuracy & 0.5016527\\\\\n",
       "\t f\\_meas       & 0.7951793\\\\\n",
       "\\end{tabular}\n"
      ],
      "text/markdown": [
       "\n",
       "A tibble: 3 × 2\n",
       "\n",
       "| metrica &lt;chr&gt; | valor &lt;dbl&gt; |\n",
       "|---|---|\n",
       "| accuracy     | 0.6604706 |\n",
       "| bal_accuracy | 0.5016527 |\n",
       "| f_meas       | 0.7951793 |\n",
       "\n"
      ],
      "text/plain": [
       "  metrica      valor    \n",
       "1 accuracy     0.6604706\n",
       "2 bal_accuracy 0.5016527\n",
       "3 f_meas       0.7951793"
      ]
     },
     "metadata": {},
     "output_type": "display_data"
    }
   ],
   "source": [
    "collect_metrics(nb.fitted) %>% select(metrica = .metric, valor = mean)"
   ]
  },
  {
   "cell_type": "code",
   "execution_count": null,
   "metadata": {},
   "outputs": [
    {
     "name": "stdout",
     "output_type": "stream",
     "text": [
      "208.86 sec elapsed\n"
     ]
    }
   ],
   "source": [
    "# random forest\n",
    "rf <- rand_forest() %>%\n",
    "    set_engine(\"ranger\") %>% \n",
    "    set_mode(\"classification\")\n",
    "set.seed(1)\n",
    "tic()\n",
    "    rf.fitted <- fit_resamples(wf %>% add_model(rf), df.folds, metrics = metrics, control = control_resamples(save_pred = TRUE))\n",
    "toc(log=T)"
   ]
  },
  {
   "cell_type": "code",
   "execution_count": null,
   "metadata": {},
   "outputs": [
    {
     "name": "stderr",
     "output_type": "stream",
     "text": [
      "select: renamed 2 variables (metrica, valor) and dropped 4 variables\n",
      "\n"
     ]
    },
    {
     "data": {
      "text/html": [
       "<table class=\"dataframe\">\n",
       "<caption>A tibble: 3 × 2</caption>\n",
       "<thead>\n",
       "\t<tr><th scope=col>metrica</th><th scope=col>valor</th></tr>\n",
       "\t<tr><th scope=col>&lt;chr&gt;</th><th scope=col>&lt;dbl&gt;</th></tr>\n",
       "</thead>\n",
       "<tbody>\n",
       "\t<tr><td>accuracy    </td><td>0.9158763</td></tr>\n",
       "\t<tr><td>bal_accuracy</td><td>0.8811829</td></tr>\n",
       "\t<tr><td>f_meas      </td><td>0.9394575</td></tr>\n",
       "</tbody>\n",
       "</table>\n"
      ],
      "text/latex": [
       "A tibble: 3 × 2\n",
       "\\begin{tabular}{ll}\n",
       " metrica & valor\\\\\n",
       " <chr> & <dbl>\\\\\n",
       "\\hline\n",
       "\t accuracy     & 0.9158763\\\\\n",
       "\t bal\\_accuracy & 0.8811829\\\\\n",
       "\t f\\_meas       & 0.9394575\\\\\n",
       "\\end{tabular}\n"
      ],
      "text/markdown": [
       "\n",
       "A tibble: 3 × 2\n",
       "\n",
       "| metrica &lt;chr&gt; | valor &lt;dbl&gt; |\n",
       "|---|---|\n",
       "| accuracy     | 0.9158763 |\n",
       "| bal_accuracy | 0.8811829 |\n",
       "| f_meas       | 0.9394575 |\n",
       "\n"
      ],
      "text/plain": [
       "  metrica      valor    \n",
       "1 accuracy     0.9158763\n",
       "2 bal_accuracy 0.8811829\n",
       "3 f_meas       0.9394575"
      ]
     },
     "metadata": {},
     "output_type": "display_data"
    }
   ],
   "source": [
    "collect_metrics(rf.fitted) %>% select(metrica = .metric, valor = mean)"
   ]
  },
  {
   "cell_type": "code",
   "execution_count": null,
   "metadata": {},
   "outputs": [
    {
     "data": {
      "text/plain": [
       "══ Workflow ═════════════════════════════════════════════════════════════════════════════════════════════════════════════\n",
       "\u001b[3mPreprocessor:\u001b[23m Recipe\n",
       "\u001b[3mModel:\u001b[23m None\n",
       "\n",
       "── Preprocessor ─────────────────────────────────────────────────────────────────────────────────────────────────────────\n",
       "4 Recipe Steps\n",
       "\n",
       "• step_relevel()\n",
       "• step_relevel()\n",
       "• step_dummy()\n",
       "• step_mutate()"
      ]
     },
     "metadata": {},
     "output_type": "display_data"
    }
   ],
   "source": [
    "# comparasion between rull random forest and only important features\n",
    "rel_vars <- c(\n",
    "    \"winner.bornAt\",\n",
    "    \"winner.heightF\",\n",
    "    \"winner.lastTournamentDelayW\",\n",
    "    \"winner.winrate\",\n",
    "    \"looser.njogos\",\n",
    "    \"looser.winrate\",\n",
    "    \"match.diffRank\",\n",
    "    \"match.domHands\",\n",
    "    \"match.hadTieBreaker\",\n",
    "    \"tournament.dateDistance\",\n",
    "    \"tournament.durationF\",\n",
    "    \"tournament.prize\",\n",
    "    \"tournament.quarterL2\"\n",
    ")\n",
    "\n",
    "create.formula(input.names = rel_vars, outcome.name = \"match.setsCount\", dat = df)$formula -> imp_form\n",
    "recip.rel <- recipe(imp_form, df) %>% \n",
    "    step_relevel(winner.bornAt       , ref_level=\"Other\") %>%\n",
    "    step_relevel(tournament.quarterL2, ref_level=\"Other\") %>%\n",
    "    step_dummy(all_factor_predictors()) %>% \n",
    "    step_mutate(match.hadTieBreaker = ifelse(match.hadTieBreaker, 1, 0) %>% as.double())\n",
    "wf.tune <- workflow() %>% add_recipe(recip.rel %>% prep(df))\n",
    "wf.tune"
   ]
  },
  {
   "cell_type": "code",
   "execution_count": null,
   "metadata": {},
   "outputs": [
    {
     "name": "stdout",
     "output_type": "stream",
     "text": [
      "146.56 sec elapsed\n"
     ]
    },
    {
     "name": "stderr",
     "output_type": "stream",
     "text": [
      "select: renamed 2 variables (metrica, valor) and dropped 4 variables\n",
      "\n"
     ]
    },
    {
     "data": {
      "text/html": [
       "<table class=\"dataframe\">\n",
       "<caption>A tibble: 3 × 2</caption>\n",
       "<thead>\n",
       "\t<tr><th scope=col>metrica</th><th scope=col>valor</th></tr>\n",
       "\t<tr><th scope=col>&lt;chr&gt;</th><th scope=col>&lt;dbl&gt;</th></tr>\n",
       "</thead>\n",
       "<tbody>\n",
       "\t<tr><td>accuracy    </td><td>0.9305589</td></tr>\n",
       "\t<tr><td>bal_accuracy</td><td>0.9043786</td></tr>\n",
       "\t<tr><td>f_meas      </td><td>0.9493155</td></tr>\n",
       "</tbody>\n",
       "</table>\n"
      ],
      "text/latex": [
       "A tibble: 3 × 2\n",
       "\\begin{tabular}{ll}\n",
       " metrica & valor\\\\\n",
       " <chr> & <dbl>\\\\\n",
       "\\hline\n",
       "\t accuracy     & 0.9305589\\\\\n",
       "\t bal\\_accuracy & 0.9043786\\\\\n",
       "\t f\\_meas       & 0.9493155\\\\\n",
       "\\end{tabular}\n"
      ],
      "text/markdown": [
       "\n",
       "A tibble: 3 × 2\n",
       "\n",
       "| metrica &lt;chr&gt; | valor &lt;dbl&gt; |\n",
       "|---|---|\n",
       "| accuracy     | 0.9305589 |\n",
       "| bal_accuracy | 0.9043786 |\n",
       "| f_meas       | 0.9493155 |\n",
       "\n"
      ],
      "text/plain": [
       "  metrica      valor    \n",
       "1 accuracy     0.9305589\n",
       "2 bal_accuracy 0.9043786\n",
       "3 f_meas       0.9493155"
      ]
     },
     "metadata": {},
     "output_type": "display_data"
    }
   ],
   "source": [
    "tic()\n",
    "    rf.imp.fitted <- fit_resamples(wf.tune %>% add_model(rf), df.folds, metrics = metrics, control = control_resamples(save_pred = TRUE))\n",
    "toc(log=T)\n",
    "collect_metrics(rf.imp.fitted) %>% select(metrica = .metric, valor = mean)"
   ]
  },
  {
   "cell_type": "code",
   "execution_count": null,
   "metadata": {},
   "outputs": [
    {
     "data": {
      "text/html": [
       "<table class=\"dataframe\">\n",
       "<caption>A parameters: 3 × 6</caption>\n",
       "<thead>\n",
       "\t<tr><th scope=col>name</th><th scope=col>id</th><th scope=col>source</th><th scope=col>component</th><th scope=col>component_id</th><th scope=col>object</th></tr>\n",
       "\t<tr><th scope=col>&lt;chr&gt;</th><th scope=col>&lt;chr&gt;</th><th scope=col>&lt;chr&gt;</th><th scope=col>&lt;chr&gt;</th><th scope=col>&lt;chr&gt;</th><th scope=col>&lt;list&gt;</th></tr>\n",
       "</thead>\n",
       "<tbody>\n",
       "\t<tr><td>mtry </td><td>n_predictors</td><td>model_spec</td><td>rand_forest</td><td>main</td><td><span style=white-space:pre-wrap>integer, 1, unknown(), TRUE, TRUE, # Randomly Selected Predictors, function (object, x, log_vals = FALSE, ...) , {,     if (!inherits(object, \"param\")) {,         rlang::abort(\"`object` should be a 'param' object.\"),     },     rngs &lt;- range_get(object, original = FALSE),     if (!is_unknown(rngs$upper)) {,         return(object),     },     x_dims &lt;- dim(x),     if (is.null(x_dims)) {,         rlang::abort(\"Cannot determine number of columns. Is `x` a 2D data object?\"),     },     if (log_vals) {,         rngs[2] &lt;- log10(x_dims[2]),     },     else {,         rngs[2] &lt;- x_dims[2],     },     if (object$type == \"integer\" &amp; is.null(object$trans)) {,         rngs &lt;- as.integer(rngs),     },     range_set(object, rngs), }</span></td></tr>\n",
       "\t<tr><td>trees</td><td>n_trees     </td><td>model_spec</td><td>rand_forest</td><td>main</td><td>integer, 1      , 2000   , TRUE   , TRUE   , # Trees</td></tr>\n",
       "\t<tr><td>min_n</td><td><span style=white-space:pre-wrap>min_node    </span></td><td>model_spec</td><td>rand_forest</td><td>main</td><td><span style=white-space:pre-wrap>integer, 2, 40, TRUE, TRUE, Minimal Node Size, function (object, x, log_vals = FALSE, frac = 1/3, ...) , {,     if (!inherits(object, \"param\")) {,         rlang::abort(\"`object` should be a 'param' object.\"),     },     rngs &lt;- range_get(object, original = FALSE),     if (!is_unknown(rngs$upper)) {,         return(object),     },     x_dims &lt;- dim(x),     if (is.null(x_dims)) {,         rlang::abort(\"Cannot determine number of columns. Is `x` a 2D data object?\"),     },     n_frac &lt;- floor(x_dims[1] * frac),     if (log_vals) {,         rngs[2] &lt;- log10(n_frac),     },     else {,         rngs[2] &lt;- n_frac,     },     if (object$type == \"integer\" &amp; is.null(object$trans) &amp; !log_vals) {,         rngs &lt;- as.integer(rngs),     },     range_set(object, rngs), }</span></td></tr>\n",
       "</tbody>\n",
       "</table>\n"
      ],
      "text/latex": [
       "A parameters: 3 × 6\n",
       "\\begin{tabular}{llllll}\n",
       " name & id & source & component & component\\_id & object\\\\\n",
       " <chr> & <chr> & <chr> & <chr> & <chr> & <list>\\\\\n",
       "\\hline\n",
       "\t mtry  & n\\_predictors & model\\_spec & rand\\_forest & main & integer, 1, unknown(), TRUE, TRUE, \\# Randomly Selected Predictors, function (object, x, log\\_vals = FALSE, ...) , \\{,     if (!inherits(object, \"param\")) \\{,         rlang::abort(\"`object` should be a 'param' object.\"),     \\},     rngs <- range\\_get(object, original = FALSE),     if (!is\\_unknown(rngs\\$upper)) \\{,         return(object),     \\},     x\\_dims <- dim(x),     if (is.null(x\\_dims)) \\{,         rlang::abort(\"Cannot determine number of columns. Is `x` a 2D data object?\"),     \\},     if (log\\_vals) \\{,         rngs{[}2{]} <- log10(x\\_dims{[}2{]}),     \\},     else \\{,         rngs{[}2{]} <- x\\_dims{[}2{]},     \\},     if (object\\$type == \"integer\" \\& is.null(object\\$trans)) \\{,         rngs <- as.integer(rngs),     \\},     range\\_set(object, rngs), \\}\\\\\n",
       "\t trees & n\\_trees      & model\\_spec & rand\\_forest & main & integer, 1      , 2000   , TRUE   , TRUE   , \\# Trees\\\\\n",
       "\t min\\_n & min\\_node     & model\\_spec & rand\\_forest & main & integer, 2, 40, TRUE, TRUE, Minimal Node Size, function (object, x, log\\_vals = FALSE, frac = 1/3, ...) , \\{,     if (!inherits(object, \"param\")) \\{,         rlang::abort(\"`object` should be a 'param' object.\"),     \\},     rngs <- range\\_get(object, original = FALSE),     if (!is\\_unknown(rngs\\$upper)) \\{,         return(object),     \\},     x\\_dims <- dim(x),     if (is.null(x\\_dims)) \\{,         rlang::abort(\"Cannot determine number of columns. Is `x` a 2D data object?\"),     \\},     n\\_frac <- floor(x\\_dims{[}1{]} * frac),     if (log\\_vals) \\{,         rngs{[}2{]} <- log10(n\\_frac),     \\},     else \\{,         rngs{[}2{]} <- n\\_frac,     \\},     if (object\\$type == \"integer\" \\& is.null(object\\$trans) \\& !log\\_vals) \\{,         rngs <- as.integer(rngs),     \\},     range\\_set(object, rngs), \\}\\\\\n",
       "\\end{tabular}\n"
      ],
      "text/markdown": [
       "\n",
       "A parameters: 3 × 6\n",
       "\n",
       "| name &lt;chr&gt; | id &lt;chr&gt; | source &lt;chr&gt; | component &lt;chr&gt; | component_id &lt;chr&gt; | object &lt;list&gt; |\n",
       "|---|---|---|---|---|---|\n",
       "| mtry  | n_predictors | model_spec | rand_forest | main | integer, 1, unknown(), TRUE, TRUE, # Randomly Selected Predictors, function (object, x, log_vals = FALSE, ...) , {,     if (!inherits(object, \"param\")) {,         rlang::abort(\"`object` should be a 'param' object.\"),     },     rngs &lt;- range_get(object, original = FALSE),     if (!is_unknown(rngs$upper)) {,         return(object),     },     x_dims &lt;- dim(x),     if (is.null(x_dims)) {,         rlang::abort(\"Cannot determine number of columns. Is `x` a 2D data object?\"),     },     if (log_vals) {,         rngs[2] &lt;- log10(x_dims[2]),     },     else {,         rngs[2] &lt;- x_dims[2],     },     if (object$type == \"integer\" &amp; is.null(object$trans)) {,         rngs &lt;- as.integer(rngs),     },     range_set(object, rngs), } |\n",
       "| trees | n_trees      | model_spec | rand_forest | main | integer, 1      , 2000   , TRUE   , TRUE   , # Trees |\n",
       "| min_n | min_node     | model_spec | rand_forest | main | integer, 2, 40, TRUE, TRUE, Minimal Node Size, function (object, x, log_vals = FALSE, frac = 1/3, ...) , {,     if (!inherits(object, \"param\")) {,         rlang::abort(\"`object` should be a 'param' object.\"),     },     rngs &lt;- range_get(object, original = FALSE),     if (!is_unknown(rngs$upper)) {,         return(object),     },     x_dims &lt;- dim(x),     if (is.null(x_dims)) {,         rlang::abort(\"Cannot determine number of columns. Is `x` a 2D data object?\"),     },     n_frac &lt;- floor(x_dims[1] * frac),     if (log_vals) {,         rngs[2] &lt;- log10(n_frac),     },     else {,         rngs[2] &lt;- n_frac,     },     if (object$type == \"integer\" &amp; is.null(object$trans) &amp; !log_vals) {,         rngs &lt;- as.integer(rngs),     },     range_set(object, rngs), } |\n",
       "\n"
      ],
      "text/plain": [
       "  name  id           source     component   component_id\n",
       "1 mtry  n_predictors model_spec rand_forest main        \n",
       "2 trees n_trees      model_spec rand_forest main        \n",
       "3 min_n min_node     model_spec rand_forest main        \n",
       "  object                                                                                                                                                                                                                                                                                                                                                                                                                                                                                                                                                                                                                                                                                                                                                                                        \n",
       "1 integer, 1, unknown(), TRUE, TRUE, # Randomly Selected Predictors, function (object, x, log_vals = FALSE, ...) , {,     if (!inherits(object, \"param\")) {,         rlang::abort(\"`object` should be a 'param' object.\"),     },     rngs <- range_get(object, original = FALSE),     if (!is_unknown(rngs$upper)) {,         return(object),     },     x_dims <- dim(x),     if (is.null(x_dims)) {,         rlang::abort(\"Cannot determine number of columns. Is `x` a 2D data object?\"),     },     if (log_vals) {,         rngs[2] <- log10(x_dims[2]),     },     else {,         rngs[2] <- x_dims[2],     },     if (object$type == \"integer\" & is.null(object$trans)) {,         rngs <- as.integer(rngs),     },     range_set(object, rngs), }                                     \n",
       "2 integer, 1      , 2000   , TRUE   , TRUE   , # Trees                                                                                                                                                                                                                                                                                                                                                                                                                                                                                                                                                                                                                                                                                                                                          \n",
       "3 integer, 2, 40, TRUE, TRUE, Minimal Node Size, function (object, x, log_vals = FALSE, frac = 1/3, ...) , {,     if (!inherits(object, \"param\")) {,         rlang::abort(\"`object` should be a 'param' object.\"),     },     rngs <- range_get(object, original = FALSE),     if (!is_unknown(rngs$upper)) {,         return(object),     },     x_dims <- dim(x),     if (is.null(x_dims)) {,         rlang::abort(\"Cannot determine number of columns. Is `x` a 2D data object?\"),     },     n_frac <- floor(x_dims[1] * frac),     if (log_vals) {,         rngs[2] <- log10(n_frac),     },     else {,         rngs[2] <- n_frac,     },     if (object$type == \"integer\" & is.null(object$trans) & !log_vals) {,         rngs <- as.integer(rngs),     },     range_set(object, rngs), }"
      ]
     },
     "metadata": {},
     "output_type": "display_data"
    }
   ],
   "source": [
    "# random forest tuning\n",
    "rf.tuning <- rand_forest(\n",
    "    mtry  = tune(\"n_predictors\"),\n",
    "    trees = tune(\"n_trees\"),\n",
    "    min_n = tune(\"min_node\")\n",
    ") %>%\n",
    "    set_engine(\"ranger\") %>% \n",
    "    set_mode(\"classification\")\n",
    "\n",
    "rf.tuning.wf <- wf.tune %>% add_model(rf.tuning)\n",
    "rf.tuning.params <- rf.tuning.wf %>% extract_parameter_set_dials() %>% update(\n",
    "    n_predictors = dials::mtry(c(1,6)),\n",
    "    n_trees      = dials::trees(c(250, 750)),\n",
    "    min_node     = dials::min_n()\n",
    ")\n",
    "rf.tuning.params"
   ]
  },
  {
   "cell_type": "code",
   "execution_count": null,
   "metadata": {},
   "outputs": [
    {
     "ename": "ERROR",
     "evalue": "\u001b[1m\u001b[33mError\u001b[39m in `dials::grid_latin_hypercube()`:\u001b[22m\n\u001b[33m!\u001b[39m These arguments contain unknowns: `n_predictors`.\n\u001b[34mℹ\u001b[39m See the `finalize()` function.\n",
     "output_type": "error",
     "traceback": [
      "\u001b[1m\u001b[33mError\u001b[39m in `dials::grid_latin_hypercube()`:\u001b[22m\n\u001b[33m!\u001b[39m These arguments contain unknowns: `n_predictors`.\n\u001b[34mℹ\u001b[39m See the `finalize()` function.\nTraceback:\n",
      "1. tune_bayes(rf.tuning.wf, resamples = df.folds, initial = 5, iter = 20, \n .     param_info = rf.tuning.params, control = ctrl)",
      "2. tune_bayes.workflow(rf.tuning.wf, resamples = df.folds, initial = 5, \n .     iter = 20, param_info = rf.tuning.params, control = ctrl)",
      "3. tune_bayes_workflow(object, resamples = resamples, iter = iter, \n .     param_info = param_info, metrics = metrics, objective = objective, \n .     initial = initial, control = control, ...)",
      "4. check_initial(initial, param_info, object, resamples, metrics, \n .     control, checks = \"bayes\")",
      "5. create_initial_set(pset, n = x, checks = checks)",
      "6. dials::grid_latin_hypercube(param, size = n)",
      "7. grid_latin_hypercube.parameters(param, size = n)",
      "8. make_latin_hypercube_grid(!!!params, size = size, original = original)",
      "9. validate_params(..., call = call)",
      "10. rlang::abort(c(paste0(\"These arguments contain unknowns: \", paste0(\"`\", \n  .     bad_param, \"`\", collapse = \",\"), \".\"), i = \"See the `finalize()` function.\"), \n  .     call = call)",
      "11. signal_abort(cnd, .file)"
     ]
    }
   ],
   "source": [
    "ctrl <- control_bayes(verbose = TRUE)\n",
    "set.seed(1)\n",
    "tic()\n",
    "rf.tunning.search <- tune_bayes(\n",
    "    rf.tuning.wf,\n",
    "    resamples = df.folds, \n",
    "    initial = 5, \n",
    "    iter = 20,\n",
    "    param_info = rf.tuning.params,\n",
    "    control = ctrl\n",
    ")\n",
    "toc(log = T)"
   ]
  }
 ],
 "metadata": {
  "kernelspec": {
   "display_name": "ir_pacd",
   "language": "R",
   "name": "ir_pacd"
  }
 },
 "nbformat": 4,
 "nbformat_minor": 4
}
