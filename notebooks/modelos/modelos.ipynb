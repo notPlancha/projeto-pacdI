{
 "cells": [
  {
   "cell_type": "code",
   "execution_count": null,
   "id": "bf79a5a9-3456-4588-8b4d-b7128141a828",
   "metadata": {},
   "outputs": [],
   "source": []
  }
 ],
 "metadata": {
  "kernelspec": {
   "display_name": "ir_pacd",
   "language": "R",
   "name": "ir_pacd"
  }
 },
 "nbformat": 4,
 "nbformat_minor": 5
}
