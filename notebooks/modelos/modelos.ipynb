{
 "cells": [
  {
   "cell_type": "code",
   "execution_count": null,
   "id": "228e07b8-07ee-47cd-b7b7-cdff601a2e37",
   "metadata": {},
   "outputs": [
    {
     "name": "stderr",
     "output_type": "stream",
     "text": [
      "relocate: columns reordered (winner.name, winner.id, winner.rank, winner.bornAt, winner.height, …)\n",
      "\n"
     ]
    },
    {
     "name": "stdout",
     "output_type": "stream",
     "text": [
      "Rows: 17,926\n",
      "Columns: 69\n",
      "$ winner.name                     \u001b[3m\u001b[90m<chr>\u001b[39m\u001b[23m \"Shuichi Sekiguchi\", \"Shuichi Sekiguch…\n",
      "$ winner.id                       \u001b[3m\u001b[90m<chr>\u001b[39m\u001b[23m \"sl92\", \"sl92\", \"sl92\", \"sl92\", \"tf58\"…\n",
      "$ winner.rank                     \u001b[3m\u001b[90m<int>\u001b[39m\u001b[23m 399, 399, 399, 399, 619, 619, 619, 619…\n",
      "$ winner.bornAt                   \u001b[3m\u001b[90m<chr>\u001b[39m\u001b[23m \"USA\", \"USA\", \"USA\", \"USA\", \"Japan\", \"…\n",
      "$ winner.height                   \u001b[3m\u001b[90m<dbl>\u001b[39m\u001b[23m 168, 168, 168, 168, 170, 170, 170, 170…\n",
      "$ winner.Anwins                   \u001b[3m\u001b[90m<dbl>\u001b[39m\u001b[23m 5, 5, 5, 5, 6, 6, 6, 6, 18, 18, 11, 11…\n",
      "$ winner.Anlosses                 \u001b[3m\u001b[90m<dbl>\u001b[39m\u001b[23m 10, 10, 10, 10, 4, 4, 4, 4, 15, 15, 5,…\n",
      "$ winner.Anjogos                  \u001b[3m\u001b[90m<dbl>\u001b[39m\u001b[23m 15, 15, 15, 15, 10, 10, 10, 10, 33, 33…\n",
      "$ winner.Awinrate                 \u001b[3m\u001b[90m<dbl>\u001b[39m\u001b[23m 33.33333, 33.33333, 33.33333, 33.33333…\n",
      "$ winner.nwins                    \u001b[3m\u001b[90m<dbl>\u001b[39m\u001b[23m 353, 353, 353, 353, 166, 166, 166, 166…\n",
      "$ winner.nlosses                  \u001b[3m\u001b[90m<dbl>\u001b[39m\u001b[23m 248, 248, 248, 248, 141, 141, 141, 141…\n",
      "$ winner.njogos                   \u001b[3m\u001b[90m<dbl>\u001b[39m\u001b[23m 601, 601, 601, 601, 307, 307, 307, 307…\n",
      "$ winner.winrate                  \u001b[3m\u001b[90m<dbl>\u001b[39m\u001b[23m 58.73544, 58.73544, 58.73544, 58.73544…\n",
      "$ winner.bornAT.tournFreq         \u001b[3m\u001b[90m<int>\u001b[39m\u001b[23m 2460, 2460, 2460, 2460, 378, 378, 378,…\n",
      "$ winner.bornAt.hasTourn          \u001b[3m\u001b[90m<lgl>\u001b[39m\u001b[23m TRUE, TRUE, TRUE, TRUE, TRUE, TRUE, TR…\n",
      "$ winner.nTournament              \u001b[3m\u001b[90m<int>\u001b[39m\u001b[23m 134, 134, 364, 364, 81, 81, 218, 218, …\n",
      "$ winner.lastTournamentDelayW     \u001b[3m\u001b[90m<dbl>\u001b[39m\u001b[23m 1, 1, 1, 1, 20, 20, 18, 18, 1, 1, 1, 1…\n",
      "$ winner.heightF                  \u001b[3m\u001b[90m<fct>\u001b[39m\u001b[23m 168, 168, 168, 168, 170, 170, 170, 170…\n",
      "$ winner.heightFC                 \u001b[3m\u001b[90m<fct>\u001b[39m\u001b[23m \"]163, 180]\", \"]163, 180]\", \"]163, 180…\n",
      "$ looser.name                     \u001b[3m\u001b[90m<chr>\u001b[39m\u001b[23m \"Yuta Shimizu\", \"Yuta Shimizu\", \"Yuta …\n",
      "$ looser.id                       \u001b[3m\u001b[90m<chr>\u001b[39m\u001b[23m \"s0aq\", \"s0aq\", \"s0aq\", \"s0aq\", \"s0ld\"…\n",
      "$ looser.rank                     \u001b[3m\u001b[90m<int>\u001b[39m\u001b[23m 464, 464, 464, 464, 1057, 1057, 1057, …\n",
      "$ looser.bornAt                   \u001b[3m\u001b[90m<chr>\u001b[39m\u001b[23m \"Japan\", \"Japan\", \"Japan\", \"Japan\", \"J…\n",
      "$ looser.height                   \u001b[3m\u001b[90m<dbl>\u001b[39m\u001b[23m 163, 163, 163, 163, 163, 163, 163, 163…\n",
      "$ looser.Anwins                   \u001b[3m\u001b[90m<dbl>\u001b[39m\u001b[23m 6, 6, 6, 6, 0, 0, 0, 0, 0, 0, 6, 6, 6,…\n",
      "$ looser.Anlosses                 \u001b[3m\u001b[90m<dbl>\u001b[39m\u001b[23m 4, 4, 4, 4, 2, 2, 2, 2, 2, 2, 4, 4, 4,…\n",
      "$ looser.Anjogos                  \u001b[3m\u001b[90m<dbl>\u001b[39m\u001b[23m 10, 10, 10, 10, 2, 2, 2, 2, 2, 2, 10, …\n",
      "$ looser.Awinrate                 \u001b[3m\u001b[90m<dbl>\u001b[39m\u001b[23m 60, 60, 60, 60, 0, 0, 0, 0, 0, 0, 60, …\n",
      "$ looser.nwins                    \u001b[3m\u001b[90m<dbl>\u001b[39m\u001b[23m 6, 6, 6, 6, 0, 0, 0, 0, 0, 0, 6, 6, 6,…\n",
      "$ looser.nlosses                  \u001b[3m\u001b[90m<dbl>\u001b[39m\u001b[23m 4, 4, 4, 4, 2, 2, 2, 2, 2, 2, 4, 4, 4,…\n",
      "$ looser.njogos                   \u001b[3m\u001b[90m<dbl>\u001b[39m\u001b[23m 10, 10, 10, 10, 2, 2, 2, 2, 2, 2, 10, …\n",
      "$ looser.winrate                  \u001b[3m\u001b[90m<dbl>\u001b[39m\u001b[23m 60, 60, 60, 60, 0, 0, 0, 0, 0, 0, 60, …\n",
      "$ looser.bornAT.tournFreq         \u001b[3m\u001b[90m<int>\u001b[39m\u001b[23m 378, 378, 378, 378, 378, 378, 378, 378…\n",
      "$ looser.bornAt.hasTourn          \u001b[3m\u001b[90m<lgl>\u001b[39m\u001b[23m TRUE, TRUE, TRUE, TRUE, TRUE, TRUE, TR…\n",
      "$ looser.nTournament              \u001b[3m\u001b[90m<int>\u001b[39m\u001b[23m 30, 98, 30, 98, 13, 35, 13, 35, 12, 34…\n",
      "$ looser.lastTournamentDelayW     \u001b[3m\u001b[90m<dbl>\u001b[39m\u001b[23m 1, 1, 1, 1, 2, 2, 2, 2, 3, 3, 11, 3, 1…\n",
      "$ looser.heightF                  \u001b[3m\u001b[90m<fct>\u001b[39m\u001b[23m 163, 163, 163, 163, 163, 163, 163, 163…\n",
      "$ looser.heightFC                 \u001b[3m\u001b[90m<fct>\u001b[39m\u001b[23m \"]163, 180]\", \"]163, 180]\", \"]163, 180…\n",
      "$ match.domHands                  \u001b[3m\u001b[90m<fct>\u001b[39m\u001b[23m Right-Handed_Left-Handed, Right-Handed…\n",
      "$ match.backHands                 \u001b[3m\u001b[90m<fct>\u001b[39m\u001b[23m Two-Handed Backhand_Two-Handed Backhan…\n",
      "$ match.tournamentRound           \u001b[3m\u001b[90m<fct>\u001b[39m\u001b[23m Quarter-Finals, Quarter-Finals, Quarte…\n",
      "$ match.setsCount                 \u001b[3m\u001b[90m<fct>\u001b[39m\u001b[23m 2, 2, 2, 2, 2, 2, 2, 2, 2, 2, 2, 2, 2,…\n",
      "$ match.hadTieBreaker             \u001b[3m\u001b[90m<lgl>\u001b[39m\u001b[23m FALSE, FALSE, FALSE, FALSE, FALSE, FAL…\n",
      "$ match.diffHeights               \u001b[3m\u001b[90m<dbl>\u001b[39m\u001b[23m 5, 5, 5, 5, 7, 7, 7, 7, 7, 7, 20, 20, …\n",
      "$ match.avgHeights                \u001b[3m\u001b[90m<dbl>\u001b[39m\u001b[23m 165.5, 165.5, 165.5, 165.5, 166.5, 166…\n",
      "$ match.diffRank                  \u001b[3m\u001b[90m<int>\u001b[39m\u001b[23m -65, -65, -65, -65, -438, -438, -438, …\n",
      "$ match.avgRank                   \u001b[3m\u001b[90m<dbl>\u001b[39m\u001b[23m 431.5, 431.5, 431.5, 431.5, 838.0, 838…\n",
      "$ match.AnjogosDiff               \u001b[3m\u001b[90m<dbl>\u001b[39m\u001b[23m 5, 5, 5, 5, 8, 8, 8, 8, 31, 31, 6, 6, …\n",
      "$ match.njogosDiff                \u001b[3m\u001b[90m<dbl>\u001b[39m\u001b[23m 591, 591, 591, 591, 305, 305, 305, 305…\n",
      "$ match.playersBorn.hasTournXor   \u001b[3m\u001b[90m<lgl>\u001b[39m\u001b[23m TRUE, TRUE, TRUE, TRUE, TRUE, TRUE, TR…\n",
      "$ match.playersBorn.tournFreqDiff \u001b[3m\u001b[90m<int>\u001b[39m\u001b[23m 0, 0, 0, 0, 0, 0, 0, 0, 0, 0, 0, 0, 0,…\n",
      "$ match.heightFCvs                \u001b[3m\u001b[90m<fct>\u001b[39m\u001b[23m \"]163, 180] vs ]163, 180]\", \"]163, 180…\n",
      "$ match.backHandsL1               \u001b[3m\u001b[90m<fct>\u001b[39m\u001b[23m Two-Handed Backhand_Two-Handed Backhan…\n",
      "$ match.backHandsL2               \u001b[3m\u001b[90m<fct>\u001b[39m\u001b[23m Two-Handed Backhand_Two-Handed Backhan…\n",
      "$ match.nTournamentDiff           \u001b[3m\u001b[90m<int>\u001b[39m\u001b[23m 104, 36, 334, 266, 68, 46, 205, 183, 1…\n",
      "$ tournament.name                 \u001b[3m\u001b[90m<chr>\u001b[39m\u001b[23m \"M25 Mildura\", \"M25 Mildura\", \"M25 Mil…\n",
      "$ tournament.ground               \u001b[3m\u001b[90m<fct>\u001b[39m\u001b[23m Grass, Grass, Grass, Grass, Hard, Hard…\n",
      "$ tournament.date_start           \u001b[3m\u001b[90m<date>\u001b[39m\u001b[23m 2019-03-04, 2019-03-04, 2019-03-04, 2…\n",
      "$ tournament.date_finish          \u001b[3m\u001b[90m<date>\u001b[39m\u001b[23m 2019-03-10, 2019-03-10, 2019-03-10, 2…\n",
      "$ tournament.duration             \u001b[3m\u001b[90m<int>\u001b[39m\u001b[23m 6, 6, 6, 6, 6, 6, 6, 6, 6, 6, 6, 6, 6,…\n",
      "$ tournament.prize                \u001b[3m\u001b[90m<dbl>\u001b[39m\u001b[23m 37000.0, 37000.0, 37000.0, 37000.0, 37…\n",
      "$ tournament.month                \u001b[3m\u001b[90m<ord>\u001b[39m\u001b[23m Mar, Mar, Mar, Mar, Feb, Feb, Feb, Feb…\n",
      "$ tournament.quarter              \u001b[3m\u001b[90m<fct>\u001b[39m\u001b[23m 1, 1, 1, 1, 1, 1, 1, 1, 1, 1, 1, 1, 1,…\n",
      "$ tournament.dateDistance         \u001b[3m\u001b[90m<drtn>\u001b[39m\u001b[23m -1395878400 secs, -1395878400 secs, -…\n",
      "$ tournament.durationF            \u001b[3m\u001b[90m<fct>\u001b[39m\u001b[23m 6, 6, 6, 6, 6, 6, 6, 6, 6, 6, 6, 6, 6,…\n",
      "$ tournament.durationFL           \u001b[3m\u001b[90m<fct>\u001b[39m\u001b[23m 6, 6, 6, 6, 6, 6, 6, 6, 6, 6, 6, 6, 6,…\n",
      "$ tournament.quarterL1            \u001b[3m\u001b[90m<fct>\u001b[39m\u001b[23m 1, 1, 1, 1, 1, 1, 1, 1, 1, 1, 1, 1, 1,…\n",
      "$ tournament.quarterL2            \u001b[3m\u001b[90m<fct>\u001b[39m\u001b[23m 1, 1, 1, 1, 1, 1, 1, 1, 1, 1, 1, 1, 1,…\n",
      "$ tournament.smallPrize           \u001b[3m\u001b[90m<lgl>\u001b[39m\u001b[23m TRUE, TRUE, TRUE, TRUE, TRUE, TRUE, TR…\n"
     ]
    }
   ],
   "source": [
    "df <- arrow::read_parquet(here(\"data\", \"featurefull.parquet\") ) %>% relocate(starts_with(\"winner\"), starts_with(\"looser\"), starts_with(\"match\"), starts_with(\"tournament\"))\n",
    "df %>% glimpse()"
   ]
  },
  {
   "cell_type": "code",
   "execution_count": null,
   "id": "bf79a5a9-3456-4588-8b4d-b7128141a828",
   "metadata": {},
   "outputs": [
    {
     "name": "stdout",
     "output_type": "stream",
     "text": [
      "Rows: 25\n",
      "Columns: 3\n",
      "$ splits \u001b[3m\u001b[90m<list>\u001b[39m\u001b[23m [<vfold_split[14340 x 3586 x 17926 x 69]>], [<vfold_split[1434…\n",
      "$ id     \u001b[3m\u001b[90m<chr>\u001b[39m\u001b[23m \"Repeat1\", \"Repeat1\", \"Repeat1\", \"Repeat1\", \"Repeat1\", \"Repeat2…\n",
      "$ id2    \u001b[3m\u001b[90m<chr>\u001b[39m\u001b[23m \"Fold1\", \"Fold2\", \"Fold3\", \"Fold4\", \"Fold5\", \"Fold1\", \"Fold2\", …\n"
     ]
    }
   ],
   "source": [
    "# vfold\n",
    "set.seed(1)\n",
    "df.folds <- vfold_cv(df, v = 5, repeats = 5) # no strata\n",
    "df.folds %>% glimpse()"
   ]
  },
  {
   "cell_type": "markdown",
   "id": "3ee0ba61",
   "metadata": {},
   "source": [
    "# Feature Selection\n",
    "\n",
    "Algumas das nossas características são relações diretas de outras características, o que pode levar a problemas de multicolinariedade; portanto, vamos ter que escolher entre essas variáveis. Para isso, vamos ajustar vários modelos para cada conjunto de varíaveis de cada grupo, passo a passo, escolhendo o conjunto de cada grupo com melhor performance. Nesta secção vamos usar regressão logística, pela sua simplicidade.\n",
    "\n",
    "Nota: aqui, players indica 2 colunas, uma de winner e outra de looser\n",
    "* Rank:\n",
    "    * players.rank\n",
    "    * match.diffRank\n",
    "    * match.avgRank\n",
    "* Born:\n",
    "    * players.bornAt\n",
    "    * players.bornAt, players.bornAt.tournFreq\n",
    "    * players.bornAt, players.bornAt.hasTourn\n",
    "    * players.bornAt.tournFreq\n",
    "    * players.bornAt.hasTourn\n",
    "    * players.bornAt, match.playersBorn.hasTournXor\n",
    "    * match.playersBorn.hasTournXor\n",
    "    * players.bornAt, match.playersBorn.tournFreqDiff\n",
    "    * match.playersBorn.tournFreqDiff\n",
    "* Altura:\n",
    "    * players.height\n",
    "    * players.heightF\n",
    "    * players.heightFC\n",
    "    * match.diffHeights\n",
    "    * match.avgHeights\n",
    "    * match.heightFCvs\n",
    "* Nº de jogos\n",
    "    * players.nwins\n",
    "    * players.nlosses\n",
    "    * players.njogos\n",
    "    * players.winrate, players.jogos\n",
    "    * players.winrate\n",
    "    * match.njogosDiff\n",
    "* Nº de jogos total\n",
    "    * Será a mesma variável da de cima só que estrapulado, mas é preciso \n",
    "* numero do torneio do jogador\n",
    "    * player.nTournament\n",
    "    * match.nTournamentDiff\n",
    "* delay do torneio dos jogadores\n",
    "    * player.lastTournamentDelay\n",
    "* Mão dominante dos jogadores\n",
    "    * match.domHands\n",
    "* backhands dos jogadores\n",
    "    * match.backhand\n",
    "    * match.backHandsL1\n",
    "    * match.backHandsL2\n",
    "* ronda do tourneio\n",
    "    * tournament.round\n",
    "* se jogo teve tie breaker\n",
    "    * match.hadTieBreaker\n",
    "* terreno do torneio\n",
    "    * tournament.ground\n",
    "* duracao do torneio\n",
    "    * tournament.duration\n",
    "    * tournament.durationF\n",
    "    * tournament.durationFL\n",
    "* data do torneio num ano\n",
    "    * tournament.quarter\n",
    "    * tournament.quarterL1\n",
    "    * tournament.quarterL2\n",
    "    * tournament.month\n",
    "* data do torneio\n",
    "    * tournament.dateDistance\n",
    "* recompensa do torneio\n",
    "    * tournament.prize\n",
    "    * tournament.smallPrize\n",
    "\n"
   ]
  },
  {
   "cell_type": "code",
   "execution_count": null,
   "id": "6e8393c4",
   "metadata": {},
   "outputs": [
    {
     "data": {
      "text/plain": [
       "══ Workflow ══════════════════════════════════════════════════════════════════════════════════════════════════════════════\n",
       "\u001b[3mPreprocessor:\u001b[23m None\n",
       "\u001b[3mModel:\u001b[23m logistic_reg()\n",
       "\n",
       "── Model ─────────────────────────────────────────────────────────────────────────────────────────────────────────────────\n",
       "Logistic Regression Model Specification (classification)\n",
       "\n",
       "Computational engine: glm \n"
      ]
     },
     "metadata": {},
     "output_type": "display_data"
    }
   ],
   "source": [
    "df.featureSelect.model <- workflow() %>%\n",
    "    add_model(logistic_reg())\n",
    "df.metrics <- metric_set(accuracy, f_meas, roc_auc, pr_auc)\n",
    "df.featureSelect.model"
   ]
  },
  {
   "cell_type": "code",
   "execution_count": null,
   "id": "b2d24700-3cc3-42ae-89d8-be646794bbc5",
   "metadata": {},
   "outputs": [
    {
     "name": "stdout",
     "output_type": "stream",
     "text": [
      "match.setsCount ~ winner.lastTournamentDelayW + looser.lastTournamentDelayW + \n",
      "    match.domHands + match.tournamentRound + match.hadTieBreaker + \n",
      "    tournament.dateDistance\n",
      "<environment: 0x0000024332db4728>\n",
      "[1] TRUE TRUE TRUE TRUE TRUE TRUE\n"
     ]
    }
   ],
   "source": [
    "library(formulaic) # add_formula(match.sets ~ .)\n",
    "vars <- c(# variables with no direct correlation\n",
    "    \"winner.lastTournamentDelayW\",\n",
    "    \"looser.lastTournamentDelayW\",\n",
    "    \"match.domHands\",\n",
    "    \"match.tournamentRound\",\n",
    "    \"match.hadTieBreaker\", \n",
    "    \"tournament.dateDistance\"\n",
    ")\n",
    "form <- create.formula(input.names = vars, outcome.name = \"match.setsCount\", dat = df)\n",
    "print(form$formula)\n",
    "print(form$inclusion.table$include.variable)"
   ]
  },
  {
   "cell_type": "code",
   "execution_count": null,
   "id": "dddf5f26-a4e3-4a00-83fb-44bb022ff83d",
   "metadata": {},
   "outputs": [
    {
     "name": "stdout",
     "output_type": "stream",
     "text": [
      "6.16 sec elapsed\n"
     ]
    },
    {
     "data": {
      "text/html": [
       "<table class=\"dataframe\">\n",
       "<caption>A tibble: 4 × 6</caption>\n",
       "<thead>\n",
       "\t<tr><th scope=col>.metric</th><th scope=col>.estimator</th><th scope=col>mean</th><th scope=col>n</th><th scope=col>std_err</th><th scope=col>.config</th></tr>\n",
       "\t<tr><th scope=col>&lt;chr&gt;</th><th scope=col>&lt;chr&gt;</th><th scope=col>&lt;dbl&gt;</th><th scope=col>&lt;int&gt;</th><th scope=col>&lt;dbl&gt;</th><th scope=col>&lt;chr&gt;</th></tr>\n",
       "</thead>\n",
       "<tbody>\n",
       "\t<tr><td>accuracy</td><td>binary</td><td>0.6765143</td><td>25</td><td>0.001659724</td><td>Preprocessor1_Model1</td></tr>\n",
       "\t<tr><td>f_meas  </td><td>binary</td><td>0.7796199</td><td>25</td><td>0.001374097</td><td>Preprocessor1_Model1</td></tr>\n",
       "\t<tr><td>pr_auc  </td><td>binary</td><td>0.7238419</td><td>25</td><td>0.002138314</td><td>Preprocessor1_Model1</td></tr>\n",
       "\t<tr><td>roc_auc </td><td>binary</td><td>0.6125514</td><td>25</td><td>0.001584453</td><td>Preprocessor1_Model1</td></tr>\n",
       "</tbody>\n",
       "</table>\n"
      ],
      "text/latex": [
       "A tibble: 4 × 6\n",
       "\\begin{tabular}{llllll}\n",
       " .metric & .estimator & mean & n & std\\_err & .config\\\\\n",
       " <chr> & <chr> & <dbl> & <int> & <dbl> & <chr>\\\\\n",
       "\\hline\n",
       "\t accuracy & binary & 0.6765143 & 25 & 0.001659724 & Preprocessor1\\_Model1\\\\\n",
       "\t f\\_meas   & binary & 0.7796199 & 25 & 0.001374097 & Preprocessor1\\_Model1\\\\\n",
       "\t pr\\_auc   & binary & 0.7238419 & 25 & 0.002138314 & Preprocessor1\\_Model1\\\\\n",
       "\t roc\\_auc  & binary & 0.6125514 & 25 & 0.001584453 & Preprocessor1\\_Model1\\\\\n",
       "\\end{tabular}\n"
      ],
      "text/markdown": [
       "\n",
       "A tibble: 4 × 6\n",
       "\n",
       "| .metric &lt;chr&gt; | .estimator &lt;chr&gt; | mean &lt;dbl&gt; | n &lt;int&gt; | std_err &lt;dbl&gt; | .config &lt;chr&gt; |\n",
       "|---|---|---|---|---|---|\n",
       "| accuracy | binary | 0.6765143 | 25 | 0.001659724 | Preprocessor1_Model1 |\n",
       "| f_meas   | binary | 0.7796199 | 25 | 0.001374097 | Preprocessor1_Model1 |\n",
       "| pr_auc   | binary | 0.7238419 | 25 | 0.002138314 | Preprocessor1_Model1 |\n",
       "| roc_auc  | binary | 0.6125514 | 25 | 0.001584453 | Preprocessor1_Model1 |\n",
       "\n"
      ],
      "text/plain": [
       "  .metric  .estimator mean      n  std_err     .config             \n",
       "1 accuracy binary     0.6765143 25 0.001659724 Preprocessor1_Model1\n",
       "2 f_meas   binary     0.7796199 25 0.001374097 Preprocessor1_Model1\n",
       "3 pr_auc   binary     0.7238419 25 0.002138314 Preprocessor1_Model1\n",
       "4 roc_auc  binary     0.6125514 25 0.001584453 Preprocessor1_Model1"
      ]
     },
     "metadata": {},
     "output_type": "display_data"
    }
   ],
   "source": [
    "# primeiro modelo\n",
    "library(tictoc)\n",
    "tic()\n",
    "df.featureSelect.model %>% add_formula(form$formula) %>% fit_resamples(df.folds, metrics = df.metrics, control = control_grid(save_pred = TRUE)) -> df.featureSelect.firstModel\n",
    "toc(log=T)\n",
    "collect_metrics(df.featureSelect.firstModel)"
   ]
  },
  {
   "cell_type": "code",
   "execution_count": null,
   "id": "6ba244ae-6227-4949-a743-b179215cede7",
   "metadata": {},
   "outputs": [
    {
     "name": "stderr",
     "output_type": "stream",
     "text": [
      "Setting levels: control = 2, case = 3\n",
      "\n",
      "Setting direction: controls > cases\n",
      "\n"
     ]
    },
    {
     "data": {
      "image/png": "[encoded data removed]",
      "text/plain": [
       "plot without title"
      ]
     },
     "metadata": {
      "image/png": {
       "height": 420,
       "width": 420
      }
     },
     "output_type": "display_data"
    }
   ],
   "source": [
    "# curva roc do primeiro\n",
    "pred <- collect_predictions(df.featureSelect.firstModel)\n",
    "pred %>% pROC::roc(match.setsCount, .pred_2) %>% plot()"
   ]
  },
  {
   "cell_type": "code",
   "execution_count": null,
   "id": "88723358-4b30-448a-b00b-aa3552a45a4d",
   "metadata": {},
   "outputs": [
    {
     "name": "stderr",
     "output_type": "stream",
     "text": [
      "Installing package into 'C:/Users/Plancha/AppData/Local/R/win-library/4.3'\n",
      "(as 'lib' is unspecified)\n",
      "\n"
     ]
    },
    {
     "name": "stdout",
     "output_type": "stream",
     "text": [
      "package 'pROC' successfully unpacked and MD5 sums checked\n",
      "\n",
      "The downloaded binary packages are in\n",
      "\tC:\\Users\\Plancha\\AppData\\Local\\Temp\\RtmpQrCpx8\\downloaded_packages\n"
     ]
    }
   ],
   "source": [
    "install.packages(\"pROC\")"
   ]
  },
  {
   "cell_type": "code",
   "execution_count": null,
   "id": "3817fd8c-f65a-4741-a4a7-05442281dce4",
   "metadata": {},
   "outputs": [],
   "source": [
    "featuresFit <- function(formula){\n",
    "    df.featureSelect.model %>% add_formula(formula$formula) %>% fit_resamples(df.folds, metrics = df.metrics) -> fitted\n",
    "    collect_metrics(fitted)\n",
    "}"
   ]
  }
 ],
 "metadata": {
  "kernelspec": {
   "display_name": "ir_pacd",
   "language": "R",
   "name": "ir_pacd"
  }
 },
 "nbformat": 4,
 "nbformat_minor": 5
}
