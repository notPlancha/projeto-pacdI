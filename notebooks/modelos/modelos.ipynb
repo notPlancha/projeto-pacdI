{
 "cells": [
  {
   "cell_type": "code",
   "execution_count": 4,
   "id": "228e07b8-07ee-47cd-b7b7-cdff601a2e37",
   "metadata": {
    "vscode": {
     "languageId": "r"
    }
   },
   "outputs": [
    {
     "name": "stderr",
     "output_type": "stream",
     "text": [
      "relocate: columns reordered (winner.name, winner.id, winner.rank, winner.bornAt, winner.height, …)\n",
      "\n"
     ]
    },
    {
     "name": "stdout",
     "output_type": "stream",
     "text": [
      "Rows: 17,926\n",
      "Columns: 67\n",
      "$ winner.name                     \u001b[3m\u001b[90m<chr>\u001b[39m\u001b[23m \"Shuichi Sekiguchi\", \"Shuichi Sekiguch…\n",
      "$ winner.id                       \u001b[3m\u001b[90m<chr>\u001b[39m\u001b[23m \"sl92\", \"sl92\", \"sl92\", \"sl92\", \"tf58\"…\n",
      "$ winner.rank                     \u001b[3m\u001b[90m<int>\u001b[39m\u001b[23m 399, 399, 399, 399, 619, 619, 619, 619…\n",
      "$ winner.bornAt                   \u001b[3m\u001b[90m<chr>\u001b[39m\u001b[23m \"USA\", \"USA\", \"USA\", \"USA\", \"Japan\", \"…\n",
      "$ winner.height                   \u001b[3m\u001b[90m<dbl>\u001b[39m\u001b[23m 168, 168, 168, 168, 170, 170, 170, 170…\n",
      "$ winner.Anwins                   \u001b[3m\u001b[90m<dbl>\u001b[39m\u001b[23m 5, 5, 5, 5, 6, 6, 6, 6, 18, 18, 11, 11…\n",
      "$ winner.Anlosses                 \u001b[3m\u001b[90m<dbl>\u001b[39m\u001b[23m 10, 10, 10, 10, 4, 4, 4, 4, 15, 15, 5,…\n",
      "$ winner.Anjogos                  \u001b[3m\u001b[90m<dbl>\u001b[39m\u001b[23m 15, 15, 15, 15, 10, 10, 10, 10, 33, 33…\n",
      "$ winner.Awinrate                 \u001b[3m\u001b[90m<dbl>\u001b[39m\u001b[23m 33.33333, 33.33333, 33.33333, 33.33333…\n",
      "$ winner.nwins                    \u001b[3m\u001b[90m<dbl>\u001b[39m\u001b[23m 353, 353, 353, 353, 166, 166, 166, 166…\n",
      "$ winner.nlosses                  \u001b[3m\u001b[90m<dbl>\u001b[39m\u001b[23m 248, 248, 248, 248, 141, 141, 141, 141…\n",
      "$ winner.njogos                   \u001b[3m\u001b[90m<dbl>\u001b[39m\u001b[23m 601, 601, 601, 601, 307, 307, 307, 307…\n",
      "$ winner.winrate                  \u001b[3m\u001b[90m<dbl>\u001b[39m\u001b[23m 58.73544, 58.73544, 58.73544, 58.73544…\n",
      "$ winner.bornAT.tournFreq         \u001b[3m\u001b[90m<int>\u001b[39m\u001b[23m 2460, 2460, 2460, 2460, 378, 378, 378,…\n",
      "$ winner.bornAt.hasTourn          \u001b[3m\u001b[90m<lgl>\u001b[39m\u001b[23m TRUE, TRUE, TRUE, TRUE, TRUE, TRUE, TR…\n",
      "$ winner.nTournament              \u001b[3m\u001b[90m<int>\u001b[39m\u001b[23m 134, 134, 364, 364, 81, 81, 218, 218, …\n",
      "$ winner.lastTournamentDelayW     \u001b[3m\u001b[90m<dbl>\u001b[39m\u001b[23m 1, 1, 1, 1, 20, 20, 18, 18, 1, 1, 1, 1…\n",
      "$ winner.heightF                  \u001b[3m\u001b[90m<fct>\u001b[39m\u001b[23m 168, 168, 168, 168, 170, 170, 170, 170…\n",
      "$ winner.heightFC                 \u001b[3m\u001b[90m<fct>\u001b[39m\u001b[23m \"]163, 180]\", \"]163, 180]\", \"]163, 180…\n",
      "$ looser.name                     \u001b[3m\u001b[90m<chr>\u001b[39m\u001b[23m \"Yuta Shimizu\", \"Yuta Shimizu\", \"Yuta …\n",
      "$ looser.id                       \u001b[3m\u001b[90m<chr>\u001b[39m\u001b[23m \"s0aq\", \"s0aq\", \"s0aq\", \"s0aq\", \"s0ld\"…\n",
      "$ looser.rank                     \u001b[3m\u001b[90m<int>\u001b[39m\u001b[23m 464, 464, 464, 464, 1057, 1057, 1057, …\n",
      "$ looser.bornAt                   \u001b[3m\u001b[90m<chr>\u001b[39m\u001b[23m \"Japan\", \"Japan\", \"Japan\", \"Japan\", \"J…\n",
      "$ looser.height                   \u001b[3m\u001b[90m<dbl>\u001b[39m\u001b[23m 163, 163, 163, 163, 163, 163, 163, 163…\n",
      "$ looser.Anwins                   \u001b[3m\u001b[90m<dbl>\u001b[39m\u001b[23m 6, 6, 6, 6, 0, 0, 0, 0, 0, 0, 6, 6, 6,…\n",
      "$ looser.Anlosses                 \u001b[3m\u001b[90m<dbl>\u001b[39m\u001b[23m 4, 4, 4, 4, 2, 2, 2, 2, 2, 2, 4, 4, 4,…\n",
      "$ looser.Anjogos                  \u001b[3m\u001b[90m<dbl>\u001b[39m\u001b[23m 10, 10, 10, 10, 2, 2, 2, 2, 2, 2, 10, …\n",
      "$ looser.Awinrate                 \u001b[3m\u001b[90m<dbl>\u001b[39m\u001b[23m 60, 60, 60, 60, 0, 0, 0, 0, 0, 0, 60, …\n",
      "$ looser.nwins                    \u001b[3m\u001b[90m<dbl>\u001b[39m\u001b[23m 6, 6, 6, 6, 0, 0, 0, 0, 0, 0, 6, 6, 6,…\n",
      "$ looser.nlosses                  \u001b[3m\u001b[90m<dbl>\u001b[39m\u001b[23m 4, 4, 4, 4, 2, 2, 2, 2, 2, 2, 4, 4, 4,…\n",
      "$ looser.njogos                   \u001b[3m\u001b[90m<dbl>\u001b[39m\u001b[23m 10, 10, 10, 10, 2, 2, 2, 2, 2, 2, 10, …\n",
      "$ looser.winrate                  \u001b[3m\u001b[90m<dbl>\u001b[39m\u001b[23m 60, 60, 60, 60, 0, 0, 0, 0, 0, 0, 60, …\n",
      "$ looser.bornAT.tournFreq         \u001b[3m\u001b[90m<int>\u001b[39m\u001b[23m 378, 378, 378, 378, 378, 378, 378, 378…\n",
      "$ looser.bornAt.hasTourn          \u001b[3m\u001b[90m<lgl>\u001b[39m\u001b[23m TRUE, TRUE, TRUE, TRUE, TRUE, TRUE, TR…\n",
      "$ looser.nTournament              \u001b[3m\u001b[90m<int>\u001b[39m\u001b[23m 30, 98, 30, 98, 13, 35, 13, 35, 12, 34…\n",
      "$ looser.lastTournamentDelayW     \u001b[3m\u001b[90m<dbl>\u001b[39m\u001b[23m 1, 1, 1, 1, 2, 2, 2, 2, 3, 3, 11, 3, 1…\n",
      "$ looser.heightF                  \u001b[3m\u001b[90m<fct>\u001b[39m\u001b[23m 163, 163, 163, 163, 163, 163, 163, 163…\n",
      "$ looser.heightFC                 \u001b[3m\u001b[90m<fct>\u001b[39m\u001b[23m \"]163, 180]\", \"]163, 180]\", \"]163, 180…\n",
      "$ match.domHands                  \u001b[3m\u001b[90m<fct>\u001b[39m\u001b[23m Right-Handed_Left-Handed, Right-Handed…\n",
      "$ match.backHands                 \u001b[3m\u001b[90m<fct>\u001b[39m\u001b[23m Two-Handed Backhand_Two-Handed Backhan…\n",
      "$ match.tournamentRound           \u001b[3m\u001b[90m<fct>\u001b[39m\u001b[23m Quarter-Finals, Quarter-Finals, Quarte…\n",
      "$ match.setsCount                 \u001b[3m\u001b[90m<fct>\u001b[39m\u001b[23m 2, 2, 2, 2, 2, 2, 2, 2, 2, 2, 2, 2, 2,…\n",
      "$ match.hadTieBreaker             \u001b[3m\u001b[90m<lgl>\u001b[39m\u001b[23m FALSE, FALSE, FALSE, FALSE, FALSE, FAL…\n",
      "$ match.diffHeights               \u001b[3m\u001b[90m<dbl>\u001b[39m\u001b[23m 5, 5, 5, 5, 7, 7, 7, 7, 7, 7, 20, 20, …\n",
      "$ match.avgHeights                \u001b[3m\u001b[90m<dbl>\u001b[39m\u001b[23m 165.5, 165.5, 165.5, 165.5, 166.5, 166…\n",
      "$ match.diffRank                  \u001b[3m\u001b[90m<int>\u001b[39m\u001b[23m -65, -65, -65, -65, -438, -438, -438, …\n",
      "$ match.avgRank                   \u001b[3m\u001b[90m<dbl>\u001b[39m\u001b[23m 431.5, 431.5, 431.5, 431.5, 838.0, 838…\n",
      "$ match.AnjogosDiff               \u001b[3m\u001b[90m<dbl>\u001b[39m\u001b[23m 5, 5, 5, 5, 8, 8, 8, 8, 31, 31, 6, 6, …\n",
      "$ match.njogosDiff                \u001b[3m\u001b[90m<dbl>\u001b[39m\u001b[23m 591, 591, 591, 591, 305, 305, 305, 305…\n",
      "$ match.playersBorn.hasTournXor   \u001b[3m\u001b[90m<lgl>\u001b[39m\u001b[23m TRUE, TRUE, TRUE, TRUE, TRUE, TRUE, TR…\n",
      "$ match.playersBorn.tournFreqDiff \u001b[3m\u001b[90m<int>\u001b[39m\u001b[23m 0, 0, 0, 0, 0, 0, 0, 0, 0, 0, 0, 0, 0,…\n",
      "$ match.heightFCvs                \u001b[3m\u001b[90m<fct>\u001b[39m\u001b[23m \"]163, 180] vs ]163, 180]\", \"]163, 180…\n",
      "$ match.backHandsL1               \u001b[3m\u001b[90m<fct>\u001b[39m\u001b[23m Two-Handed Backhand_Two-Handed Backhan…\n",
      "$ match.backHandsL2               \u001b[3m\u001b[90m<fct>\u001b[39m\u001b[23m Two-Handed Backhand_Two-Handed Backhan…\n",
      "$ tournament.name                 \u001b[3m\u001b[90m<chr>\u001b[39m\u001b[23m \"M25 Mildura\", \"M25 Mildura\", \"M25 Mil…\n",
      "$ tournament.ground               \u001b[3m\u001b[90m<fct>\u001b[39m\u001b[23m Grass, Grass, Grass, Grass, Hard, Hard…\n",
      "$ tournament.date_start           \u001b[3m\u001b[90m<date>\u001b[39m\u001b[23m 2019-03-04, 2019-03-04, 2019-03-04, 2…\n",
      "$ tournament.date_finish          \u001b[3m\u001b[90m<date>\u001b[39m\u001b[23m 2019-03-10, 2019-03-10, 2019-03-10, 2…\n",
      "$ tournament.duration             \u001b[3m\u001b[90m<int>\u001b[39m\u001b[23m 6, 6, 6, 6, 6, 6, 6, 6, 6, 6, 6, 6, 6,…\n",
      "$ tournament.prize                \u001b[3m\u001b[90m<dbl>\u001b[39m\u001b[23m 37000.0, 37000.0, 37000.0, 37000.0, 37…\n",
      "$ tournament.month                \u001b[3m\u001b[90m<ord>\u001b[39m\u001b[23m Mar, Mar, Mar, Mar, Feb, Feb, Feb, Feb…\n",
      "$ tournament.quarter              \u001b[3m\u001b[90m<fct>\u001b[39m\u001b[23m 1, 1, 1, 1, 1, 1, 1, 1, 1, 1, 1, 1, 1,…\n",
      "$ tournament.dateDistance         \u001b[3m\u001b[90m<drtn>\u001b[39m\u001b[23m -1395878400 secs, -1395878400 secs, -…\n",
      "$ tournament.durationF            \u001b[3m\u001b[90m<fct>\u001b[39m\u001b[23m 6, 6, 6, 6, 6, 6, 6, 6, 6, 6, 6, 6, 6,…\n",
      "$ tournament.durationFL           \u001b[3m\u001b[90m<fct>\u001b[39m\u001b[23m 6, 6, 6, 6, 6, 6, 6, 6, 6, 6, 6, 6, 6,…\n",
      "$ tournament.quarterL1            \u001b[3m\u001b[90m<fct>\u001b[39m\u001b[23m 1, 1, 1, 1, 1, 1, 1, 1, 1, 1, 1, 1, 1,…\n",
      "$ tournament.quarterL2            \u001b[3m\u001b[90m<fct>\u001b[39m\u001b[23m 1, 1, 1, 1, 1, 1, 1, 1, 1, 1, 1, 1, 1,…\n"
     ]
    }
   ],
   "source": [
    "df <- arrow::read_parquet(here(\"data\", \"featurefull.parquet\") ) %>% relocate(starts_with(\"winner\"), starts_with(\"looser\"), starts_with(\"match\"), starts_with(\"tournament\"))\n",
    "df %>% glimpse()"
   ]
  },
  {
   "cell_type": "code",
   "execution_count": 5,
   "id": "bf79a5a9-3456-4588-8b4d-b7128141a828",
   "metadata": {
    "vscode": {
     "languageId": "r"
    }
   },
   "outputs": [
    {
     "name": "stdout",
     "output_type": "stream",
     "text": [
      "Rows: 50\n",
      "Columns: 3\n",
      "$ splits \u001b[3m\u001b[90m<list>\u001b[39m\u001b[23m [<vfold_split[16133 x 1793 x 17926 x 67]>], [<vfold_split[1613…\n",
      "$ id     \u001b[3m\u001b[90m<chr>\u001b[39m\u001b[23m \"Repeat1\", \"Repeat1\", \"Repeat1\", \"Repeat1\", \"Repeat1\", \"Repeat1…\n",
      "$ id2    \u001b[3m\u001b[90m<chr>\u001b[39m\u001b[23m \"Fold01\", \"Fold02\", \"Fold03\", \"Fold04\", \"Fold05\", \"Fold06\", \"Fo…\n"
     ]
    }
   ],
   "source": [
    "# vfold\n",
    "set.seed(1)\n",
    "df.folds <- vfold_cv(df, v = 10, repeats = 5) # no strata\n",
    "df.folds %>% glimpse()"
   ]
  },
  {
   "attachments": {},
   "cell_type": "markdown",
   "id": "3ee0ba61",
   "metadata": {},
   "source": [
    "# Feature Selection\n",
    "\n",
    "Algumas das nossas características são relações diretas de outras características, o que pode levar a problemas de multicolinariedade; portanto, vamos ter que escolher entre essas variáveis. Para isso, vamos ajustar vários modelos para cada conjunto de varíaveis de cada grupo, passo a passo, escolhendo o conjunto de cada grupo com melhor performance. Nesta secção vamos usar regressão logística, pela sua simplicidade.\n",
    "\n",
    "Nota: aqui, players indica 2 colunas, uma de winner e outra de looser\n",
    "* Rank:\n",
    "    * players.rank\n",
    "    * match.diffRank\n",
    "    * match.avgRank\n",
    "* Born:\n",
    "    * players.bornAt\n",
    "    * players.bornAt, players.bornAt.tournFreq\n",
    "    * players.bornAt, players.bornAt.hasTourn\n",
    "    * players.bornAt.tournFreq\n",
    "    * players.bornAt.hasTourn\n",
    "    * players.bornAt, match.playersBorn.hasTournXor\n",
    "    * match.playersBorn.hasTournXor\n",
    "    * players.bornAt, match.playersBorn.tournFreqDiff\n",
    "    * match.playersBorn.tournFreqDiff\n",
    "* Altura:\n",
    "    * players.height\n",
    "    * players.heightF\n",
    "    * players.heightFC\n",
    "    * match.diffHeights\n",
    "    * match.avgHeights\n",
    "    * match.heightFCvs\n",
    "* Nº de jogos\n",
    "    * players.nwins\n",
    "    * players.nlosses\n",
    "    * players.njogos\n",
    "    * players.winrate, players.jogos\n",
    "    * players.winrate\n",
    "    * match.njogosDiff\n",
    "* Nº de jogos total\n",
    "    * Será a mesma variável da de cima só que estrapulado, mas é preciso \n",
    "* numero do torneio do jogador\n",
    "    * player.nTournament\n",
    "* delay do torneio dos jogadores\n",
    "    * player.lastTournamentDelay\n",
    "* Mão dominante dos jogadores\n",
    "    * match.domHands\n",
    "* backhands dos jogadores\n",
    "    * match.backhand\n",
    "    * match.backHandsL1\n",
    "    * match.backHandsL2\n",
    "* ronda do tourneio\n",
    "    * ronda do torneio\n",
    "* se jogo teve tie breaker\n",
    "    * match.hadTieBreaker\n",
    "* terreno do torneio\n",
    "    * tournament.ground\n",
    "* duracao do torneio\n",
    "    * tournament.duration\n",
    "    * tournament.durationF\n",
    "    * tournament.durationFL\n",
    "* data do torneio num ano\n",
    "    * tournament.quarter\n",
    "    * tournament.quarterL1\n",
    "    * tournament.quarterL2\n",
    "    * tournament.month\n",
    "* data do torneio\n",
    "    * tournament.dateDistance\n",
    "* recompensa do torneio\n",
    "    * tournament.prize\n",
    "    * tournament.smallPrize\n",
    "\n"
   ]
  },
  {
   "cell_type": "code",
   "execution_count": null,
   "id": "6e8393c4",
   "metadata": {
    "vscode": {
     "languageId": "r"
    }
   },
   "outputs": [],
   "source": [
    "df.featureSelect.workflow <- workflow() %>%\n",
    "    add_model(linear_reg() %>% set_engine(\"lm\"))"
   ]
  }
 ],
 "metadata": {
  "kernelspec": {
   "display_name": "IR PACD",
   "language": "R",
   "name": "ir_pacd"
  },
  "language_info": {
   "codemirror_mode": "r",
   "file_extension": ".r",
   "mimetype": "text/x-r-source",
   "name": "R",
   "pygments_lexer": "r",
   "version": "4.3.0"
  }
 },
 "nbformat": 4,
 "nbformat_minor": 5
}
