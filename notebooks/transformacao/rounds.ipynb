{
 "cells": [
  {
   "cell_type": "code",
   "execution_count": null,
   "id": "dc118255-51da-4fa2-a618-853974c3f197",
   "metadata": {},
   "outputs": [
    {
     "data": {
      "text/html": [
       "<table class=\"dataframe\">\n",
       "<caption>A data.table: 1 × 15</caption>\n",
       "<thead>\n",
       "\t<tr><th></th><th scope=col>match.sets</th><th scope=col>match.tournamentRound</th><th scope=col>match.WL</th><th scope=col>opponent.name</th><th scope=col>opponent.rank</th><th scope=col>player.bornAt</th><th scope=col>player.hand</th><th scope=col>player.height</th><th scope=col>player.link</th><th scope=col>player.name</th><th scope=col>tournament.date</th><th scope=col>tournament.ground</th><th scope=col>tournament.location</th><th scope=col>tournament.name</th><th scope=col>tournament.prize</th></tr>\n",
       "\t<tr><th></th><th scope=col>&lt;chr&gt;</th><th scope=col>&lt;chr&gt;</th><th scope=col>&lt;chr&gt;</th><th scope=col>&lt;chr&gt;</th><th scope=col>&lt;chr&gt;</th><th scope=col>&lt;chr&gt;</th><th scope=col>&lt;chr&gt;</th><th scope=col>&lt;chr&gt;</th><th scope=col>&lt;chr&gt;</th><th scope=col>&lt;chr&gt;</th><th scope=col>&lt;chr&gt;</th><th scope=col>&lt;chr&gt;</th><th scope=col>&lt;chr&gt;</th><th scope=col>&lt;chr&gt;</th><th scope=col>&lt;chr&gt;</th></tr>\n",
       "</thead>\n",
       "<tbody>\n",
       "\t<tr><th scope=row>1</th><td>64 62</td><td>Semi-Finals</td><td>W</td><td>Marin Cilic</td><td>30</td><td>Belgrade, Serbia</td><td>Right-Handed, Two-Handed Backhand</td><td>188</td><td>https://www.atptour.com/en/players/novak-djokovic/d643/player-activity?year=all&amp;matchType=Singles</td><td>Novak Djokovic</td><td>2021.11.22 - 2021.12.05</td><td>Hard</td><td>Madrid, Spain</td><td>Davis Cup Finals</td><td></td></tr>\n",
       "</tbody>\n",
       "</table>\n"
      ],
      "text/latex": [
       "A data.table: 1 × 15\n",
       "\\begin{tabular}{r|lllllllllllllll}\n",
       "  & match.sets & match.tournamentRound & match.WL & opponent.name & opponent.rank & player.bornAt & player.hand & player.height & player.link & player.name & tournament.date & tournament.ground & tournament.location & tournament.name & tournament.prize\\\\\n",
       "  & <chr> & <chr> & <chr> & <chr> & <chr> & <chr> & <chr> & <chr> & <chr> & <chr> & <chr> & <chr> & <chr> & <chr> & <chr>\\\\\n",
       "\\hline\n",
       "\t1 & 64 62 & Semi-Finals & W & Marin Cilic & 30 & Belgrade, Serbia & Right-Handed, Two-Handed Backhand & 188 & https://www.atptour.com/en/players/novak-djokovic/d643/player-activity?year=all\\&matchType=Singles & Novak Djokovic & 2021.11.22 - 2021.12.05 & Hard & Madrid, Spain & Davis Cup Finals & \\\\\n",
       "\\end{tabular}\n"
      ],
      "text/markdown": [
       "\n",
       "A data.table: 1 × 15\n",
       "\n",
       "| <!--/--> | match.sets &lt;chr&gt; | match.tournamentRound &lt;chr&gt; | match.WL &lt;chr&gt; | opponent.name &lt;chr&gt; | opponent.rank &lt;chr&gt; | player.bornAt &lt;chr&gt; | player.hand &lt;chr&gt; | player.height &lt;chr&gt; | player.link &lt;chr&gt; | player.name &lt;chr&gt; | tournament.date &lt;chr&gt; | tournament.ground &lt;chr&gt; | tournament.location &lt;chr&gt; | tournament.name &lt;chr&gt; | tournament.prize &lt;chr&gt; |\n",
       "|---|---|---|---|---|---|---|---|---|---|---|---|---|---|---|---|\n",
       "| 1 | 64 62 | Semi-Finals | W | Marin Cilic | 30 | Belgrade, Serbia | Right-Handed, Two-Handed Backhand | 188 | https://www.atptour.com/en/players/novak-djokovic/d643/player-activity?year=all&amp;matchType=Singles | Novak Djokovic | 2021.11.22 - 2021.12.05 | Hard | Madrid, Spain | Davis Cup Finals | <!----> |\n",
       "\n"
      ],
      "text/plain": [
       "  match.sets match.tournamentRound match.WL opponent.name opponent.rank\n",
       "1 64 62      Semi-Finals           W        Marin Cilic   30           \n",
       "  player.bornAt    player.hand                       player.height\n",
       "1 Belgrade, Serbia Right-Handed, Two-Handed Backhand 188          \n",
       "  player.link                                                                                      \n",
       "1 https://www.atptour.com/en/players/novak-djokovic/d643/player-activity?year=all&matchType=Singles\n",
       "  player.name    tournament.date         tournament.ground tournament.location\n",
       "1 Novak Djokovic 2021.11.22 - 2021.12.05 Hard              Madrid, Spain      \n",
       "  tournament.name  tournament.prize\n",
       "1 Davis Cup Finals                 "
      ]
     },
     "metadata": {},
     "output_type": "display_data"
    }
   ],
   "source": [
    "arrow::read_parquet(here(\"data\", \"atpRaw.parquet\"), as_data_frame = TRUE) -> atp\n",
    "head(atp, 1)"
   ]
  },
  {
   "cell_type": "code",
   "execution_count": null,
   "id": "9885ffa0-50ac-42b0-9bfe-2d051a40d91c",
   "metadata": {},
   "outputs": [
    {
     "data": {
      "text/html": [
       "<table class=\"dataframe\">\n",
       "<caption>A data.table: 13 × 1</caption>\n",
       "<thead>\n",
       "\t<tr><th scope=col>match.tournamentRound</th></tr>\n",
       "\t<tr><th scope=col>&lt;chr&gt;</th></tr>\n",
       "</thead>\n",
       "<tbody>\n",
       "\t<tr><td>Semi-Finals         </td></tr>\n",
       "\t<tr><td>Round of 16         </td></tr>\n",
       "\t<tr><td>Round Robin         </td></tr>\n",
       "\t<tr><td>Finals              </td></tr>\n",
       "\t<tr><td>Quarter-Finals      </td></tr>\n",
       "\t<tr><td>Round of 32         </td></tr>\n",
       "\t<tr><td>Round of 64         </td></tr>\n",
       "\t<tr><td>Round of 128        </td></tr>\n",
       "\t<tr><td>Olympic Bronze      </td></tr>\n",
       "\t<tr><td>2nd Round Qualifying</td></tr>\n",
       "\t<tr><td>1st Round Qualifying</td></tr>\n",
       "\t<tr><td>3rd/4th Place Match </td></tr>\n",
       "\t<tr><td>3rd Round Qualifying</td></tr>\n",
       "</tbody>\n",
       "</table>\n"
      ],
      "text/latex": [
       "A data.table: 13 × 1\n",
       "\\begin{tabular}{l}\n",
       " match.tournamentRound\\\\\n",
       " <chr>\\\\\n",
       "\\hline\n",
       "\t Semi-Finals         \\\\\n",
       "\t Round of 16         \\\\\n",
       "\t Round Robin         \\\\\n",
       "\t Finals              \\\\\n",
       "\t Quarter-Finals      \\\\\n",
       "\t Round of 32         \\\\\n",
       "\t Round of 64         \\\\\n",
       "\t Round of 128        \\\\\n",
       "\t Olympic Bronze      \\\\\n",
       "\t 2nd Round Qualifying\\\\\n",
       "\t 1st Round Qualifying\\\\\n",
       "\t 3rd/4th Place Match \\\\\n",
       "\t 3rd Round Qualifying\\\\\n",
       "\\end{tabular}\n"
      ],
      "text/markdown": [
       "\n",
       "A data.table: 13 × 1\n",
       "\n",
       "| match.tournamentRound &lt;chr&gt; |\n",
       "|---|\n",
       "| Semi-Finals          |\n",
       "| Round of 16          |\n",
       "| Round Robin          |\n",
       "| Finals               |\n",
       "| Quarter-Finals       |\n",
       "| Round of 32          |\n",
       "| Round of 64          |\n",
       "| Round of 128         |\n",
       "| Olympic Bronze       |\n",
       "| 2nd Round Qualifying |\n",
       "| 1st Round Qualifying |\n",
       "| 3rd/4th Place Match  |\n",
       "| 3rd Round Qualifying |\n",
       "\n"
      ],
      "text/plain": [
       "   match.tournamentRound\n",
       "1  Semi-Finals          \n",
       "2  Round of 16          \n",
       "3  Round Robin          \n",
       "4  Finals               \n",
       "5  Quarter-Finals       \n",
       "6  Round of 32          \n",
       "7  Round of 64          \n",
       "8  Round of 128         \n",
       "9  Olympic Bronze       \n",
       "10 2nd Round Qualifying \n",
       "11 1st Round Qualifying \n",
       "12 3rd/4th Place Match  \n",
       "13 3rd Round Qualifying "
      ]
     },
     "metadata": {},
     "output_type": "display_data"
    }
   ],
   "source": [
    "atp %>% distinct(match.tournamentRound)"
   ]
  }
 ],
 "metadata": {
  "kernelspec": {
   "display_name": "ir_pacd",
   "language": "R",
   "name": "ir_pacd"
  }
 },
 "nbformat": 4,
 "nbformat_minor": 5
}
